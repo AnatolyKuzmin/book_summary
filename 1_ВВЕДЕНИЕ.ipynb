{
 "cells": [
  {
   "cell_type": "markdown",
   "id": "a57a80db-0411-4a49-a131-8605f564f83c",
   "metadata": {},
   "source": [
    "# 1. ВВЕДЕНИЕ"
   ]
  },
  {
   "cell_type": "code",
   "execution_count": 1,
   "id": "fe9043ed-f736-4b73-b3b7-4a856597416e",
   "metadata": {},
   "outputs": [],
   "source": [
    "# импортируем библиотеку NumPy\n",
    "# и модуль collections\n",
    "import numpy as np\n",
    "import collections"
   ]
  },
  {
   "cell_type": "markdown",
   "id": "4443ad8d-5b30-4888-b3bb-d54f18208baa",
   "metadata": {},
   "source": [
    "## 1.1. Структуры данных"
   ]
  },
  {
   "cell_type": "markdown",
   "id": "d5c476bb-1d52-49e6-8948-7ea739b20a5e",
   "metadata": {},
   "source": [
    "### 1.1.1. Кортеж (tuple)"
   ]
  },
  {
   "cell_type": "markdown",
   "id": "d5a304c3-fef6-4a1d-bf5a-dc34da012489",
   "metadata": {},
   "source": [
    "Могут хранить разные типы данных (например, число + строка + булево значение).  \n",
    "Размер фиксированный (нельзя изменить после создания).\n",
    "\n",
    "Примеры:\n",
    "- Координаты точки на карте ((широта, долгота)).\n",
    "- Запись о студенте ((имя, возраст, средний балл)).\n",
    "- Данные из строки таблицы (например, (\"Иван\", 25, True))."
   ]
  },
  {
   "cell_type": "code",
   "execution_count": 2,
   "id": "5804222a-1d59-422a-bb29-c33be40a66a2",
   "metadata": {},
   "outputs": [
    {
     "name": "stdout",
     "output_type": "stream",
     "text": [
      "(4, 5, 6)\n",
      "((4, 5, 6), (7, 8))\n",
      "(3, 5, 2)\n",
      "('к', 'о', 'р', 'т', 'е', 'ж')\n"
     ]
    }
   ],
   "source": [
    "# создаем кортеж\n",
    "tup = 4, 5, 6\n",
    "\n",
    "# создаем кортеж кортежей\n",
    "nested_tup = (4, 5, 6), (7, 8)\n",
    "\n",
    "# создаем кортеж кортежей с помощью функции tuple()\n",
    "tup_tuple = tuple([3, 5, 2])\n",
    "tup_str = tuple('кортеж')\n",
    "\n",
    "print(tup, nested_tup, tup_tuple, tup_str, sep='\\n')"
   ]
  },
  {
   "cell_type": "markdown",
   "id": "bf4df034-a1c9-4e07-bf3d-63886e7f3dd8",
   "metadata": {},
   "source": [
    "### 1.1.2. Список (list)"
   ]
  },
  {
   "cell_type": "markdown",
   "id": "fa5eae0b-4718-4e98-bee3-8b0be579499f",
   "metadata": {},
   "source": [
    "Список определяется с помощью квадратных скобок [] или функции list().\n",
    "\n",
    "Подходят для однотипных данных (например, только числа, только строки).  \n",
    "Размер может меняться (можно добавлять или удалять элементы).\n",
    "\n",
    "Примеры:\n",
    "- Список имён пользователей.\n",
    "- Лог сообщений в чате.\n",
    "- Товары в корзине интернет-магазина."
   ]
  },
  {
   "cell_type": "markdown",
   "id": "3cdc2fae-bf8c-4f77-a42f-f85a71fa0ccd",
   "metadata": {},
   "source": [
    "```python\n",
    "# создаем список\n",
    "lst = [3, 4, 5]\n",
    "lst_str = list('список')\n",
    "\n",
    "# добавляем элемент в конец списка метод .append().\n",
    "lst_str_append = lst_str.append('A')\n",
    "\n",
    "# вставляем 7 третьим элементом (нумерация с 0). Метод .insert() позволяет вставить элемент в указанную позицию\n",
    "lst.insert(2, 7)\n",
    "\n",
    "# удаляем третий элемент из списка. Метод .pop() удаляет из списка элемент.\n",
    "lst.pop(2)\n",
    "\n",
    "# удаляем первый элемент с указанным значением Метод .remove()\n",
    "lst_mus = ['house', 'pop', 'techno', 'pop', 'trance']\n",
    "lst_mus.remove('pop')\n",
    "\n",
    "# проверим, входит ли 'hardcore' в список используется оператор in.\n",
    "'hardcore' in lst_mus\n",
    "\n",
    "# добавляем в конец списка несколько элементов можно использовать метод .extend().\n",
    "lst_mus.extend(['hardcore', 'speedcore'])\n",
    "\n",
    "# очищаем список c помощью метода .clear()\n",
    "lst_mus.clear()\n",
    "\n",
    "# сортируем метод .sort().\n",
    "lst.sort()\n",
    "```"
   ]
  },
  {
   "cell_type": "markdown",
   "id": "5e41bb45-fce9-4288-9cde-1a5f0f968c85",
   "metadata": {},
   "source": [
    "Часто возникает потребность вычислить абсолютные частоты элементов списка. Это можно сделать с помощью функции библиотеки NumPy np.unique(). Сначала с ее помощью получаем массив уникальных значений и массив абсолютных частот, с помощью функции zip() «сшиваем» их и с помощью функции dict() записываем результат в словарь."
   ]
  },
  {
   "cell_type": "code",
   "execution_count": 3,
   "id": "071cd57a-cf3c-4b4f-adf8-20ab4bdae6a3",
   "metadata": {},
   "outputs": [
    {
     "data": {
      "text/plain": [
       "{np.str_('hardcore'): np.int64(1),\n",
       " np.str_('house'): np.int64(1),\n",
       " np.str_('pop'): np.int64(3),\n",
       " np.str_('techno'): np.int64(1),\n",
       " np.str_('trance'): np.int64(1)}"
      ]
     },
     "execution_count": 3,
     "metadata": {},
     "output_type": "execute_result"
    }
   ],
   "source": [
    "# создаем список\n",
    "lst_mus = ['house', 'pop', 'techno', 'pop', 'trance', 'hardcore', 'pop']\n",
    "\n",
    "# вычисляем абсолютные частоты элементов с помощью np.unique()\n",
    "# получаем массив уникальных значений и массив абсолютных частот с помощью np.unique\n",
    "unique, counts = np.unique(lst_mus, return_counts=True)\n",
    "\n",
    "# с помощью zip() \"сшиваем\" два массива, с помощью dict() преобразовываем в словарь\n",
    "freq = dict(zip(unique, counts))\n",
    "\n",
    "freq"
   ]
  },
  {
   "cell_type": "markdown",
   "id": "e383b073-8f21-41c7-9043-b23cbf211a83",
   "metadata": {},
   "source": [
    "Можно вычислить абсолютные частоты элементов с помощью класса Counter модуля collections."
   ]
  },
  {
   "cell_type": "code",
   "execution_count": 4,
   "id": "8054ef13-fe96-45fd-a65a-b2b8099406f0",
   "metadata": {},
   "outputs": [
    {
     "data": {
      "text/plain": [
       "{'house': 1, 'pop': 3, 'techno': 1, 'trance': 1, 'hardcore': 1}"
      ]
     },
     "execution_count": 4,
     "metadata": {},
     "output_type": "execute_result"
    }
   ],
   "source": [
    "# вычисляем абсолютные частоты элементов с помощью класса Counter модуля collections\n",
    "freq = dict(collections.Counter(lst_mus))\n",
    "freq"
   ]
  },
  {
   "cell_type": "code",
   "execution_count": 5,
   "id": "9eaec086-9bb6-4379-8dd2-9359eca93a06",
   "metadata": {},
   "outputs": [
    {
     "data": {
      "text/plain": [
       "{np.str_('hardcore'): np.float64(14.285714285714286),\n",
       " np.str_('house'): np.float64(14.285714285714286),\n",
       " np.str_('pop'): np.float64(42.857142857142854),\n",
       " np.str_('techno'): np.float64(14.285714285714286),\n",
       " np.str_('trance'): np.float64(14.285714285714286)}"
      ]
     },
     "execution_count": 5,
     "metadata": {},
     "output_type": "execute_result"
    }
   ],
   "source": [
    "# теперь получим относительные частоты\n",
    "freq = dict(zip(unique, counts * 100 / len(lst_mus)))\n",
    "freq"
   ]
  },
  {
   "cell_type": "markdown",
   "id": "0b9ee1c2-08e6-4aab-b7cf-b26a38ad6353",
   "metadata": {},
   "source": [
    "### 1.1.3. Словарь (dictionary)"
   ]
  },
  {
   "cell_type": "code",
   "execution_count": 6,
   "id": "bbd12a62-77be-4e1e-a278-de6101d899d9",
   "metadata": {},
   "outputs": [
    {
     "data": {
      "text/plain": [
       "30"
      ]
     },
     "execution_count": 6,
     "metadata": {},
     "output_type": "execute_result"
    }
   ],
   "source": [
    "30"
   ]
  },
  {
   "cell_type": "code",
   "execution_count": null,
   "id": "a2b8e4b3-01e6-44c7-815e-47f97f49517a",
   "metadata": {},
   "outputs": [],
   "source": []
  },
  {
   "cell_type": "code",
   "execution_count": null,
   "id": "8330f35a-4549-4cdf-9544-0a717d6478c8",
   "metadata": {},
   "outputs": [],
   "source": []
  },
  {
   "cell_type": "code",
   "execution_count": null,
   "id": "33d2007d-4a86-463d-9a4b-c4d28ff60a12",
   "metadata": {},
   "outputs": [],
   "source": []
  },
  {
   "cell_type": "code",
   "execution_count": null,
   "id": "a3557906-adbd-4859-9276-39c38b1b8244",
   "metadata": {},
   "outputs": [],
   "source": []
  },
  {
   "cell_type": "code",
   "execution_count": null,
   "id": "c3697bb9-8d2f-4c8e-8342-9953f41178b2",
   "metadata": {},
   "outputs": [],
   "source": []
  },
  {
   "cell_type": "code",
   "execution_count": null,
   "id": "54d9e69b-da94-407c-a24b-d33e7c678d17",
   "metadata": {},
   "outputs": [],
   "source": []
  },
  {
   "cell_type": "code",
   "execution_count": null,
   "id": "40148ac9-7c1e-4041-aa6d-4948042fedf3",
   "metadata": {},
   "outputs": [],
   "source": []
  },
  {
   "cell_type": "code",
   "execution_count": null,
   "id": "bda4905a-51da-4a52-9360-876fbb3fd51a",
   "metadata": {},
   "outputs": [],
   "source": []
  },
  {
   "cell_type": "code",
   "execution_count": null,
   "id": "a6f58d3f-2f00-45c5-913a-9bcda7496477",
   "metadata": {},
   "outputs": [],
   "source": []
  }
 ],
 "metadata": {
  "kernelspec": {
   "display_name": "Python 3 (ipykernel)",
   "language": "python",
   "name": "python3"
  },
  "language_info": {
   "codemirror_mode": {
    "name": "ipython",
    "version": 3
   },
   "file_extension": ".py",
   "mimetype": "text/x-python",
   "name": "python",
   "nbconvert_exporter": "python",
   "pygments_lexer": "ipython3",
   "version": "3.11.9"
  }
 },
 "nbformat": 4,
 "nbformat_minor": 5
}
