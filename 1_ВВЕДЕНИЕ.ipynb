{
 "cells": [
  {
   "cell_type": "markdown",
   "id": "a57a80db-0411-4a49-a131-8605f564f83c",
   "metadata": {},
   "source": [
    "# 1. ВВЕДЕНИЕ"
   ]
  },
  {
   "cell_type": "code",
   "execution_count": 1,
   "id": "fe9043ed-f736-4b73-b3b7-4a856597416e",
   "metadata": {},
   "outputs": [],
   "source": [
    "# импортируем библиотеку NumPy\n",
    "# и модуль collections\n",
    "import numpy as np\n",
    "import collections"
   ]
  },
  {
   "cell_type": "markdown",
   "id": "4443ad8d-5b30-4888-b3bb-d54f18208baa",
   "metadata": {},
   "source": [
    "## 1.1. Структуры данных"
   ]
  },
  {
   "cell_type": "markdown",
   "id": "d5c476bb-1d52-49e6-8948-7ea739b20a5e",
   "metadata": {
    "jp-MarkdownHeadingCollapsed": true
   },
   "source": [
    "### 1.1.1. Кортеж (tuple)"
   ]
  },
  {
   "cell_type": "markdown",
   "id": "d5a304c3-fef6-4a1d-bf5a-dc34da012489",
   "metadata": {},
   "source": [
    "Могут хранить разные типы данных (например, число + строка + булево значение).  \n",
    "Размер фиксированный (нельзя изменить после создания).\n",
    "\n",
    "Примеры:\n",
    "- Координаты точки на карте ((широта, долгота)).\n",
    "- Запись о студенте ((имя, возраст, средний балл)).\n",
    "- Данные из строки таблицы (например, (\"Иван\", 25, True))."
   ]
  },
  {
   "cell_type": "code",
   "execution_count": 2,
   "id": "5804222a-1d59-422a-bb29-c33be40a66a2",
   "metadata": {},
   "outputs": [
    {
     "name": "stdout",
     "output_type": "stream",
     "text": [
      "(4, 5, 6)\n",
      "((4, 5, 6), (7, 8))\n",
      "(3, 5, 2)\n",
      "('к', 'о', 'р', 'т', 'е', 'ж')\n"
     ]
    }
   ],
   "source": [
    "# создаем кортеж\n",
    "tup = 4, 5, 6\n",
    "\n",
    "# создаем кортеж кортежей\n",
    "nested_tup = (4, 5, 6), (7, 8)\n",
    "\n",
    "# создаем кортеж кортежей с помощью функции tuple()\n",
    "tup_tuple = tuple([3, 5, 2])\n",
    "tup_str = tuple('кортеж')\n",
    "\n",
    "print(tup, nested_tup, tup_tuple, tup_str, sep='\\n')"
   ]
  },
  {
   "cell_type": "markdown",
   "id": "bf4df034-a1c9-4e07-bf3d-63886e7f3dd8",
   "metadata": {
    "jp-MarkdownHeadingCollapsed": true
   },
   "source": [
    "### 1.1.2. Список (list)"
   ]
  },
  {
   "cell_type": "markdown",
   "id": "fa5eae0b-4718-4e98-bee3-8b0be579499f",
   "metadata": {},
   "source": [
    "Список определяется с помощью квадратных скобок [] или функции list().\n",
    "\n",
    "Подходят для однотипных данных (например, только числа, только строки).  \n",
    "Размер может меняться (можно добавлять или удалять элементы).\n",
    "\n",
    "Примеры:\n",
    "- Список имён пользователей.\n",
    "- Лог сообщений в чате.\n",
    "- Товары в корзине интернет-магазина."
   ]
  },
  {
   "cell_type": "markdown",
   "id": "3cdc2fae-bf8c-4f77-a42f-f85a71fa0ccd",
   "metadata": {},
   "source": [
    "```python\n",
    "# создаем список\n",
    "lst = [3, 4, 5]\n",
    "lst_str = list('список')\n",
    "\n",
    "# добавляем элемент в конец списка метод .append().\n",
    "lst_str_append = lst_str.append('A')\n",
    "\n",
    "# вставляем 7 третьим элементом (нумерация с 0). Метод .insert() позволяет вставить элемент в указанную позицию\n",
    "lst.insert(2, 7)\n",
    "\n",
    "# удаляем третий элемент из списка. Метод .pop() удаляет из списка элемент.\n",
    "lst.pop(2)\n",
    "\n",
    "# удаляем первый элемент с указанным значением Метод .remove()\n",
    "lst_mus = ['house', 'pop', 'techno', 'pop', 'trance']\n",
    "lst_mus.remove('pop')\n",
    "\n",
    "# проверим, входит ли 'hardcore' в список используется оператор in.\n",
    "'hardcore' in lst_mus\n",
    "\n",
    "# добавляем в конец списка несколько элементов можно использовать метод .extend().\n",
    "lst_mus.extend(['hardcore', 'speedcore'])\n",
    "\n",
    "# очищаем список c помощью метода .clear()\n",
    "lst_mus.clear()\n",
    "\n",
    "# сортируем метод .sort().\n",
    "lst.sort()\n",
    "```"
   ]
  },
  {
   "cell_type": "markdown",
   "id": "5e41bb45-fce9-4288-9cde-1a5f0f968c85",
   "metadata": {},
   "source": [
    "Часто возникает потребность вычислить абсолютные частоты элементов списка. Это можно сделать с помощью функции библиотеки NumPy np.unique(). Сначала с ее помощью получаем массив уникальных значений и массив абсолютных частот, с помощью функции zip() «сшиваем» их и с помощью функции dict() записываем результат в словарь."
   ]
  },
  {
   "cell_type": "code",
   "execution_count": 3,
   "id": "071cd57a-cf3c-4b4f-adf8-20ab4bdae6a3",
   "metadata": {},
   "outputs": [
    {
     "data": {
      "text/plain": [
       "{np.str_('hardcore'): np.int64(1),\n",
       " np.str_('house'): np.int64(1),\n",
       " np.str_('pop'): np.int64(3),\n",
       " np.str_('techno'): np.int64(1),\n",
       " np.str_('trance'): np.int64(1)}"
      ]
     },
     "execution_count": 3,
     "metadata": {},
     "output_type": "execute_result"
    }
   ],
   "source": [
    "# создаем список\n",
    "lst_mus = ['house', 'pop', 'techno', 'pop', 'trance', 'hardcore', 'pop']\n",
    "\n",
    "# вычисляем абсолютные частоты элементов с помощью np.unique()\n",
    "# получаем массив уникальных значений и массив абсолютных частот с помощью np.unique\n",
    "unique, counts = np.unique(lst_mus, return_counts=True)\n",
    "\n",
    "# с помощью zip() \"сшиваем\" два массива, с помощью dict() преобразовываем в словарь\n",
    "freq = dict(zip(unique, counts))\n",
    "\n",
    "freq"
   ]
  },
  {
   "cell_type": "markdown",
   "id": "e383b073-8f21-41c7-9043-b23cbf211a83",
   "metadata": {},
   "source": [
    "Можно вычислить абсолютные частоты элементов с помощью класса Counter модуля collections."
   ]
  },
  {
   "cell_type": "code",
   "execution_count": 4,
   "id": "8054ef13-fe96-45fd-a65a-b2b8099406f0",
   "metadata": {},
   "outputs": [
    {
     "data": {
      "text/plain": [
       "{'house': 1, 'pop': 3, 'techno': 1, 'trance': 1, 'hardcore': 1}"
      ]
     },
     "execution_count": 4,
     "metadata": {},
     "output_type": "execute_result"
    }
   ],
   "source": [
    "# вычисляем абсолютные частоты элементов с помощью класса Counter модуля collections\n",
    "freq = dict(collections.Counter(lst_mus))\n",
    "freq"
   ]
  },
  {
   "cell_type": "code",
   "execution_count": 5,
   "id": "9eaec086-9bb6-4379-8dd2-9359eca93a06",
   "metadata": {},
   "outputs": [
    {
     "data": {
      "text/plain": [
       "{np.str_('hardcore'): np.float64(14.285714285714286),\n",
       " np.str_('house'): np.float64(14.285714285714286),\n",
       " np.str_('pop'): np.float64(42.857142857142854),\n",
       " np.str_('techno'): np.float64(14.285714285714286),\n",
       " np.str_('trance'): np.float64(14.285714285714286)}"
      ]
     },
     "execution_count": 5,
     "metadata": {},
     "output_type": "execute_result"
    }
   ],
   "source": [
    "# теперь получим относительные частоты\n",
    "freq = dict(zip(unique, counts * 100 / len(lst_mus)))\n",
    "freq"
   ]
  },
  {
   "cell_type": "markdown",
   "id": "0b9ee1c2-08e6-4aab-b7cf-b26a38ad6353",
   "metadata": {
    "jp-MarkdownHeadingCollapsed": true
   },
   "source": [
    "### 1.1.3. Словарь (dictionary)"
   ]
  },
  {
   "cell_type": "markdown",
   "id": "80ed258c-5b9c-40ed-9dc2-d0a147fb635a",
   "metadata": {},
   "source": [
    "Словарь – коллекция пар ключ-значение переменного размера, в которой и ключ, и значение – объекты Python. Создать словарь можно с помощью\n",
    "фигурных скобок {}, отделяя ключи от значений двоеточием."
   ]
  },
  {
   "cell_type": "code",
   "execution_count": 6,
   "id": "a2b8e4b3-01e6-44c7-815e-47f97f49517a",
   "metadata": {},
   "outputs": [
    {
     "name": "stdout",
     "output_type": "stream",
     "text": [
      "{'age': 25, 'income': 20000}\n",
      "{'age': 25, 'income': 30000}\n",
      "{'a': 25, 'b': 25}\n",
      "{'a': 10, 'b': 20, 'c': 30}\n",
      "{'a': 10, 'b': 20, 'c': 30}\n",
      "{'a': 10, 'b': 20, 'c': 10}\n",
      "dict_keys(['a', 'b', 'c'])\n",
      "dict_values([10, 20, 10])\n"
     ]
    }
   ],
   "source": [
    "# создаем простой словарь\n",
    "d = {'age': 25, 'income': 20000}\n",
    "print(d)\n",
    "\n",
    "# создаем словарь с помощью функции dict()\n",
    "d = dict(age=25, income=30000)\n",
    "print(d)\n",
    "\n",
    "# создаем словарь с помощью метода .fromkeys()\n",
    "d = dict.fromkeys(['a', 'b'], 25)\n",
    "print(d)\n",
    "\n",
    "# создаем список на основе двух последовательностей\n",
    "key_list = ['a', 'b', 'c']\n",
    "value_list = [10, 20, 30]\n",
    "mapping = {}\n",
    "for key, value in zip(key_list, value_list):\n",
    "    mapping[key] = value\n",
    "print(mapping)\n",
    "\n",
    "# другой вариант\n",
    "dict_zip = dict(zip(key_list, value_list))\n",
    "print(dict_zip)\n",
    "\n",
    "# вставляем новую пару ключ-значение\n",
    "dict_zip['c'] = 10\n",
    "print(dict_zip)\n",
    "\n",
    "# возвращаем ключи с помощью метода .keys()\n",
    "print(dict_zip.keys())\n",
    "\n",
    "# возвращаем значения с помощью метода .values()\n",
    "print(dict_zip.values())"
   ]
  },
  {
   "cell_type": "code",
   "execution_count": 7,
   "id": "8330f35a-4549-4cdf-9544-0a717d6478c8",
   "metadata": {},
   "outputs": [
    {
     "name": "stdout",
     "output_type": "stream",
     "text": [
      "['a', 'b', 'c']\n",
      "[10, 20, 10]\n"
     ]
    }
   ],
   "source": [
    "# получаем список из ключей и значений словаря\n",
    "print([key for key in dict_zip.keys()])\n",
    "print([value for value in dict_zip.values()])"
   ]
  },
  {
   "cell_type": "code",
   "execution_count": 8,
   "id": "33d2007d-4a86-463d-9a4b-c4d28ff60a12",
   "metadata": {},
   "outputs": [
    {
     "name": "stdout",
     "output_type": "stream",
     "text": [
      "10\n",
      "{'a': 10, 'b': 20}\n"
     ]
    }
   ],
   "source": [
    "# удаляем элемент по ключу с помощью .pop()\n",
    "print(dict_zip.pop('c'))\n",
    "print(dict_zip)"
   ]
  },
  {
   "cell_type": "markdown",
   "id": "87a85ac4-0906-4476-b78c-f9ac346ecbc2",
   "metadata": {},
   "source": [
    "### 1.1.4. Множество (set)"
   ]
  },
  {
   "cell_type": "markdown",
   "id": "6c86a0c2-fc81-4481-aaf1-3aadff9601ce",
   "metadata": {},
   "source": [
    "Множество (set) — это неупорядоченный набор уникальных элементов.\n",
    "\n",
    "Особенности:  \n",
    "✔️ Нет порядка — элементы хранятся хаотично, нельзя обратиться по индексу.  \n",
    "✔️ Только уникальные значения — дубли автоматически удаляются.  \n",
    "✔️ Изменяемое — можно добавлять и удалять элементы.  \n",
    "\n",
    "⚠️ Пустое множество создаётся только через set(), иначе получится словарь:\n",
    "```python\n",
    "empty_set = set()  # Правильно  \n",
    "not_a_set = {}     # Это словарь, а не множество!\n",
    "```"
   ]
  },
  {
   "cell_type": "code",
   "execution_count": 9,
   "id": "54d9e69b-da94-407c-a24b-d33e7c678d17",
   "metadata": {},
   "outputs": [],
   "source": [
    "# создаем множество с помощью функции set()\n",
    "a = set([2, 2, 2, 1, 3, 3])\n",
    "\n",
    "# создаем множество с помощью фигурных скобок {}\n",
    "a = {2, 2, 2, 1, 3, 3}\n",
    "\n",
    "# добавляем элемент в множество с помощью метода .add()\n",
    "a.add(4)\n",
    "\n",
    "# удаляем элемент из множества с помощью метода .remove()\n",
    "a.remove(1)\n",
    "\n",
    "# с помощью метода .clear() очищаем множество\n",
    "a.clear()"
   ]
  },
  {
   "cell_type": "code",
   "execution_count": 10,
   "id": "40148ac9-7c1e-4041-aa6d-4948042fedf3",
   "metadata": {},
   "outputs": [
    {
     "data": {
      "text/plain": [
       "{1, 2, 3, 4, 6, 8}"
      ]
     },
     "execution_count": 10,
     "metadata": {},
     "output_type": "execute_result"
    }
   ],
   "source": [
    "# С помощью метода .union() можно найти все уникальные элементы, входящие либо в первое, либо во второе множества.\n",
    "a = set([1, 2, 3, 6])\n",
    "b = set([4, 6, 2, 8])\n",
    "a.union(b)\n",
    "# это эквивалентно синтаксису\n",
    "a | b"
   ]
  },
  {
   "cell_type": "code",
   "execution_count": 11,
   "id": "bda4905a-51da-4a52-9360-876fbb3fd51a",
   "metadata": {},
   "outputs": [
    {
     "data": {
      "text/plain": [
       "{2, 6}"
      ]
     },
     "execution_count": 11,
     "metadata": {},
     "output_type": "execute_result"
    }
   ],
   "source": [
    "# находим все элементы, входящие и в a, и в b\n",
    "a.intersection(b)"
   ]
  },
  {
   "cell_type": "markdown",
   "id": "53f87117-88c6-4039-85e6-17efdd634387",
   "metadata": {
    "jp-MarkdownHeadingCollapsed": true
   },
   "source": [
    "## 1.2. Функция"
   ]
  },
  {
   "cell_type": "markdown",
   "id": "7c4cb2c8-25c4-47b8-9ee0-ad364399d35c",
   "metadata": {},
   "source": [
    "Функция — это кусок кода, который выполняет конкретную задачу и может принимать данные (параметры), чтобы работать с ними.\n",
    "```python\n",
    "def имя_функции(параметр1, параметр2):  \n",
    "    # код функции  \n",
    "    return результат  # возвращает значение (если нужно)  \n",
    "```\n",
    "\n",
    "Параметры vs Аргументы:\n",
    "- Параметры — это переменные в объявлении функции (name).\n",
    "- Аргументы — конкретные значения, которые передаются при вызове (greet(\"Анна\")).\n",
    "\n",
    "Главное:  \n",
    "✔️ Функции помогают избегать повторения кода.  \n",
    "✔️ Могут принимать данные и возвращать результат.  \n",
    "✔️ Параметры — \"ящики\" для данных, аргументы — то, что в них кладётся.  "
   ]
  },
  {
   "cell_type": "code",
   "execution_count": 12,
   "id": "ffe4efac-d811-423d-8159-63ab2d8b9af8",
   "metadata": {},
   "outputs": [
    {
     "name": "stdout",
     "output_type": "stream",
     "text": [
      "Привет, Анна!\n"
     ]
    }
   ],
   "source": [
    "def greet(name):  \n",
    "    return f\"Привет, {name}!\"  \n",
    "\n",
    "print(greet(\"Анна\"))"
   ]
  },
  {
   "cell_type": "markdown",
   "id": "e779d339-57eb-4e41-a713-612ac5decf71",
   "metadata": {},
   "source": [
    "## 1.3. Полезные встроенные функции"
   ]
  },
  {
   "cell_type": "markdown",
   "id": "1aa8699b-85bf-4302-9266-2aee8beea0ee",
   "metadata": {},
   "source": [
    "### 1.3.1. Функция enumerate()"
   ]
  },
  {
   "cell_type": "markdown",
   "id": "d55c35b2-297c-4f9a-b00c-d32e2f35a5f2",
   "metadata": {},
   "source": [
    "Функция enumerate() применяется для итерируемых коллекций (строки, списки, словари и др.) и возвращает кортежи, состоящие из двух элементов – индекса\n",
    "элемента и самого элемента. Она используется для упрощения прохода по коллекциям в цикле, когда кроме самих элементов требуется их индекс. У нее – два параметра. Параметр iterable задает объект, элементы которого будем перебирать (список, множество, словарь). Параметр start задает начальное значение индекса. По умолчанию начальное значение равно 0."
   ]
  },
  {
   "cell_type": "code",
   "execution_count": 13,
   "id": "4b655e1a-5c19-4754-ac67-a183a642cb8d",
   "metadata": {},
   "outputs": [
    {
     "name": "stdout",
     "output_type": "stream",
     "text": [
      "(0, 'яблоко')\n",
      "(1, 'банан')\n",
      "(2, 'апельсин')\n",
      "\n",
      "0 яблоко\n",
      "1 банан\n",
      "2 апельсин\n",
      "\n",
      "5 яблоко\n",
      "6 банан\n",
      "7 апельсин\n"
     ]
    }
   ],
   "source": [
    "fruits = ['яблоко', 'банан', 'апельсин']\n",
    "\n",
    "# Вариант 1: кортежи (индекс, элемент)\n",
    "for item in enumerate(fruits):\n",
    "    print(item)\n",
    "print()\n",
    "\n",
    "# Вариант 2: сразу в две переменные\n",
    "for item, fruit in enumerate(fruits):\n",
    "    print(item, fruit)\n",
    "print()\n",
    "\n",
    "# С изменённым стартом индекса (начинаем с 5)\n",
    "for item, fruit in enumerate(fruits, 5):\n",
    "    print(item, fruit)"
   ]
  },
  {
   "cell_type": "markdown",
   "id": "1dd9f443-d638-412d-ab42-a89727efc607",
   "metadata": {},
   "source": [
    "### 1.3.2. Функция sorted()"
   ]
  },
  {
   "cell_type": "markdown",
   "id": "5f521b13-f676-47fc-b027-54166da76b14",
   "metadata": {},
   "source": [
    "Сортирует любую коллекцию (список, строку, кортеж) и возвращает новый список в порядке возрастания.\n",
    "```python\n",
    "sorted(коллекция)  # → возвращает отсортированный список\n",
    "```"
   ]
  },
  {
   "cell_type": "code",
   "execution_count": 14,
   "id": "1c010973-3ab0-482b-aa54-ccde44372110",
   "metadata": {},
   "outputs": [
    {
     "name": "stdout",
     "output_type": "stream",
     "text": [
      "[0, 1, 2, 2, 3, 6, 7]\n",
      "['апельсин', 'банан', 'яблоко']\n"
     ]
    }
   ],
   "source": [
    "numbers = [7, 1, 2, 6, 0, 3, 2]\n",
    "print(sorted(numbers))\n",
    "\n",
    "words = [\"яблоко\", \"банан\", \"апельсин\"]\n",
    "print(sorted(words))"
   ]
  },
  {
   "cell_type": "markdown",
   "id": "723e9f57-92dc-493f-b963-406a211a08c4",
   "metadata": {},
   "source": [
    "⚠️ Важно:  \n",
    "✔️ Не изменяет исходную коллекцию, а создаёт новую.  \n",
    "✔️ Работает с разными типами данных (числа, строки).  \n",
    "✔️ Для сортировки в обратном порядке:  \n",
    "```python\n",
    "sorted(numbers, reverse=True)  # [7, 6, 3, 2, 2, 1, 0]\n",
    "```"
   ]
  },
  {
   "cell_type": "markdown",
   "id": "6a5c73bc-9690-4f6e-b28a-0617e2cf4fb4",
   "metadata": {},
   "source": [
    "### 1.3.3. Функция zip()"
   ]
  },
  {
   "cell_type": "markdown",
   "id": "496a9fb9-d2de-406f-af1f-ecab9e9f8c1f",
   "metadata": {},
   "source": [
    "Объединяет элементы нескольких списков/кортежей попарно, как молния.\n",
    "\n",
    "Полезные фишки:\n",
    "- Можно использовать с любым числом списков\n",
    "- Часто применяют вместе с enumerate()\n",
    "- Удобно для параллельной обработки данных\n",
    "- Можно использовать для сортировки нескольких списков одновременно\n",
    "\n",
    "```python\n",
    "zip(список1, список2)  # → возвращает пары элементов\n",
    "```"
   ]
  },
  {
   "cell_type": "code",
   "execution_count": 4,
   "id": "c757e18d-af95-4b97-b7f8-83be2dcb52e8",
   "metadata": {},
   "outputs": [
    {
     "name": "stdout",
     "output_type": "stream",
     "text": [
      "[(1, 'a'), (2, 'b')]\n",
      "(1, 2)\n",
      "('a', 'b')\n"
     ]
    }
   ],
   "source": [
    "# [(1, 'a'), (2, 'b')] - по самой короткой коллекции\n",
    "numbers = [1, 2, 3, 4]\n",
    "letters = ['a', 'b']\n",
    "print(list(zip(numbers, letters)))\n",
    "\n",
    "# Обратная операция - разделение\n",
    "pairs = [(1, 'a'), (2, 'b')]\n",
    "nums, lets = zip(*pairs)\n",
    "\n",
    "print(nums, lets, sep=\"\\n\")"
   ]
  },
  {
   "cell_type": "code",
   "execution_count": 6,
   "id": "287fa160-b8c5-44e9-a69b-cab5e757e803",
   "metadata": {},
   "outputs": [
    {
     "name": "stdout",
     "output_type": "stream",
     "text": [
      "Total profit: 5200.0\n",
      "Total profit: 5100.0\n",
      "Total profit: 4800.0\n"
     ]
    }
   ],
   "source": [
    "# для выполнения арифметических операций\n",
    "\n",
    "# создаем списки – продажи и затраты\n",
    "total_sales = [52000.00, 51000.00, 48000.00]\n",
    "prod_cost = [46800.00, 45900.00, 43200.00]\n",
    "\n",
    "# вычисляем и печатаем значения прибыли\n",
    "for sales, costs in zip(total_sales, prod_cost):\n",
    "    profit = sales - costs\n",
    "    print(f\"Total profit: {profit}\")"
   ]
  },
  {
   "cell_type": "markdown",
   "id": "c4d025d3-b9d8-41c2-a1f0-516733669fab",
   "metadata": {},
   "source": [
    "## 1.4. Класс"
   ]
  },
  {
   "cell_type": "code",
   "execution_count": null,
   "id": "eebd8a3c-477e-4c29-a103-5c60f042d086",
   "metadata": {},
   "outputs": [],
   "source": [
    "40"
   ]
  }
 ],
 "metadata": {
  "kernelspec": {
   "display_name": "Python 3 (ipykernel)",
   "language": "python",
   "name": "python3"
  },
  "language_info": {
   "codemirror_mode": {
    "name": "ipython",
    "version": 3
   },
   "file_extension": ".py",
   "mimetype": "text/x-python",
   "name": "python",
   "nbconvert_exporter": "python",
   "pygments_lexer": "ipython3",
   "version": "3.11.9"
  }
 },
 "nbformat": 4,
 "nbformat_minor": 5
}
