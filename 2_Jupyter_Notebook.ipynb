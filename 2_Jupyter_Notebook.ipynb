{
 "cells": [
  {
   "cell_type": "markdown",
   "id": "7da30c11-5b85-4c2f-b00e-d3d2b337f4b8",
   "metadata": {},
   "source": [
    "# 2. Jupyter Notebook"
   ]
  },
  {
   "cell_type": "markdown",
   "id": "6470d362-e476-44b8-9f77-2fe1d6100009",
   "metadata": {},
   "source": [
    "## 2.1. Магические функции"
   ]
  },
  {
   "cell_type": "markdown",
   "id": "36aa5573-529a-47d1-bfa9-e0c71453cca6",
   "metadata": {},
   "source": [
    "Магические функции (Magic Commands) — это специальные команды в Jupyter Notebook, которые упрощают работу с кодом, данными и системой. Они начинаются с символа % (для линейных команд) или %% (для клеточных)."
   ]
  },
  {
   "cell_type": "markdown",
   "id": "32f5d4f4-2a55-47a3-b6f3-062bf733b4a2",
   "metadata": {},
   "source": [
    "Линейные магические команды (%)\n",
    "\n",
    "| Команда | Описание | Пример |\n",
    "| - | - | - |\n",
    "| `%run` | Запускает Python-скрипт | `%run script.py` |\n",
    "| `%time` | Измеряет время выполнения строки | `%time sum(range(1000))` |\n",
    "| `%who` | Показывает все переменные | `%who` |\n",
    "| `%pwd` | Текущая рабочая директория | `%pwd` |\n",
    "| `%cd` | Смена директории | `%cd /new_folder` |\n",
    "| `%ls` | Список файлов в директории | `%ls` |\n",
    "| `%env` | Показывает/меняет переменные окружения | `%env MY_VAR=123` |\n",
    "| `%pip` | Установка пакетов прямо в ноутбуке | `%pip install pandas` |\n",
    "\n",
    "Клеточные магические команды (%%)\n",
    "| Команда | Описание | Пример |\n",
    "| - | - | - |\n",
    "| `%%time` | Время выполнения всей ячейки | `%%time` `[код]` |\n",
    "| `%%writefile` | Сохраняет код в файл | `%%writefile script.py` `print(\"Hello\")` |\n",
    "| `%%bash` | Выполняет bash-команды | `%%bash` `ls -l` |\n",
    "| `%%html` | Вставка HTML | `%%html` `<h1>Hello</h1>` |\n",
    "| `%%latex` | Рендер LaTeX | `%%latex` `$\\sum_{i=1}^n i^2$` |"
   ]
  },
  {
   "cell_type": "markdown",
   "id": "8cd762bc-29a6-441d-adf2-b1adea4eb2ed",
   "metadata": {},
   "source": [
    "## 2.2. Полезные примеры"
   ]
  },
  {
   "cell_type": "markdown",
   "id": "2751a747-c908-403d-afba-5d31526f3ab5",
   "metadata": {},
   "source": [
    "🔹 Автодополнение и документация\n",
    "```python\n",
    "%quickref  # Справочник по магическим командам\n",
    "%magic     # Полная документация\n",
    "```\n",
    "\n",
    "🔹 Замер времени выполнения\n",
    "```python\n",
    "%%time\n",
    "# Медленный код\n",
    "result = [x**2 for x in range(1_000_000)]\n",
    "```\n",
    "\n",
    "🔹 Запуск внешнего кода\n",
    "```python\n",
    "%%writefile hello.py\n",
    "print(\"Hello, Jupyter!\")\n",
    "%run hello.py  # Выведет \"Hello, Jupyter!\"\n",
    "```\n",
    "\n",
    "🔹 Вставка Markdown/HTML\n",
    "```python\n",
    "%%markdown\n",
    "# Заголовок  \n",
    "Это **Markdown** в Jupyter!\n",
    "```\n",
    "```python\n",
    "%%html\n",
    "<div style=\"color:red;\">Красный текст</div>\n",
    "```"
   ]
  },
  {
   "cell_type": "markdown",
   "id": "2ede8372-cc66-4689-9b64-b66b0afe872a",
   "metadata": {},
   "source": [
    "## 2.3. Автоматическая загрузка магических функций"
   ]
  },
  {
   "cell_type": "markdown",
   "id": "97fed89e-0cd4-402f-8bec-2508265f69fc",
   "metadata": {},
   "source": [
    "Если нужно, чтобы магические команды работали без %, можно включить %automatic:\n",
    "```python\n",
    "%load_ext autoreload\n",
    "%autoreload 2  # Автоперезагрузка модулей\n",
    "```"
   ]
  }
 ],
 "metadata": {
  "kernelspec": {
   "display_name": "Python 3 (ipykernel)",
   "language": "python",
   "name": "python3"
  },
  "language_info": {
   "codemirror_mode": {
    "name": "ipython",
    "version": 3
   },
   "file_extension": ".py",
   "mimetype": "text/x-python",
   "name": "python",
   "nbconvert_exporter": "python",
   "pygments_lexer": "ipython3",
   "version": "3.11.9"
  }
 },
 "nbformat": 4,
 "nbformat_minor": 5
}
