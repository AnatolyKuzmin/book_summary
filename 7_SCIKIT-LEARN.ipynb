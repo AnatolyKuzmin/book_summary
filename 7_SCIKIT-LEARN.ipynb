{
 "cells": [
  {
   "cell_type": "markdown",
   "id": "42d4d48c-748e-4c10-a4c1-d3b90d6d099b",
   "metadata": {},
   "source": [
    "# 7_SCIKIT-LEARN"
   ]
  },
  {
   "cell_type": "markdown",
   "id": "4b1c4b6b-aa4a-4539-8677-1758a87913fd",
   "metadata": {},
   "source": [
    "## 7.1. Основы работы с классами, строящими модели предварительной подготовки данных и модели машинного обучения"
   ]
  },
  {
   "cell_type": "markdown",
   "id": "2e1baae0-3245-4e7e-b63b-601c7c17e410",
   "metadata": {},
   "source": [
    "Scikit-learn использует объектно-ориентированный подход, где каждая модель — это класс с определенными методами. Давайте разберемся, как это работает.\n",
    "\n",
    "**Классификаторы vs Регрессоры**  \n",
    "- Классификаторы: `[Метод]Classifier` (например, `RandomForestClassifier`)\n",
    "- Регрессоры: `[Метод]Regressor` (например, `LinearRegression`)\n",
    "- Универсальные: `[Метод]` (например, `KMeans` для кластеризации)\n",
    "\n",
    "Ключевые принципы\n",
    "1. Единообразие интерфейса: Все модели имеют методы .fit(), .predict()\n",
    "2. Независимость от типа данных: Работают с NumPy arrays и pandas DataFrames\n",
    "3. Совместимость: Можно комбинировать в конвейерах (pipelines)\n",
    "4. Наследование: Используйте BaseEstimator и TransformerMixin для совместимости\n",
    "\n",
    "Важные методы\n",
    "|Метод|Назначение|Возвращает|\n",
    "|-|-|-|\n",
    "|`.fit()`|Обучение модели|`self`|\n",
    "|`.predict()`|Предсказания|Массив предсказаний|\n",
    "|`.transform()`|Преобразование данных|Преобразованные данные|\n",
    "|`.fit_transform()`|Обучение + преобразование|Преобразованные данные|\n",
    "|`.score()`|Оценка качества|Значение метрики|"
   ]
  },
  {
   "cell_type": "markdown",
   "id": "49b9bf6b-9a4b-439c-b9b0-009c1a81790a",
   "metadata": {},
   "source": [
    "**Стандартный workflow в scikit-learn**"
   ]
  },
  {
   "cell_type": "markdown",
   "id": "76b7defd-90c6-4c24-8114-da33401197a0",
   "metadata": {},
   "source": [
    "```python\n",
    "from sklearn.ensemble import RandomForestClassifier\n",
    "from sklearn.preprocessing import StandardScaler\n",
    "\n",
    "# 1. Создание экземпляра класса\n",
    "model = RandomForestClassifier()\n",
    "scaler = StandardScaler()\n",
    "\n",
    "# 2. Обучение модели\n",
    "scaler.fit(X_train)          # Только признаки\n",
    "model.fit(X_train, y_train)  # Признаки + метки\n",
    "\n",
    "# 3. Применение модели\n",
    "X_scaled = scaler.transform(X_test)\n",
    "predictions = model.predict(X_scaled)\n",
    "```"
   ]
  },
  {
   "cell_type": "markdown",
   "id": "7de8dc0b-5051-4354-874f-8be538f77413",
   "metadata": {},
   "source": [
    "**Создание собственного класса преобразователя**"
   ]
  },
  {
   "cell_type": "markdown",
   "id": "bb202605-19ad-4319-91b2-6b8be6fbdeae",
   "metadata": {},
   "source": [
    "```python\n",
    "# Базовый шаблон\n",
    "from sklearn.base import BaseEstimator, TransformerMixin\n",
    "\n",
    "class CustomTransformer(BaseEstimator, TransformerMixin):\n",
    "    def __init__(self, param1=default_value):\n",
    "        self.param1 = param1\n",
    "    \n",
    "    def fit(self, X, y=None):\n",
    "        # Вычисление параметров\n",
    "        return self\n",
    "    \n",
    "    def transform(self, X):\n",
    "        # Применение преобразования\n",
    "        return X\n",
    "```"
   ]
  },
  {
   "cell_type": "markdown",
   "id": "ac8c895f-2483-41a7-81b4-6e8bdd3037ef",
   "metadata": {},
   "source": [
    "**Пример: Замена пропусков средним (MeanImputer)**"
   ]
  },
  {
   "cell_type": "code",
   "execution_count": 8,
   "id": "faa925bf-3255-4aba-86c6-55c9241e45bd",
   "metadata": {},
   "outputs": [],
   "source": [
    "import pandas as pd\n",
    "import numpy as np\n",
    "\n",
    "class MeanImputer:\n",
    "    def __init__(self, copy=True):\n",
    "        self.copy = copy\n",
    "        self._encoder_dict = {}\n",
    "    \n",
    "    def _is_numpy(self, X):\n",
    "        return isinstance(X, np.ndarray)\n",
    "    \n",
    "    def fit(self, X, y=None):\n",
    "        # Создаем словарь для хранения средних значений\n",
    "        self._encoder_dict = {}\n",
    "        \n",
    "        # Проверяем тип данных\n",
    "        is_np = self._is_numpy(X)\n",
    "        \n",
    "        # Обработка 1D массива\n",
    "        if len(X.shape) == 1:\n",
    "            X = X.reshape(-1, 1)\n",
    "        \n",
    "        # Вычисляем средние значения\n",
    "        if is_np:\n",
    "            for col in range(X.shape[1]):\n",
    "                self._encoder_dict[col] = np.nanmean(X[:, col])\n",
    "        else:\n",
    "            for col in X.columns:\n",
    "                self._encoder_dict[col] = X[col].mean()\n",
    "        \n",
    "        return self\n",
    "    \n",
    "    def transform(self, X):\n",
    "        if self.copy:\n",
    "            X = X.copy()\n",
    "        \n",
    "        is_np = self._is_numpy(X)\n",
    "        \n",
    "        if len(X.shape) == 1:\n",
    "            X = X.reshape(-1, 1)\n",
    "        \n",
    "        # Замена пропусков\n",
    "        if is_np:\n",
    "            for col in range(X.shape[1]):\n",
    "                X[:, col] = np.nan_to_num(X[:, col], nan=self._encoder_dict[col])\n",
    "        else:\n",
    "            for col in X.columns:\n",
    "                X[col] = np.where(X[col].isnull(), self._encoder_dict[col], X[col])\n",
    "        \n",
    "        return X"
   ]
  },
  {
   "cell_type": "code",
   "execution_count": 9,
   "id": "661b6366-db59-41f6-8d48-a557bd7f9062",
   "metadata": {},
   "outputs": [
    {
     "name": "stdout",
     "output_type": "stream",
     "text": [
      "   Balance        Age\n",
      "0      8.3  23.000000\n",
      "1      7.2  29.000000\n",
      "2     10.2  36.000000\n",
      "3      3.1  29.333333\n"
     ]
    }
   ],
   "source": [
    "# Использование MeanImputer\n",
    "\n",
    "# Пример с DataFrame\n",
    "toy_train = pd.DataFrame({\n",
    "    'Balance': [8.3, np.nan, 10.2, 3.1],\n",
    "    'Age': [23, 29, 36, np.nan]\n",
    "})\n",
    "\n",
    "# Создание и применение преобразователя\n",
    "imp = MeanImputer()\n",
    "imp.fit(toy_train)\n",
    "toy_train_inputed = imp.transform(toy_train)\n",
    "print(toy_train_inputed)"
   ]
  },
  {
   "cell_type": "markdown",
   "id": "e7ba164b-d0ef-4356-82a4-69a53d1b6587",
   "metadata": {},
   "source": [
    "**Создание собственной модели машинного обучения**\n",
    "\n",
    "Пример: K-Nearest Neighbors (KNN)"
   ]
  },
  {
   "cell_type": "code",
   "execution_count": 10,
   "id": "d14a1f47-0f2b-4a16-b69c-ba143770c1ef",
   "metadata": {},
   "outputs": [],
   "source": [
    "import math\n",
    "\n",
    "class KNN_Estimator:\n",
    "    def __init__(self, k=5, task='classification'):\n",
    "        self.k = k\n",
    "        self.task = task\n",
    "    \n",
    "    def _euclidean_distance(self, x1, x2):\n",
    "        \"\"\"Вычисляет евклидово расстояние между двумя точками\"\"\"\n",
    "        distance = 0\n",
    "        for i in range(len(x1)):\n",
    "            distance += (x1[i] - x2[i]) ** 2\n",
    "        return math.sqrt(distance)\n",
    "    \n",
    "    def _vote(self, neighbor_labels):\n",
    "        \"\"\"Голосование для классификации\"\"\"\n",
    "        counts = np.bincount(neighbor_labels.astype('int'))\n",
    "        return counts.argmax()\n",
    "    \n",
    "    def fit(self, X, y):\n",
    "        \"\"\"Запоминаем обучающие данные\"\"\"\n",
    "        self.X_train = X\n",
    "        self.y_train = y\n",
    "        return self\n",
    "    \n",
    "    def predict(self, X):\n",
    "        \"\"\"Предсказание для новых данных\"\"\"\n",
    "        predictions = []\n",
    "        \n",
    "        for test_sample in X:\n",
    "            # Находим расстояния до всех точек\n",
    "            distances = [self._euclidean_distance(test_sample, x) \n",
    "                        for x in self.X_train]\n",
    "            \n",
    "            # Находим k ближайших соседей\n",
    "            nearest_indices = np.argsort(distances)[:self.k]\n",
    "            nearest_labels = self.y_train[nearest_indices]\n",
    "            \n",
    "            if self.task == 'classification':\n",
    "                # Голосование для классификации\n",
    "                pred = self._vote(nearest_labels)\n",
    "            else:\n",
    "                # Среднее для регрессии\n",
    "                pred = np.mean(nearest_labels)\n",
    "            \n",
    "            predictions.append(pred)\n",
    "        \n",
    "        return np.array(predictions)"
   ]
  },
  {
   "cell_type": "code",
   "execution_count": 12,
   "id": "e899faf3-7c7e-4a53-a04e-a1a3082d5d23",
   "metadata": {},
   "outputs": [
    {
     "name": "stdout",
     "output_type": "stream",
     "text": [
      "Предсказание: [0]\n"
     ]
    }
   ],
   "source": [
    "# Использование KNN модели\n",
    "\n",
    "# Данные для классификации\n",
    "X_train = np.array([[1, 2], [2, 3], [3, 1], [4, 2]])\n",
    "y_train = np.array([0, 0, 1, 1])\n",
    "\n",
    "X_test = np.array([[2.5, 2]])\n",
    "\n",
    "# Обучение и предсказание\n",
    "knn = KNN_Estimator(k=3, task='classification')\n",
    "knn.fit(X_train, y_train)\n",
    "predictions = knn.predict(X_test)\n",
    "print(f\"Предсказание: {predictions}\")"
   ]
  },
  {
   "cell_type": "code",
   "execution_count": null,
   "id": "a21c1cd1-5c84-4171-abb8-c0d2d051f11d",
   "metadata": {},
   "outputs": [],
   "source": []
  }
 ],
 "metadata": {
  "kernelspec": {
   "display_name": "Python 3 (ipykernel)",
   "language": "python",
   "name": "python3"
  },
  "language_info": {
   "codemirror_mode": {
    "name": "ipython",
    "version": 3
   },
   "file_extension": ".py",
   "mimetype": "text/x-python",
   "name": "python",
   "nbconvert_exporter": "python",
   "pygments_lexer": "ipython3",
   "version": "3.11.9"
  }
 },
 "nbformat": 4,
 "nbformat_minor": 5
}
