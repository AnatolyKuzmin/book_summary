{
 "cells": [
  {
   "cell_type": "markdown",
   "id": "42d4d48c-748e-4c10-a4c1-d3b90d6d099b",
   "metadata": {},
   "source": [
    "# 7_SCIKIT-LEARN"
   ]
  },
  {
   "cell_type": "markdown",
   "id": "4b1c4b6b-aa4a-4539-8677-1758a87913fd",
   "metadata": {},
   "source": [
    "## 7.1. Основы работы с классами, строящими модели предварительной подготовки данных и модели машинного обучения"
   ]
  },
  {
   "cell_type": "markdown",
   "id": "2e1baae0-3245-4e7e-b63b-601c7c17e410",
   "metadata": {},
   "source": [
    "Scikit-learn использует объектно-ориентированный подход, где каждая модель — это класс с определенными методами. Давайте разберемся, как это работает."
   ]
  },
  {
   "cell_type": "code",
   "execution_count": null,
   "id": "13cfbc4e-4419-444f-b159-4a2a2e438014",
   "metadata": {},
   "outputs": [],
   "source": []
  }
 ],
 "metadata": {
  "kernelspec": {
   "display_name": "Python 3 (ipykernel)",
   "language": "python",
   "name": "python3"
  },
  "language_info": {
   "codemirror_mode": {
    "name": "ipython",
    "version": 3
   },
   "file_extension": ".py",
   "mimetype": "text/x-python",
   "name": "python",
   "nbconvert_exporter": "python",
   "pygments_lexer": "ipython3",
   "version": "3.11.9"
  }
 },
 "nbformat": 4,
 "nbformat_minor": 5
}
