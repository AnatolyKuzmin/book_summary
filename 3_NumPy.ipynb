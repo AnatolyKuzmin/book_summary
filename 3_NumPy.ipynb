{
 "cells": [
  {
   "cell_type": "markdown",
   "id": "47d51c8a-3a3a-4c26-8b8f-45996487246a",
   "metadata": {},
   "source": [
    "# 3. NumPy"
   ]
  },
  {
   "cell_type": "markdown",
   "id": "587e91b6-4f43-44d7-a91e-134a872530d9",
   "metadata": {
    "jp-MarkdownHeadingCollapsed": true
   },
   "source": [
    "## 3.1. Создание массивов NumPy"
   ]
  },
  {
   "cell_type": "markdown",
   "id": "8e8ab0d7-5de0-4cac-9dd8-a24f0dd15a70",
   "metadata": {},
   "source": [
    "NumPy — это библиотека Python для работы с многомерными массивами и математическими операциями.  \n",
    "✅ Быстрее списков Python  \n",
    "✅ Все элементы одного типа  \n",
    "✅ Используется в Pandas и scikit-learn  \n",
    "\n",
    "Основной объект — `ndarray`\n",
    "```python\n",
    "import numpy as np\n",
    "arr = np.array([1, 2, 3])  # Создаём массив из списка\n",
    "print(arr)  # [1 2 3]\n",
    "\n",
    "# Пример проверки типа\n",
    "print(arr.dtype)  # int64\n",
    "```"
   ]
  },
  {
   "cell_type": "markdown",
   "id": "2144b8e6-a7f0-4dda-8808-df6dab0586d9",
   "metadata": {},
   "source": [
    "Параметры создания массива  \n",
    "```python\n",
    "arr = np.array([[1, 2], [3, 4]], dtype=float, order='F')\n",
    "```\n",
    "- dtype — тип данных (например, int, float, bool).\n",
    "- order — порядок хранения в памяти:\n",
    "  - С-порядок (order='C'): данные хранятся построчно.\n",
    "  - F-порядок (order='F'): данные хранятся по столбцам.\n",
    "- ndmin — минимальное количество измерений.\n",
    "\n",
    "NumPy поддерживает разные типы:\n",
    "- Числовые: int32, float64, complex128\n",
    "- Строковые: string_, unicode_\n",
    "- Логические: bool_\n",
    "- Объекты Python: object_"
   ]
  },
  {
   "cell_type": "markdown",
   "id": "f63a13ed-8dba-43c9-88da-af0a6c536a5a",
   "metadata": {},
   "source": [
    "Специальные массивы  \n",
    "```python\n",
    "# Нулевой массив:\n",
    "zeros = np.zeros(3)  # [0. 0. 0.]\n",
    "\n",
    "# Массив из единиц:\n",
    "ones = np.ones((2, 2))  # [[1. 1.], [1. 1.]]\n",
    "\n",
    "# Единичная матрица:\n",
    "eye = np.eye(3)  # Матрица 3x3 с единицами на диагонали\n",
    "\n",
    "# Неинициализированный массив:\n",
    "empty = np.empty(2)  # Случайные значения (быстрое создание)\n",
    "```"
   ]
  },
  {
   "cell_type": "code",
   "execution_count": 1,
   "id": "df8ed644-6471-4340-81f0-8dd5ba4d6261",
   "metadata": {},
   "outputs": [
    {
     "name": "stdout",
     "output_type": "stream",
     "text": [
      " массив - [[1. 2.]\n",
      " [3. 4.]], тип - float32\n"
     ]
    }
   ],
   "source": [
    "import numpy as np\n",
    "arr = np.array([[1, 2], [3, 4]], dtype='float32')\n",
    "print(f\" массив - {arr}, тип - {arr.dtype}\")"
   ]
  },
  {
   "cell_type": "markdown",
   "id": "256b347d-5a5c-4829-b8b4-5cfe31e17ac5",
   "metadata": {
    "jp-MarkdownHeadingCollapsed": true
   },
   "source": [
    "## 3.2. Обращение к элементам массива"
   ]
  },
  {
   "cell_type": "markdown",
   "id": "85f3f3a3-89f0-4d0c-a81d-9d64edec3453",
   "metadata": {},
   "source": [
    "✅ Для одномерных массивов индексация как в списках.  \n",
    "✅ В многомерных массивах используйте запятые: `[строка, столбец]`.  \n",
    "✅ `:` выбирает все элементы вдоль оси.  \n",
    "✅ `.copy()` создаёт независимую копию  "
   ]
  },
  {
   "cell_type": "code",
   "execution_count": 2,
   "id": "e3abd410-008f-463f-b40f-15125a9c179f",
   "metadata": {},
   "outputs": [
    {
     "name": "stdout",
     "output_type": "stream",
     "text": [
      "8.0\n",
      "[1. 5.]\n",
      "[1. 4. 5. 9.]\n"
     ]
    }
   ],
   "source": [
    "import numpy as np\n",
    "a = np.array([1., 4., 5., 8.])\n",
    "\n",
    "# Доступ к элементам одномерного массива\n",
    "# Элемент с индексом 3\n",
    "print(a[3])\n",
    "print(a[::2])  # Каждый второй элемент\n",
    "\n",
    "# Изменение элемента\n",
    "a[3] = 9.\n",
    "print(a)"
   ]
  },
  {
   "cell_type": "code",
   "execution_count": 3,
   "id": "f25daea8-b7c4-40a1-ba0e-78f71b658b4e",
   "metadata": {},
   "outputs": [
    {
     "name": "stdout",
     "output_type": "stream",
     "text": [
      "2.0\n",
      "[4. 5. 6.]\n",
      "[3. 6.]\n"
     ]
    }
   ],
   "source": [
    "# Многомерные массивы (матрицы)\n",
    "matrix = np.array([[1, 2, 3],\n",
    "                   [4, 5, 6]], dtype=float)\n",
    "# Элемент в первой строке, втором столбце\n",
    "print(matrix[0, 1])\n",
    "print(matrix[1, :])  # Вторая строка\n",
    "print(matrix[:, 2])  # Третий столбец"
   ]
  },
  {
   "cell_type": "markdown",
   "id": "6ffa4323-f041-4376-82db-75e45a1a71ff",
   "metadata": {},
   "source": [
    "Прямое присваивание (=) создаёт ссылку, а не копию. Для копирования используйте .copy():"
   ]
  },
  {
   "cell_type": "code",
   "execution_count": 4,
   "id": "77249a7a-4e0e-436f-88db-6c93cbe874b7",
   "metadata": {},
   "outputs": [
    {
     "name": "stdout",
     "output_type": "stream",
     "text": [
      "True False\n",
      "[ True  True  True]\n"
     ]
    }
   ],
   "source": [
    "a = np.array([1, 2, 3], float)\n",
    "b = a       # Ссылка на тот же массив\n",
    "c = a.copy()  # Независимая копия\n",
    "\n",
    "print(a is b, a is c)\n",
    "print(a == c)"
   ]
  },
  {
   "cell_type": "markdown",
   "id": "a06ec34d-4591-4036-b574-d4db0baef184",
   "metadata": {
    "jp-MarkdownHeadingCollapsed": true
   },
   "source": [
    "## 3.3. Получение краткой информации о массиве"
   ]
  },
  {
   "cell_type": "markdown",
   "id": "9d331892-d229-4e97-b669-fb68fd5b119a",
   "metadata": {},
   "source": [
    "Основные свойства массивов\n",
    "\n",
    "| Свойство/Метод | Описание | Пример |\n",
    "| - | - | - |\n",
    "| `array.shape` | Размеры по осям | (2, 3) |\n",
    "| `array.size` | Общее число элементов | 6 |\n",
    "| `array.ndim` | Количество измерений | 2 |\n",
    "| `len(array)` | Длина по первой оси | 2 |\n",
    "| `array.dtype` | Тип данных | int64 |\n",
    "| `array.nbytes` | Память в байтах | 48 |\n",
    "| `value in array` | Проверка наличия значения | True/False |"
   ]
  },
  {
   "cell_type": "code",
   "execution_count": 5,
   "id": "1dafa8b8-e9db-4067-a300-4d00ea1ac6a1",
   "metadata": {},
   "outputs": [
    {
     "name": "stdout",
     "output_type": "stream",
     "text": [
      "shape - (2, 3)\n",
      "size - 6\n",
      "ndim - 2\n",
      "True\n"
     ]
    }
   ],
   "source": [
    "import numpy as np\n",
    "arr = np.array([[1, 2, 3], [4, 5, 6]])\n",
    "\n",
    "# размеры массива по каждому измерению в виде кортежа.\n",
    "print(f\"shape - {arr.shape}\")\n",
    "\n",
    "# общее число элементов в массиве.\n",
    "print(f\"size - {arr.size}\")\n",
    "\n",
    "# количество осей (измерений) массива.\n",
    "print(f\"ndim - {arr.ndim}\")\n",
    "\n",
    "# Проверяет, содержится ли значение в массиве.\n",
    "print(2 in arr) "
   ]
  },
  {
   "cell_type": "code",
   "execution_count": 6,
   "id": "5d402de9-c241-4e0c-9b06-3b7e22b9ea5e",
   "metadata": {},
   "outputs": [
    {
     "name": "stdout",
     "output_type": "stream",
     "text": [
      "8\n"
     ]
    }
   ],
   "source": [
    "# Проверка памяти\n",
    "float_arr = np.array([1.1, 2.2], dtype='float32')\n",
    "print(float_arr.nbytes)"
   ]
  },
  {
   "cell_type": "markdown",
   "id": "45368648-f948-446d-806d-e54b0243f476",
   "metadata": {},
   "source": [
    "Важные нюансы\n",
    "- `shape`, `size`, `ndim` — это свойства, а не методы (скобки не нужны).\n",
    "- `len()` работает только по первой оси, для общего числа элементов используйте `size`.\n",
    "- `in` проверяет значения, а не индексы."
   ]
  },
  {
   "cell_type": "markdown",
   "id": "429ac172-5e43-4123-a3ac-1837b04c9dab",
   "metadata": {
    "jp-MarkdownHeadingCollapsed": true
   },
   "source": [
    "## 3.4. Изменение формы массива"
   ]
  },
  {
   "cell_type": "markdown",
   "id": "2fd68939-de4e-4103-abe7-5ad8673831bd",
   "metadata": {},
   "source": [
    "`reshape` превращает массив в новую форму без изменения данных.  \n",
    "✅ Сохраняет общее количество элементов  \n",
    "✅ Можно использовать функцию `np.reshape()` или метод `.reshape()`"
   ]
  },
  {
   "cell_type": "code",
   "execution_count": 7,
   "id": "7d06593b-d401-4994-bfe3-1dbef5ff3915",
   "metadata": {},
   "outputs": [
    {
     "name": "stdout",
     "output_type": "stream",
     "text": [
      "[[0. 1.]\n",
      " [2. 3.]\n",
      " [4. 5.]\n",
      " [6. 7.]\n",
      " [8. 9.]]\n",
      "[0. 1. 2. 3. 4. 5. 6. 7. 8. 9.]\n"
     ]
    }
   ],
   "source": [
    "import numpy as np\n",
    "\n",
    "# Создаем одномерный массив\n",
    "arr = np.array([0, 1, 2, 3, 4, 5, 6, 7, 8, 9], dtype=float)\n",
    "\n",
    "# Меняем форму на 5x2\n",
    "arr_2d = arr.reshape((5, 2))\n",
    "print(arr_2d)\n",
    "\n",
    "# Можно вернуть обратно в 1D\n",
    "arr_flat = arr_2d.reshape(10)\n",
    "print(arr_flat)"
   ]
  },
  {
   "cell_type": "markdown",
   "id": "ae1e12b8-e5f5-4551-93ff-59268c5a0083",
   "metadata": {},
   "source": [
    "Меняет строки и столбцы местами - Транспонирование (T или transpose())"
   ]
  },
  {
   "cell_type": "code",
   "execution_count": 8,
   "id": "ea7f15b6-f4b2-4211-93d6-11ed8691fe4c",
   "metadata": {},
   "outputs": [
    {
     "name": "stdout",
     "output_type": "stream",
     "text": [
      "[[0 1 2]\n",
      " [3 4 5]]\n",
      "\n",
      "[[0 3]\n",
      " [1 4]\n",
      " [2 5]]\n"
     ]
    }
   ],
   "source": [
    "matrix = np.array([[0, 1, 2], [3, 4, 5]])\n",
    "matrix_T = matrix.T\n",
    "\n",
    "print(matrix, matrix_T, sep='\\n\\n')"
   ]
  },
  {
   "cell_type": "code",
   "execution_count": 9,
   "id": "e5f9c646-7b43-4536-9902-e7da6a45e108",
   "metadata": {},
   "outputs": [],
   "source": [
    "a = np.array([[1, 2], [3, 4]])\n",
    "\n",
    "# flatten (копия) создает копию данных (безопасно, но медленнее)\n",
    "flat = a.flatten()\n",
    "flat[0] = 100  # Исходный массив НЕ изменится\n",
    "\n",
    "# ravel (ссылка)  возвращает ссылку (быстрее, но изменения влияют на исходный массив)\n",
    "raveled = a.ravel()\n",
    "raveled[0] = 100  # Изменится и исходный массив"
   ]
  },
  {
   "cell_type": "markdown",
   "id": "dc4e0dba-2a9d-436a-999d-44964e3bc7d0",
   "metadata": {
    "jp-MarkdownHeadingCollapsed": true
   },
   "source": [
    "## 3.5. Конкатенация массивов"
   ]
  },
  {
   "cell_type": "markdown",
   "id": "a5204fe5-3678-42c1-bca9-c54427ffc6db",
   "metadata": {},
   "source": [
    "`np.concatenate()` - Объединяет массивы вдоль указанной оси(`axis=0` — по умолчанию)"
   ]
  },
  {
   "cell_type": "code",
   "execution_count": 10,
   "id": "9c485a9e-8951-4ed7-855d-f7b499c9fc06",
   "metadata": {},
   "outputs": [
    {
     "data": {
      "text/plain": [
       "array([[1, 2, 5],\n",
       "       [3, 4, 6]])"
      ]
     },
     "execution_count": 10,
     "metadata": {},
     "output_type": "execute_result"
    }
   ],
   "source": [
    "a = np.array([[1, 2], [3, 4]])\n",
    "b = np.array([[5, 6]])\n",
    "np.concatenate((a, b.T), axis=1)"
   ]
  },
  {
   "cell_type": "code",
   "execution_count": 11,
   "id": "f346280e-fda6-442b-bcc2-bd8131b8f810",
   "metadata": {},
   "outputs": [
    {
     "name": "stdout",
     "output_type": "stream",
     "text": [
      "[[1 2 3]\n",
      " [4 5 6]]\n",
      "---\n",
      "[[1 2 3]\n",
      " [4 5 6]]\n",
      "---\n",
      "[1 2 3 4 5 6]\n",
      "---\n",
      "[[1 4]\n",
      " [2 5]\n",
      " [3 6]]\n"
     ]
    }
   ],
   "source": [
    "a = np.array([1, 2, 3])\n",
    "b = np.array([4, 5, 6])\n",
    "\n",
    "# Вертикальное объединение (vstack/row_stack)\n",
    "print(np.vstack((a, b)))\n",
    "print(\"---\")\n",
    "# или\n",
    "print(np.concatenate((a.reshape(1,3), b.reshape(1,3)), axis=0))\n",
    "print(\"---\")\n",
    "\n",
    "# Горизонтальное объединение (hstack)\n",
    "print(np.hstack((a, b)))\n",
    "print(\"---\")\n",
    "\n",
    "# Объединение в столбцы (column_stack)\n",
    "print(np.column_stack((a, b)))"
   ]
  },
  {
   "cell_type": "markdown",
   "id": "92a1a591-f901-4363-b6c1-399cac6e6d2d",
   "metadata": {},
   "source": [
    "⚠️ Важные нюансы\n",
    "1. Для axis=0 массивы должны иметь одинаковое количество столбцов. Для axis=1 — одинаковое количество строк\n",
    "2. Конкатенация всегда создает новый массив.\n",
    "3. Для частых операций лучше использовать np.empty() с последующим заполнением."
   ]
  },
  {
   "cell_type": "code",
   "execution_count": 12,
   "id": "22ee42d7-eb51-4c93-81b4-d83f5db1bac4",
   "metadata": {},
   "outputs": [
    {
     "name": "stdout",
     "output_type": "stream",
     "text": [
      "[[0.13126116 0.25193781 0.11214494 ... 0.40357608 0.86744503 0.7667416 ]\n",
      " [0.68301249 0.61078901 0.74256669 ... 0.26176182 0.40556872 0.95447411]\n",
      " [0.69934713 0.23882611 0.8740927  ... 0.09256812 0.94534191 0.79735483]\n",
      " ...\n",
      " [0.39245754 0.61428175 0.28062775 ... 0.39881711 0.29337322 0.04541298]\n",
      " [0.57430277 0.32782424 0.70026746 ... 0.01088816 0.0258965  0.98310276]\n",
      " [0.85428023 0.91831    0.01115886 ... 0.27494993 0.20232654 0.00336878]]\n"
     ]
    }
   ],
   "source": [
    "# Два изображения 100x100 пикселей\n",
    "img1 = np.random.rand(100, 100)\n",
    "img2 = np.random.rand(100, 100)\n",
    "\n",
    "# Вертикальный коллаж\n",
    "collage = np.vstack((img1, img2))  # 200x100\n",
    "\n",
    "print(collage)"
   ]
  },
  {
   "cell_type": "markdown",
   "id": "4a1f9536-822f-40ac-8e31-95129cbd1c57",
   "metadata": {
    "jp-MarkdownHeadingCollapsed": true
   },
   "source": [
    "## 3.6. Функции математических операций, знакомство с правилами транслирования"
   ]
  },
  {
   "cell_type": "code",
   "execution_count": 13,
   "id": "e3476b0c-334a-45c7-b306-3733aa8a9ec8",
   "metadata": {},
   "outputs": [
    {
     "name": "stdout",
     "output_type": "stream",
     "text": [
      "сложение - [6. 4. 9.]\n",
      "умножение - [ 5.  4. 18.]\n",
      "возведение в степень - [  5.   4. 216.]\n",
      "\n",
      "[[ 2  0]\n",
      " [ 3 12]]\n"
     ]
    }
   ],
   "source": [
    "# Все арифметические операции выполняются поэлементно\n",
    "a = np.array([1, 2, 3], float)\n",
    "b = np.array([5, 2, 6], float)\n",
    "\n",
    "print(f\"сложение - {a + b}\")\n",
    "print(f\"умножение - {a * b}\")\n",
    "print(f\"возведение в степень - {b ** a}\")\n",
    "print()\n",
    "\n",
    "# Для матриц умножение остается поэлементным (не матричным!)\n",
    "A = np.array([[1, 2], [3, 4]])\n",
    "B = np.array([[2, 0], [1, 3]])\n",
    "print(A * B)"
   ]
  },
  {
   "cell_type": "markdown",
   "id": "46dbd810-2599-428d-b9c6-4968687fbd08",
   "metadata": {},
   "source": [
    "NumPy автоматически \"растягивает\" массивы разной формы при операциях.\n",
    "- Добавляет единицы слева к меньшей размерности\n",
    "- Растягивает размерности, равные 1\n",
    "- Если размеры не совпадают и ни один не равен 1 → ошибкa"
   ]
  },
  {
   "cell_type": "code",
   "execution_count": 14,
   "id": "b2b4f1e7-9e0e-49de-b3eb-3d614c0cc276",
   "metadata": {},
   "outputs": [
    {
     "name": "stdout",
     "output_type": "stream",
     "text": [
      "[[0 5]\n",
      " [2 7]\n",
      " [4 9]]\n"
     ]
    }
   ],
   "source": [
    "# Матрица 3x2 + вектор длины 2\n",
    "# b автоматически превращается в [[-1,3], [-1,3], [-1,3]]\n",
    "A = np.array([[1, 2], [3, 4], [5, 6]])\n",
    "b = np.array([-1, 3])\n",
    "print(A + b) "
   ]
  },
  {
   "cell_type": "markdown",
   "id": "4165a4e3-885b-4937-a9b2-fd33b3aed421",
   "metadata": {},
   "source": [
    "NumPy предоставляет векторные версии математических функций\n",
    "```python\n",
    "a = np.array([1, 4, 9])\n",
    "print(np.sqrt(a))  # [1. 2. 3.] - квадратный корень\n",
    "print(np.exp(a))   # [2.718, 54.598, 8103.084] - экспонента\n",
    "\n",
    "# Округление\n",
    "a = np.array([1.1, 1.5, 1.9])\n",
    "print(np.rint(a))  # [1. 2. 2.] - к ближайшему\n",
    "print(np.ceil(a))  # [2. 2. 2.] - вверх\n",
    "print(np.floor(a)) # [1. 1. 1.] - вниз\n",
    "\n",
    "# Округление\n",
    "print(np.pi)  # 3.141592653589793\n",
    "print(np.e)   # 2.718281828459045\n",
    "\n",
    "# Статистические операции\n",
    "a = np.array([2, 1, 9])\n",
    "print(a.sum())   # 12 - сумма\n",
    "print(a.mean())  # 4.0 - среднее\n",
    "print(a.std())   # 3.559 - стандартное отклонение\n",
    "\n",
    "# По осям (для матриц)\n",
    "A = np.array([[0, 2], [3, -1], [3, 5]])\n",
    "print(A.mean(axis=0))  # [2. 2.] - по столбцам\n",
    "print(A.mean(axis=1))  # [1. 1. 4.] - по строкам\n",
    "\n",
    "# Индексы экстремумов\n",
    "print(np.argmin(a))  # 1 (индекс минимального)\n",
    "print(np.argmax(a))  # 2 (индекс максимального)\n",
    "```"
   ]
  },
  {
   "cell_type": "markdown",
   "id": "52efc3d2-0758-4f54-940b-72c2854d3310",
   "metadata": {
    "jp-MarkdownHeadingCollapsed": true
   },
   "source": [
    "## 3.7. Обработка пропусков"
   ]
  },
  {
   "cell_type": "markdown",
   "id": "e40812a6-adcc-4eb8-a817-452af9d20567",
   "metadata": {},
   "source": [
    "В NumPy пропущенные значения обозначаются как np.nan (Not a Number).\n",
    "\n",
    "Специальные функции с префиксом nan автоматически пропускают NaN\n",
    "```python\n",
    "import numpy as np\n",
    "\n",
    "data = np.array([[np.nan, 2, 4], \n",
    "                 [9, 2, np.nan]], dtype=float)\n",
    "\n",
    "print(np.nanmean(data))       # 4.25 (среднее)\n",
    "print(np.nanmedian(data))     # 3.0 (медиана)\n",
    "print(np.nansum(data))        # 17.0 (сумма)\n",
    "\n",
    "print(np.nanmean(data, axis=0))  # [9. 2. 4.] (по столбцам)\n",
    "print(np.nanmean(data, axis=1))  # [3. 5.5] (по строкам)\n",
    "```"
   ]
  },
  {
   "cell_type": "markdown",
   "id": "a1985e8f-f947-44fd-84f6-14976acfc799",
   "metadata": {},
   "source": [
    "`np.isnan()` — поиск пропусков (возвращает булев массив)  \n",
    "`np.count_nonzero(np.isnan(data))` — подсчет пропусков"
   ]
  },
  {
   "cell_type": "markdown",
   "id": "b1918f98-b315-43fc-8952-8596f31ac36b",
   "metadata": {},
   "source": [
    "Замена пропущенных значений"
   ]
  },
  {
   "cell_type": "code",
   "execution_count": 11,
   "id": "365b540a-3a25-4387-b0f2-f106913a7135",
   "metadata": {},
   "outputs": [
    {
     "name": "stdout",
     "output_type": "stream",
     "text": [
      "Матрица с пустыми \n",
      " [[nan  2.  4.]\n",
      " [ 9.  2. nan]]\n",
      "\n",
      "Единое значение для всех пропусков \n",
      " [[0. 2. 4.]\n",
      " [9. 2. 0.]]\n",
      "\n",
      "Разные значения по столбцам/строкам \n",
      " [[5. 2. 4.]\n",
      " [9. 2. 7.]]\n",
      "\n",
      "Заполнение статистиками \n",
      " [[9. 2. 4.]\n",
      " [9. 2. 4.]]\n"
     ]
    }
   ],
   "source": [
    "data = np.array([[np.nan, 2, 4], \n",
    "                 [9, 2, np.nan]], dtype=float)\n",
    "print(f'Матрица с пустыми \\n {data}')\n",
    "print()\n",
    "\n",
    "# Вариант 1: Единое значение для всех пропусков\n",
    "filled_data = np.nan_to_num(data, nan=0)  # Замена на 0\n",
    "print(f'Единое значение для всех пропусков \\n {filled_data}')\n",
    "print()\n",
    "\n",
    "# Вариант 2: Разные значения по столбцам/строкам\n",
    "col_replace = {0: 5, 1: 6, 2: 7}\n",
    "for col in range(data.shape[1]):\n",
    "    data[:, col] = np.nan_to_num(data[:, col], nan=col_replace[col])\n",
    "print(f'Разные значения по столбцам/строкам \\n {data}')\n",
    "print()\n",
    "\n",
    "data = np.array([[np.nan, 2, 4], \n",
    "                 [9, 2, np.nan]], dtype=float)\n",
    "\n",
    "# Вариант 3: Заполнение статистиками\n",
    "col_means = np.nanmean(data, axis=0)  # Средние по столбцам\n",
    "for col in range(data.shape[1]):\n",
    "    data[:, col] = np.nan_to_num(data[:, col], nan=col_means[col])\n",
    "print(f'Заполнение статистиками \\n {data}')"
   ]
  },
  {
   "cell_type": "markdown",
   "id": "d5a34a34-b05c-47fe-bdef-ca1e5ce70281",
   "metadata": {},
   "source": [
    "```Python\n",
    "# Удаление строк с пропусками\n",
    "clean_data = data[~np.isnan(data).any(axis=1)]\n",
    "```"
   ]
  },
  {
   "cell_type": "markdown",
   "id": "e20361f6-9322-4624-9605-8d55ded70e15",
   "metadata": {
    "jp-MarkdownHeadingCollapsed": true
   },
   "source": [
    "## 3.8. Функция np.linspace()"
   ]
  },
  {
   "cell_type": "markdown",
   "id": "36bb5df4-8c86-4e05-924a-2ad4496dead0",
   "metadata": {},
   "source": [
    "создает одномерный массив с равномерно распределенными числами в заданном интервале.\n",
    "\n",
    "```Python\n",
    "np.linspace(start, stop, num=50, endpoint=True)\n",
    "```\n",
    "**start** — начальное значение (включено)  \n",
    "**stop** — конечное значение (включено, если endpoint=True)  \n",
    "**num** — количество точек (по умолчанию 50)  \n",
    "**endpoint** — включает ли конечное значение (по умолчанию True)  "
   ]
  },
  {
   "cell_type": "code",
   "execution_count": 14,
   "id": "b89bbed6-d940-4d85-a34b-753b87251a8d",
   "metadata": {},
   "outputs": [
    {
     "name": "stdout",
     "output_type": "stream",
     "text": [
      "[0.  0.2 0.4 0.6 0.8]\n"
     ]
    }
   ],
   "source": [
    "# Исключение конечной точки\n",
    "arr = np.linspace(0, 1, 5, endpoint=False)\n",
    "print(arr)"
   ]
  },
  {
   "cell_type": "markdown",
   "id": "994b73b0-721e-41f5-97a1-7e6d67f308f2",
   "metadata": {},
   "source": [
    "Сравнение с `np.arange()`\n",
    "| Характеристика | np.linspace() | np.arange() |\n",
    "| - | - | - |\n",
    "| Управление | Числом точек | Шагом |\n",
    "| Гарантии | Точно включает границы | Может не включать |\n",
    "| Применение | Когда важно количество точек | Когда важен шаг |"
   ]
  },
  {
   "cell_type": "code",
   "execution_count": 15,
   "id": "7da7d01c-0231-411d-a384-008e482711fb",
   "metadata": {},
   "outputs": [
    {
     "name": "stdout",
     "output_type": "stream",
     "text": [
      "[0.   0.25 0.5  0.75 1.  ]\n",
      "[0.   0.25 0.5  0.75 1.  ]\n"
     ]
    }
   ],
   "source": [
    "# linspace - 5 точек между 0 и 1\n",
    "print(np.linspace(0, 1, 5))\n",
    "\n",
    "# arange - с шагом 0.25\n",
    "print(np.arange(0, 1.25, 0.25))"
   ]
  },
  {
   "cell_type": "markdown",
   "id": "89a8889b-c232-45da-b1d2-4e6b5ee82c0f",
   "metadata": {
    "jp-MarkdownHeadingCollapsed": true
   },
   "source": [
    "## 3.9. Функция np.logspace()"
   ]
  },
  {
   "cell_type": "markdown",
   "id": "b8405ab1-ba4c-4d99-a82f-ce59658fd246",
   "metadata": {},
   "source": [
    "создает одномерный массив чисел, равномерно распределенных в логарифмической шкале между `base^start` и `base^stop`.\n",
    "```Python\n",
    "np.logspace(start, stop, num=50, endpoint=True, base=10.0)\n",
    "```\n",
    "**start** — показатель степени для начального значения (base^start)  \n",
    "**stop** — показатель степени для конечного значения (base^stop)  \n",
    "**num** — количество точек (по умолчанию 50)  \n",
    "**endpoint** — включает ли конечное значение (по умолчанию True)  \n",
    "**base** — основание логарифмической шкалы (по умолчанию 10)  "
   ]
  },
  {
   "cell_type": "code",
   "execution_count": 16,
   "id": "f1093151-1ee0-4fd7-9260-19e88e614d05",
   "metadata": {},
   "outputs": [
    {
     "name": "stdout",
     "output_type": "stream",
     "text": [
      "[0.25 0.5  1.   2.   4.  ]\n"
     ]
    }
   ],
   "source": [
    "# С другим основанием\n",
    "# 5 точек между 2⁻² (0.25) и 2² (4) с основанием 2\n",
    "arr = np.logspace(-2, 2, 5, base=2)\n",
    "print(arr)"
   ]
  },
  {
   "cell_type": "markdown",
   "id": "13e9d2e7-d2be-48c5-b847-0be8dde98529",
   "metadata": {},
   "source": [
    "Сравнение с `np.linspace()`\n",
    "| Характеристика | np.logspace() | np.linspace() |\n",
    "| - | - | - |\n",
    "| Шкала | Логарифмическая | Линейная |\n",
    "| Параметры | Показатели степени (base^start) | Прямые значения |\n",
    "| Применение | Экспоненциальные зависимости | Линейные зависимости |"
   ]
  },
  {
   "cell_type": "code",
   "execution_count": 18,
   "id": "794af604-2108-4078-a9e2-fa3305ecc3a5",
   "metadata": {},
   "outputs": [
    {
     "name": "stdout",
     "output_type": "stream",
     "text": [
      "[  10.  100. 1000.]\n",
      "[  10.  100. 1000.]\n"
     ]
    }
   ],
   "source": [
    "log_arr = np.logspace(1, 3, 3)\n",
    "lin_arr = 10 ** np.linspace(1, 3, 3)\n",
    "\n",
    "print(log_arr, lin_arr, sep='\\n')"
   ]
  },
  {
   "cell_type": "markdown",
   "id": "1c8bd341-55c3-4557-8437-12600c62da30",
   "metadata": {
    "jp-MarkdownHeadingCollapsed": true
   },
   "source": [
    "## 3.10. Функция np.digitize()"
   ]
  },
  {
   "cell_type": "markdown",
   "id": "0bd9390b-f771-4e39-bd07-7b5ccab821cc",
   "metadata": {},
   "source": [
    "определяет, в какой числовой интервал (бин) попадает каждое значение массива, и возвращает соответствующие индексы интервалов.\n",
    "```Python\n",
    "np.digitize(x, bins, right=False)\n",
    "```\n",
    "**x** — входной массив значений  \n",
    "**bins** — массив границ интервалов (должен быть отсортирован по возрастанию)  \n",
    "**right** — какой край интервала считать включенным (по умолчанию False)  "
   ]
  },
  {
   "cell_type": "code",
   "execution_count": 4,
   "id": "db53831e-7676-4cdb-94bf-b59461541014",
   "metadata": {},
   "outputs": [
    {
     "name": "stdout",
     "output_type": "stream",
     "text": [
      "[0 1 2]\n"
     ]
    }
   ],
   "source": [
    "import numpy as np\n",
    "\n",
    "values = np.array([3, 9, 15], float)\n",
    "bins = [3, 9, 15]\n",
    "\n",
    "print(np.digitize(values, bins, right=True))\n",
    "# 3 ∈ (-∞,3] → индекс 0\n",
    "# 9 ∈ (3,9] → индекс 1\n",
    "# 15 ∈ (9,15] → индекс 2"
   ]
  },
  {
   "cell_type": "code",
   "execution_count": 3,
   "id": "7f2b389e-0857-49ca-8f50-94920f2db0bb",
   "metadata": {},
   "outputs": [
    {
     "name": "stdout",
     "output_type": "stream",
     "text": [
      "[0 1 1 2 2 3]\n"
     ]
    }
   ],
   "source": [
    "# Практическое применение — биннинг данных\n",
    "ages = np.array([12, 25, 32, 47, 55, 63])\n",
    "age_bins = [20, 40, 60]  # Границы возрастных групп\n",
    "\n",
    "# Определяем возрастные группы\n",
    "groups = np.digitize(ages, age_bins)\n",
    "print(groups)"
   ]
  },
  {
   "cell_type": "markdown",
   "id": "766ea3d8-3602-4d5e-aed6-3c66fc69b4b1",
   "metadata": {},
   "source": [
    "Альтернативы  \n",
    "`pd.cut()` в Pandas — более гибкий инструмент для биннинга  \n",
    "`np.histogram()` — если нужно сразу подсчитать количество элементов в бинах  "
   ]
  },
  {
   "cell_type": "markdown",
   "id": "95bdcf90-5c93-4034-9c5f-877170bdadd5",
   "metadata": {},
   "source": [
    "Биннинг признаков для линейной модели"
   ]
  },
  {
   "cell_type": "code",
   "execution_count": 5,
   "id": "e7296b7e-0a68-4e83-990a-f0eff9c13659",
   "metadata": {},
   "outputs": [
    {
     "data": {
      "image/png": "[encoded data removed]",
      "text/plain": [
       "<Figure size 640x480 with 1 Axes>"
      ]
     },
     "metadata": {},
     "output_type": "display_data"
    }
   ],
   "source": [
    "import matplotlib.pyplot as plt\n",
    "# Исходные данные\n",
    "X = np.random.uniform(0, 100, 100)\n",
    "\n",
    "# Создаем бины\n",
    "bins = np.linspace(0, 100, 11)  # 10 интервалов\n",
    "\n",
    "plt.hist(X, bins=bins, edgecolor='black')\n",
    "plt.xticks(bins)\n",
    "plt.title(\"Распределение данных по бинам\")\n",
    "plt.show()"
   ]
  },
  {
   "cell_type": "markdown",
   "id": "833d4fc2-01b2-4437-9dcf-07f19c85531a",
   "metadata": {},
   "source": [
    "## 3.11. Функция np.searchsorted()"
   ]
  },
  {
   "cell_type": "markdown",
   "id": "49a87d68-ec88-435a-b268-6109803d4faa",
   "metadata": {},
   "source": [
    "находит позиции, куда нужно вставить элементы, чтобы сохранить порядок сортировки массива.\n",
    "\n",
    "Это полезно для:\n",
    "- Быстрой вставки элементов в отсортированный массив\n",
    "- Поиска границ интервалов\n",
    "- Анализа распределения данных\n",
    "\n",
    "```python\n",
    "np.searchsorted(arr, v, side='left', sorter=None)\n",
    "```\n",
    "**arr** — исходный массив (должен быть отсортирован, если не указан sorter)  \n",
    "**v** — значения для поиска позиций вставки  \n",
    "**side** — `'left'` или `'right'` (какую сторону интервала учитывать)  \n",
    "**sorter** — индексы для сортировки, если массив не отсортирован  "
   ]
  },
  {
   "cell_type": "code",
   "execution_count": 7,
   "id": "a9b72383-1094-44e6-8b71-2aa3d69519be",
   "metadata": {},
   "outputs": [
    {
     "name": "stdout",
     "output_type": "stream",
     "text": [
      "Куда вставить, чтобы сохранить порядок? [1 4 9]\n"
     ]
    }
   ],
   "source": [
    "# Работа с несколькими значениями\n",
    "arr = np.array([4, 10, 12, 14, 16, 16, 59, 72, 78, 86])\n",
    "\n",
    "values = np.array([5, 15, 85])\n",
    "positions = np.searchsorted(arr, values)\n",
    "print(f'Куда вставить, чтобы сохранить порядок? {positions}')"
   ]
  },
  {
   "cell_type": "code",
   "execution_count": 8,
   "id": "bc97b738-c628-4381-a38a-b9183f71f1f0",
   "metadata": {},
   "outputs": [
    {
     "name": "stdout",
     "output_type": "stream",
     "text": [
      "4\n",
      "6\n"
     ]
    }
   ],
   "source": [
    "print(np.searchsorted(arr, 16, side='left'))  # 4 (первое вхождение)\n",
    "print(np.searchsorted(arr, 16, side='right')) # 6 (после последнего вхождения)"
   ]
  },
  {
   "cell_type": "markdown",
   "id": "8070509b-64ed-4b96-bfe9-74fa544cf8bb",
   "metadata": {},
   "source": [
    "Сравнение с аналогичными функциями\n",
    "\n",
    "| Функция | Отсортированные данные | Возвращает | Основное применение |\n",
    "| - | - | - | - |\n",
    "| `searchsorted` | Да | Индексы вставки | Работа с упорядоченными данными |\n",
    "| `digitize` | Нет | Номера бинов | Биннинг данных |\n",
    "| `where` | Нет | Индексы элементов | Поиск точных совпадений |"
   ]
  },
  {
   "cell_type": "markdown",
   "id": "15a4efc4-447f-428a-a666-15832bb0e921",
   "metadata": {},
   "source": [
    "## 3.13. Функция np.app ly_along_axis()"
   ]
  },
  {
   "cell_type": "code",
   "execution_count": 9,
   "id": "19b96021-cf37-4354-9ca8-f49c264aa198",
   "metadata": {},
   "outputs": [
    {
     "data": {
      "text/plain": [
       "81"
      ]
     },
     "execution_count": 9,
     "metadata": {},
     "output_type": "execute_result"
    }
   ],
   "source": [
    "81"
   ]
  },
  {
   "cell_type": "code",
   "execution_count": null,
   "id": "783ee30d-6e61-432e-8363-cd0465983152",
   "metadata": {},
   "outputs": [],
   "source": []
  }
 ],
 "metadata": {
  "kernelspec": {
   "display_name": "Python 3 (ipykernel)",
   "language": "python",
   "name": "python3"
  },
  "language_info": {
   "codemirror_mode": {
    "name": "ipython",
    "version": 3
   },
   "file_extension": ".py",
   "mimetype": "text/x-python",
   "name": "python",
   "nbconvert_exporter": "python",
   "pygments_lexer": "ipython3",
   "version": "3.11.9"
  }
 },
 "nbformat": 4,
 "nbformat_minor": 5
}
