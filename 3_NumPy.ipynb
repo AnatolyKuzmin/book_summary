{
 "cells": [
  {
   "cell_type": "markdown",
   "id": "47d51c8a-3a3a-4c26-8b8f-45996487246a",
   "metadata": {},
   "source": [
    "# 3. NumPy"
   ]
  },
  {
   "cell_type": "markdown",
   "id": "587e91b6-4f43-44d7-a91e-134a872530d9",
   "metadata": {
    "jp-MarkdownHeadingCollapsed": true
   },
   "source": [
    "## 3.1. Создание массивов NumPy"
   ]
  },
  {
   "cell_type": "markdown",
   "id": "8e8ab0d7-5de0-4cac-9dd8-a24f0dd15a70",
   "metadata": {},
   "source": [
    "NumPy — это библиотека Python для работы с многомерными массивами и математическими операциями.  \n",
    "✅ Быстрее списков Python  \n",
    "✅ Все элементы одного типа  \n",
    "✅ Используется в Pandas и scikit-learn  \n",
    "\n",
    "Основной объект — `ndarray`\n",
    "```python\n",
    "import numpy as np\n",
    "arr = np.array([1, 2, 3])  # Создаём массив из списка\n",
    "print(arr)  # [1 2 3]\n",
    "\n",
    "# Пример проверки типа\n",
    "print(arr.dtype)  # int64\n",
    "```"
   ]
  },
  {
   "cell_type": "markdown",
   "id": "2144b8e6-a7f0-4dda-8808-df6dab0586d9",
   "metadata": {},
   "source": [
    "Параметры создания массива  \n",
    "```python\n",
    "arr = np.array([[1, 2], [3, 4]], dtype=float, order='F')\n",
    "```\n",
    "- dtype — тип данных (например, int, float, bool).\n",
    "- order — порядок хранения в памяти:\n",
    "  - С-порядок (order='C'): данные хранятся построчно.\n",
    "  - F-порядок (order='F'): данные хранятся по столбцам.\n",
    "- ndmin — минимальное количество измерений.\n",
    "\n",
    "NumPy поддерживает разные типы:\n",
    "- Числовые: int32, float64, complex128\n",
    "- Строковые: string_, unicode_\n",
    "- Логические: bool_\n",
    "- Объекты Python: object_"
   ]
  },
  {
   "cell_type": "markdown",
   "id": "f63a13ed-8dba-43c9-88da-af0a6c536a5a",
   "metadata": {},
   "source": [
    "Специальные массивы  \n",
    "```python\n",
    "# Нулевой массив:\n",
    "zeros = np.zeros(3)  # [0. 0. 0.]\n",
    "\n",
    "# Массив из единиц:\n",
    "ones = np.ones((2, 2))  # [[1. 1.], [1. 1.]]\n",
    "\n",
    "# Единичная матрица:\n",
    "eye = np.eye(3)  # Матрица 3x3 с единицами на диагонали\n",
    "\n",
    "# Неинициализированный массив:\n",
    "empty = np.empty(2)  # Случайные значения (быстрое создание)\n",
    "```"
   ]
  },
  {
   "cell_type": "code",
   "execution_count": 1,
   "id": "df8ed644-6471-4340-81f0-8dd5ba4d6261",
   "metadata": {},
   "outputs": [
    {
     "name": "stdout",
     "output_type": "stream",
     "text": [
      " массив - [[1. 2.]\n",
      " [3. 4.]], тип - float32\n"
     ]
    }
   ],
   "source": [
    "import numpy as np\n",
    "arr = np.array([[1, 2], [3, 4]], dtype='float32')\n",
    "print(f\" массив - {arr}, тип - {arr.dtype}\")"
   ]
  },
  {
   "cell_type": "markdown",
   "id": "256b347d-5a5c-4829-b8b4-5cfe31e17ac5",
   "metadata": {},
   "source": [
    "## 3.2. Обращение к элементам массива"
   ]
  },
  {
   "cell_type": "markdown",
   "id": "85f3f3a3-89f0-4d0c-a81d-9d64edec3453",
   "metadata": {},
   "source": [
    "✅ Для одномерных массивов индексация как в списках.  \n",
    "✅ В многомерных массивах используйте запятые: `[строка, столбец]`.  \n",
    "✅ `:` выбирает все элементы вдоль оси.  \n",
    "✅ `.copy()` создаёт независимую копию  "
   ]
  },
  {
   "cell_type": "code",
   "execution_count": 2,
   "id": "e3abd410-008f-463f-b40f-15125a9c179f",
   "metadata": {},
   "outputs": [
    {
     "name": "stdout",
     "output_type": "stream",
     "text": [
      "8.0\n",
      "[1. 5.]\n",
      "[1. 4. 5. 9.]\n"
     ]
    }
   ],
   "source": [
    "import numpy as np\n",
    "a = np.array([1., 4., 5., 8.])\n",
    "\n",
    "# Доступ к элементам одномерного массива\n",
    "# Элемент с индексом 3\n",
    "print(a[3])\n",
    "print(a[::2])  # Каждый второй элемент\n",
    "\n",
    "# Изменение элемента\n",
    "a[3] = 9.\n",
    "print(a)"
   ]
  },
  {
   "cell_type": "code",
   "execution_count": 3,
   "id": "f25daea8-b7c4-40a1-ba0e-78f71b658b4e",
   "metadata": {},
   "outputs": [
    {
     "name": "stdout",
     "output_type": "stream",
     "text": [
      "2.0\n",
      "[4. 5. 6.]\n",
      "[3. 6.]\n"
     ]
    }
   ],
   "source": [
    "# Многомерные массивы (матрицы)\n",
    "matrix = np.array([[1, 2, 3],\n",
    "                   [4, 5, 6]], dtype=float)\n",
    "# Элемент в первой строке, втором столбце\n",
    "print(matrix[0, 1])\n",
    "print(matrix[1, :])  # Вторая строка\n",
    "print(matrix[:, 2])  # Третий столбец"
   ]
  },
  {
   "cell_type": "markdown",
   "id": "6ffa4323-f041-4376-82db-75e45a1a71ff",
   "metadata": {},
   "source": [
    "Прямое присваивание (=) создаёт ссылку, а не копию. Для копирования используйте .copy():"
   ]
  },
  {
   "cell_type": "code",
   "execution_count": 4,
   "id": "77249a7a-4e0e-436f-88db-6c93cbe874b7",
   "metadata": {},
   "outputs": [
    {
     "name": "stdout",
     "output_type": "stream",
     "text": [
      "True False\n",
      "[ True  True  True]\n"
     ]
    }
   ],
   "source": [
    "a = np.array([1, 2, 3], float)\n",
    "b = a       # Ссылка на тот же массив\n",
    "c = a.copy()  # Независимая копия\n",
    "\n",
    "print(a is b, a is c)\n",
    "print(a == c)"
   ]
  },
  {
   "cell_type": "markdown",
   "id": "a06ec34d-4591-4036-b574-d4db0baef184",
   "metadata": {},
   "source": [
    "## 3.3. Получение краткой информации о массиве"
   ]
  },
  {
   "cell_type": "markdown",
   "id": "9d331892-d229-4e97-b669-fb68fd5b119a",
   "metadata": {},
   "source": [
    "Основные свойства массивов\n",
    "\n",
    "| Свойство/Метод | Описание | Пример |\n",
    "| - | - | - |\n",
    "| `array.shape` | Размеры по осям | (2, 3) |\n",
    "| `array.size` | Общее число элементов | 6 |\n",
    "| `array.ndim` | Количество измерений | 2 |\n",
    "| `len(array)` | Длина по первой оси | 2 |\n",
    "| `array.dtype` | Тип данных | int64 |\n",
    "| `array.nbytes` | Память в байтах | 48 |\n",
    "| `value in array` | Проверка наличия значения | True/False |"
   ]
  },
  {
   "cell_type": "code",
   "execution_count": 5,
   "id": "1dafa8b8-e9db-4067-a300-4d00ea1ac6a1",
   "metadata": {},
   "outputs": [
    {
     "name": "stdout",
     "output_type": "stream",
     "text": [
      "shape - (2, 3)\n",
      "size - 6\n",
      "ndim - 2\n",
      "True\n"
     ]
    }
   ],
   "source": [
    "import numpy as np\n",
    "arr = np.array([[1, 2, 3], [4, 5, 6]])\n",
    "\n",
    "# размеры массива по каждому измерению в виде кортежа.\n",
    "print(f\"shape - {arr.shape}\")\n",
    "\n",
    "# общее число элементов в массиве.\n",
    "print(f\"size - {arr.size}\")\n",
    "\n",
    "# количество осей (измерений) массива.\n",
    "print(f\"ndim - {arr.ndim}\")\n",
    "\n",
    "# Проверяет, содержится ли значение в массиве.\n",
    "print(2 in arr) "
   ]
  },
  {
   "cell_type": "code",
   "execution_count": 6,
   "id": "5d402de9-c241-4e0c-9b06-3b7e22b9ea5e",
   "metadata": {},
   "outputs": [
    {
     "name": "stdout",
     "output_type": "stream",
     "text": [
      "8\n"
     ]
    }
   ],
   "source": [
    "# Проверка памяти\n",
    "float_arr = np.array([1.1, 2.2], dtype='float32')\n",
    "print(float_arr.nbytes)"
   ]
  },
  {
   "cell_type": "markdown",
   "id": "45368648-f948-446d-806d-e54b0243f476",
   "metadata": {},
   "source": [
    "Важные нюансы\n",
    "- `shape`, `size`, `ndim` — это свойства, а не методы (скобки не нужны).\n",
    "- `len()` работает только по первой оси, для общего числа элементов используйте `size`.\n",
    "- `in` проверяет значения, а не индексы."
   ]
  },
  {
   "cell_type": "markdown",
   "id": "429ac172-5e43-4123-a3ac-1837b04c9dab",
   "metadata": {},
   "source": [
    "## 3.4. Изменение формы массива60"
   ]
  },
  {
   "cell_type": "code",
   "execution_count": null,
   "id": "0f871f68-ff44-41ca-85e2-811608dda555",
   "metadata": {},
   "outputs": [],
   "source": []
  }
 ],
 "metadata": {
  "kernelspec": {
   "display_name": "Python 3 (ipykernel)",
   "language": "python",
   "name": "python3"
  },
  "language_info": {
   "codemirror_mode": {
    "name": "ipython",
    "version": 3
   },
   "file_extension": ".py",
   "mimetype": "text/x-python",
   "name": "python",
   "nbconvert_exporter": "python",
   "pygments_lexer": "ipython3",
   "version": "3.11.9"
  }
 },
 "nbformat": 4,
 "nbformat_minor": 5
}
