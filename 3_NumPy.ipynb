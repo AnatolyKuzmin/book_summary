{
 "cells": [
  {
   "cell_type": "markdown",
   "id": "47d51c8a-3a3a-4c26-8b8f-45996487246a",
   "metadata": {},
   "source": [
    "# 3. NumPy"
   ]
  },
  {
   "cell_type": "markdown",
   "id": "587e91b6-4f43-44d7-a91e-134a872530d9",
   "metadata": {},
   "source": [
    "## 3.1. Создание массивов NumPy"
   ]
  },
  {
   "cell_type": "markdown",
   "id": "8e8ab0d7-5de0-4cac-9dd8-a24f0dd15a70",
   "metadata": {},
   "source": [
    "NumPy — это библиотека Python для работы с многомерными массивами и математическими операциями.  \n",
    "✅ Быстрее списков Python  \n",
    "✅ Все элементы одного типа  \n",
    "✅ Используется в Pandas и scikit-learn  \n",
    "\n",
    "Основной объект — `ndarray`\n",
    "```python\n",
    "import numpy as np\n",
    "arr = np.array([1, 2, 3])  # Создаём массив из списка\n",
    "print(arr)  # [1 2 3]\n",
    "\n",
    "# Пример проверки типа\n",
    "print(arr.dtype)  # int64\n",
    "```"
   ]
  },
  {
   "cell_type": "markdown",
   "id": "2144b8e6-a7f0-4dda-8808-df6dab0586d9",
   "metadata": {},
   "source": [
    "Параметры создания массива  \n",
    "```python\n",
    "arr = np.array([[1, 2], [3, 4]], dtype=float, order='F')\n",
    "```\n",
    "- dtype — тип данных (например, int, float, bool).\n",
    "- order — порядок хранения в памяти:\n",
    "  - С-порядок (order='C'): данные хранятся построчно.\n",
    "  - F-порядок (order='F'): данные хранятся по столбцам.\n",
    "- ndmin — минимальное количество измерений.\n",
    "\n",
    "NumPy поддерживает разные типы:\n",
    "- Числовые: int32, float64, complex128\n",
    "- Строковые: string_, unicode_\n",
    "- Логические: bool_\n",
    "- Объекты Python: object_"
   ]
  },
  {
   "cell_type": "markdown",
   "id": "f63a13ed-8dba-43c9-88da-af0a6c536a5a",
   "metadata": {},
   "source": [
    "Специальные массивы  \n",
    "```python\n",
    "# Нулевой массив:\n",
    "zeros = np.zeros(3)  # [0. 0. 0.]\n",
    "\n",
    "# Массив из единиц:\n",
    "ones = np.ones((2, 2))  # [[1. 1.], [1. 1.]]\n",
    "\n",
    "# Единичная матрица:\n",
    "eye = np.eye(3)  # Матрица 3x3 с единицами на диагонали\n",
    "\n",
    "# Неинициализированный массив:\n",
    "empty = np.empty(2)  # Случайные значения (быстрое создание)\n",
    "```"
   ]
  },
  {
   "cell_type": "code",
   "execution_count": 5,
   "id": "df8ed644-6471-4340-81f0-8dd5ba4d6261",
   "metadata": {},
   "outputs": [
    {
     "name": "stdout",
     "output_type": "stream",
     "text": [
      " массив - [[1. 2.]\n",
      " [3. 4.]], тип - float32\n"
     ]
    }
   ],
   "source": [
    "import numpy as np\n",
    "arr = np.array([[1, 2], [3, 4]], dtype='float32')\n",
    "print(f\" массив - {arr}, тип - {arr.dtype}\")"
   ]
  },
  {
   "cell_type": "markdown",
   "id": "256b347d-5a5c-4829-b8b4-5cfe31e17ac5",
   "metadata": {},
   "source": [
    "## 3.2. Обращение к элементам массива"
   ]
  },
  {
   "cell_type": "code",
   "execution_count": null,
   "id": "e3abd410-008f-463f-b40f-15125a9c179f",
   "metadata": {},
   "outputs": [],
   "source": []
  },
  {
   "cell_type": "code",
   "execution_count": null,
   "id": "f25daea8-b7c4-40a1-ba0e-78f71b658b4e",
   "metadata": {},
   "outputs": [],
   "source": []
  }
 ],
 "metadata": {
  "kernelspec": {
   "display_name": "Python 3 (ipykernel)",
   "language": "python",
   "name": "python3"
  },
  "language_info": {
   "codemirror_mode": {
    "name": "ipython",
    "version": 3
   },
   "file_extension": ".py",
   "mimetype": "text/x-python",
   "name": "python",
   "nbconvert_exporter": "python",
   "pygments_lexer": "ipython3",
   "version": "3.11.9"
  }
 },
 "nbformat": 4,
 "nbformat_minor": 5
}
