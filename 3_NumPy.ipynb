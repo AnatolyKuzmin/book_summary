{
 "cells": [
  {
   "cell_type": "markdown",
   "id": "47d51c8a-3a3a-4c26-8b8f-45996487246a",
   "metadata": {},
   "source": [
    "# 3. NumPy"
   ]
  },
  {
   "cell_type": "markdown",
   "id": "587e91b6-4f43-44d7-a91e-134a872530d9",
   "metadata": {
    "jp-MarkdownHeadingCollapsed": true
   },
   "source": [
    "## 3.1. Создание массивов NumPy"
   ]
  },
  {
   "cell_type": "markdown",
   "id": "8e8ab0d7-5de0-4cac-9dd8-a24f0dd15a70",
   "metadata": {},
   "source": [
    "NumPy — это библиотека Python для работы с многомерными массивами и математическими операциями.  \n",
    "✅ Быстрее списков Python  \n",
    "✅ Все элементы одного типа  \n",
    "✅ Используется в Pandas и scikit-learn  \n",
    "\n",
    "Основной объект — `ndarray`\n",
    "```python\n",
    "import numpy as np\n",
    "arr = np.array([1, 2, 3])  # Создаём массив из списка\n",
    "print(arr)  # [1 2 3]\n",
    "\n",
    "# Пример проверки типа\n",
    "print(arr.dtype)  # int64\n",
    "```"
   ]
  },
  {
   "cell_type": "markdown",
   "id": "2144b8e6-a7f0-4dda-8808-df6dab0586d9",
   "metadata": {},
   "source": [
    "Параметры создания массива  \n",
    "```python\n",
    "arr = np.array([[1, 2], [3, 4]], dtype=float, order='F')\n",
    "```\n",
    "- dtype — тип данных (например, int, float, bool).\n",
    "- order — порядок хранения в памяти:\n",
    "  - С-порядок (order='C'): данные хранятся построчно.\n",
    "  - F-порядок (order='F'): данные хранятся по столбцам.\n",
    "- ndmin — минимальное количество измерений.\n",
    "\n",
    "NumPy поддерживает разные типы:\n",
    "- Числовые: int32, float64, complex128\n",
    "- Строковые: string_, unicode_\n",
    "- Логические: bool_\n",
    "- Объекты Python: object_"
   ]
  },
  {
   "cell_type": "markdown",
   "id": "f63a13ed-8dba-43c9-88da-af0a6c536a5a",
   "metadata": {},
   "source": [
    "Специальные массивы  \n",
    "```python\n",
    "# Нулевой массив:\n",
    "zeros = np.zeros(3)  # [0. 0. 0.]\n",
    "\n",
    "# Массив из единиц:\n",
    "ones = np.ones((2, 2))  # [[1. 1.], [1. 1.]]\n",
    "\n",
    "# Единичная матрица:\n",
    "eye = np.eye(3)  # Матрица 3x3 с единицами на диагонали\n",
    "\n",
    "# Неинициализированный массив:\n",
    "empty = np.empty(2)  # Случайные значения (быстрое создание)\n",
    "```"
   ]
  },
  {
   "cell_type": "code",
   "execution_count": 1,
   "id": "df8ed644-6471-4340-81f0-8dd5ba4d6261",
   "metadata": {},
   "outputs": [
    {
     "name": "stdout",
     "output_type": "stream",
     "text": [
      " массив - [[1. 2.]\n",
      " [3. 4.]], тип - float32\n"
     ]
    }
   ],
   "source": [
    "import numpy as np\n",
    "arr = np.array([[1, 2], [3, 4]], dtype='float32')\n",
    "print(f\" массив - {arr}, тип - {arr.dtype}\")"
   ]
  },
  {
   "cell_type": "markdown",
   "id": "256b347d-5a5c-4829-b8b4-5cfe31e17ac5",
   "metadata": {},
   "source": [
    "## 3.2. Обращение к элементам массива"
   ]
  },
  {
   "cell_type": "markdown",
   "id": "85f3f3a3-89f0-4d0c-a81d-9d64edec3453",
   "metadata": {},
   "source": [
    "✅ Для одномерных массивов индексация как в списках.  \n",
    "✅ В многомерных массивах используйте запятые: `[строка, столбец]`.  \n",
    "✅ `:` выбирает все элементы вдоль оси.  \n",
    "✅ `.copy()` создаёт независимую копию  "
   ]
  },
  {
   "cell_type": "code",
   "execution_count": 2,
   "id": "e3abd410-008f-463f-b40f-15125a9c179f",
   "metadata": {},
   "outputs": [
    {
     "name": "stdout",
     "output_type": "stream",
     "text": [
      "8.0\n",
      "[1. 5.]\n",
      "[1. 4. 5. 9.]\n"
     ]
    }
   ],
   "source": [
    "import numpy as np\n",
    "a = np.array([1., 4., 5., 8.])\n",
    "\n",
    "# Доступ к элементам одномерного массива\n",
    "# Элемент с индексом 3\n",
    "print(a[3])\n",
    "print(a[::2])  # Каждый второй элемент\n",
    "\n",
    "# Изменение элемента\n",
    "a[3] = 9.\n",
    "print(a)"
   ]
  },
  {
   "cell_type": "code",
   "execution_count": 3,
   "id": "f25daea8-b7c4-40a1-ba0e-78f71b658b4e",
   "metadata": {},
   "outputs": [
    {
     "name": "stdout",
     "output_type": "stream",
     "text": [
      "2.0\n",
      "[4. 5. 6.]\n",
      "[3. 6.]\n"
     ]
    }
   ],
   "source": [
    "# Многомерные массивы (матрицы)\n",
    "matrix = np.array([[1, 2, 3],\n",
    "                   [4, 5, 6]], dtype=float)\n",
    "# Элемент в первой строке, втором столбце\n",
    "print(matrix[0, 1])\n",
    "print(matrix[1, :])  # Вторая строка\n",
    "print(matrix[:, 2])  # Третий столбец"
   ]
  },
  {
   "cell_type": "markdown",
   "id": "6ffa4323-f041-4376-82db-75e45a1a71ff",
   "metadata": {},
   "source": [
    "Прямое присваивание (=) создаёт ссылку, а не копию. Для копирования используйте .copy():"
   ]
  },
  {
   "cell_type": "code",
   "execution_count": 4,
   "id": "77249a7a-4e0e-436f-88db-6c93cbe874b7",
   "metadata": {},
   "outputs": [
    {
     "name": "stdout",
     "output_type": "stream",
     "text": [
      "True False\n",
      "[ True  True  True]\n"
     ]
    }
   ],
   "source": [
    "a = np.array([1, 2, 3], float)\n",
    "b = a       # Ссылка на тот же массив\n",
    "c = a.copy()  # Независимая копия\n",
    "\n",
    "print(a is b, a is c)\n",
    "print(a == c)"
   ]
  },
  {
   "cell_type": "markdown",
   "id": "a06ec34d-4591-4036-b574-d4db0baef184",
   "metadata": {},
   "source": [
    "## 3.3. Получение краткой информации о массиве"
   ]
  },
  {
   "cell_type": "markdown",
   "id": "9d331892-d229-4e97-b669-fb68fd5b119a",
   "metadata": {},
   "source": [
    "Основные свойства массивов\n",
    "\n",
    "| Свойство/Метод | Описание | Пример |\n",
    "| - | - | - |\n",
    "| `array.shape` | Размеры по осям | (2, 3) |\n",
    "| `array.size` | Общее число элементов | 6 |\n",
    "| `array.ndim` | Количество измерений | 2 |\n",
    "| `len(array)` | Длина по первой оси | 2 |\n",
    "| `array.dtype` | Тип данных | int64 |\n",
    "| `array.nbytes` | Память в байтах | 48 |\n",
    "| `value in array` | Проверка наличия значения | True/False |"
   ]
  },
  {
   "cell_type": "code",
   "execution_count": 5,
   "id": "1dafa8b8-e9db-4067-a300-4d00ea1ac6a1",
   "metadata": {},
   "outputs": [
    {
     "name": "stdout",
     "output_type": "stream",
     "text": [
      "shape - (2, 3)\n",
      "size - 6\n",
      "ndim - 2\n",
      "True\n"
     ]
    }
   ],
   "source": [
    "import numpy as np\n",
    "arr = np.array([[1, 2, 3], [4, 5, 6]])\n",
    "\n",
    "# размеры массива по каждому измерению в виде кортежа.\n",
    "print(f\"shape - {arr.shape}\")\n",
    "\n",
    "# общее число элементов в массиве.\n",
    "print(f\"size - {arr.size}\")\n",
    "\n",
    "# количество осей (измерений) массива.\n",
    "print(f\"ndim - {arr.ndim}\")\n",
    "\n",
    "# Проверяет, содержится ли значение в массиве.\n",
    "print(2 in arr) "
   ]
  },
  {
   "cell_type": "code",
   "execution_count": 6,
   "id": "5d402de9-c241-4e0c-9b06-3b7e22b9ea5e",
   "metadata": {},
   "outputs": [
    {
     "name": "stdout",
     "output_type": "stream",
     "text": [
      "8\n"
     ]
    }
   ],
   "source": [
    "# Проверка памяти\n",
    "float_arr = np.array([1.1, 2.2], dtype='float32')\n",
    "print(float_arr.nbytes)"
   ]
  },
  {
   "cell_type": "markdown",
   "id": "45368648-f948-446d-806d-e54b0243f476",
   "metadata": {},
   "source": [
    "Важные нюансы\n",
    "- `shape`, `size`, `ndim` — это свойства, а не методы (скобки не нужны).\n",
    "- `len()` работает только по первой оси, для общего числа элементов используйте `size`.\n",
    "- `in` проверяет значения, а не индексы."
   ]
  },
  {
   "cell_type": "markdown",
   "id": "429ac172-5e43-4123-a3ac-1837b04c9dab",
   "metadata": {},
   "source": [
    "## 3.4. Изменение формы массива"
   ]
  },
  {
   "cell_type": "markdown",
   "id": "2fd68939-de4e-4103-abe7-5ad8673831bd",
   "metadata": {},
   "source": [
    "`reshape` превращает массив в новую форму без изменения данных.  \n",
    "✅ Сохраняет общее количество элементов  \n",
    "✅ Можно использовать функцию `np.reshape()` или метод `.reshape()`"
   ]
  },
  {
   "cell_type": "code",
   "execution_count": 7,
   "id": "7d06593b-d401-4994-bfe3-1dbef5ff3915",
   "metadata": {},
   "outputs": [
    {
     "name": "stdout",
     "output_type": "stream",
     "text": [
      "[[0. 1.]\n",
      " [2. 3.]\n",
      " [4. 5.]\n",
      " [6. 7.]\n",
      " [8. 9.]]\n",
      "[0. 1. 2. 3. 4. 5. 6. 7. 8. 9.]\n"
     ]
    }
   ],
   "source": [
    "import numpy as np\n",
    "\n",
    "# Создаем одномерный массив\n",
    "arr = np.array([0, 1, 2, 3, 4, 5, 6, 7, 8, 9], dtype=float)\n",
    "\n",
    "# Меняем форму на 5x2\n",
    "arr_2d = arr.reshape((5, 2))\n",
    "print(arr_2d)\n",
    "\n",
    "# Можно вернуть обратно в 1D\n",
    "arr_flat = arr_2d.reshape(10)\n",
    "print(arr_flat)"
   ]
  },
  {
   "cell_type": "markdown",
   "id": "ae1e12b8-e5f5-4551-93ff-59268c5a0083",
   "metadata": {},
   "source": [
    "Меняет строки и столбцы местами - Транспонирование (T или transpose())"
   ]
  },
  {
   "cell_type": "code",
   "execution_count": 8,
   "id": "ea7f15b6-f4b2-4211-93d6-11ed8691fe4c",
   "metadata": {},
   "outputs": [
    {
     "name": "stdout",
     "output_type": "stream",
     "text": [
      "[[0 1 2]\n",
      " [3 4 5]]\n",
      "\n",
      "[[0 3]\n",
      " [1 4]\n",
      " [2 5]]\n"
     ]
    }
   ],
   "source": [
    "matrix = np.array([[0, 1, 2], [3, 4, 5]])\n",
    "matrix_T = matrix.T\n",
    "\n",
    "print(matrix, matrix_T, sep='\\n\\n')"
   ]
  },
  {
   "cell_type": "code",
   "execution_count": 9,
   "id": "e5f9c646-7b43-4536-9902-e7da6a45e108",
   "metadata": {},
   "outputs": [],
   "source": [
    "a = np.array([[1, 2], [3, 4]])\n",
    "\n",
    "# flatten (копия) создает копию данных (безопасно, но медленнее)\n",
    "flat = a.flatten()\n",
    "flat[0] = 100  # Исходный массив НЕ изменится\n",
    "\n",
    "# ravel (ссылка)  возвращает ссылку (быстрее, но изменения влияют на исходный массив)\n",
    "raveled = a.ravel()\n",
    "raveled[0] = 100  # Изменится и исходный массив"
   ]
  },
  {
   "cell_type": "markdown",
   "id": "dc4e0dba-2a9d-436a-999d-44964e3bc7d0",
   "metadata": {},
   "source": [
    "## 3.5. Конкатенация массивов"
   ]
  },
  {
   "cell_type": "markdown",
   "id": "a5204fe5-3678-42c1-bca9-c54427ffc6db",
   "metadata": {},
   "source": [
    "`np.concatenate()` - Объединяет массивы вдоль указанной оси(`axis=0` — по умолчанию)"
   ]
  },
  {
   "cell_type": "code",
   "execution_count": 10,
   "id": "9c485a9e-8951-4ed7-855d-f7b499c9fc06",
   "metadata": {},
   "outputs": [
    {
     "data": {
      "text/plain": [
       "array([[1, 2, 5],\n",
       "       [3, 4, 6]])"
      ]
     },
     "execution_count": 10,
     "metadata": {},
     "output_type": "execute_result"
    }
   ],
   "source": [
    "a = np.array([[1, 2], [3, 4]])\n",
    "b = np.array([[5, 6]])\n",
    "np.concatenate((a, b.T), axis=1)"
   ]
  },
  {
   "cell_type": "code",
   "execution_count": 11,
   "id": "f346280e-fda6-442b-bcc2-bd8131b8f810",
   "metadata": {},
   "outputs": [
    {
     "name": "stdout",
     "output_type": "stream",
     "text": [
      "[[1 2 3]\n",
      " [4 5 6]]\n",
      "---\n",
      "[[1 2 3]\n",
      " [4 5 6]]\n",
      "---\n",
      "[1 2 3 4 5 6]\n",
      "---\n",
      "[[1 4]\n",
      " [2 5]\n",
      " [3 6]]\n"
     ]
    }
   ],
   "source": [
    "a = np.array([1, 2, 3])\n",
    "b = np.array([4, 5, 6])\n",
    "\n",
    "# Вертикальное объединение (vstack/row_stack)\n",
    "print(np.vstack((a, b)))\n",
    "print(\"---\")\n",
    "# или\n",
    "print(np.concatenate((a.reshape(1,3), b.reshape(1,3)), axis=0))\n",
    "print(\"---\")\n",
    "\n",
    "# Горизонтальное объединение (hstack)\n",
    "print(np.hstack((a, b)))\n",
    "print(\"---\")\n",
    "\n",
    "# Объединение в столбцы (column_stack)\n",
    "print(np.column_stack((a, b)))"
   ]
  },
  {
   "cell_type": "markdown",
   "id": "92a1a591-f901-4363-b6c1-399cac6e6d2d",
   "metadata": {},
   "source": [
    "⚠️ Важные нюансы\n",
    "1. Для axis=0 массивы должны иметь одинаковое количество столбцов. Для axis=1 — одинаковое количество строк\n",
    "2. Конкатенация всегда создает новый массив.\n",
    "3. Для частых операций лучше использовать np.empty() с последующим заполнением."
   ]
  },
  {
   "cell_type": "code",
   "execution_count": 12,
   "id": "22ee42d7-eb51-4c93-81b4-d83f5db1bac4",
   "metadata": {},
   "outputs": [
    {
     "name": "stdout",
     "output_type": "stream",
     "text": [
      "[[0.13126116 0.25193781 0.11214494 ... 0.40357608 0.86744503 0.7667416 ]\n",
      " [0.68301249 0.61078901 0.74256669 ... 0.26176182 0.40556872 0.95447411]\n",
      " [0.69934713 0.23882611 0.8740927  ... 0.09256812 0.94534191 0.79735483]\n",
      " ...\n",
      " [0.39245754 0.61428175 0.28062775 ... 0.39881711 0.29337322 0.04541298]\n",
      " [0.57430277 0.32782424 0.70026746 ... 0.01088816 0.0258965  0.98310276]\n",
      " [0.85428023 0.91831    0.01115886 ... 0.27494993 0.20232654 0.00336878]]\n"
     ]
    }
   ],
   "source": [
    "# Два изображения 100x100 пикселей\n",
    "img1 = np.random.rand(100, 100)\n",
    "img2 = np.random.rand(100, 100)\n",
    "\n",
    "# Вертикальный коллаж\n",
    "collage = np.vstack((img1, img2))  # 200x100\n",
    "\n",
    "print(collage)"
   ]
  },
  {
   "cell_type": "markdown",
   "id": "4a1f9536-822f-40ac-8e31-95129cbd1c57",
   "metadata": {},
   "source": [
    "## 3.6. Функции математических операций, знакомство с правилами транслирования"
   ]
  },
  {
   "cell_type": "code",
   "execution_count": 13,
   "id": "e3476b0c-334a-45c7-b306-3733aa8a9ec8",
   "metadata": {},
   "outputs": [
    {
     "name": "stdout",
     "output_type": "stream",
     "text": [
      "сложение - [6. 4. 9.]\n",
      "умножение - [ 5.  4. 18.]\n",
      "возведение в степень - [  5.   4. 216.]\n",
      "\n",
      "[[ 2  0]\n",
      " [ 3 12]]\n"
     ]
    }
   ],
   "source": [
    "# Все арифметические операции выполняются поэлементно\n",
    "a = np.array([1, 2, 3], float)\n",
    "b = np.array([5, 2, 6], float)\n",
    "\n",
    "print(f\"сложение - {a + b}\")\n",
    "print(f\"умножение - {a * b}\")\n",
    "print(f\"возведение в степень - {b ** a}\")\n",
    "print()\n",
    "\n",
    "# Для матриц умножение остается поэлементным (не матричным!)\n",
    "A = np.array([[1, 2], [3, 4]])\n",
    "B = np.array([[2, 0], [1, 3]])\n",
    "print(A * B)"
   ]
  },
  {
   "cell_type": "markdown",
   "id": "46dbd810-2599-428d-b9c6-4968687fbd08",
   "metadata": {},
   "source": [
    "NumPy автоматически \"растягивает\" массивы разной формы при операциях.\n",
    "- Добавляет единицы слева к меньшей размерности\n",
    "- Растягивает размерности, равные 1\n",
    "- Если размеры не совпадают и ни один не равен 1 → ошибкa"
   ]
  },
  {
   "cell_type": "code",
   "execution_count": 14,
   "id": "b2b4f1e7-9e0e-49de-b3eb-3d614c0cc276",
   "metadata": {},
   "outputs": [
    {
     "name": "stdout",
     "output_type": "stream",
     "text": [
      "[[0 5]\n",
      " [2 7]\n",
      " [4 9]]\n"
     ]
    }
   ],
   "source": [
    "# Матрица 3x2 + вектор длины 2\n",
    "# b автоматически превращается в [[-1,3], [-1,3], [-1,3]]\n",
    "A = np.array([[1, 2], [3, 4], [5, 6]])\n",
    "b = np.array([-1, 3])\n",
    "print(A + b) "
   ]
  },
  {
   "cell_type": "markdown",
   "id": "4165a4e3-885b-4937-a9b2-fd33b3aed421",
   "metadata": {},
   "source": [
    "NumPy предоставляет векторные версии математических функций\n",
    "```python\n",
    "a = np.array([1, 4, 9])\n",
    "print(np.sqrt(a))  # [1. 2. 3.] - квадратный корень\n",
    "print(np.exp(a))   # [2.718, 54.598, 8103.084] - экспонента\n",
    "\n",
    "# Округление\n",
    "a = np.array([1.1, 1.5, 1.9])\n",
    "print(np.rint(a))  # [1. 2. 2.] - к ближайшему\n",
    "print(np.ceil(a))  # [2. 2. 2.] - вверх\n",
    "print(np.floor(a)) # [1. 1. 1.] - вниз\n",
    "\n",
    "# Округление\n",
    "print(np.pi)  # 3.141592653589793\n",
    "print(np.e)   # 2.718281828459045\n",
    "\n",
    "# Статистические операции\n",
    "a = np.array([2, 1, 9])\n",
    "print(a.sum())   # 12 - сумма\n",
    "print(a.mean())  # 4.0 - среднее\n",
    "print(a.std())   # 3.559 - стандартное отклонение\n",
    "\n",
    "# По осям (для матриц)\n",
    "A = np.array([[0, 2], [3, -1], [3, 5]])\n",
    "print(A.mean(axis=0))  # [2. 2.] - по столбцам\n",
    "print(A.mean(axis=1))  # [1. 1. 4.] - по строкам\n",
    "\n",
    "# Индексы экстремумов\n",
    "print(np.argmin(a))  # 1 (индекс минимального)\n",
    "print(np.argmax(a))  # 2 (индекс максимального)\n",
    "```"
   ]
  },
  {
   "cell_type": "markdown",
   "id": "52efc3d2-0758-4f54-940b-72c2854d3310",
   "metadata": {},
   "source": [
    "## 3.7. Обработка пропусков"
   ]
  },
  {
   "cell_type": "markdown",
   "id": "e40812a6-adcc-4eb8-a817-452af9d20567",
   "metadata": {},
   "source": [
    "В NumPy пропущенные значения обозначаются как np.nan (Not a Number).\n",
    "\n",
    "Специальные функции с префиксом nan автоматически пропускают NaN\n",
    "```python\n",
    "import numpy as np\n",
    "\n",
    "data = np.array([[np.nan, 2, 4], \n",
    "                 [9, 2, np.nan]], dtype=float)\n",
    "\n",
    "print(np.nanmean(data))       # 4.25 (среднее)\n",
    "print(np.nanmedian(data))     # 3.0 (медиана)\n",
    "print(np.nansum(data))        # 17.0 (сумма)\n",
    "\n",
    "print(np.nanmean(data, axis=0))  # [9. 2. 4.] (по столбцам)\n",
    "print(np.nanmean(data, axis=1))  # [3. 5.5] (по строкам)\n",
    "```"
   ]
  },
  {
   "cell_type": "markdown",
   "id": "a1985e8f-f947-44fd-84f6-14976acfc799",
   "metadata": {},
   "source": [
    "`np.isnan()` — поиск пропусков (возвращает булев массив)  \n",
    "`np.count_nonzero(np.isnan(data))` — подсчет пропусков"
   ]
  },
  {
   "cell_type": "markdown",
   "id": "b1918f98-b315-43fc-8952-8596f31ac36b",
   "metadata": {},
   "source": [
    "Замена пропущенных значений"
   ]
  },
  {
   "cell_type": "code",
   "execution_count": 11,
   "id": "365b540a-3a25-4387-b0f2-f106913a7135",
   "metadata": {},
   "outputs": [
    {
     "name": "stdout",
     "output_type": "stream",
     "text": [
      "Матрица с пустыми \n",
      " [[nan  2.  4.]\n",
      " [ 9.  2. nan]]\n",
      "\n",
      "Единое значение для всех пропусков \n",
      " [[0. 2. 4.]\n",
      " [9. 2. 0.]]\n",
      "\n",
      "Разные значения по столбцам/строкам \n",
      " [[5. 2. 4.]\n",
      " [9. 2. 7.]]\n",
      "\n",
      "Заполнение статистиками \n",
      " [[9. 2. 4.]\n",
      " [9. 2. 4.]]\n"
     ]
    }
   ],
   "source": [
    "data = np.array([[np.nan, 2, 4], \n",
    "                 [9, 2, np.nan]], dtype=float)\n",
    "print(f'Матрица с пустыми \\n {data}')\n",
    "print()\n",
    "\n",
    "# Вариант 1: Единое значение для всех пропусков\n",
    "filled_data = np.nan_to_num(data, nan=0)  # Замена на 0\n",
    "print(f'Единое значение для всех пропусков \\n {filled_data}')\n",
    "print()\n",
    "\n",
    "# Вариант 2: Разные значения по столбцам/строкам\n",
    "col_replace = {0: 5, 1: 6, 2: 7}\n",
    "for col in range(data.shape[1]):\n",
    "    data[:, col] = np.nan_to_num(data[:, col], nan=col_replace[col])\n",
    "print(f'Разные значения по столбцам/строкам \\n {data}')\n",
    "print()\n",
    "\n",
    "data = np.array([[np.nan, 2, 4], \n",
    "                 [9, 2, np.nan]], dtype=float)\n",
    "\n",
    "# Вариант 3: Заполнение статистиками\n",
    "col_means = np.nanmean(data, axis=0)  # Средние по столбцам\n",
    "for col in range(data.shape[1]):\n",
    "    data[:, col] = np.nan_to_num(data[:, col], nan=col_means[col])\n",
    "print(f'Заполнение статистиками \\n {data}')"
   ]
  },
  {
   "cell_type": "markdown",
   "id": "d5a34a34-b05c-47fe-bdef-ca1e5ce70281",
   "metadata": {},
   "source": [
    "```Python\n",
    "# Удаление строк с пропусками\n",
    "clean_data = data[~np.isnan(data).any(axis=1)]\n",
    "```"
   ]
  },
  {
   "cell_type": "markdown",
   "id": "e20361f6-9322-4624-9605-8d55ded70e15",
   "metadata": {},
   "source": [
    "## 3.8. Функция np.linspace()"
   ]
  },
  {
   "cell_type": "code",
   "execution_count": null,
   "id": "7c846723-d1c3-438f-a84d-61411b6d7ca9",
   "metadata": {},
   "outputs": [],
   "source": []
  },
  {
   "cell_type": "code",
   "execution_count": null,
   "id": "b89bbed6-d940-4d85-a34b-753b87251a8d",
   "metadata": {},
   "outputs": [],
   "source": []
  },
  {
   "cell_type": "code",
   "execution_count": null,
   "id": "c92a251d-0d61-4b10-8de6-14c1c47de2d8",
   "metadata": {},
   "outputs": [],
   "source": []
  },
  {
   "cell_type": "code",
   "execution_count": null,
   "id": "7da7d01c-0231-411d-a384-008e482711fb",
   "metadata": {},
   "outputs": [],
   "source": []
  },
  {
   "cell_type": "code",
   "execution_count": null,
   "id": "29dfac9f-7e17-49f9-be79-e7fd6dc5010c",
   "metadata": {},
   "outputs": [],
   "source": []
  },
  {
   "cell_type": "code",
   "execution_count": null,
   "id": "cf9aa0cd-166c-471d-8707-86e53c6726bc",
   "metadata": {},
   "outputs": [],
   "source": []
  },
  {
   "cell_type": "code",
   "execution_count": null,
   "id": "f1093151-1ee0-4fd7-9260-19e88e614d05",
   "metadata": {},
   "outputs": [],
   "source": []
  },
  {
   "cell_type": "code",
   "execution_count": null,
   "id": "1dd624f4-1d5c-4f99-9a97-0ad23c9488c3",
   "metadata": {},
   "outputs": [],
   "source": []
  }
 ],
 "metadata": {
  "kernelspec": {
   "display_name": "Python 3 (ipykernel)",
   "language": "python",
   "name": "python3"
  },
  "language_info": {
   "codemirror_mode": {
    "name": "ipython",
    "version": 3
   },
   "file_extension": ".py",
   "mimetype": "text/x-python",
   "name": "python",
   "nbconvert_exporter": "python",
   "pygments_lexer": "ipython3",
   "version": "3.11.9"
  }
 },
 "nbformat": 4,
 "nbformat_minor": 5
}
