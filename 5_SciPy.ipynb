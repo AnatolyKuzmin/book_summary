{
 "cells": [
  {
   "cell_type": "markdown",
   "id": "6bab7709-dc64-4f7f-a469-fea3464ae4d2",
   "metadata": {},
   "source": [
    "# 5. SciPy"
   ]
  },
  {
   "cell_type": "markdown",
   "id": "a49880a7-ccd3-4ac9-a931-974208add1a0",
   "metadata": {},
   "source": [
    "SciPy — это библиотека Python для научных вычислений, которая предоставляет инструменты для статистического анализа, включая проверку гипотез. Рассмотрим два примера: t-критерий Стьюдента для зависимых выборок и критерий хи-квадрат Пирсона для таблиц сопряженности."
   ]
  },
  {
   "cell_type": "markdown",
   "id": "892e3770-aeab-4b78-9718-70cb84ae65d1",
   "metadata": {},
   "source": [
    "## 1. t-критерий Стьюдента для зависимых выборок"
   ]
  },
  {
   "cell_type": "markdown",
   "id": "c6499aaf-7577-4f84-b813-af4ca4042182",
   "metadata": {},
   "source": [
    "## 2. Критерий хи-квадрат Пирсона"
   ]
  },
  {
   "cell_type": "code",
   "execution_count": null,
   "id": "b21f2574-e0c2-4111-b343-406df9eb0a94",
   "metadata": {},
   "outputs": [],
   "source": []
  }
 ],
 "metadata": {
  "kernelspec": {
   "display_name": "Python 3 (ipykernel)",
   "language": "python",
   "name": "python3"
  },
  "language_info": {
   "codemirror_mode": {
    "name": "ipython",
    "version": 3
   },
   "file_extension": ".py",
   "mimetype": "text/x-python",
   "name": "python",
   "nbconvert_exporter": "python",
   "pygments_lexer": "ipython3",
   "version": "3.11.9"
  }
 },
 "nbformat": 4,
 "nbformat_minor": 5
}
