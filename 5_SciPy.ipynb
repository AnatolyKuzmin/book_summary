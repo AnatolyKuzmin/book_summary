{
 "cells": [
  {
   "cell_type": "markdown",
   "id": "6bab7709-dc64-4f7f-a469-fea3464ae4d2",
   "metadata": {},
   "source": [
    "# 5. SciPy"
   ]
  },
  {
   "cell_type": "markdown",
   "id": "a49880a7-ccd3-4ac9-a931-974208add1a0",
   "metadata": {},
   "source": [
    "SciPy — это библиотека Python для научных вычислений, которая предоставляет инструменты для статистического анализа, включая проверку гипотез. Рассмотрим два примера: t-критерий Стьюдента для зависимых выборок и критерий хи-квадрат Пирсона для таблиц сопряженности."
   ]
  },
  {
   "cell_type": "markdown",
   "id": "892e3770-aeab-4b78-9718-70cb84ae65d1",
   "metadata": {},
   "source": [
    "## 1. t-критерий Стьюдента для зависимых выборок"
   ]
  },
  {
   "cell_type": "markdown",
   "id": "a3879951-9b3b-4aec-86f1-d2b35df58ce5",
   "metadata": {},
   "source": [
    "Пример: Эффективность препарата\n",
    "\n",
    "Задача:  \n",
    "Проверить, снижает ли новый препарат уровень глюкозы в крови у пациентов с диабетом. Измерения проведены до и после приема препарата (зависимые выборки).\n",
    "\n",
    "Шаги:  \n",
    "1. Формулируем гипотезы:\n",
    "- H0: Средний уровень глюкозы до и после приема препарата не отличается.\n",
    "- H1: Средний уровень глюкозы различается.\n",
    "2. Проверяем нормальность данных: Используем skew() (скошенность) и kurtosis() (эксцесс). Значения близкие к 0 указывают на нормальность.\n",
    "```python\n",
    "print('Скос до:', data['before'].skew())  # 0.91 (допустимо)\n",
    "print('Эксцесс до:', data['before'].kurtosis())  # -0.45 (допустимо)\n",
    "```\n",
    "3. Вычисляем t-критерий вручную:\n",
    "4. Сравниваем с критическим значением:\n",
    "5. Автоматический расчет через SciPy:"
   ]
  },
  {
   "cell_type": "code",
   "execution_count": null,
   "id": "a985b351-4ed6-4c22-b55b-ad24c54716af",
   "metadata": {},
   "outputs": [],
   "source": []
  },
  {
   "cell_type": "code",
   "execution_count": null,
   "id": "cedfbb44-759c-4edc-ada4-3d9a03138a4d",
   "metadata": {},
   "outputs": [],
   "source": []
  },
  {
   "cell_type": "code",
   "execution_count": null,
   "id": "0ec7bc29-60ed-4685-9c79-326d18194738",
   "metadata": {},
   "outputs": [],
   "source": []
  },
  {
   "cell_type": "code",
   "execution_count": null,
   "id": "08a4ecb2-6340-4307-8241-3942ee1a974f",
   "metadata": {},
   "outputs": [],
   "source": []
  },
  {
   "cell_type": "code",
   "execution_count": null,
   "id": "9c444f08-8bbb-4d7e-91b9-6ebf3f0a05cd",
   "metadata": {},
   "outputs": [],
   "source": []
  },
  {
   "cell_type": "code",
   "execution_count": null,
   "id": "e605c4e6-52c7-4e21-adf1-4f3bfe09397b",
   "metadata": {},
   "outputs": [],
   "source": []
  },
  {
   "cell_type": "code",
   "execution_count": null,
   "id": "3495841c-f530-46d5-8064-58a12ee85c04",
   "metadata": {},
   "outputs": [],
   "source": []
  },
  {
   "cell_type": "markdown",
   "id": "c6499aaf-7577-4f84-b813-af4ca4042182",
   "metadata": {},
   "source": [
    "## 2. Критерий хи-квадрат Пирсона"
   ]
  },
  {
   "cell_type": "code",
   "execution_count": null,
   "id": "b21f2574-e0c2-4111-b343-406df9eb0a94",
   "metadata": {},
   "outputs": [],
   "source": []
  }
 ],
 "metadata": {
  "kernelspec": {
   "display_name": "Python 3 (ipykernel)",
   "language": "python",
   "name": "python3"
  },
  "language_info": {
   "codemirror_mode": {
    "name": "ipython",
    "version": 3
   },
   "file_extension": ".py",
   "mimetype": "text/x-python",
   "name": "python",
   "nbconvert_exporter": "python",
   "pygments_lexer": "ipython3",
   "version": "3.11.9"
  }
 },
 "nbformat": 4,
 "nbformat_minor": 5
}
