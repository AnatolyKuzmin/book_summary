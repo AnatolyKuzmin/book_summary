{
 "cells": [
  {
   "cell_type": "markdown",
   "id": "cdf3f1c1-e79a-40dd-b76b-136dfcd6e1a4",
   "metadata": {},
   "source": [
    "# 4. БИБЛИОТЕКИ NUMBA, DATATABLE, BOTTLENECK ДЛЯ УСКОРЕНИЯ ВЫЧИСЛЕНИЙ"
   ]
  },
  {
   "cell_type": "markdown",
   "id": "861470e6-0ddc-4651-ad49-8347202914dc",
   "metadata": {},
   "source": [
    "## 4.1. Numba"
   ]
  },
  {
   "cell_type": "markdown",
   "id": "a12112d5-1610-4636-8607-a4459fd825f1",
   "metadata": {},
   "source": [
    "Numba — это библиотека с открытым кодом, которая ускоряет выполнение кода, работающего с массивами NumPy. Ее можно установить командами pip install numba или conda install numba.\n",
    "\n",
    "Numba использует JIT-компиляцию (Just-In-Time, \"на лету\"), которая преобразует Python-код в машинный код прямо во время выполнения программы. Это позволяет достичь скорости, сравнимой с языками C или C++, без необходимости переписывать код на другом языке."
   ]
  },
  {
   "cell_type": "markdown",
   "id": "45260666-46d6-423b-88db-757787d39249",
   "metadata": {},
   "source": [
    "Особенности:\n",
    "1. Интеграция с pandas: После установки Numba в некоторых методах pandas можно указать engine='numba'. Первый запуск будет медленным из-за компиляции, но последующие вызовы выполнятся быстро, так как функция сохраняется в кеше.\n",
    "2. Декоратор @jit: Можно ускорять свои функции, добавив к ним декоратор `@jit`. Например:\n",
    "```python\n",
    "from numba import jit\n",
    "@jit\n",
    "def my_function(x, y):\n",
    "    return x + y\n",
    "```\n",
    "  - Если функция использует только поддерживаемые Numba операции, она компилируется в режиме nopython (максимальное ускорение).\n",
    "  - Если компиляция невозможна (например, из-за несовместимых типов данных), Numba переключается в режим object, но ускорения не будет.\n",
    "  - Чтобы избежать автоматического переключения в режим object, можно указать `@jit(nopython=True)` или `@njit`.\n",
    "3. Работа с коллекциями: Списки и множества должны содержать элементы одного типа (например, `[1, 2, 3]` допустимо, а `[1, 2.5]` — нет). Словари поддерживаются, но их нужно создавать через `numba.typed.Dict()`.\n",
    "4. Пример ускорения кода: Вот функция на чистом Python для вычисления среднего расстояния между значениями. После применения @jit она становится быстрее векторизованных функций NumPy.\n",
    "```python\n",
    "def mean_distance(x, y):\n",
    "    result = 0.0\n",
    "    for i in range(len(x)):\n",
    "        result += x[i] - y[i]\n",
    "    return result / len(x)\n",
    "```\n",
    "5. Декоратор @vectorize: Позволяет создавать универсальные функции NumPy из скалярных функций. Такая функция будет работать с массивами так же быстро, как код на C. Например:\n",
    "```python\n",
    "@vectorize\n",
    "def nb_square(x):\n",
    "    return x ** 2\n",
    "```\n",
    "6. Параллельные вычисления: С помощью `@jit(parallel=True)` и `numba.prange()` можно распараллеливать циклы, что значительно ускоряет вычисления. Например:\n",
    "```python\n",
    "@jit(parallel=True)\n",
    "def compute(x):\n",
    "    s = 0\n",
    "    for i in prange(x.shape[0]):\n",
    "        s += x[i]\n",
    "    return s\n",
    "```\n",
    "7. Пример с pandas:\n",
    "Numba ускоряет методы pandas, например, вычисление скользящего среднего:\n",
    "```python\n",
    "roll = series.rolling(10)\n",
    "%timeit roll.apply(np.mean, engine='numba', raw=True)  # Быстро\n",
    "%timeit roll.apply(np.mean, raw=True)                  # Медленно\n",
    "```"
   ]
  },
  {
   "cell_type": "markdown",
   "id": "194e6861-e3c7-47f3-b69c-3a2522c9b22a",
   "metadata": {},
   "source": [
    "## 4.2. Datatable"
   ]
  },
  {
   "cell_type": "markdown",
   "id": "056e0d55-ccf6-4181-8009-7f95a20f294a",
   "metadata": {},
   "source": [
    "Datatable — это библиотека Python для быстрой обработки больших наборов данных. Она похожа на pandas, но работает гораздо быстрее, особенно с данными, которые не помещаются в оперативной памяти (RAM). Разрабатывается при поддержке компании H2O.ai. Установить её можно командой: `pip install datatable`"
   ]
  },
  {
   "cell_type": "markdown",
   "id": "fd8dbece-196f-4501-b0a8-8c8dca9c2e52",
   "metadata": {},
   "source": [
    "Datatable загружает данные из CSV-файлов значительно быстрее, чем pandas.\n",
    "\n",
    "Загрузка файла `train.csv`(291 МБ, ~1.8 млн строк, 34 столбца):\n",
    "- Pandas:\n",
    "```python\n",
    "%%time\n",
    "dataframe = pd.read_csv('Data/train.csv', sep=',')\n",
    "```\n",
    "Результат: ~5.45 секунд\n",
    "\n",
    "- Datatable:\n",
    "```python\n",
    "%%time\n",
    "datatable_df = dt.fread('Data/train.csv', sep=',')\n",
    "```\n",
    "Результат: ~0.39 секунды\n",
    "\n",
    "👉 Вывод: Datatable загружает данные в 14 раз быстрее!"
   ]
  },
  {
   "cell_type": "markdown",
   "id": "63fd5ff5-a2df-4ecc-9199-1c63a506cdfb",
   "metadata": {},
   "source": [
    "#### Преобразование в pandas и NumPy  \n",
    "Datatable хранит данные в объекте Frame, но его можно легко преобразовать в pandas DataFrame или массив NumPy:\n",
    "\n",
    "- В pandas:\n",
    "```python\n",
    "pandas_df = datatable_df.to_pandas()\n",
    "```\n",
    "(Это всё равно быстрее, чем загружать данные напрямую в pandas!)\n",
    "\n",
    "- В NumPy:\n",
    "```python\n",
    "numpy_array = datatable_df.to_numpy()\n",
    "```"
   ]
  },
  {
   "cell_type": "markdown",
   "id": "450f42fd-d2f4-4aa8-9bf8-3163f91f60ce",
   "metadata": {},
   "source": [
    "#### Основные операции с данными\n",
    "Просмотр структуры данных  \n",
    "- Количество строк и столбцов:\n",
    "```python\n",
    "datatable_df.shape  # (1787571, 34)\n",
    "```\n",
    "- Первые строки:\n",
    "```python\n",
    "datatable_df.head()  # первые 10 строк\n",
    "```\n",
    "(Цвета в выводе помогают быстро определить типы данных: красный — строки, зелёный — целые числа, синий — числа с плавающей точкой.)\n",
    "\n",
    "- Типы столбцов:\n",
    "```python\n",
    "for col in range(len(datatable_df.names)):\n",
    "    print(datatable_df.names[col], ':', datatable_df.stypes[col])\n",
    "```\n",
    "Вывод:\n",
    "```text\n",
    "ID : stype.int32\n",
    "SK_DATE_DECISION : stype.int32\n",
    "DEF : stype.bool8\n",
    "...\n",
    "```\n",
    "\n",
    "Статистики по данным  \n",
    "Можно быстро получить основные статистики:\n",
    "\n",
    "```python\n",
    "datatable_df.mean()   # среднее\n",
    "datatable_df.min()    # минимум\n",
    "datatable_df.max()    # максимум\n",
    "datatable_df.sd()     # стандартное отклонение\n",
    "datatable_df.nunique()  # количество уникальных значений\n",
    "```\n",
    "\n",
    "Фильтрация и выбор данных  \n",
    "Работает через квадратные скобки (как в R `data.table`):\n",
    "\n",
    "```python\n",
    "# Выбор столбца 'NUM_SOURCE' и первых 5 строк\n",
    "datatable_df[:, 'NUM_SOURCE'].head(5)\n",
    "\n",
    "# Первые 3 строки столбца 'NUM_SOURCE'\n",
    "datatable_df[:3, 'NUM_SOURCE']\n",
    "\n",
    "# Первые 3 строки первых двух столбцов\n",
    "datatable_df[:3, :2]\n",
    "```\n",
    "\n",
    "Удаление столбцов  \n",
    "Можно удалять столбцы с помощью `del`:\n",
    "\n",
    "```python\n",
    "del datatable_df[:, 'ID']  # удаляем столбец 'ID'\n",
    "```\n",
    "Подсчёт пропущенных значений\n",
    "```python\n",
    "datatable_df.countna()  # количество пропусков в каждом столбце\n",
    "```\n",
    "Группировка и агрегация\n",
    "```python\n",
    "# Средняя сумма задолженности по клиентам (первые 5 записей)\n",
    "datatable_df[:, dt.mean(dt.f.AMT_CREDIT_SUM_DEBT), dt.by('ID')].head(5)\n",
    "```"
   ]
  },
  {
   "cell_type": "markdown",
   "id": "d9e0b250-92fa-47ba-a601-d8799b9356fd",
   "metadata": {},
   "source": [
    "## 4.3. Bottleneck"
   ]
  },
  {
   "cell_type": "markdown",
   "id": "f4d5a9cb-ed29-4e3b-8d43-eabc636546fd",
   "metadata": {},
   "source": [
    "это библиотека для ускорения вычислений в NumPy, особенно полезная при работе с временными рядами. Она написана на C, поэтому работает гораздо быстрее, чем стандартные функции pandas/NumPy.\n",
    "```bash\n",
    "pip install bottleneck\n",
    "```\n",
    "\n",
    "Bottleneck предоставляет оптимизированные версии функций для расчёта статистик в скользящем окне:\n",
    "|Функция|Описание|\n",
    "|-|-|\n",
    "|`move_mean()`|Скользящее среднее|\n",
    "|`move_std()`|Скользящее стандартное отклонение|\n",
    "|`move_var()`|Скользящая дисперсия|\n",
    "|`move_min()`|Минимум в окне|\n",
    "|`move_max()`|Максимум в окне|\n",
    "|`move_median()`|Медиана в окне|\n",
    "|`move_sum()`|Сумма в окне|"
   ]
  },
  {
   "cell_type": "markdown",
   "id": "6720ae9c-88e5-4634-8dca-8f9a1f5023cb",
   "metadata": {},
   "source": [
    "```python\n",
    "# Сравнение расчёта скользящего среднего (mean) в pandas и Bottleneck\n",
    "\n",
    "import bottleneck as bn\n",
    "import pandas as pd\n",
    "import numpy as np\n",
    "\n",
    "# Создаём Series со 100 000 случайных чисел\n",
    "series = pd.Series(np.random.randn(100000))\n",
    "\n",
    "# 1. Считаем скользящее среднее в pandas\n",
    "%%time\n",
    "roll_mean_pandas = series.shift(1).rolling(window=4, min_periods=1).mean()\n",
    "# Результат: ~6.51 мс\n",
    "\n",
    "# 2. Считаем скользящее среднее в Bottleneck\n",
    "%%time\n",
    "roll_mean_bn = bn.move_mean(series.shift(1), window=4, min_count=1)\n",
    "# Результат: ~0.597 мс (в 10 раз быстрее!)\n",
    "```"
   ]
  },
  {
   "cell_type": "markdown",
   "id": "2130ec99-87e9-4ad8-8544-fc081c76db36",
   "metadata": {},
   "source": [
    "#### Особенности работы `move_mean()`\n",
    "Функция `bn.move_mean()`:\n",
    "- Принимает только массив NumPy (не pandas Series, поэтому иногда нужно преобразовывать `.values`).\n",
    "- Параметры:\n",
    "  - `window` — ширина окна (например, `window=4` для среднего по 4 точкам).\n",
    "  - `min_count` — минимальное количество значений в окне для расчёта (если меньше — вернёт `NaN`). По умолчанию `min_count = window`."
   ]
  }
 ],
 "metadata": {
  "kernelspec": {
   "display_name": "Python 3 (ipykernel)",
   "language": "python",
   "name": "python3"
  },
  "language_info": {
   "codemirror_mode": {
    "name": "ipython",
    "version": 3
   },
   "file_extension": ".py",
   "mimetype": "text/x-python",
   "name": "python",
   "nbconvert_exporter": "python",
   "pygments_lexer": "ipython3",
   "version": "3.11.9"
  }
 },
 "nbformat": 4,
 "nbformat_minor": 5
}
