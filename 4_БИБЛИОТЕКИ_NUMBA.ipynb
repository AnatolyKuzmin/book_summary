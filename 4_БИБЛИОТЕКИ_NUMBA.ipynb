{
 "cells": [
  {
   "cell_type": "markdown",
   "id": "cdf3f1c1-e79a-40dd-b76b-136dfcd6e1a4",
   "metadata": {},
   "source": [
    "# 4. БИБЛИОТЕКИ NUMBA, DATATABLE, BOTTLENECK ДЛЯ УСКОРЕНИЯ ВЫЧИСЛЕНИЙ"
   ]
  },
  {
   "cell_type": "code",
   "execution_count": null,
   "id": "5a70e46a-1226-4948-89b4-4b12ebbf6282",
   "metadata": {},
   "outputs": [],
   "source": []
  }
 ],
 "metadata": {
  "kernelspec": {
   "display_name": "Python 3 (ipykernel)",
   "language": "python",
   "name": "python3"
  },
  "language_info": {
   "codemirror_mode": {
    "name": "ipython",
    "version": 3
   },
   "file_extension": ".py",
   "mimetype": "text/x-python",
   "name": "python",
   "nbconvert_exporter": "python",
   "pygments_lexer": "ipython3",
   "version": "3.11.9"
  }
 },
 "nbformat": 4,
 "nbformat_minor": 5
}
