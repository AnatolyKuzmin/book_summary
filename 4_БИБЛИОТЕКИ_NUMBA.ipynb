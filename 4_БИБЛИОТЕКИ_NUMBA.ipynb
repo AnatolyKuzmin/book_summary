{
 "cells": [
  {
   "cell_type": "markdown",
   "id": "cdf3f1c1-e79a-40dd-b76b-136dfcd6e1a4",
   "metadata": {},
   "source": [
    "# 4. БИБЛИОТЕКИ NUMBA, DATATABLE, BOTTLENECK ДЛЯ УСКОРЕНИЯ ВЫЧИСЛЕНИЙ"
   ]
  },
  {
   "cell_type": "markdown",
   "id": "861470e6-0ddc-4651-ad49-8347202914dc",
   "metadata": {},
   "source": [
    "## 4.1. Numba"
   ]
  },
  {
   "cell_type": "markdown",
   "id": "a12112d5-1610-4636-8607-a4459fd825f1",
   "metadata": {},
   "source": [
    "Numba — это библиотека с открытым кодом, которая ускоряет выполнение кода, работающего с массивами NumPy. Ее можно установить командами pip install numba или conda install numba.\n",
    "\n",
    "Numba использует JIT-компиляцию (Just-In-Time, \"на лету\"), которая преобразует Python-код в машинный код прямо во время выполнения программы. Это позволяет достичь скорости, сравнимой с языками C или C++, без необходимости переписывать код на другом языке."
   ]
  },
  {
   "cell_type": "markdown",
   "id": "45260666-46d6-423b-88db-757787d39249",
   "metadata": {},
   "source": [
    "Особенности:\n",
    "1. Интеграция с pandas: После установки Numba в некоторых методах pandas можно указать engine='numba'. Первый запуск будет медленным из-за компиляции, но последующие вызовы выполнятся быстро, так как функция сохраняется в кеше.\n",
    "2. Декоратор @jit: Можно ускорять свои функции, добавив к ним декоратор `@jit`. Например:\n",
    "```python\n",
    "from numba import jit\n",
    "@jit\n",
    "def my_function(x, y):\n",
    "    return x + y\n",
    "```\n",
    "  - Если функция использует только поддерживаемые Numba операции, она компилируется в режиме nopython (максимальное ускорение).\n",
    "  - Если компиляция невозможна (например, из-за несовместимых типов данных), Numba переключается в режим object, но ускорения не будет.\n",
    "  - Чтобы избежать автоматического переключения в режим object, можно указать `@jit(nopython=True)` или `@njit`.\n",
    "3. Работа с коллекциями: Списки и множества должны содержать элементы одного типа (например, `[1, 2, 3]` допустимо, а `[1, 2.5]` — нет). Словари поддерживаются, но их нужно создавать через `numba.typed.Dict()`.\n",
    "4. Пример ускорения кода: Вот функция на чистом Python для вычисления среднего расстояния между значениями. После применения @jit она становится быстрее векторизованных функций NumPy.\n",
    "```python\n",
    "def mean_distance(x, y):\n",
    "    result = 0.0\n",
    "    for i in range(len(x)):\n",
    "        result += x[i] - y[i]\n",
    "    return result / len(x)\n",
    "```\n",
    "5. Декоратор @vectorize: Позволяет создавать универсальные функции NumPy из скалярных функций. Такая функция будет работать с массивами так же быстро, как код на C. Например:\n",
    "```python\n",
    "@vectorize\n",
    "def nb_square(x):\n",
    "    return x ** 2\n",
    "```\n",
    "6. Параллельные вычисления: С помощью `@jit(parallel=True)` и `numba.prange()` можно распараллеливать циклы, что значительно ускоряет вычисления. Например:\n",
    "```python\n",
    "@jit(parallel=True)\n",
    "def compute(x):\n",
    "    s = 0\n",
    "    for i in prange(x.shape[0]):\n",
    "        s += x[i]\n",
    "    return s\n",
    "```\n",
    "7. Пример с pandas:\n",
    "Numba ускоряет методы pandas, например, вычисление скользящего среднего:\n",
    "```python\n",
    "roll = series.rolling(10)\n",
    "%timeit roll.apply(np.mean, engine='numba', raw=True)  # Быстро\n",
    "%timeit roll.apply(np.mean, raw=True)                  # Медленно\n",
    "```"
   ]
  },
  {
   "cell_type": "markdown",
   "id": "194e6861-e3c7-47f3-b69c-3a2522c9b22a",
   "metadata": {},
   "source": [
    "## 4.2. Datatable"
   ]
  },
  {
   "cell_type": "markdown",
   "id": "056e0d55-ccf6-4181-8009-7f95a20f294a",
   "metadata": {},
   "source": [
    "Datatable — это библиотека Python для быстрой обработки больших наборов данных. Она похожа на pandas, но работает гораздо быстрее, особенно с данными, которые не помещаются в оперативной памяти (RAM). Разрабатывается при поддержке компании H2O.ai. Установить её можно командой: `pip install datatable`"
   ]
  },
  {
   "cell_type": "markdown",
   "id": "fd8dbece-196f-4501-b0a8-8c8dca9c2e52",
   "metadata": {},
   "source": [
    "Datatable загружает данные из CSV-файлов значительно быстрее, чем pandas.\n",
    "\n",
    "Загрузка файла train.csv (291 МБ, ~1.8 млн строк, 34 столбца):\n",
    "- Pandas:\n",
    "```python\n",
    "%%time\n",
    "dataframe = pd.read_csv('Data/train.csv', sep=',')\n",
    "```\n",
    "Результат: ~5.45 секунд\n",
    "\n",
    "- Datatable:\n",
    "```python\n",
    "%%time\n",
    "datatable_df = dt.fread('Data/train.csv', sep=',')\n",
    "```\n",
    "Результат: ~0.39 секунды\n",
    "\n",
    "👉 Вывод: Datatable загружает данные в 14 раз быстрее!"
   ]
  },
  {
   "cell_type": "markdown",
   "id": "63fd5ff5-a2df-4ecc-9199-1c63a506cdfb",
   "metadata": {},
   "source": [
    "Преобразование в pandas и NumPy  \n",
    "Datatable хранит данные в объекте Frame, но его можно легко преобразовать в pandas DataFrame или массив NumPy:\n",
    "\n",
    "- В pandas:\n",
    "```python\n",
    "pandas_df = datatable_df.to_pandas()\n",
    "```\n",
    "(Это всё равно быстрее, чем загружать данные напрямую в pandas!)\n",
    "\n",
    "- В NumPy:\n",
    "```python\n",
    "numpy_array = datatable_df.to_numpy()\n",
    "```"
   ]
  },
  {
   "cell_type": "code",
   "execution_count": null,
   "id": "77308570-d562-43e9-917b-d9bb2c535dc3",
   "metadata": {},
   "outputs": [],
   "source": []
  },
  {
   "cell_type": "code",
   "execution_count": null,
   "id": "eb29ce4a-b2ee-4dff-a466-cf24428081df",
   "metadata": {},
   "outputs": [],
   "source": []
  },
  {
   "cell_type": "code",
   "execution_count": null,
   "id": "13e60e53-14cb-4950-a0d2-40d303288e0f",
   "metadata": {},
   "outputs": [],
   "source": []
  },
  {
   "cell_type": "code",
   "execution_count": null,
   "id": "59455b6b-fad8-4e64-9578-57fa1576ec6d",
   "metadata": {},
   "outputs": [],
   "source": []
  },
  {
   "cell_type": "code",
   "execution_count": null,
   "id": "05eca89f-ab21-40a6-a1e8-41da53ab104f",
   "metadata": {},
   "outputs": [],
   "source": []
  },
  {
   "cell_type": "code",
   "execution_count": null,
   "id": "0fbad922-3652-450a-b525-f391c228cdc7",
   "metadata": {},
   "outputs": [],
   "source": []
  },
  {
   "cell_type": "code",
   "execution_count": null,
   "id": "e5b39f03-4454-4f6b-93a0-1373638adb4a",
   "metadata": {},
   "outputs": [],
   "source": []
  }
 ],
 "metadata": {
  "kernelspec": {
   "display_name": "Python 3 (ipykernel)",
   "language": "python",
   "name": "python3"
  },
  "language_info": {
   "codemirror_mode": {
    "name": "ipython",
    "version": 3
   },
   "file_extension": ".py",
   "mimetype": "text/x-python",
   "name": "python",
   "nbconvert_exporter": "python",
   "pygments_lexer": "ipython3",
   "version": "3.11.9"
  }
 },
 "nbformat": 4,
 "nbformat_minor": 5
}
