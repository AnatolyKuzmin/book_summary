{
 "cells": [
  {
   "cell_type": "markdown",
   "id": "cdf3f1c1-e79a-40dd-b76b-136dfcd6e1a4",
   "metadata": {},
   "source": [
    "# 4. БИБЛИОТЕКИ NUMBA, DATATABLE, BOTTLENECK ДЛЯ УСКОРЕНИЯ ВЫЧИСЛЕНИЙ"
   ]
  },
  {
   "cell_type": "markdown",
   "id": "861470e6-0ddc-4651-ad49-8347202914dc",
   "metadata": {},
   "source": [
    "## 4.1. Numba"
   ]
  },
  {
   "cell_type": "markdown",
   "id": "a12112d5-1610-4636-8607-a4459fd825f1",
   "metadata": {},
   "source": [
    "Numba — это библиотека с открытым кодом, которая ускоряет выполнение кода, работающего с массивами NumPy. Ее можно установить командами pip install numba или conda install numba.\n",
    "\n",
    "Numba использует JIT-компиляцию (Just-In-Time, \"на лету\"), которая преобразует Python-код в машинный код прямо во время выполнения программы. Это позволяет достичь скорости, сравнимой с языками C или C++, без необходимости переписывать код на другом языке."
   ]
  },
  {
   "cell_type": "markdown",
   "id": "45260666-46d6-423b-88db-757787d39249",
   "metadata": {},
   "source": [
    "Особенности:\n",
    "1. Интеграция с pandas: После установки Numba в некоторых методах pandas можно указать engine='numba'. Первый запуск будет медленным из-за компиляции, но последующие вызовы выполнятся быстро, так как функция сохраняется в кеше.\n",
    "2. Декоратор @jit: Можно ускорять свои функции, добавив к ним декоратор `@jit`. Например:\n",
    "```python\n",
    "from numba import jit\n",
    "@jit\n",
    "def my_function(x, y):\n",
    "    return x + y\n",
    "```\n",
    "  - Если функция использует только поддерживаемые Numba операции, она компилируется в режиме nopython (максимальное ускорение).\n",
    "  - Если компиляция невозможна (например, из-за несовместимых типов данных), Numba переключается в режим object, но ускорения не будет.\n",
    "  - Чтобы избежать автоматического переключения в режим object, можно указать `@jit(nopython=True)` или `@njit`.\n",
    "3. Работа с коллекциями: Списки и множества должны содержать элементы одного типа (например, `[1, 2, 3]` допустимо, а `[1, 2.5]` — нет). Словари поддерживаются, но их нужно создавать через `numba.typed.Dict()`.\n",
    "4. Пример ускорения кода: Вот функция на чистом Python для вычисления среднего расстояния между значениями. После применения @jit она становится быстрее векторизованных функций NumPy.\n",
    "```python\n",
    "def mean_distance(x, y):\n",
    "    result = 0.0\n",
    "    for i in range(len(x)):\n",
    "        result += x[i] - y[i]\n",
    "    return result / len(x)\n",
    "```\n",
    "5. Декоратор @vectorize: Позволяет создавать универсальные функции NumPy из скалярных функций. Такая функция будет работать с массивами так же быстро, как код на C. Например:\n",
    "```python\n",
    "@vectorize\n",
    "def nb_square(x):\n",
    "    return x ** 2\n",
    "```\n",
    "6. Параллельные вычисления: С помощью `@jit(parallel=True)` и `numba.prange()` можно распараллеливать циклы, что значительно ускоряет вычисления. Например:\n",
    "```python\n",
    "@jit(parallel=True)\n",
    "def compute(x):\n",
    "    s = 0\n",
    "    for i in prange(x.shape[0]):\n",
    "        s += x[i]\n",
    "    return s\n",
    "```\n",
    "7. Пример с pandas:\n",
    "Numba ускоряет методы pandas, например, вычисление скользящего среднего:\n",
    "```python\n",
    "roll = series.rolling(10)\n",
    "%timeit roll.apply(np.mean, engine='numba', raw=True)  # Быстро\n",
    "%timeit roll.apply(np.mean, raw=True)                  # Медленно\n",
    "```"
   ]
  },
  {
   "cell_type": "markdown",
   "id": "194e6861-e3c7-47f3-b69c-3a2522c9b22a",
   "metadata": {},
   "source": [
    "## 4.2. Datatable"
   ]
  },
  {
   "cell_type": "markdown",
   "id": "056e0d55-ccf6-4181-8009-7f95a20f294a",
   "metadata": {},
   "source": [
    "Datatable — это библиотека Python для быстрой обработки больших наборов данных. Она похожа на pandas, но работает гораздо быстрее, особенно с данными, которые не помещаются в оперативной памяти (RAM). Разрабатывается при поддержке компании H2O.ai. Установить её можно командой: `pip install datatable`"
   ]
  },
  {
   "cell_type": "code",
   "execution_count": 1,
   "id": "5a4ed779-7cc5-484f-bc2d-c81a36621364",
   "metadata": {},
   "outputs": [
    {
     "name": "stdout",
     "output_type": "stream",
     "text": [
      "CPU times: total: 3.16 s\n",
      "Wall time: 3.4 s\n"
     ]
    }
   ],
   "source": [
    "%%time\n",
    "# Загрузка файла train.csv (291 МБ, ~1.8 млн строк, 34 столбца) Pandas:\n",
    "import pandas as pd\n",
    "\n",
    "dataframe = pd.read_csv('train.csv', sep=',')"
   ]
  },
  {
   "cell_type": "code",
   "execution_count": 6,
   "id": "e646217f-6950-4c40-baf7-48c2c25376d2",
   "metadata": {},
   "outputs": [
    {
     "ename": "AttributeError",
     "evalue": "module 'IPython.core.display' has no attribute 'display'",
     "output_type": "error",
     "traceback": [
      "\u001b[31m---------------------------------------------------------------------------\u001b[39m",
      "\u001b[31mAttributeError\u001b[39m                            Traceback (most recent call last)",
      "\u001b[36mFile \u001b[39m\u001b[32m<timed exec>:3\u001b[39m\n",
      "\u001b[36mFile \u001b[39m\u001b[32m~\\AppData\\Local\\Programs\\Python\\Python311\\Lib\\site-packages\\datatable\\__init__.py:181\u001b[39m\n\u001b[32m    178\u001b[39m \u001b[38;5;28;01mdel\u001b[39;00m datatable\n\u001b[32m    180\u001b[39m \u001b[38;5;66;03m# This will run only in Jupyter notebook\u001b[39;00m\n\u001b[32m--> \u001b[39m\u001b[32m181\u001b[39m \u001b[43minit_styles\u001b[49m\u001b[43m(\u001b[49m\u001b[43m)\u001b[49m\n\u001b[32m    183\u001b[39m options = dt.options.Config(options={}, prefix=\u001b[33m\"\u001b[39m\u001b[33m\"\u001b[39m)\n\u001b[32m    184\u001b[39m dt.lib._datatable.initialize_options(options)\n",
      "\u001b[31mAttributeError\u001b[39m: module 'IPython.core.display' has no attribute 'display'"
     ]
    }
   ],
   "source": [
    "%%time\n",
    "# Загрузка файла train.csv (291 МБ, ~1.8 млн строк, 34 столбца) Datatable:\n",
    "import datatable as dt\n",
    "\n",
    "datatable_df = dt.fread('train.csv', sep=',')"
   ]
  },
  {
   "cell_type": "code",
   "execution_count": 5,
   "id": "77308570-d562-43e9-917b-d9bb2c535dc3",
   "metadata": {},
   "outputs": [
    {
     "name": "stdout",
     "output_type": "stream",
     "text": [
      "Package                   Version\n",
      "------------------------- --------------\n",
      "anyio                     4.9.0\n",
      "argon2-cffi               25.1.0\n",
      "argon2-cffi-bindings      21.2.0\n",
      "arrow                     1.3.0\n",
      "asttokens                 3.0.0\n",
      "async-lru                 2.0.5\n",
      "attrs                     25.3.0\n",
      "babel                     2.17.0\n",
      "beautifulsoup4            4.13.4\n",
      "bleach                    6.2.0\n",
      "certifi                   2025.6.15\n",
      "cffi                      1.17.1\n",
      "charset-normalizer        3.4.2\n",
      "colorama                  0.4.6\n",
      "comm                      0.2.2\n",
      "contourpy                 1.3.2\n",
      "cycler                    0.12.1\n",
      "datatable                 1.1.0\n",
      "debugpy                   1.8.14\n",
      "decorator                 5.2.1\n",
      "defusedxml                0.7.1\n",
      "delta-spark               4.0.0\n",
      "executing                 2.2.0\n",
      "fastjsonschema            2.21.1\n",
      "findspark                 2.0.1\n",
      "fonttools                 4.59.0\n",
      "fqdn                      1.5.1\n",
      "graphframes               0.6\n",
      "h11                       0.16.0\n",
      "httpcore                  1.0.9\n",
      "httpx                     0.28.1\n",
      "idna                      3.10\n",
      "importlib_metadata        8.7.0\n",
      "ipykernel                 6.29.5\n",
      "ipython                   9.3.0\n",
      "ipython_pygments_lexers   1.1.1\n",
      "ipywidgets                8.1.7\n",
      "isoduration               20.11.0\n",
      "jedi                      0.19.2\n",
      "Jinja2                    3.1.6\n",
      "json5                     0.12.0\n",
      "jsonpointer               3.0.0\n",
      "jsonschema                4.24.0\n",
      "jsonschema-specifications 2025.4.1\n",
      "jupyter                   1.1.1\n",
      "jupyter_client            8.6.3\n",
      "jupyter-console           6.6.3\n",
      "jupyter_core              5.8.1\n",
      "jupyter-events            0.12.0\n",
      "jupyter-lsp               2.2.5\n",
      "jupyter_server            2.16.0\n",
      "jupyter_server_terminals  0.5.3\n",
      "jupyterlab                4.4.3\n",
      "jupyterlab_pygments       0.3.0\n",
      "jupyterlab_server         2.27.3\n",
      "jupyterlab_widgets        3.0.15\n",
      "kiwisolver                1.4.8\n",
      "llvmlite                  0.44.0\n",
      "MarkupSafe                3.0.2\n",
      "matplotlib                3.10.3\n",
      "matplotlib-inline         0.1.7\n",
      "mistune                   3.1.3\n",
      "nbclient                  0.10.2\n",
      "nbconvert                 7.16.6\n",
      "nbformat                  5.10.4\n",
      "nest-asyncio              1.6.0\n",
      "networkx                  3.5\n",
      "nose                      1.3.7\n",
      "notebook                  7.4.3\n",
      "notebook_shim             0.2.4\n",
      "numba                     0.61.2\n",
      "numpy                     2.2.6\n",
      "overrides                 7.7.0\n",
      "packaging                 25.0\n",
      "pandas                    2.3.0\n",
      "pandocfilters             1.5.1\n",
      "parso                     0.8.4\n",
      "pillow                    11.3.0\n",
      "pip                       25.1.1\n",
      "platformdirs              4.3.8\n",
      "prometheus_client         0.22.1\n",
      "prompt_toolkit            3.0.51\n",
      "psutil                    7.0.0\n",
      "pure_eval                 0.2.3\n",
      "py4j                      0.10.9.9\n",
      "pyarrow                   20.0.0\n",
      "pycparser                 2.22\n",
      "Pygments                  2.19.2\n",
      "pyparsing                 3.2.3\n",
      "pyspark                   4.0.0\n",
      "python-dateutil           2.9.0.post0\n",
      "python-json-logger        3.3.0\n",
      "pytz                      2025.2\n",
      "pywin32                   310\n",
      "pywinpty                  2.0.15\n",
      "PyYAML                    6.0.2\n",
      "pyzmq                     27.0.0\n",
      "referencing               0.36.2\n",
      "requests                  2.32.4\n",
      "rfc3339-validator         0.1.4\n",
      "rfc3986-validator         0.1.1\n",
      "rpds-py                   0.25.1\n",
      "Send2Trash                1.8.3\n",
      "setuptools                65.5.0\n",
      "six                       1.17.0\n",
      "sniffio                   1.3.1\n",
      "soupsieve                 2.7\n",
      "stack-data                0.6.3\n",
      "terminado                 0.18.1\n",
      "tinycss2                  1.4.0\n",
      "tornado                   6.5.1\n",
      "traitlets                 5.14.3\n",
      "types-python-dateutil     2.9.0.20250516\n",
      "typing_extensions         4.14.0\n",
      "tzdata                    2025.2\n",
      "uri-template              1.3.0\n",
      "urllib3                   2.5.0\n",
      "wcwidth                   0.2.13\n",
      "webcolors                 24.11.1\n",
      "webencodings              0.5.1\n",
      "websocket-client          1.8.0\n",
      "widgetsnbextension        4.0.14\n",
      "zipp                      3.23.0\n",
      "Note: you may need to restart the kernel to use updated packages.\n"
     ]
    }
   ],
   "source": [
    "pip list"
   ]
  },
  {
   "cell_type": "code",
   "execution_count": null,
   "id": "4cda6c4d-9063-45a7-9b7f-0f623af5cfa3",
   "metadata": {},
   "outputs": [],
   "source": []
  }
 ],
 "metadata": {
  "kernelspec": {
   "display_name": "Python 3 (ipykernel)",
   "language": "python",
   "name": "python3"
  },
  "language_info": {
   "codemirror_mode": {
    "name": "ipython",
    "version": 3
   },
   "file_extension": ".py",
   "mimetype": "text/x-python",
   "name": "python",
   "nbconvert_exporter": "python",
   "pygments_lexer": "ipython3",
   "version": "3.11.9"
  }
 },
 "nbformat": 4,
 "nbformat_minor": 5
}
