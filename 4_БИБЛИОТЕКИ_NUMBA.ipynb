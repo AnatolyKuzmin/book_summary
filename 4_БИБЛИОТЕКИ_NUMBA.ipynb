{
 "cells": [
  {
   "cell_type": "markdown",
   "id": "cdf3f1c1-e79a-40dd-b76b-136dfcd6e1a4",
   "metadata": {},
   "source": [
    "# 4. БИБЛИОТЕКИ NUMBA, DATATABLE, BOTTLENECK ДЛЯ УСКОРЕНИЯ ВЫЧИСЛЕНИЙ"
   ]
  },
  {
   "cell_type": "markdown",
   "id": "861470e6-0ddc-4651-ad49-8347202914dc",
   "metadata": {},
   "source": [
    "## 4.1. Numba"
   ]
  },
  {
   "cell_type": "markdown",
   "id": "a12112d5-1610-4636-8607-a4459fd825f1",
   "metadata": {},
   "source": [
    "Numba — это библиотека с открытым кодом, которая ускоряет выполнение кода, работающего с массивами NumPy. Ее можно установить командами pip install numba или conda install numba.\n",
    "\n",
    "Numba использует JIT-компиляцию (Just-In-Time, \"на лету\"), которая преобразует Python-код в машинный код прямо во время выполнения программы. Это позволяет достичь скорости, сравнимой с языками C или C++, без необходимости переписывать код на другом языке."
   ]
  },
  {
   "cell_type": "markdown",
   "id": "45260666-46d6-423b-88db-757787d39249",
   "metadata": {},
   "source": [
    "Особенности:\n",
    "1. Интеграция с pandas: После установки Numba в некоторых методах pandas можно указать engine='numba'. Первый запуск будет медленным из-за компиляции, но последующие вызовы выполнятся быстро, так как функция сохраняется в кеше.\n",
    "2. Декоратор @jit: Можно ускорять свои функции, добавив к ним декоратор @jit. Например:\n",
    "```python\n",
    "from numba import jit\n",
    "@jit\n",
    "def my_function(x, y):\n",
    "    return x + y\n",
    "```\n",
    " - Если функция использует только поддерживаемые Numba операции, она компилируется в режиме nopython (максимальное ускорение).\n",
    " - Если компиляция невозможна (например, из-за несовместимых типов данных), Numba переключается в режим object, но ускорения не будет.\n",
    " - Чтобы избежать автоматического переключения в режим object, можно указать @jit(nopython=True) или @njit.\n",
    "3. Работа с коллекциями: Списки и множества должны содержать элементы одного типа (например, `[1, 2, 3]` допустимо, а `[1, 2.5]` — нет). Словари поддерживаются, но их нужно создавать через `numba.typed.Dict()`.\n",
    "4. Пример ускорения кода: Вот функция на чистом Python для вычисления среднего расстояния между значениями. После применения @jit она становится быстрее векторизованных функций NumPy.\n",
    "```python\n",
    "def mean_distance(x, y):\n",
    "    result = 0.0\n",
    "    for i in range(len(x)):\n",
    "        result += x[i] - y[i]\n",
    "    return result / len(x)\n",
    "```\n",
    "5. Декоратор @vectorize: Позволяет создавать универсальные функции NumPy из скалярных функций. Такая функция будет работать с массивами так же быстро, как код на C. Например:\n",
    "```python\n",
    "@vectorize\n",
    "def nb_square(x):\n",
    "    return x ** 2\n",
    "```\n",
    "6. Параллельные вычисления: С помощью `@jit(parallel=True)` и `numba.prange()` можно распараллеливать циклы, что значительно ускоряет вычисления. Например:\n",
    "```python\n",
    "@jit(parallel=True)\n",
    "def compute(x):\n",
    "    s = 0\n",
    "    for i in prange(x.shape[0]):\n",
    "        s += x[i]\n",
    "    return s\n",
    "```\n",
    "7. Пример с pandas:\n",
    "Numba ускоряет методы pandas, например, вычисление скользящего среднего:\n",
    "```python\n",
    "@jit(parallel=True)\n",
    "def compute(x):\n",
    "    s = 0\n",
    "    for i in prange(x.shape[0]):\n",
    "        s += x[i]\n",
    "    return s\n",
    "```"
   ]
  }
 ],
 "metadata": {
  "kernelspec": {
   "display_name": "Python 3 (ipykernel)",
   "language": "python",
   "name": "python3"
  },
  "language_info": {
   "codemirror_mode": {
    "name": "ipython",
    "version": 3
   },
   "file_extension": ".py",
   "mimetype": "text/x-python",
   "name": "python",
   "nbconvert_exporter": "python",
   "pygments_lexer": "ipython3",
   "version": "3.11.9"
  }
 },
 "nbformat": 4,
 "nbformat_minor": 5
}
