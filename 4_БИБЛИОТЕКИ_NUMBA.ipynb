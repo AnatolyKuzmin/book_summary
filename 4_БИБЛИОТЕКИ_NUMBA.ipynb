{
 "cells": [
  {
   "cell_type": "markdown",
   "id": "cdf3f1c1-e79a-40dd-b76b-136dfcd6e1a4",
   "metadata": {},
   "source": [
    "# 4. БИБЛИОТЕКИ NUMBA, DATATABLE, BOTTLENECK ДЛЯ УСКОРЕНИЯ ВЫЧИСЛЕНИЙ"
   ]
  },
  {
   "cell_type": "markdown",
   "id": "861470e6-0ddc-4651-ad49-8347202914dc",
   "metadata": {},
   "source": [
    "## 4.1. Numba"
   ]
  },
  {
   "cell_type": "code",
   "execution_count": null,
   "id": "690216c9-01e1-4cf9-adaf-8fc259e31082",
   "metadata": {},
   "outputs": [],
   "source": []
  },
  {
   "cell_type": "code",
   "execution_count": null,
   "id": "6bb2a817-9cd0-49fc-bb25-d72cee138c3c",
   "metadata": {},
   "outputs": [],
   "source": []
  }
 ],
 "metadata": {
  "kernelspec": {
   "display_name": "Python 3 (ipykernel)",
   "language": "python",
   "name": "python3"
  },
  "language_info": {
   "codemirror_mode": {
    "name": "ipython",
    "version": 3
   },
   "file_extension": ".py",
   "mimetype": "text/x-python",
   "name": "python",
   "nbconvert_exporter": "python",
   "pygments_lexer": "ipython3",
   "version": "3.11.9"
  }
 },
 "nbformat": 4,
 "nbformat_minor": 5
}
