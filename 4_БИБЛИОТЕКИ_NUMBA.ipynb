{
 "cells": [
  {
   "cell_type": "markdown",
   "id": "cdf3f1c1-e79a-40dd-b76b-136dfcd6e1a4",
   "metadata": {},
   "source": [
    "# 4. БИБЛИОТЕКИ NUMBA, DATATABLE, BOTTLENECK ДЛЯ УСКОРЕНИЯ ВЫЧИСЛЕНИЙ"
   ]
  },
  {
   "cell_type": "markdown",
   "id": "861470e6-0ddc-4651-ad49-8347202914dc",
   "metadata": {},
   "source": [
    "## 4.1. Numba"
   ]
  },
  {
   "cell_type": "markdown",
   "id": "a12112d5-1610-4636-8607-a4459fd825f1",
   "metadata": {},
   "source": [
    "Numba — это библиотека с открытым кодом, которая ускоряет выполнение кода, работающего с массивами NumPy. Ее можно установить командами pip install numba или conda install numba.\n",
    "\n",
    "Numba использует JIT-компиляцию (Just-In-Time, \"на лету\"), которая преобразует Python-код в машинный код прямо во время выполнения программы. Это позволяет достичь скорости, сравнимой с языками C или C++, без необходимости переписывать код на другом языке."
   ]
  },
  {
   "cell_type": "markdown",
   "id": "45260666-46d6-423b-88db-757787d39249",
   "metadata": {},
   "source": [
    "Особенности:\n",
    "1. Интеграция с pandas: После установки Numba в некоторых методах pandas можно указать engine='numba'. Первый запуск будет медленным из-за компиляции, но последующие вызовы выполнятся быстро, так как функция сохраняется в кеше.\n",
    "2. Декоратор @jit: Можно ускорять свои функции, добавив к ним декоратор `@jit`. Например:\n",
    "```python\n",
    "from numba import jit\n",
    "@jit\n",
    "def my_function(x, y):\n",
    "    return x + y\n",
    "```\n",
    "  - Если функция использует только поддерживаемые Numba операции, она компилируется в режиме nopython (максимальное ускорение).\n",
    "  - Если компиляция невозможна (например, из-за несовместимых типов данных), Numba переключается в режим object, но ускорения не будет.\n",
    "  - Чтобы избежать автоматического переключения в режим object, можно указать `@jit(nopython=True)` или `@njit`.\n",
    "3. Работа с коллекциями: Списки и множества должны содержать элементы одного типа (например, `[1, 2, 3]` допустимо, а `[1, 2.5]` — нет). Словари поддерживаются, но их нужно создавать через `numba.typed.Dict()`.\n",
    "4. Пример ускорения кода: Вот функция на чистом Python для вычисления среднего расстояния между значениями. После применения @jit она становится быстрее векторизованных функций NumPy.\n",
    "```python\n",
    "def mean_distance(x, y):\n",
    "    result = 0.0\n",
    "    for i in range(len(x)):\n",
    "        result += x[i] - y[i]\n",
    "    return result / len(x)\n",
    "```\n",
    "5. Декоратор @vectorize: Позволяет создавать универсальные функции NumPy из скалярных функций. Такая функция будет работать с массивами так же быстро, как код на C. Например:\n",
    "```python\n",
    "@vectorize\n",
    "def nb_square(x):\n",
    "    return x ** 2\n",
    "```\n",
    "6. Параллельные вычисления: С помощью `@jit(parallel=True)` и `numba.prange()` можно распараллеливать циклы, что значительно ускоряет вычисления. Например:\n",
    "```python\n",
    "@jit(parallel=True)\n",
    "def compute(x):\n",
    "    s = 0\n",
    "    for i in prange(x.shape[0]):\n",
    "        s += x[i]\n",
    "    return s\n",
    "```\n",
    "7. Пример с pandas:\n",
    "Numba ускоряет методы pandas, например, вычисление скользящего среднего:\n",
    "```python\n",
    "roll = series.rolling(10)\n",
    "%timeit roll.apply(np.mean, engine='numba', raw=True)  # Быстро\n",
    "%timeit roll.apply(np.mean, raw=True)                  # Медленно\n",
    "```"
   ]
  },
  {
   "cell_type": "markdown",
   "id": "194e6861-e3c7-47f3-b69c-3a2522c9b22a",
   "metadata": {},
   "source": [
    "## 4.2. Datatable"
   ]
  },
  {
   "cell_type": "markdown",
   "id": "056e0d55-ccf6-4181-8009-7f95a20f294a",
   "metadata": {},
   "source": [
    "Datatable — это библиотека Python для быстрой обработки больших наборов данных. Она похожа на pandas, но работает гораздо быстрее, особенно с данными, которые не помещаются в оперативной памяти (RAM). Разрабатывается при поддержке компании H2O.ai. Установить её можно командой: `pip install datatable`"
   ]
  },
  {
   "cell_type": "code",
   "execution_count": 1,
   "id": "5a4ed779-7cc5-484f-bc2d-c81a36621364",
   "metadata": {},
   "outputs": [
    {
     "name": "stdout",
     "output_type": "stream",
     "text": [
      "CPU times: total: 3.16 s\n",
      "Wall time: 3.4 s\n"
     ]
    }
   ],
   "source": [
    "%%time\n",
    "# Загрузка файла train.csv (291 МБ, ~1.8 млн строк, 34 столбца) Pandas:\n",
    "import pandas as pd\n",
    "\n",
    "dataframe = pd.read_csv('train.csv', sep=',')"
   ]
  },
  {
   "cell_type": "code",
   "execution_count": 6,
   "id": "e646217f-6950-4c40-baf7-48c2c25376d2",
   "metadata": {},
   "outputs": [
    {
     "ename": "AttributeError",
     "evalue": "module 'IPython.core.display' has no attribute 'display'",
     "output_type": "error",
     "traceback": [
      "\u001b[31m---------------------------------------------------------------------------\u001b[39m",
      "\u001b[31mAttributeError\u001b[39m                            Traceback (most recent call last)",
      "\u001b[36mFile \u001b[39m\u001b[32m<timed exec>:3\u001b[39m\n",
      "\u001b[36mFile \u001b[39m\u001b[32m~\\AppData\\Local\\Programs\\Python\\Python311\\Lib\\site-packages\\datatable\\__init__.py:181\u001b[39m\n\u001b[32m    178\u001b[39m \u001b[38;5;28;01mdel\u001b[39;00m datatable\n\u001b[32m    180\u001b[39m \u001b[38;5;66;03m# This will run only in Jupyter notebook\u001b[39;00m\n\u001b[32m--> \u001b[39m\u001b[32m181\u001b[39m \u001b[43minit_styles\u001b[49m\u001b[43m(\u001b[49m\u001b[43m)\u001b[49m\n\u001b[32m    183\u001b[39m options = dt.options.Config(options={}, prefix=\u001b[33m\"\u001b[39m\u001b[33m\"\u001b[39m)\n\u001b[32m    184\u001b[39m dt.lib._datatable.initialize_options(options)\n",
      "\u001b[31mAttributeError\u001b[39m: module 'IPython.core.display' has no attribute 'display'"
     ]
    }
   ],
   "source": [
    "%%time\n",
    "# Загрузка файла train.csv (291 МБ, ~1.8 млн строк, 34 столбца) Datatable:\n",
    "import datatable as dt\n",
    "\n",
    "datatable_df = dt.fread('train.csv', sep=',')"
   ]
  },
  {
   "cell_type": "code",
   "execution_count": null,
   "id": "77308570-d562-43e9-917b-d9bb2c535dc3",
   "metadata": {},
   "outputs": [],
   "source": []
  }
 ],
 "metadata": {
  "kernelspec": {
   "display_name": "Python 3 (ipykernel)",
   "language": "python",
   "name": "python3"
  },
  "language_info": {
   "codemirror_mode": {
    "name": "ipython",
    "version": 3
   },
   "file_extension": ".py",
   "mimetype": "text/x-python",
   "name": "python",
   "nbconvert_exporter": "python",
   "pygments_lexer": "ipython3",
   "version": "3.11.9"
  }
 },
 "nbformat": 4,
 "nbformat_minor": 5
}
