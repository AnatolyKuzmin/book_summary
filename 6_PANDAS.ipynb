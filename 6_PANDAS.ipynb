{
 "cells": [
  {
   "cell_type": "markdown",
   "id": "55b7d567-b363-4e9e-b731-1c55767e8c3d",
   "metadata": {},
   "source": [
    "# 6. Pandas"
   ]
  },
  {
   "cell_type": "markdown",
   "id": "db4e11ab-c019-4736-acd7-c78e7517b112",
   "metadata": {},
   "source": [
    "## 6.1. Почему pandas?"
   ]
  },
  {
   "cell_type": "markdown",
   "id": "f7a4ef6d-b32c-411e-a37a-1968178e6f95",
   "metadata": {},
   "source": [
    "pandas – одна из самых популярных библиотек для исследования данных с открытым исходным кодом, доступных в настоящее время. Она дает своим пользователям возможность исследовать, манипулировать, запрашивать, агрегировать и визуализировать табличные данные. Табличные данные относятся к двумерным данным, состоящим из строк и столбцов. Обычно мы называем такую организованную структуру данных таблицей. pandas – это инструмент, который мы будем использовать для анализа данных почти в каждом разделе этой книги."
   ]
  },
  {
   "cell_type": "markdown",
   "id": "549a30da-f51c-4e82-8814-b802f6cd79b6",
   "metadata": {},
   "source": [
    "## 6.2. Библиотека pandas построена на NumPy"
   ]
  },
  {
   "cell_type": "markdown",
   "id": "fbcff38c-db32-4a07-8cb9-d5418c7fe3db",
   "metadata": {},
   "source": [
    "Pandas построена на основе NumPy — это значит, что \"под капотом\" все данные в pandas хранятся в виде массивов NumPy. Можно думать об этом так:\n",
    "- NumPy — это низкоуровневый инструмент для работы с числами и массивами. Он быстрый, но требует больше кода для сложных операций.\n",
    "- Pandas — это высокоуровневая надстройка над NumPy, которая добавляет удобные структуры данных (как DataFrame и Series) и множество функций для анализа."
   ]
  },
  {
   "cell_type": "markdown",
   "id": "9d653ee2-4ea9-4642-bd22-f1e136137ac4",
   "metadata": {},
   "source": [
    "Пример: Разница в скорости  \n",
    "Допустим, нужно вычислить сумму квадратов чисел."
   ]
  },
  {
   "cell_type": "code",
   "execution_count": 1,
   "id": "70164c69-5a02-41da-82fe-8a15ab51142e",
   "metadata": {},
   "outputs": [
    {
     "name": "stdout",
     "output_type": "stream",
     "text": [
      "CPU times: total: 31.2 ms\n",
      "Wall time: 289 ms\n"
     ]
    }
   ],
   "source": [
    "%%time\n",
    "import pandas as pd\n",
    "data = pd.Series([1, 2, 3, 4, 5])\n",
    "result = (data ** 2).sum()  # Медленнее из-за накладных расходов"
   ]
  },
  {
   "cell_type": "code",
   "execution_count": 2,
   "id": "a09b2ad3-07ee-4874-8c5b-cf64071074ef",
   "metadata": {},
   "outputs": [
    {
     "name": "stdout",
     "output_type": "stream",
     "text": [
      "CPU times: total: 0 ns\n",
      "Wall time: 0 ns\n"
     ]
    }
   ],
   "source": [
    "%%time\n",
    "import numpy as np\n",
    "data = np.array([1, 2, 3, 4, 5])\n",
    "result = np.sum(data ** 2)  # Быстрее, так как работаем напрямую с массивами"
   ]
  },
  {
   "cell_type": "markdown",
   "id": "b25bda58-5749-49c5-8ee1-89827d36b7d5",
   "metadata": {},
   "source": [
    "## 6.3. pandas работает с табличными данными"
   ]
  },
  {
   "cell_type": "markdown",
   "id": "37d2263b-b740-4943-b2c0-5c574ac31a5d",
   "metadata": {},
   "source": [
    "Pandas — это библиотека, специально созданная для работы с табличными данными (двумерными структурами, похожими на таблицы в Excel).  \n",
    "Pandas умеет читать данные из множества форматов и преобразовывать их в таблицу (DataFrame):\n",
    "- CSV → `pd.read_csv()`\n",
    "- JSON → `pd.read_json()`\n",
    "- Excel → `pd.read_excel()`\n",
    "- Parquet → `pd.read_parquet()`\n",
    "- XML, текстовые файлы и другие.\n",
    "```python\n",
    "import pandas as pd\n",
    "# Чтение CSV-файла\n",
    "data = pd.read_csv('data.csv')\n",
    "# Чтение JSON-файла\n",
    "data = pd.read_json('data.json')\n",
    "```"
   ]
  },
  {
   "cell_type": "markdown",
   "id": "01d0f5f8-e911-44dc-b371-b9c45ff5d655",
   "metadata": {},
   "source": [
    "## 6.4. Объекты DataFrame и Series"
   ]
  },
  {
   "cell_type": "markdown",
   "id": "32eed091-b666-40b4-960f-58413290af76",
   "metadata": {},
   "source": [
    "**Series (Серия)** Одномерный массив данных — как один столбец в таблице. Аналогия: Столбец в Excel.\n",
    "\n",
    "Особенности:\n",
    "- Имеет индекс (номера строк, начиная с 0).\n",
    "- Может содержать данные любого типа (числа, строки, даты).\n",
    "\n",
    "**DataFrame (Датафрейм)** Двумерная таблица с строками и столбцами — как весь лист Excel.  Аналогия: Целая таблица в Excel.\n",
    "\n",
    "Особенности:\n",
    "- Каждый столбец — это объект Series.\n",
    "- Столбцы могут быть разных типов (числа, строки, даты).\n",
    "- Есть индекс (номера строк) и названия столбцов.\n",
    "\n",
    "axis=0 — операции по строкам (вертикально). Например: df.mean(axis=0) вычислит среднее для каждого столбца.  \n",
    "axis=1 — операции по столбцам (горизонтально). Например: df.mean(axis=1) вычислит среднее для каждой строки."
   ]
  },
  {
   "cell_type": "code",
   "execution_count": 3,
   "id": "a71d558e-ba1c-47ff-8100-6a12a42998bf",
   "metadata": {},
   "outputs": [
    {
     "name": "stdout",
     "output_type": "stream",
     "text": [
      "Empl    15.0\n",
      "Age     35.0\n",
      "dtype: float64\n",
      "\n",
      "0    20.0\n",
      "1    30.0\n",
      "dtype: float64\n",
      "\n"
     ]
    },
    {
     "data": {
      "text/html": [
       "<div>\n",
       "<style scoped>\n",
       "    .dataframe tbody tr th:only-of-type {\n",
       "        vertical-align: middle;\n",
       "    }\n",
       "\n",
       "    .dataframe tbody tr th {\n",
       "        vertical-align: top;\n",
       "    }\n",
       "\n",
       "    .dataframe thead th {\n",
       "        text-align: right;\n",
       "    }\n",
       "</style>\n",
       "<table border=\"1\" class=\"dataframe\">\n",
       "  <thead>\n",
       "    <tr style=\"text-align: right;\">\n",
       "      <th></th>\n",
       "      <th>Empl</th>\n",
       "      <th>Age</th>\n",
       "    </tr>\n",
       "  </thead>\n",
       "  <tbody>\n",
       "    <tr>\n",
       "      <th>0</th>\n",
       "      <td>10</td>\n",
       "      <td>30</td>\n",
       "    </tr>\n",
       "    <tr>\n",
       "      <th>1</th>\n",
       "      <td>20</td>\n",
       "      <td>40</td>\n",
       "    </tr>\n",
       "  </tbody>\n",
       "</table>\n",
       "</div>"
      ],
      "text/plain": [
       "   Empl  Age\n",
       "0    10   30\n",
       "1    20   40"
      ]
     },
     "metadata": {},
     "output_type": "display_data"
    }
   ],
   "source": [
    "import pandas as pd\n",
    "\n",
    "df = pd.DataFrame({\n",
    "    'Empl': [10, 20],  # Столбец \"Empl\"\n",
    "    'Age': [30, 40]     # Столбец \"Age\"\n",
    "})\n",
    "\n",
    "# Среднее по столбцам (axis=0)\n",
    "print(df.mean(axis=0))\n",
    "print()\n",
    "\n",
    "# Среднее по строкам (axis=1)\n",
    "print(df.mean(axis=1))\n",
    "print()\n",
    "\n",
    "display(df)"
   ]
  },
  {
   "cell_type": "markdown",
   "id": "1a947eb3-0635-4fbc-9f01-8d7b9dc9f2c0",
   "metadata": {},
   "source": [
    "🚀"
   ]
  },
  {
   "cell_type": "markdown",
   "id": "d243d0fa-325e-43de-a739-5f6ce3577701",
   "metadata": {},
   "source": [
    "## 6.5. Задачи, выполняемые pandas"
   ]
  },
  {
   "cell_type": "markdown",
   "id": "7d5db755-a258-49b1-8b27-b6b07802ff83",
   "metadata": {},
   "source": [
    "1. Чтение данных 📂  \n",
    "Pandas умеет загружать данные из разных форматов:\n",
    "- CSV: `pd.read_csv('file.csv')`\n",
    "- Excel: `pd.read_excel('file.xlsx')`\n",
    "- JSON: `pd.read_json('file.json')`\n",
    "- Базы данных: `pd.read_sql('SELECT * FROM table', connection)`\n",
    "\n",
    "Пример:\n",
    "```python\n",
    "import pandas as pd\n",
    "data = pd.read_csv('data.csv')  # Загружаем данные из CSV\n",
    "```\n",
    "2. Доступ к строкам и столбцам 🔍  \n",
    "Можно легко выбирать нужные части данных:\n",
    "- Столбцы: `data['column_name']` или `data.column_name`\n",
    "- Строки: `data.loc[0]` (по индексу) или `data.iloc[0]` (по номеру)\n",
    "- Ячейки: `data.at[0, 'column_name']`\n",
    "\n",
    "Пример:\n",
    "```python\n",
    "# Выберем столбец \"Age\"\n",
    "ages = data['Age']\n",
    "\n",
    "# Первая строка\n",
    "first_row = data.loc[0]\n",
    "```\n",
    "3. Фильтрация данных 🔎  \n",
    "Отбор данных по условиям:\n",
    "- Простой фильтр: `data[data['Age'] > 30]`\n",
    "- Несколько условий: `data[(data['Age'] > 30) & (data['City'] == 'Moscow')]`\n",
    "\n",
    "Пример:\n",
    "```python\n",
    "# Все клиенты старше 30 лет\n",
    "adults = data[data['Age'] > 30]\n",
    "```\n",
    "4. Агрегация данных 📊  \n",
    "Сводные вычисления:\n",
    "- Группировка: `data.groupby('City')['Age'].mean()` — средний возраст по городам\n",
    "- Сводные таблицы: `pd.pivot_table(data, values='Sales', index='Region')`\n",
    "\n",
    "Пример:\n",
    "```python\n",
    "# Средний доход по профессиям\n",
    "income_by_job = data.groupby('Job')['Income'].mean()\n",
    "```\n",
    "5. Чистка данных 🧹  \n",
    "Приведение данных в порядок:\n",
    "- Пропуски: `data.dropna()` (удалить пустые) или `data.fillna(0)` (заполнить нулями)\n",
    "- Дубликаты: `data.drop_duplicates()`\n",
    "- Изменение типов: `data['Column'] = data['Column'].astype(int)`\n",
    "\n",
    "Пример:\n",
    "```python\n",
    "# Заполним пропуски в возрасте медианным значением\n",
    "median_age = data['Age'].median()\n",
    "data['Age'] = data['Age'].fillna(median_age)\n",
    "```\n",
    "6. Изменение формы данных 🔄  \n",
    "Реструктуризация данных:\n",
    "- Добавление столбцов: `data['New_Column'] = data['A'] + data['B']`\n",
    "- Переименование: `data.rename(columns={'Old_Name': 'New_Name'})`\n",
    "- Слияние таблиц: `pd.merge(data1, data2, on='key')`\n",
    "\n",
    "Пример:\n",
    "```python\n",
    "# Создадим новый столбец\n",
    "data['Full_Name'] = data['First_Name'] + ' ' + data['Last_Name']\n",
    "```\n",
    "7. Анализ временных рядов 📅  \n",
    "Работа с датами и временем:\n",
    "- Преобразование дат: `data['Date'] = pd.to_datetime(data['Date'])`\n",
    "- Временные группировки: `data.resample('M')['Sales'].sum()` — продажи по месяцам\n",
    "\n",
    "Пример:\n",
    "```python\n",
    "# Преобразуем строку в дату\n",
    "data['Date'] = pd.to_datetime(data['Date'])\n",
    "\n",
    "# Продажи по месяцам\n",
    "monthly_sales = data.resample('M', on='Date')['Sales'].sum()\n",
    "```\n",
    "8. Визуализация данных 📈  \n",
    "Pandas интегрирован с библиотеками визуализации:\n",
    "- Графики: `data.plot()`, `data.hist()`\n",
    "- Интеграция с Matplotlib/Seaborn\n",
    "\n",
    "Пример:\n",
    "```python\n",
    "import matplotlib.pyplot as plt\n",
    "data['Sales'].plot(kind='bar')\n",
    "plt.show()\n",
    "```"
   ]
  },
  {
   "cell_type": "markdown",
   "id": "c4d691c3-ac01-4682-a080-436fcd17b4f1",
   "metadata": {},
   "source": [
    "## 6.6. Кратко о типах данных"
   ]
  },
  {
   "cell_type": "markdown",
   "id": "72b1983f-49ac-46bc-9a20-d03239b0cce2",
   "metadata": {},
   "source": [
    "**Основные типы данных**\n",
    "|Тип данных|Описание|Пример|\n",
    "|-|-|-|\n",
    "|boolean|Логические значения|True, False|\n",
    "|integer|Целые числа|10, -5, 0|\n",
    "|float|Числа с плавающей точкой (дробные)|3.14, -0.5|\n",
    "|object|Чаще всего строки, но может быть любой объект Python|\"Текст\", `[1, 2, 3]`|\n",
    "|datetime|Дата и время|2023-01-15 14:30:00|"
   ]
  },
  {
   "cell_type": "markdown",
   "id": "847af0e4-2ac1-42cb-86c5-556c39a01b01",
   "metadata": {},
   "source": [
    "Проверить типы"
   ]
  },
  {
   "cell_type": "code",
   "execution_count": 4,
   "id": "2153d68d-6ee4-4bc1-bbbd-f2f84f6973da",
   "metadata": {},
   "outputs": [
    {
     "name": "stdout",
     "output_type": "stream",
     "text": [
      "Age         int64\n",
      "Salary    float64\n",
      "Name       object\n",
      "dtype: object\n"
     ]
    }
   ],
   "source": [
    "import pandas as pd\n",
    "\n",
    "# Создаем датафрейм\n",
    "df = pd.DataFrame({\n",
    "    'Age': [25, 30],          # int\n",
    "    'Salary': [50000.0, 60000.0],  # float\n",
    "    'Name': ['Anna', 'Ivan']  # object (строка)\n",
    "})\n",
    "\n",
    "# Смотрим типы данных\n",
    "print(df.dtypes)"
   ]
  },
  {
   "cell_type": "markdown",
   "id": "e286c764-637b-4d98-8498-e3c6586391bb",
   "metadata": {},
   "source": [
    "Изменить тип"
   ]
  },
  {
   "cell_type": "code",
   "execution_count": 5,
   "id": "8e5e5689-9053-4faf-a34e-8037fc329ebc",
   "metadata": {},
   "outputs": [],
   "source": [
    "# Преобразуем столбец в другой тип\n",
    "df['Age'] = df['Age'].astype(float)  # Теперь float\n",
    "df['Name'] = df['Name'].astype('string')  # Экспериментальный строковый тип"
   ]
  },
  {
   "cell_type": "code",
   "execution_count": 6,
   "id": "e3a9bdf7-8ec0-42f0-aba0-b6ba6201ae84",
   "metadata": {},
   "outputs": [
    {
     "name": "stdout",
     "output_type": "stream",
     "text": [
      "<class 'pandas.core.frame.DataFrame'>\n",
      "RangeIndex: 2 entries, 0 to 1\n",
      "Data columns (total 3 columns):\n",
      " #   Column  Non-Null Count  Dtype  \n",
      "---  ------  --------------  -----  \n",
      " 0   Age     2 non-null      float64\n",
      " 1   Salary  2 non-null      float64\n",
      " 2   Name    2 non-null      string \n",
      "dtypes: float64(2), string(1)\n",
      "memory usage: 180.0 bytes\n"
     ]
    }
   ],
   "source": [
    "df.info()"
   ]
  }
 ],
 "metadata": {
  "kernelspec": {
   "display_name": "Python 3 (ipykernel)",
   "language": "python",
   "name": "python3"
  },
  "language_info": {
   "codemirror_mode": {
    "name": "ipython",
    "version": 3
   },
   "file_extension": ".py",
   "mimetype": "text/x-python",
   "name": "python",
   "nbconvert_exporter": "python",
   "pygments_lexer": "ipython3",
   "version": "3.11.9"
  }
 },
 "nbformat": 4,
 "nbformat_minor": 5
}
