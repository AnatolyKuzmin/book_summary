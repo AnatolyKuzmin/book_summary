{
 "cells": [
  {
   "cell_type": "markdown",
   "id": "55b7d567-b363-4e9e-b731-1c55767e8c3d",
   "metadata": {},
   "source": [
    "# 6. Pandas"
   ]
  },
  {
   "cell_type": "markdown",
   "id": "db4e11ab-c019-4736-acd7-c78e7517b112",
   "metadata": {},
   "source": [
    "## 6.1. Почему pandas?"
   ]
  },
  {
   "cell_type": "markdown",
   "id": "f7a4ef6d-b32c-411e-a37a-1968178e6f95",
   "metadata": {},
   "source": [
    "pandas – одна из самых популярных библиотек для исследования данных с открытым исходным кодом, доступных в настоящее время. Она дает своим пользователям возможность исследовать, манипулировать, запрашивать, агрегировать и визуализировать табличные данные. Табличные данные относятся к двумерным данным, состоящим из строк и столбцов. Обычно мы называем такую организованную структуру данных таблицей. pandas – это инструмент, который мы будем использовать для анализа данных почти в каждом разделе этой книги."
   ]
  },
  {
   "cell_type": "markdown",
   "id": "549a30da-f51c-4e82-8814-b802f6cd79b6",
   "metadata": {},
   "source": [
    "## 6.2. Библиотека pandas построена на NumPy"
   ]
  },
  {
   "cell_type": "markdown",
   "id": "fbcff38c-db32-4a07-8cb9-d5418c7fe3db",
   "metadata": {},
   "source": [
    "Pandas построена на основе NumPy — это значит, что \"под капотом\" все данные в pandas хранятся в виде массивов NumPy. Можно думать об этом так:\n",
    "- NumPy — это низкоуровневый инструмент для работы с числами и массивами. Он быстрый, но требует больше кода для сложных операций.\n",
    "- Pandas — это высокоуровневая надстройка над NumPy, которая добавляет удобные структуры данных (как DataFrame и Series) и множество функций для анализа."
   ]
  },
  {
   "cell_type": "code",
   "execution_count": 2,
   "id": "70164c69-5a02-41da-82fe-8a15ab51142e",
   "metadata": {},
   "outputs": [
    {
     "name": "stdout",
     "output_type": "stream",
     "text": [
      "CPU times: total: 125 ms\n",
      "Wall time: 3.51 s\n"
     ]
    }
   ],
   "source": [
    "%%time\n",
    "import pandas as pd\n",
    "data = pd.Series([1, 2, 3, 4, 5])\n",
    "result = (data ** 2).sum()  # Медленнее из-за накладных расходов"
   ]
  },
  {
   "cell_type": "code",
   "execution_count": 3,
   "id": "a09b2ad3-07ee-4874-8c5b-cf64071074ef",
   "metadata": {},
   "outputs": [
    {
     "name": "stdout",
     "output_type": "stream",
     "text": [
      "CPU times: total: 0 ns\n",
      "Wall time: 0 ns\n"
     ]
    }
   ],
   "source": [
    "%%time\n",
    "import numpy as np\n",
    "data = np.array([1, 2, 3, 4, 5])\n",
    "result = np.sum(data ** 2)  # Быстрее, так как работаем напрямую с массивами"
   ]
  },
  {
   "cell_type": "code",
   "execution_count": null,
   "id": "e3ea5bb7-8213-4123-8f21-cd042682d3d4",
   "metadata": {},
   "outputs": [],
   "source": []
  }
 ],
 "metadata": {
  "kernelspec": {
   "display_name": "Python 3 (ipykernel)",
   "language": "python",
   "name": "python3"
  },
  "language_info": {
   "codemirror_mode": {
    "name": "ipython",
    "version": 3
   },
   "file_extension": ".py",
   "mimetype": "text/x-python",
   "name": "python",
   "nbconvert_exporter": "python",
   "pygments_lexer": "ipython3",
   "version": "3.11.9"
  }
 },
 "nbformat": 4,
 "nbformat_minor": 5
}
