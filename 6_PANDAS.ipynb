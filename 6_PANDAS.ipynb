{
 "cells": [
  {
   "cell_type": "markdown",
   "id": "55b7d567-b363-4e9e-b731-1c55767e8c3d",
   "metadata": {},
   "source": [
    "# 6. Pandas"
   ]
  },
  {
   "cell_type": "markdown",
   "id": "db4e11ab-c019-4736-acd7-c78e7517b112",
   "metadata": {},
   "source": [
    "## 6.1. Почему pandas?"
   ]
  },
  {
   "cell_type": "markdown",
   "id": "f7a4ef6d-b32c-411e-a37a-1968178e6f95",
   "metadata": {},
   "source": [
    "pandas – одна из самых популярных библиотек для исследования данных с открытым исходным кодом, доступных в настоящее время. Она дает своим пользователям возможность исследовать, манипулировать, запрашивать, агрегировать и визуализировать табличные данные. Табличные данные относятся к двумерным данным, состоящим из строк и столбцов. Обычно мы называем такую организованную структуру данных таблицей. pandas – это инструмент, который мы будем использовать для анализа данных почти в каждом разделе этой книги."
   ]
  },
  {
   "cell_type": "markdown",
   "id": "549a30da-f51c-4e82-8814-b802f6cd79b6",
   "metadata": {},
   "source": [
    "## 6.2. Библиотека pandas построена на NumPy"
   ]
  },
  {
   "cell_type": "markdown",
   "id": "fbcff38c-db32-4a07-8cb9-d5418c7fe3db",
   "metadata": {},
   "source": [
    "Pandas построена на основе NumPy — это значит, что \"под капотом\" все данные в pandas хранятся в виде массивов NumPy. Можно думать об этом так:\n",
    "- NumPy — это низкоуровневый инструмент для работы с числами и массивами. Он быстрый, но требует больше кода для сложных операций.\n",
    "- Pandas — это высокоуровневая надстройка над NumPy, которая добавляет удобные структуры данных (как DataFrame и Series) и множество функций для анализа."
   ]
  },
  {
   "cell_type": "markdown",
   "id": "9d653ee2-4ea9-4642-bd22-f1e136137ac4",
   "metadata": {},
   "source": [
    "Пример: Разница в скорости  \n",
    "Допустим, нужно вычислить сумму квадратов чисел."
   ]
  },
  {
   "cell_type": "code",
   "execution_count": 1,
   "id": "70164c69-5a02-41da-82fe-8a15ab51142e",
   "metadata": {},
   "outputs": [
    {
     "name": "stdout",
     "output_type": "stream",
     "text": [
      "CPU times: total: 219 ms\n",
      "Wall time: 298 ms\n"
     ]
    }
   ],
   "source": [
    "%%time\n",
    "import pandas as pd\n",
    "data = pd.Series([1, 2, 3, 4, 5])\n",
    "result = (data ** 2).sum()  # Медленнее из-за накладных расходов"
   ]
  },
  {
   "cell_type": "code",
   "execution_count": 2,
   "id": "a09b2ad3-07ee-4874-8c5b-cf64071074ef",
   "metadata": {},
   "outputs": [
    {
     "name": "stdout",
     "output_type": "stream",
     "text": [
      "CPU times: total: 0 ns\n",
      "Wall time: 0 ns\n"
     ]
    }
   ],
   "source": [
    "%%time\n",
    "import numpy as np\n",
    "data = np.array([1, 2, 3, 4, 5])\n",
    "result = np.sum(data ** 2)  # Быстрее, так как работаем напрямую с массивами"
   ]
  },
  {
   "cell_type": "markdown",
   "id": "b25bda58-5749-49c5-8ee1-89827d36b7d5",
   "metadata": {},
   "source": [
    "## 6.3. pandas работает с табличными данными"
   ]
  },
  {
   "cell_type": "markdown",
   "id": "37d2263b-b740-4943-b2c0-5c574ac31a5d",
   "metadata": {},
   "source": [
    "Pandas — это библиотека, специально созданная для работы с табличными данными (двумерными структурами, похожими на таблицы в Excel).  \n",
    "Pandas умеет читать данные из множества форматов и преобразовывать их в таблицу (DataFrame):\n",
    "- CSV → `pd.read_csv()`\n",
    "- JSON → `pd.read_json()`\n",
    "- Excel → `pd.read_excel()`\n",
    "- Parquet → `pd.read_parquet()`\n",
    "- XML, текстовые файлы и другие.\n",
    "```python\n",
    "import pandas as pd\n",
    "# Чтение CSV-файла\n",
    "data = pd.read_csv('data.csv')\n",
    "# Чтение JSON-файла\n",
    "data = pd.read_json('data.json')\n",
    "```"
   ]
  },
  {
   "cell_type": "markdown",
   "id": "01d0f5f8-e911-44dc-b371-b9c45ff5d655",
   "metadata": {},
   "source": [
    "## 6.4. Объекты DataFrame и Series"
   ]
  },
  {
   "cell_type": "markdown",
   "id": "32eed091-b666-40b4-960f-58413290af76",
   "metadata": {},
   "source": [
    "**Series (Серия)** Одномерный массив данных — как один столбец в таблице. Аналогия: Столбец в Excel.\n",
    "\n",
    "Особенности:\n",
    "- Имеет индекс (номера строк, начиная с 0).\n",
    "- Может содержать данные любого типа (числа, строки, даты).\n",
    "\n",
    "**DataFrame (Датафрейм)** Двумерная таблица с строками и столбцами — как весь лист Excel.  Аналогия: Целая таблица в Excel.\n",
    "\n",
    "Особенности:\n",
    "- Каждый столбец — это объект Series.\n",
    "- Столбцы могут быть разных типов (числа, строки, даты).\n",
    "- Есть индекс (номера строк) и названия столбцов.\n",
    "\n",
    "axis=0 — операции по строкам (вертикально). Например: df.mean(axis=0) вычислит среднее для каждого столбца.  \n",
    "axis=1 — операции по столбцам (горизонтально). Например: df.mean(axis=1) вычислит среднее для каждой строки."
   ]
  },
  {
   "cell_type": "code",
   "execution_count": 3,
   "id": "a71d558e-ba1c-47ff-8100-6a12a42998bf",
   "metadata": {},
   "outputs": [
    {
     "name": "stdout",
     "output_type": "stream",
     "text": [
      "Empl    15.0\n",
      "Age     35.0\n",
      "dtype: float64\n",
      "\n",
      "0    20.0\n",
      "1    30.0\n",
      "dtype: float64\n",
      "\n"
     ]
    },
    {
     "data": {
      "text/html": [
       "<div>\n",
       "<style scoped>\n",
       "    .dataframe tbody tr th:only-of-type {\n",
       "        vertical-align: middle;\n",
       "    }\n",
       "\n",
       "    .dataframe tbody tr th {\n",
       "        vertical-align: top;\n",
       "    }\n",
       "\n",
       "    .dataframe thead th {\n",
       "        text-align: right;\n",
       "    }\n",
       "</style>\n",
       "<table border=\"1\" class=\"dataframe\">\n",
       "  <thead>\n",
       "    <tr style=\"text-align: right;\">\n",
       "      <th></th>\n",
       "      <th>Empl</th>\n",
       "      <th>Age</th>\n",
       "    </tr>\n",
       "  </thead>\n",
       "  <tbody>\n",
       "    <tr>\n",
       "      <th>0</th>\n",
       "      <td>10</td>\n",
       "      <td>30</td>\n",
       "    </tr>\n",
       "    <tr>\n",
       "      <th>1</th>\n",
       "      <td>20</td>\n",
       "      <td>40</td>\n",
       "    </tr>\n",
       "  </tbody>\n",
       "</table>\n",
       "</div>"
      ],
      "text/plain": [
       "   Empl  Age\n",
       "0    10   30\n",
       "1    20   40"
      ]
     },
     "metadata": {},
     "output_type": "display_data"
    }
   ],
   "source": [
    "import pandas as pd\n",
    "\n",
    "df = pd.DataFrame({\n",
    "    'Empl': [10, 20],  # Столбец \"Empl\"\n",
    "    'Age': [30, 40]     # Столбец \"Age\"\n",
    "})\n",
    "\n",
    "# Среднее по столбцам (axis=0)\n",
    "print(df.mean(axis=0))\n",
    "print()\n",
    "\n",
    "# Среднее по строкам (axis=1)\n",
    "print(df.mean(axis=1))\n",
    "print()\n",
    "\n",
    "display(df)"
   ]
  },
  {
   "cell_type": "markdown",
   "id": "1a947eb3-0635-4fbc-9f01-8d7b9dc9f2c0",
   "metadata": {},
   "source": [
    "🚀"
   ]
  },
  {
   "cell_type": "markdown",
   "id": "d243d0fa-325e-43de-a739-5f6ce3577701",
   "metadata": {},
   "source": [
    "## 6.5. Задачи, выполняемые pandas"
   ]
  },
  {
   "cell_type": "markdown",
   "id": "7d5db755-a258-49b1-8b27-b6b07802ff83",
   "metadata": {},
   "source": [
    "1. Чтение данных 📂  \n",
    "Pandas умеет загружать данные из разных форматов:\n",
    "- CSV: `pd.read_csv('file.csv')`\n",
    "- Excel: `pd.read_excel('file.xlsx')`\n",
    "- JSON: `pd.read_json('file.json')`\n",
    "- Базы данных: `pd.read_sql('SELECT * FROM table', connection)`\n",
    "\n",
    "Пример:\n",
    "```python\n",
    "import pandas as pd\n",
    "data = pd.read_csv('data.csv')  # Загружаем данные из CSV\n",
    "```\n",
    "2. Доступ к строкам и столбцам 🔍  \n",
    "Можно легко выбирать нужные части данных:\n",
    "- Столбцы: `data['column_name']` или `data.column_name`\n",
    "- Строки: `data.loc[0]` (по индексу) или `data.iloc[0]` (по номеру)\n",
    "- Ячейки: `data.at[0, 'column_name']`\n",
    "\n",
    "Пример:\n",
    "```python\n",
    "# Выберем столбец \"Age\"\n",
    "ages = data['Age']\n",
    "\n",
    "# Первая строка\n",
    "first_row = data.loc[0]\n",
    "```\n",
    "3. Фильтрация данных 🔎  \n",
    "Отбор данных по условиям:\n",
    "- Простой фильтр: `data[data['Age'] > 30]`\n",
    "- Несколько условий: `data[(data['Age'] > 30) & (data['City'] == 'Moscow')]`\n",
    "\n",
    "Пример:\n",
    "```python\n",
    "# Все клиенты старше 30 лет\n",
    "adults = data[data['Age'] > 30]\n",
    "```\n",
    "4. Агрегация данных 📊  \n",
    "Сводные вычисления:\n",
    "- Группировка: `data.groupby('City')['Age'].mean()` — средний возраст по городам\n",
    "- Сводные таблицы: `pd.pivot_table(data, values='Sales', index='Region')`\n",
    "\n",
    "Пример:\n",
    "```python\n",
    "# Средний доход по профессиям\n",
    "income_by_job = data.groupby('Job')['Income'].mean()\n",
    "```\n",
    "5. Чистка данных 🧹  \n",
    "Приведение данных в порядок:\n",
    "- Пропуски: `data.dropna()` (удалить пустые) или `data.fillna(0)` (заполнить нулями)\n",
    "- Дубликаты: `data.drop_duplicates()`\n",
    "- Изменение типов: `data['Column'] = data['Column'].astype(int)`\n",
    "\n",
    "Пример:\n",
    "```python\n",
    "# Заполним пропуски в возрасте медианным значением\n",
    "median_age = data['Age'].median()\n",
    "data['Age'] = data['Age'].fillna(median_age)\n",
    "```\n",
    "6. Изменение формы данных 🔄  \n",
    "Реструктуризация данных:\n",
    "- Добавление столбцов: `data['New_Column'] = data['A'] + data['B']`\n",
    "- Переименование: `data.rename(columns={'Old_Name': 'New_Name'})`\n",
    "- Слияние таблиц: `pd.merge(data1, data2, on='key')`\n",
    "\n",
    "Пример:\n",
    "```python\n",
    "# Создадим новый столбец\n",
    "data['Full_Name'] = data['First_Name'] + ' ' + data['Last_Name']\n",
    "```\n",
    "7. Анализ временных рядов 📅  \n",
    "Работа с датами и временем:\n",
    "- Преобразование дат: `data['Date'] = pd.to_datetime(data['Date'])`\n",
    "- Временные группировки: `data.resample('M')['Sales'].sum()` — продажи по месяцам\n",
    "\n",
    "Пример:\n",
    "```python\n",
    "# Преобразуем строку в дату\n",
    "data['Date'] = pd.to_datetime(data['Date'])\n",
    "\n",
    "# Продажи по месяцам\n",
    "monthly_sales = data.resample('M', on='Date')['Sales'].sum()\n",
    "```\n",
    "8. Визуализация данных 📈  \n",
    "Pandas интегрирован с библиотеками визуализации:\n",
    "- Графики: `data.plot()`, `data.hist()`\n",
    "- Интеграция с Matplotlib/Seaborn\n",
    "\n",
    "Пример:\n",
    "```python\n",
    "import matplotlib.pyplot as plt\n",
    "data['Sales'].plot(kind='bar')\n",
    "plt.show()\n",
    "```"
   ]
  },
  {
   "cell_type": "markdown",
   "id": "c4d691c3-ac01-4682-a080-436fcd17b4f1",
   "metadata": {},
   "source": [
    "## 6.6. Кратко о типах данных"
   ]
  },
  {
   "cell_type": "markdown",
   "id": "72b1983f-49ac-46bc-9a20-d03239b0cce2",
   "metadata": {},
   "source": [
    "**Основные типы данных**\n",
    "|Тип данных|Описание|Пример|\n",
    "|-|-|-|\n",
    "|boolean|Логические значения|True, False|\n",
    "|integer|Целые числа|10, -5, 0|\n",
    "|float|Числа с плавающей точкой (дробные)|3.14, -0.5|\n",
    "|object|Чаще всего строки, но может быть любой объект Python|\"Текст\", `[1, 2, 3]`|\n",
    "|datetime|Дата и время|2023-01-15 14:30:00|"
   ]
  },
  {
   "cell_type": "markdown",
   "id": "847af0e4-2ac1-42cb-86c5-556c39a01b01",
   "metadata": {},
   "source": [
    "Проверить типы"
   ]
  },
  {
   "cell_type": "code",
   "execution_count": 4,
   "id": "2153d68d-6ee4-4bc1-bbbd-f2f84f6973da",
   "metadata": {},
   "outputs": [
    {
     "name": "stdout",
     "output_type": "stream",
     "text": [
      "Age         int64\n",
      "Salary    float64\n",
      "Name       object\n",
      "dtype: object\n"
     ]
    }
   ],
   "source": [
    "import pandas as pd\n",
    "\n",
    "# Создаем датафрейм\n",
    "df = pd.DataFrame({\n",
    "    'Age': [25, 30],          # int\n",
    "    'Salary': [50000.0, 60000.0],  # float\n",
    "    'Name': ['Anna', 'Ivan']  # object (строка)\n",
    "})\n",
    "\n",
    "# Смотрим типы данных\n",
    "print(df.dtypes)"
   ]
  },
  {
   "cell_type": "markdown",
   "id": "e286c764-637b-4d98-8498-e3c6586391bb",
   "metadata": {},
   "source": [
    "Изменить тип"
   ]
  },
  {
   "cell_type": "code",
   "execution_count": 5,
   "id": "8e5e5689-9053-4faf-a34e-8037fc329ebc",
   "metadata": {},
   "outputs": [],
   "source": [
    "# Преобразуем столбец в другой тип\n",
    "df['Age'] = df['Age'].astype(float)  # Теперь float\n",
    "df['Name'] = df['Name'].astype('string')  # Экспериментальный строковый тип"
   ]
  },
  {
   "cell_type": "code",
   "execution_count": 6,
   "id": "e3a9bdf7-8ec0-42f0-aba0-b6ba6201ae84",
   "metadata": {},
   "outputs": [
    {
     "name": "stdout",
     "output_type": "stream",
     "text": [
      "<class 'pandas.core.frame.DataFrame'>\n",
      "RangeIndex: 2 entries, 0 to 1\n",
      "Data columns (total 3 columns):\n",
      " #   Column  Non-Null Count  Dtype  \n",
      "---  ------  --------------  -----  \n",
      " 0   Age     2 non-null      float64\n",
      " 1   Salary  2 non-null      float64\n",
      " 2   Name    2 non-null      string \n",
      "dtypes: float64(2), string(1)\n",
      "memory usage: 180.0 bytes\n"
     ]
    }
   ],
   "source": [
    "df.info()"
   ]
  },
  {
   "cell_type": "markdown",
   "id": "a4a0e8f0-645e-4d25-b516-0863adee122a",
   "metadata": {},
   "source": [
    "## 6.7. Представление пропусков"
   ]
  },
  {
   "cell_type": "markdown",
   "id": "b638cc40-abd1-471a-abe9-b0a61a52e110",
   "metadata": {},
   "source": [
    "Пропуски (missing values) — это отсутствующие данные в таблицах. Pandas использует специальные значения для их обозначения.\n",
    "\n",
    "**Основные представления пропусков**\n",
    "|Тип данных|Обозначение пропуска|Пример|\n",
    "|-|-|-|\n",
    "|Числа (float)|NaN (Not a Number)|3.14, NaN|\n",
    "|Даты (datetime)|NaT (Not a Time)|2023-01-01, NaT|\n",
    "|Строки (object)|NaN|\"Текст\", NaN|\n",
    "|Целые числа (int)|❌ Не поддерживается|—|\n",
    "|Логические (bool)|❌ Не поддерживается|—|\n",
    "\n",
    "Если попытаться добавить пропуск в столбец с целыми числами (int) или логическими значениями (bool), pandas автоматически преобразует весь столбец в тип float (чтобы можно было использовать NaN)."
   ]
  },
  {
   "cell_type": "code",
   "execution_count": 7,
   "id": "20b38c8f-ec59-4d9d-b22f-6e8be0aa2895",
   "metadata": {},
   "outputs": [
    {
     "name": "stdout",
     "output_type": "stream",
     "text": [
      "Age    float64\n",
      "dtype: object\n"
     ]
    }
   ],
   "source": [
    "import pandas as pd\n",
    "import numpy as np\n",
    "\n",
    "df = pd.DataFrame({'Age': [25, 30]})  # Тип: int64\n",
    "df.loc[2] = np.nan  # Добавляем пропуск\n",
    "print(df.dtypes)  # Теперь тип: float64!"
   ]
  },
  {
   "cell_type": "markdown",
   "id": "6668d520-e463-4937-a201-374aaeac9360",
   "metadata": {},
   "source": [
    "**Новые типы данных в pandas 1.0+**\n",
    "|Новый тип|Описание|Пример|\n",
    "|-|-|-|\n",
    "|Int64|Целые числа с пропусками|25, NaN|\n",
    "|boolean|Логические значения с пропусками|True, NaN|\n",
    "|string|Строки с пропусками|\"Текст\", NaN|"
   ]
  },
  {
   "cell_type": "markdown",
   "id": "aad878ab-628d-4cbe-8bb6-bacc5fa762b5",
   "metadata": {},
   "source": [
    "Проверить пропуски"
   ]
  },
  {
   "cell_type": "code",
   "execution_count": 8,
   "id": "15c8e6ff-d8f7-432a-9970-2810dd730607",
   "metadata": {},
   "outputs": [
    {
     "name": "stdout",
     "output_type": "stream",
     "text": [
      "     Age   Name\n",
      "0  False  False\n",
      "1   True   True\n",
      "2  False  False\n"
     ]
    }
   ],
   "source": [
    "# Создаем датафрейм с пропусками\n",
    "df = pd.DataFrame({\n",
    "    'Age': [25, np.nan, 30],\n",
    "    'Name': ['Anna', np.nan, 'Ivan']\n",
    "})\n",
    "\n",
    "# Проверяем пропуски\n",
    "print(df.isna())"
   ]
  },
  {
   "cell_type": "markdown",
   "id": "0a8442d6-a887-4e20-8f24-78faee5a9952",
   "metadata": {},
   "source": [
    "Обработка пропусков  \n",
    "Удаление: `df.dropna()`  \n",
    "Заполнение: `df.fillna(0)` (заполнить нулями) или `df.fillna(df.mean())` (заполнить средним)"
   ]
  },
  {
   "cell_type": "markdown",
   "id": "b852838d-9e63-4111-acc9-919504e28713",
   "metadata": {},
   "source": [
    "## 6.8. Какую версию pandas использовать?"
   ]
  },
  {
   "cell_type": "code",
   "execution_count": 9,
   "id": "9a718a69-c82b-4ddb-9567-b8c5d1351217",
   "metadata": {},
   "outputs": [
    {
     "data": {
      "text/plain": [
       "'2.3.0'"
      ]
     },
     "execution_count": 9,
     "metadata": {},
     "output_type": "execute_result"
    }
   ],
   "source": [
    "# смотрим версию\n",
    "pd.__version__"
   ]
  },
  {
   "cell_type": "markdown",
   "id": "deb7941b-e28c-4546-8ea6-90865fb1fca4",
   "metadata": {},
   "source": [
    "## 6.9. Подробно знакомимся с типами данных"
   ]
  },
  {
   "cell_type": "markdown",
   "id": "a273417e-fa0b-4f0c-9d6e-72e3f34567e7",
   "metadata": {},
   "source": [
    "метод .astype() для изменения типов данных"
   ]
  },
  {
   "cell_type": "markdown",
   "id": "75ce8821-b93d-47a5-827d-622d1eb95d38",
   "metadata": {},
   "source": [
    "### 6.9.1. Типы данных для работы с числами и логическими значениями"
   ]
  },
  {
   "cell_type": "markdown",
   "id": "7f23a837-1136-4de7-aac6-a725a73df7d1",
   "metadata": {},
   "source": [
    "#### 6.9.1.1. Тип данных integer (тип для целых чисел, целочисленный тип), 'int64' или 'int32'"
   ]
  },
  {
   "cell_type": "markdown",
   "id": "c88a4562-5d50-4c02-8c1a-2b189b4c67e7",
   "metadata": {},
   "source": [
    "Целочисленные типы (int) в pandas и NumPy позволяют хранить целые числа с разным диапазоном значений и разным потреблением памяти.\n",
    "|Тип|Размер (биты)|Диапазон значений|Память|\n",
    "|-|-|-|-|\n",
    "|`int8`|8|от -128 до 127|⚡️ Очень мало|\n",
    "|`int16`|16|от -32768 до 32767|💾 Мало|\n",
    "|`int32`|32|от -2.1e9 до 2.1e9|✅ Стандарт|\n",
    "|`int64`|64|от -9.2e18 до 9.2e18|🐌 Много|"
   ]
  },
  {
   "cell_type": "markdown",
   "id": "a1512cdc-91d1-4326-9a39-5786395c541d",
   "metadata": {},
   "source": [
    "Tип по умолчанию, pandas выбирает  \n",
    "- Linux/macOS (64-bit): int64\n",
    "- Windows (64-bit): int32\n",
    "- 32-битные системы: int32"
   ]
  },
  {
   "cell_type": "code",
   "execution_count": 10,
   "id": "ad0a04e5-7ffc-401e-968c-69e480d9b917",
   "metadata": {},
   "outputs": [
    {
     "name": "stdout",
     "output_type": "stream",
     "text": [
      "int64\n"
     ]
    }
   ],
   "source": [
    "import pandas as pd\n",
    "\n",
    "# Создаем серию из целых чисел\n",
    "s = pd.Series([10, 35, 130])\n",
    "print(s.dtypes)"
   ]
  },
  {
   "cell_type": "code",
   "execution_count": 11,
   "id": "e4578c2d-6611-49fe-ab85-56e638e0716b",
   "metadata": {},
   "outputs": [
    {
     "name": "stdout",
     "output_type": "stream",
     "text": [
      "Machine parameters for int8\n",
      "---------------------------------------------------------------\n",
      "min = -128\n",
      "max = 127\n",
      "---------------------------------------------------------------\n",
      "\n",
      "Machine parameters for int64\n",
      "---------------------------------------------------------------\n",
      "min = -9223372036854775808\n",
      "max = 9223372036854775807\n",
      "---------------------------------------------------------------\n",
      "\n"
     ]
    }
   ],
   "source": [
    "# проверить диапазон типа\n",
    "\n",
    "import numpy as np\n",
    "\n",
    "# Диапазон для int8\n",
    "print(np.iinfo('int8'))\n",
    "# Вывод: min=-128, max=127\n",
    "\n",
    "# Диапазон для int64\n",
    "print(np.iinfo('int64'))\n",
    "# Вывод: min=-9223372036854775808, max=9223372036854775807"
   ]
  },
  {
   "cell_type": "markdown",
   "id": "0f4dcfcd-03b8-43ae-ab7b-850b986ad85a",
   "metadata": {},
   "source": [
    "Зачем нужно явно указывать типы?\n",
    "- Экономия памяти: Если числа маленькие, используйте int8 или int16.\n",
    "- Совместимость: Некоторые библиотеки требуют конкретных типов.\n",
    "- Безопасность: Избегайте переполнений."
   ]
  },
  {
   "cell_type": "markdown",
   "id": "a8329149-491b-4a5b-a7db-613041f1da6d",
   "metadata": {},
   "source": [
    "#### 6.9.1.2. Тип данных unsigned integer (тип для целых чисел без знака), 'uint64' или 'uint32'"
   ]
  },
  {
   "cell_type": "markdown",
   "id": "f1b89f48-61bc-4a05-9205-73970bd7947f",
   "metadata": {},
   "source": [
    "Целые числа без знака (unsigned integer) — это специальные типы данных, которые могут хранить только неотрицательные целые числа (т.е. от 0 и выше). Они полезны для экономии памяти, когда вам точно не нужны отрицательные значения.\n",
    "|Тип|Размер (биты)|Диапазон значений|Память|\n",
    "|-|-|-|-|\n",
    "|`uint8`|8|от 0 до 255|⚡️ Очень мало|\n",
    "|`uint16`|16|от 0 до 65535|💾 Мало|\n",
    "|`uint32`|32|от 0 до 4.3e9|✅ Стандарт|\n",
    "|`uint64`|64|от 0 до 1.8e19|🐌 Много|"
   ]
  },
  {
   "cell_type": "code",
   "execution_count": 12,
   "id": "6132bd16-5d8a-4fbb-afe7-ea4721569086",
   "metadata": {},
   "outputs": [
    {
     "name": "stdout",
     "output_type": "stream",
     "text": [
      "0     10\n",
      "1     35\n",
      "2    130\n",
      "dtype: uint8\n"
     ]
    }
   ],
   "source": [
    "import pandas as pd\n",
    "import numpy as np\n",
    "\n",
    "# Создаем серию с целыми числами\n",
    "s_int = pd.Series([10, 35, 130])\n",
    "\n",
    "# Преобразуем в uint8\n",
    "s_uint8 = s_int.astype('uint8')\n",
    "print(s_uint8)"
   ]
  },
  {
   "cell_type": "code",
   "execution_count": 13,
   "id": "1352c9aa-6a9c-416f-b913-9e3f39f8ca91",
   "metadata": {},
   "outputs": [
    {
     "name": "stdout",
     "output_type": "stream",
     "text": [
      "Machine parameters for uint8\n",
      "---------------------------------------------------------------\n",
      "min = 0\n",
      "max = 255\n",
      "---------------------------------------------------------------\n",
      "\n",
      "Machine parameters for uint64\n",
      "---------------------------------------------------------------\n",
      "min = 0\n",
      "max = 18446744073709551615\n",
      "---------------------------------------------------------------\n",
      "\n"
     ]
    }
   ],
   "source": [
    "# проверить диапазон типа\n",
    "\n",
    "# Диапазон для uint8\n",
    "print(np.iinfo('uint8'))\n",
    "# Вывод: min=0, max=255\n",
    "\n",
    "# Диапазон для uint64\n",
    "print(np.iinfo('uint64'))\n",
    "# Вывод: min=0, max=18446744073709551615"
   ]
  },
  {
   "cell_type": "markdown",
   "id": "35b69f03-7912-49d7-aee2-7ca37237416c",
   "metadata": {},
   "source": [
    "Зачем использовать uint?\n",
    "- Экономия памяти: uint8 занимает в 8 раз меньше памяти, чем int64.\n",
    "- Удобство для определенных данных: Например, возраст, количество items, пиксели изображений (всегда ≥ 0)."
   ]
  },
  {
   "cell_type": "markdown",
   "id": "fcec9e39-463a-475f-8b30-9b42f4dbd02b",
   "metadata": {},
   "source": [
    "#### 6.9.1.3. Тип данных nullable integer (тип для целых чисел, допускающий значения NULL), 'Int64'"
   ]
  },
  {
   "cell_type": "markdown",
   "id": "bef64e77-d80e-4d5e-919c-6eae1af2c4dc",
   "metadata": {},
   "source": [
    "Nullable integer — это специальный тип данных в pandas, который позволяет хранить целые числа вместе с пропусками (NULL значениями). Он был введен, чтобы решить проблему, когда обычные целочисленные типы (int64, int32 и др.) не поддерживают пропуски.\n",
    "\n",
    "Обычные целочисленные типы в pandas/NumPy не поддерживают пропуски. Если попытаться добавить NaN в такой столбец, pandas автоматически преобразует его во float:"
   ]
  },
  {
   "cell_type": "code",
   "execution_count": 14,
   "id": "38430e7b-fb04-4cad-a155-4544bb3e322b",
   "metadata": {},
   "outputs": [
    {
     "name": "stdout",
     "output_type": "stream",
     "text": [
      "0      10\n",
      "1      35\n",
      "2     130\n",
      "3    <NA>\n",
      "dtype: Int64\n"
     ]
    }
   ],
   "source": [
    "# Создаем серию с типом Int64\n",
    "s_nullable = pd.Series([10, 35, 130, np.nan], dtype='Int64')\n",
    "print(s_nullable)"
   ]
  },
  {
   "cell_type": "markdown",
   "id": "8438b762-e8d4-4e82-bf7b-c87f7a409cd0",
   "metadata": {},
   "source": [
    "Особенности Int64\n",
    "- Обозначение пропуска: `<NA>` (вместо `NaN`)\n",
    "- Синтаксис: `'Int8'`, `'Int16'`, `'Int32'`, `'Int64'` (с заглавной буквы!)\n",
    "- Безопасность: Проверяет диапазон значений и выдает ошибку при переполнении\n",
    "- Только в pandas: В NumPy такого типа нет"
   ]
  },
  {
   "cell_type": "code",
   "execution_count": 15,
   "id": "ce4ff09f-3d52-45d7-b18b-5083173d2252",
   "metadata": {},
   "outputs": [
    {
     "name": "stdout",
     "output_type": "stream",
     "text": [
      "Ошибка: cannot safely cast non-equivalent int64 to int8\n"
     ]
    }
   ],
   "source": [
    "# Пример с ошибкой переполнения\n",
    "\n",
    "# Попытка сохранить 130 в Int8 (диапазон: -128 до 127)\n",
    "try:\n",
    "    s_error = pd.Series([10, 35, 130], dtype='Int8')\n",
    "except Exception as e:\n",
    "    print(f\"Ошибка: {e}\")"
   ]
  },
  {
   "cell_type": "markdown",
   "id": "cdff3b87-c2f9-4ece-8efc-4d1e00fd43b8",
   "metadata": {},
   "source": [
    "#### 6.9.1.4. Тип данных nullable unsigned integer (тип для целых чисел без знака, допускающий значения NULL), 'UInt64'"
   ]
  },
  {
   "cell_type": "code",
   "execution_count": 16,
   "id": "86e36565-7b72-4449-a595-59b008fd34f3",
   "metadata": {},
   "outputs": [
    {
     "data": {
      "text/plain": [
       "0      10\n",
       "1      35\n",
       "2     130\n",
       "3    <NA>\n",
       "dtype: UInt8"
      ]
     },
     "execution_count": 16,
     "metadata": {},
     "output_type": "execute_result"
    }
   ],
   "source": [
    "# Создаем серию с типом UInt64\n",
    "pd.Series([10, 35, 130, pd.NA], dtype='UInt8')"
   ]
  },
  {
   "cell_type": "markdown",
   "id": "3b2381dd-7020-4de4-a11a-fd24ddae73f8",
   "metadata": {},
   "source": [
    "#### 6.9.1.5. Тип данных float (тип для чисел с плавающей точкой), 'float64' или 'float32'"
   ]
  },
  {
   "cell_type": "markdown",
   "id": "4b08cd21-4213-4f92-aaa6-f36af052d25f",
   "metadata": {},
   "source": [
    "Типы float используются для хранения дробных чисел (чисел с плавающей точкой). Они поддерживают пропуски значений и имеют разную точность в зависимости от размера.\n",
    "|Тип|Размер (биты)|Точность|Диапазон|Память|\n",
    "|-|-|-|-|-|\n",
    "|`float16`|16|~3 знака|±6.55×10⁴|⚡️ Мало|\n",
    "|`float32`|32|~6 знаков|±3.40×10³⁸|💾 Средне|\n",
    "|`float64`|\t64|~15 знаков|±1.80×10³⁰⁸|✅ Стандарт|"
   ]
  },
  {
   "cell_type": "code",
   "execution_count": 17,
   "id": "60b05a2f-0ec8-4429-854c-636b8f82be58",
   "metadata": {},
   "outputs": [
    {
     "name": "stdout",
     "output_type": "stream",
     "text": [
      "0       5.26000\n",
      "1    1234.56789\n",
      "2           NaN\n",
      "dtype: float64\n"
     ]
    }
   ],
   "source": [
    "# Создаем серию с дробными числами и пропуском\n",
    "s_float = pd.Series([5.26, 1234.56789, np.nan])\n",
    "print(s_float)"
   ]
  },
  {
   "cell_type": "code",
   "execution_count": 18,
   "id": "1553a8c8-1420-4c92-87ff-4a07519d20a3",
   "metadata": {},
   "outputs": [
    {
     "name": "stdout",
     "output_type": "stream",
     "text": [
      "Machine parameters for float32\n",
      "---------------------------------------------------------------\n",
      "precision =   6   resolution = 1.0000000e-06\n",
      "machep =    -23   eps =        1.1920929e-07\n",
      "negep =     -24   epsneg =     5.9604645e-08\n",
      "minexp =   -126   tiny =       1.1754944e-38\n",
      "maxexp =    128   max =        3.4028235e+38\n",
      "nexp =        8   min =        -max\n",
      "smallest_normal = 1.1754944e-38   smallest_subnormal = 1.4012985e-45\n",
      "---------------------------------------------------------------\n",
      "\n",
      "Machine parameters for float16\n",
      "---------------------------------------------------------------\n",
      "precision =   3   resolution = 1.00040e-03\n",
      "machep =    -10   eps =        9.76562e-04\n",
      "negep =     -11   epsneg =     4.88281e-04\n",
      "minexp =    -14   tiny =       6.10352e-05\n",
      "maxexp =     16   max =        6.55040e+04\n",
      "nexp =        5   min =        -max\n",
      "smallest_normal = 6.10352e-05   smallest_subnormal = 5.96046e-08\n",
      "---------------------------------------------------------------\n",
      "\n"
     ]
    }
   ],
   "source": [
    "# Проверка характеристик типов\n",
    "# Для float32\n",
    "print(np.finfo('float32'))\n",
    "\n",
    "# Для float16\n",
    "print(np.finfo('float16'))"
   ]
  },
  {
   "cell_type": "markdown",
   "id": "75ad5b12-b05f-4998-afc0-331690077865",
   "metadata": {},
   "source": [
    "#### 6.9.1.6. Тип данных nullable float (тип для чисел с плавающей точкой, допускающий значения NULL), 'Float64'"
   ]
  },
  {
   "cell_type": "code",
   "execution_count": 19,
   "id": "1a07fd08-fe8c-41e2-821c-03121c8ef64c",
   "metadata": {},
   "outputs": [
    {
     "data": {
      "text/plain": [
       "0          5.26\n",
       "1    1234.56789\n",
       "2          <NA>\n",
       "dtype: Float64"
      ]
     },
     "execution_count": 19,
     "metadata": {},
     "output_type": "execute_result"
    }
   ],
   "source": [
    "# преобразовываем из типа float\n",
    "# в тип nullable float (Float64)\n",
    "nullable_float = s_float.astype('Float64')\n",
    "nullable_float"
   ]
  },
  {
   "cell_type": "markdown",
   "id": "aa42aab4-83c3-489d-a222-87f9da3df8c8",
   "metadata": {},
   "source": [
    "#### 6.9.1.7. Тип данных boolean (логический тип, булев тип), 'bool'"
   ]
  },
  {
   "cell_type": "markdown",
   "id": "dad6253d-3b5f-4af0-bde9-81ddcdc1c0dd",
   "metadata": {},
   "source": [
    "Логический тип (bool) используется для хранения значений True (истина) и False (ложь). Это самый простой тип данных, но с важными особенностями преобразования."
   ]
  },
  {
   "cell_type": "code",
   "execution_count": 20,
   "id": "7d3a8651-d4c3-484a-8b17-034ed59755cb",
   "metadata": {},
   "outputs": [
    {
     "name": "stdout",
     "output_type": "stream",
     "text": [
      "0     True\n",
      "1    False\n",
      "2     True\n",
      "dtype: bool\n"
     ]
    }
   ],
   "source": [
    "# Создаем серию с логическими значениями\n",
    "s_bool = pd.Series([True, False, True])\n",
    "print(s_bool)"
   ]
  },
  {
   "cell_type": "code",
   "execution_count": 21,
   "id": "42324359-2ff9-46fb-80f5-353519427238",
   "metadata": {},
   "outputs": [
    {
     "name": "stdout",
     "output_type": "stream",
     "text": [
      "0    False\n",
      "1     True\n",
      "2     True\n",
      "3     True\n",
      "dtype: bool\n",
      "0    False\n",
      "1     True\n",
      "2     True\n",
      "dtype: bool\n"
     ]
    }
   ],
   "source": [
    "# Преобразование других типов в bool\n",
    "s_int = pd.Series([0, 1, 59, -35])\n",
    "s_bool_from_int = s_int.astype('bool')\n",
    "print(s_bool_from_int)\n",
    "\n",
    "s_float = pd.Series([0.0, 0.0001, -3.99])\n",
    "s_bool_from_float = s_float.astype('bool')\n",
    "print(s_bool_from_float)"
   ]
  },
  {
   "cell_type": "code",
   "execution_count": 22,
   "id": "30ac34f6-6e9a-4b49-9426-484468b47222",
   "metadata": {},
   "outputs": [
    {
     "name": "stdout",
     "output_type": "stream",
     "text": [
      "0    1\n",
      "1    0\n",
      "dtype: int64\n",
      "0    1.0\n",
      "1    0.0\n",
      "dtype: float64\n"
     ]
    }
   ],
   "source": [
    "# Преобразование bool в другие типы\n",
    "s_bool = pd.Series([True, False])\n",
    "s_int_from_bool = s_bool.astype('int64')\n",
    "print(s_int_from_bool)\n",
    "\n",
    "s_float_from_bool = s_bool.astype('float64')\n",
    "print(s_float_from_bool)"
   ]
  },
  {
   "cell_type": "markdown",
   "id": "01e5a459-752b-4a67-b764-388358f99604",
   "metadata": {},
   "source": [
    "Практическое применение\n",
    "- Фильтрация данных: `df[df['Age'] > 30]`\n",
    "- Создание масок: `df['Is_Adult'] = df['Age'] >= 18`\n",
    "- Агрегация: `df['Flags'].sum()` — подсчет количества True"
   ]
  },
  {
   "cell_type": "markdown",
   "id": "07c9ea89-e1bf-4e5c-8ac6-622841242743",
   "metadata": {},
   "source": [
    "#### 6.9.1.8. Тип данных nullable boolean (логический тип, допускающий значения NULL), 'Boolean'"
   ]
  },
  {
   "cell_type": "markdown",
   "id": "9736cb31-7c7c-4cc0-8f89-71a20066ec22",
   "metadata": {},
   "source": [
    "Nullable boolean — это специальный логический тип в pandas, который поддерживает пропуски значений. Он был добавлен в версии 1.0 для решения проблем обычного типа bool."
   ]
  },
  {
   "cell_type": "markdown",
   "id": "4a737bd2-515e-4608-953e-6349e882748a",
   "metadata": {},
   "source": [
    "```python\n",
    "s = pd.Series([True, False, True])\n",
    "s.loc[0] = np.nan  # Меняем первый элемент на NaN\n",
    "print(s)\n",
    "```\n",
    "```text\n",
    "0    NaN    # Теперь тип object!\n",
    "1    False\n",
    "2     True\n",
    "dtype: object\n",
    "```"
   ]
  },
  {
   "cell_type": "code",
   "execution_count": 23,
   "id": "0faa7c66-ed4b-4964-b4e6-4ac3f9ba8faa",
   "metadata": {},
   "outputs": [
    {
     "name": "stdout",
     "output_type": "stream",
     "text": [
      "0     True\n",
      "1    False\n",
      "2     <NA>\n",
      "dtype: boolean\n"
     ]
    }
   ],
   "source": [
    "# Тип 'boolean' (с маленькой буквы!) правильно обрабатывает пропуски:\n",
    "\n",
    "# Создаем серию с nullable boolean\n",
    "s_nullable_bool = pd.Series([True, False, np.nan], dtype='boolean')\n",
    "print(s_nullable_bool)"
   ]
  },
  {
   "cell_type": "markdown",
   "id": "e00ee497-1b5c-4490-9a38-c04006d244e6",
   "metadata": {},
   "source": [
    "Сравнение с обычным bool\n",
    "|Характеристика|Обычный `bool`|Nullable `boolean`|\n",
    "|-|-|-|\n",
    "|Пропуски|❌ Не поддерживает|✅ Поддерживает (<NA>)|\n",
    "|Поведение с NaN|Превращает в `True`|Сохраняет как пропуск|\n",
    "|Память|1 байт/значение|1 байт/значение|\n",
    "|Стабильность|Стабильный|Экспериментальный|"
   ]
  },
  {
   "cell_type": "code",
   "execution_count": 24,
   "id": "d918407f-cbaf-44b9-958b-d9dba04eb8a5",
   "metadata": {},
   "outputs": [
    {
     "name": "stdout",
     "output_type": "stream",
     "text": [
      "0     True\n",
      "1    False\n",
      "2     <NA>\n",
      "3     True\n",
      "dtype: boolean\n",
      "0     True\n",
      "1    False\n",
      "2     <NA>\n",
      "3     True\n",
      "dtype: boolean\n"
     ]
    }
   ],
   "source": [
    "# Создаем серию с пропусками\n",
    "survey_data = pd.Series([True, False, None, True], dtype='boolean')\n",
    "print(survey_data)\n",
    "\n",
    "# Логические операции\n",
    "print(survey_data & True)  # AND с True"
   ]
  },
  {
   "cell_type": "markdown",
   "id": "127acc7e-5737-4038-8c95-6a971c43fb63",
   "metadata": {},
   "source": [
    "### 6.9.2. Типы данных для работы со строками"
   ]
  },
  {
   "cell_type": "markdown",
   "id": "1b9a2abd-6247-4dd8-91fa-fda48c3dd715",
   "metadata": {},
   "source": [
    "#### 6.9.2.1. Тип данных object (объектный тип), 'object'"
   ]
  },
  {
   "cell_type": "markdown",
   "id": "a0632d2f-1a6a-48e3-a3b6-8976cc9459c4",
   "metadata": {},
   "source": [
    "Тип object — это универсальный тип данных в pandas, который может хранить любые объекты Python. До версии pandas 1.0 он использовался в основном для хранения строк, но может содержать что угодно.\n",
    "\n",
    "Основные характеристики типа object\n",
    "- Универсальность: Может хранить любые объекты Python\n",
    "- Размер: Не имеет фиксированного размера (в отличие от int64, float64)\n",
    "- Наследие: Унаследован из NumPy (обозначается как dtype('O'))\n",
    "- Гибкость: Разные элементы в одной серии могут быть разных типов"
   ]
  },
  {
   "cell_type": "code",
   "execution_count": 25,
   "id": "e63657b8-4b66-4c3d-9ec7-3263944c0a15",
   "metadata": {},
   "outputs": [
    {
     "name": "stdout",
     "output_type": "stream",
     "text": [
      "0       some\n",
      "1    strings\n",
      "dtype: object\n",
      "Тип данных: object\n"
     ]
    }
   ],
   "source": [
    "import pandas as pd\n",
    "\n",
    "# Серия со строковыми значениями\n",
    "s_object = pd.Series(['some', 'strings'])\n",
    "print(s_object)\n",
    "print(f\"Тип данных: {s_object.dtype}\")"
   ]
  },
  {
   "cell_type": "code",
   "execution_count": 26,
   "id": "54168868-5799-4d16-942f-cd431c54a907",
   "metadata": {},
   "outputs": [
    {
     "name": "stdout",
     "output_type": "stream",
     "text": [
      "True\n"
     ]
    }
   ],
   "source": [
    "# Проверка типа через NumPy\n",
    "import numpy as np\n",
    "print(s_object.dtype == np.dtype('O'))"
   ]
  },
  {
   "cell_type": "markdown",
   "id": "6d8039c2-5749-4e97-b66c-39b5950f58d5",
   "metadata": {},
   "source": [
    "Тип object может содержать любые объекты Python в одной серии"
   ]
  },
  {
   "cell_type": "code",
   "execution_count": 27,
   "id": "3cbee72a-f64a-4080-a0a9-2a6577f70862",
   "metadata": {},
   "outputs": [
    {
     "name": "stdout",
     "output_type": "stream",
     "text": [
      "0              [1, 2]\n",
      "1                True\n",
      "2         some string\n",
      "3                 4.5\n",
      "4    {'key': 'value'}\n",
      "dtype: object\n",
      "\n",
      "Типы элементов:\n",
      "Элемент 0: <class 'list'>\n",
      "Элемент 1: <class 'bool'>\n",
      "Элемент 2: <class 'str'>\n",
      "Элемент 3: <class 'float'>\n",
      "Элемент 4: <class 'dict'>\n"
     ]
    }
   ],
   "source": [
    "# Серия с разными типами данных\n",
    "garbage_series = pd.Series([\n",
    "    [1, 2],           # список\n",
    "    True,             # булево значение\n",
    "    'some string',    # строка\n",
    "    4.5,              # число\n",
    "    {'key': 'value'}  # словарь\n",
    "])\n",
    "\n",
    "print(garbage_series)\n",
    "print(\"\\nТипы элементов:\")\n",
    "for i in range(len(garbage_series)):\n",
    "    print(f\"Элемент {i}: {type(garbage_series.loc[i])}\")"
   ]
  },
  {
   "cell_type": "markdown",
   "id": "60b91f4e-82a9-4ba3-b17e-58f3d63f5c66",
   "metadata": {},
   "source": [
    "Любую серию можно преобразовать в тип object"
   ]
  },
  {
   "cell_type": "code",
   "execution_count": 28,
   "id": "775f457b-5846-4998-8c91-d9ee406f57f6",
   "metadata": {},
   "outputs": [
    {
     "name": "stdout",
     "output_type": "stream",
     "text": [
      "Исходный тип: int64\n",
      "Новый тип: object\n",
      "Тип первого элемента: <class 'int'>\n"
     ]
    }
   ],
   "source": [
    "# Исходная серия с целыми числами\n",
    "s_int = pd.Series([5, 10])\n",
    "print(f\"Исходный тип: {s_int.dtype}\")  # int64\n",
    "\n",
    "# Преобразуем в object\n",
    "s_obj = s_int.astype('object')\n",
    "print(f\"Новый тип: {s_obj.dtype}\")  # object\n",
    "\n",
    "# Но значения остаются целыми числами!\n",
    "print(f\"Тип первого элемента: {type(s_obj.loc[0])}\")  # numpy.int64"
   ]
  },
  {
   "cell_type": "markdown",
   "id": "ca96f174-c569-4661-b216-f54fe14a6c7a",
   "metadata": {},
   "source": [
    " Когда использовать тип object?  \n",
    "✅ Для строк (до pandas 1.0)  \n",
    "✅ Временное хранение разнородных данных  \n",
    "❌ Не для числовых вычислений  \n",
    "❌ Не для больших datasets (из-за производительности)"
   ]
  },
  {
   "cell_type": "markdown",
   "id": "c9b090bf-09b5-4484-8aa2-ff2e298eb7b8",
   "metadata": {},
   "source": [
    "#### 6.9.2.2. Тип данных Categorical (категориальный тип), 'category'"
   ]
  },
  {
   "cell_type": "markdown",
   "id": "d38a5afa-a03c-45da-83bb-73081e215052",
   "metadata": {},
   "source": [
    "Категориальный тип — это специальный тип данных в pandas для хранения ограниченного набора значений (категорий). Он особенно полезен когда данные имеют повторяющиеся значения.\n",
    "\n",
    "Идеально подходит для данных которые:  \n",
    "✅ Имеют ограниченное число уникальных значений (например, пол: \"М\", \"Ж\")  \n",
    "✅ Часто повторяются (например, должности в компании)  \n",
    "✅ Дискретны и известны заранее  \n",
    "✅ Нужно экономить память и ускорить операции"
   ]
  },
  {
   "cell_type": "code",
   "execution_count": 29,
   "id": "13e6991b-e660-4579-929b-01f946b0a7d6",
   "metadata": {},
   "outputs": [
    {
     "name": "stdout",
     "output_type": "stream",
     "text": [
      "<class 'pandas.core.frame.DataFrame'>\n",
      "RangeIndex: 170746 entries, 0 to 170745\n",
      "Data columns (total 15 columns):\n",
      " #   Column                Non-Null Count   Dtype  \n",
      "---  ------                --------------   -----  \n",
      " 0   client_id             170746 non-null  int64  \n",
      " 1   gender                170746 non-null  object \n",
      " 2   age                   170743 non-null  float64\n",
      " 3   marital_status        170743 non-null  object \n",
      " 4   job_position          170746 non-null  object \n",
      " 5   credit_sum            170744 non-null  float64\n",
      " 6   credit_month          170746 non-null  int64  \n",
      " 7   tariff_id             170746 non-null  object \n",
      " 8   score_shk             170739 non-null  float64\n",
      " 9   education             170741 non-null  object \n",
      " 10  living_region         170554 non-null  object \n",
      " 11  monthly_income        170741 non-null  float64\n",
      " 12  credit_count          161516 non-null  float64\n",
      " 13  overdue_credit_count  161516 non-null  float64\n",
      " 14  open_account_flg      170746 non-null  int64  \n",
      "dtypes: float64(6), int64(3), object(6)\n",
      "memory usage: 19.5+ MB\n",
      "\n",
      "0    UMN\n",
      "1    UMN\n",
      "2    SPC\n",
      "3    SPC\n",
      "4    SPC\n",
      "Name: job_position, dtype: category\n",
      "Categories (18, object): ['ATP', 'BIS', 'BIU', 'DIR', ..., 'UMN', 'WOI', 'WRK', 'WRP']\n"
     ]
    }
   ],
   "source": [
    "import pandas as pd\n",
    "\n",
    "# Загрузка данных\n",
    "credit = pd.read_csv('Data/credit_train.csv', encoding='cp1251', decimal=',', sep=';')\n",
    "\n",
    "credit.info()\n",
    "print()\n",
    "\n",
    "# Преобразование в категориальный тип\n",
    "job_position = credit['job_position']\n",
    "job_position_cat = job_position.astype('category')\n",
    "\n",
    "print(job_position_cat.head())"
   ]
  },
  {
   "cell_type": "markdown",
   "id": "6e8ca29a-4db7-4c51-ad49-8e8a1a22861c",
   "metadata": {},
   "source": [
    "Pandas хранит данные в двух частях:\n",
    "- Список категорий (уникальные значения)\n",
    "- Целочисленные коды (ссылки на категории)"
   ]
  },
  {
   "cell_type": "code",
   "execution_count": 30,
   "id": "3f04cdfe-bc15-459b-be5c-b066deccc3b1",
   "metadata": {},
   "outputs": [
    {
     "data": {
      "text/plain": [
       "['Java', 'Java', 'Python', 'Scala', 'Python', 'Java']"
      ]
     },
     "execution_count": 30,
     "metadata": {},
     "output_type": "execute_result"
    }
   ],
   "source": [
    "# Аналогия с Python списками\n",
    "cats = ['Python', 'Java', 'Scala']  # Список категорий\n",
    "vals = [1, 1, 0, 2, 0, 1]          # Целочисленные коды\n",
    "\n",
    "# Преобразование обратно в значения\n",
    "[cats[val] for val in vals]  # ['Java', 'Java', 'Python', 'Scala', 'Python', 'Java']"
   ]
  },
  {
   "cell_type": "markdown",
   "id": "53288fd1-4d12-47eb-9fa6-c16bbed03379",
   "metadata": {},
   "source": [
    "Преимущества категориального типа. Экономия памяти и Ускорение операций"
   ]
  },
  {
   "cell_type": "code",
   "execution_count": 31,
   "id": "f5ca9e1e-a00a-4e1b-a0c9-394c1b97cc44",
   "metadata": {},
   "outputs": [
    {
     "name": "stdout",
     "output_type": "stream",
     "text": [
      "Экономия памяти: 59.4 раз!\n"
     ]
    }
   ],
   "source": [
    "# Память для обычного типа object\n",
    "orig_mem = job_position.memory_usage(deep=True)  # 10,244,888 байт\n",
    "\n",
    "# Память для категориального типа  \n",
    "cat_mem = job_position_cat.memory_usage(deep=True)  # 172,510 байт\n",
    "\n",
    "print(f\"Экономия памяти: {orig_mem / cat_mem:.1f} раз!\")"
   ]
  },
  {
   "cell_type": "code",
   "execution_count": 32,
   "id": "40ca5297-cd10-430a-8b7c-d405f48f5a51",
   "metadata": {},
   "outputs": [
    {
     "name": "stdout",
     "output_type": "stream",
     "text": [
      "5.62 ms ± 372 μs per loop (mean ± std. dev. of 7 runs, 100 loops each)\n",
      "48.1 μs ± 3.67 μs per loop (mean ± std. dev. of 7 runs, 10,000 loops each)\n"
     ]
    }
   ],
   "source": [
    "# Фильтрация в 40 раз быстрее!\n",
    "%timeit job_position == 'SPC'\n",
    "%timeit job_position_cat == 'SPC'"
   ]
  },
  {
   "cell_type": "code",
   "execution_count": 33,
   "id": "291e59b3-f2d4-4dc7-b2b8-497f1c3d5dee",
   "metadata": {},
   "outputs": [
    {
     "name": "stdout",
     "output_type": "stream",
     "text": [
      "Index(['ATP', 'BIS', 'BIU', 'DIR', 'HSK', 'INP', 'INV', 'NOR', 'ONB', 'PNA',\n",
      "       'PNI', 'PNS', 'PNV', 'SPC', 'UMN', 'WOI', 'WRK', 'WRP'],\n",
      "      dtype='object')\n",
      "0    14\n",
      "1    14\n",
      "2    13\n",
      "3    13\n",
      "4    13\n",
      "dtype: int8\n"
     ]
    }
   ],
   "source": [
    "# Просмотр категорий\n",
    "\n",
    "# Уникальные категории\n",
    "print(job_position_cat.cat.categories)\n",
    "# Index(['ATP', 'BIS', 'BIU', 'DIR', ...], dtype='object')\n",
    "\n",
    "# Целочисленные коды\n",
    "print(job_position_cat.cat.codes.head())\n",
    "# 0    14\n",
    "# 1    14  \n",
    "# 2    13\n",
    "# dtype: int8"
   ]
  },
  {
   "cell_type": "code",
   "execution_count": 34,
   "id": "5a0698ec-c03d-4579-84f9-affb580043b2",
   "metadata": {},
   "outputs": [
    {
     "name": "stdout",
     "output_type": "stream",
     "text": [
      "0    10\n",
      "1     6\n",
      "2    12\n",
      "3    12\n",
      "4    10\n",
      "Name: credit_month, dtype: category\n",
      "Categories (31, int64): [3, 4, 5, 6, ..., 30, 31, 32, 36]\n"
     ]
    }
   ],
   "source": [
    "# С числовыми категориями\n",
    "# Месяцы кредита как категории\n",
    "credit_month_cat = credit['credit_month'].astype('category')\n",
    "print(credit_month_cat.head())"
   ]
  },
  {
   "cell_type": "markdown",
   "id": "5cd1ef1d-2a13-4b0f-9723-d422a3b07c22",
   "metadata": {},
   "source": [
    "Когда не использовать категориальный тип?  \n",
    "❌ Когда много уникальных значений (больше 50% от общего числа)  \n",
    "❌ Когда данные постоянно меняются (добавляются новые категории)  \n",
    "❌ Для числовых вычислений (суммирование, усреднение)"
   ]
  },
  {
   "cell_type": "markdown",
   "id": "918a5e37-1ccf-416a-b135-3eea9a06cefd",
   "metadata": {},
   "source": [
    "#### 6.9.2.3. Тип данных string (строковый тип), 'string'"
   ]
  },
  {
   "cell_type": "markdown",
   "id": "b0a01781-4c20-417d-aeda-a753ed39b211",
   "metadata": {},
   "source": [
    "**Строковый тип** — это новый тип данных в pandas, специально предназначенный для работы со строками. Он был добавлен в версии 1.0 и пока помечен как экспериментальный."
   ]
  },
  {
   "cell_type": "markdown",
   "id": "11c7be95-4c03-48f5-b063-f932fd43d53c",
   "metadata": {},
   "source": [
    "Создание строкового типа"
   ]
  },
  {
   "cell_type": "code",
   "execution_count": 35,
   "id": "b5e9966d-9f7e-46c8-8206-4ae5d5208b3e",
   "metadata": {},
   "outputs": [
    {
     "name": "stdout",
     "output_type": "stream",
     "text": [
      "0    Python\n",
      "1      Java\n",
      "2     Scala\n",
      "3      <NA>\n",
      "dtype: string\n",
      "0    Python\n",
      "1      Java\n",
      "2     Scala\n",
      "3      <NA>\n",
      "dtype: string\n"
     ]
    }
   ],
   "source": [
    "import pandas as pd\n",
    "\n",
    "# Способ 1: Через строковое значение\n",
    "s_string = pd.Series(['Python', 'Java', 'Scala', pd.NA], dtype='string')\n",
    "print(s_string)\n",
    "\n",
    "# Способ 2: Через объект StringDtype\n",
    "s_string = pd.Series(['Python', 'Java', 'Scala', pd.NA], \n",
    "                    dtype=pd.StringDtype())\n",
    "print(s_string)"
   ]
  },
  {
   "cell_type": "markdown",
   "id": "fab70c4a-8d13-45b3-90b3-361ad17d766a",
   "metadata": {},
   "source": [
    "Ключевые особенности строкового типа  \n",
    "✅ Гарантированно содержит только строки (и пропуски)  \n",
    "✅ Единообразное поведение — все элементы становятся строками  \n",
    "✅ Безопасность — меньше ошибок по сравнению с object  \n",
    "❌ Экспериментальный статус — возможны изменения в будущем  "
   ]
  },
  {
   "cell_type": "markdown",
   "id": "6899c925-5a4a-4300-a2aa-8ecaa51c7f68",
   "metadata": {},
   "source": [
    "Преобразование в строковый тип"
   ]
  },
  {
   "cell_type": "code",
   "execution_count": 36,
   "id": "b7a666a4-0aeb-4011-9354-1e5c4d0976c9",
   "metadata": {},
   "outputs": [
    {
     "name": "stdout",
     "output_type": "stream",
     "text": [
      "0              [1, 2]\n",
      "1                True\n",
      "2         some string\n",
      "3                 4.5\n",
      "4    {'key': 'value'}\n",
      "dtype: string\n"
     ]
    }
   ],
   "source": [
    "# Создаем серию с разными типами данных\n",
    "garbage_series = pd.Series([[1,2], True, 'some string', 4.5, {'key': 'value'}])\n",
    "\n",
    "# Преобразуем в string - все становится строками!\n",
    "garbage_string = garbage_series.astype('string')\n",
    "print(garbage_string)"
   ]
  },
  {
   "cell_type": "code",
   "execution_count": 37,
   "id": "97563a6d-a5d4-4f98-9bbc-47ee7193bd02",
   "metadata": {},
   "outputs": [
    {
     "name": "stdout",
     "output_type": "stream",
     "text": [
      "<class 'str'>\n",
      "<class 'str'>\n",
      "<class 'str'>\n"
     ]
    }
   ],
   "source": [
    "print(type(garbage_string.loc[0]))  # <class 'str'>\n",
    "print(type(garbage_string.loc[1]))  # <class 'str'> \n",
    "print(type(garbage_string.loc[2]))  # <class 'str'>"
   ]
  },
  {
   "cell_type": "code",
   "execution_count": 38,
   "id": "61be8f77-218f-4b8c-8a0b-80e5fb0a548f",
   "metadata": {},
   "outputs": [
    {
     "name": "stdout",
     "output_type": "stream",
     "text": [
      "0    PYTHON\n",
      "1      JAVA\n",
      "2     SCALA\n",
      "dtype: string\n"
     ]
    }
   ],
   "source": [
    "# Работа со строковыми методами\n",
    "s_string = pd.Series(['Python', 'Java', 'Scala'], dtype='string')\n",
    "print(s_string.str.upper())"
   ]
  },
  {
   "cell_type": "markdown",
   "id": "721bf978-3001-4faa-806b-f3e54616bf83",
   "metadata": {},
   "source": [
    "|Тип|Описание|Преимущества|Недостатки|\n",
    "|-|-|-|-|\n",
    "|`object`|Универсальный|Гибкость|Медленный, ненадежный|\n",
    "|`string`|Строковый|Безопасность, скорость|Экспериментальный|\n",
    "|`category`|Категориальный|Экономия памяти|Для повторяющихся значений|"
   ]
  },
  {
   "cell_type": "markdown",
   "id": "1c9bcd8c-5bc8-4d3e-ac9f-10adc0f94c10",
   "metadata": {},
   "source": [
    "## 6.10. Чтение данных"
   ]
  },
  {
   "cell_type": "markdown",
   "id": "05c5d797-161d-4e77-bba9-b6d48a48fd63",
   "metadata": {},
   "source": [
    "Чтение данных — это первая и важнейшая операция при работе с pandas. Рассмотрим основные моменты на примере функции pd.read_csv()."
   ]
  },
  {
   "cell_type": "code",
   "execution_count": 39,
   "id": "3a04a4b6-f3b5-436a-8d4e-a06d5eb22e9f",
   "metadata": {},
   "outputs": [
    {
     "data": {
      "text/html": [
       "<div>\n",
       "<style scoped>\n",
       "    .dataframe tbody tr th:only-of-type {\n",
       "        vertical-align: middle;\n",
       "    }\n",
       "\n",
       "    .dataframe tbody tr th {\n",
       "        vertical-align: top;\n",
       "    }\n",
       "\n",
       "    .dataframe thead th {\n",
       "        text-align: right;\n",
       "    }\n",
       "</style>\n",
       "<table border=\"1\" class=\"dataframe\">\n",
       "  <thead>\n",
       "    <tr style=\"text-align: right;\">\n",
       "      <th></th>\n",
       "      <th>gender</th>\n",
       "      <th>starttime</th>\n",
       "      <th>stoptime</th>\n",
       "      <th>tripduration</th>\n",
       "      <th>from_station_name</th>\n",
       "      <th>start_capacity</th>\n",
       "      <th>to_station_name</th>\n",
       "      <th>end_capacity</th>\n",
       "      <th>temperature</th>\n",
       "      <th>wind_speed</th>\n",
       "      <th>events</th>\n",
       "    </tr>\n",
       "  </thead>\n",
       "  <tbody>\n",
       "    <tr>\n",
       "      <th>0</th>\n",
       "      <td>Male</td>\n",
       "      <td>2013-06-28 19:01:00</td>\n",
       "      <td>2013-06-28 19:17:00</td>\n",
       "      <td>993</td>\n",
       "      <td>Lake Shore Dr &amp; Monroe St</td>\n",
       "      <td>11.0</td>\n",
       "      <td>Michigan Ave &amp; Oak St</td>\n",
       "      <td>15.0</td>\n",
       "      <td>73.9</td>\n",
       "      <td>12.7</td>\n",
       "      <td>mostlycloudy</td>\n",
       "    </tr>\n",
       "    <tr>\n",
       "      <th>1</th>\n",
       "      <td>Male</td>\n",
       "      <td>2013-06-28 22:53:00</td>\n",
       "      <td>2013-06-28 23:03:00</td>\n",
       "      <td>623</td>\n",
       "      <td>Clinton St &amp; Washington Blvd</td>\n",
       "      <td>31.0</td>\n",
       "      <td>Wells St &amp; Walton St</td>\n",
       "      <td>19.0</td>\n",
       "      <td>69.1</td>\n",
       "      <td>6.9</td>\n",
       "      <td>partlycloudy</td>\n",
       "    </tr>\n",
       "    <tr>\n",
       "      <th>2</th>\n",
       "      <td>Male</td>\n",
       "      <td>2013-06-30 14:43:00</td>\n",
       "      <td>2013-06-30 15:01:00</td>\n",
       "      <td>1040</td>\n",
       "      <td>Sheffield Ave &amp; Kingsbury St</td>\n",
       "      <td>15.0</td>\n",
       "      <td>Dearborn St &amp; Monroe St</td>\n",
       "      <td>23.0</td>\n",
       "      <td>73.0</td>\n",
       "      <td>16.1</td>\n",
       "      <td>mostlycloudy</td>\n",
       "    </tr>\n",
       "  </tbody>\n",
       "</table>\n",
       "</div>"
      ],
      "text/plain": [
       "  gender            starttime             stoptime  tripduration  \\\n",
       "0   Male  2013-06-28 19:01:00  2013-06-28 19:17:00           993   \n",
       "1   Male  2013-06-28 22:53:00  2013-06-28 23:03:00           623   \n",
       "2   Male  2013-06-30 14:43:00  2013-06-30 15:01:00          1040   \n",
       "\n",
       "              from_station_name  start_capacity          to_station_name  \\\n",
       "0     Lake Shore Dr & Monroe St            11.0    Michigan Ave & Oak St   \n",
       "1  Clinton St & Washington Blvd            31.0     Wells St & Walton St   \n",
       "2  Sheffield Ave & Kingsbury St            15.0  Dearborn St & Monroe St   \n",
       "\n",
       "   end_capacity  temperature  wind_speed        events  \n",
       "0          15.0         73.9        12.7  mostlycloudy  \n",
       "1          19.0         69.1         6.9  partlycloudy  \n",
       "2          23.0         73.0        16.1  mostlycloudy  "
      ]
     },
     "execution_count": 39,
     "metadata": {},
     "output_type": "execute_result"
    }
   ],
   "source": [
    "import pandas as pd\n",
    "\n",
    "# Самый простой способ чтения CSV\n",
    "bikes = pd.read_csv('data/bikes.csv')\n",
    "bikes.head(3)  # Показываем первые 3 строки"
   ]
  },
  {
   "cell_type": "markdown",
   "id": "8489a0fc-b62e-42a1-9f2b-432c7153ad37",
   "metadata": {},
   "source": [
    "Ключевые параметры pd.read_csv():\n",
    "- `header=0` Заголовок в первой строке (по умолчанию)\n",
    "- `index_col=0` Используем первый столбец как индекс\n",
    "- `parse_dates=True` Преобразуем столбцы с датами"
   ]
  },
  {
   "cell_type": "markdown",
   "id": "9d202f2c-1d84-4630-a7b2-75ec42d48ce3",
   "metadata": {},
   "source": [
    "Полезные проверки после загрузки файла"
   ]
  },
  {
   "cell_type": "code",
   "execution_count": 40,
   "id": "80bff8ea-61f8-4914-af18-b4acb72505b3",
   "metadata": {},
   "outputs": [
    {
     "name": "stdout",
     "output_type": "stream",
     "text": [
      "(50089, 11)\n",
      "\n",
      "gender                object\n",
      "starttime             object\n",
      "stoptime              object\n",
      "tripduration           int64\n",
      "from_station_name     object\n",
      "start_capacity       float64\n",
      "to_station_name       object\n",
      "end_capacity         float64\n",
      "temperature          float64\n",
      "wind_speed           float64\n",
      "events                object\n",
      "dtype: object\n"
     ]
    }
   ],
   "source": [
    "print(bikes.shape)    # Размерность данных\n",
    "print()\n",
    "print(bikes.dtypes)   # Типы столбцов"
   ]
  },
  {
   "cell_type": "markdown",
   "id": "1c640c16-dd0d-4680-9653-af10a8812705",
   "metadata": {},
   "source": [
    "## 6.11. Получение общей информации о датафрейме"
   ]
  },
  {
   "cell_type": "markdown",
   "id": "ca2ebad9-ccc4-49c6-ad90-4d1a22b3a595",
   "metadata": {},
   "source": [
    "После загрузки данных важно быстро получить о них общую информацию. Pandas предоставляет несколько простых способов для этого."
   ]
  },
  {
   "cell_type": "code",
   "execution_count": 41,
   "id": "f30655ea-0cc3-4fcd-aa22-fa44bfceb74a",
   "metadata": {},
   "outputs": [
    {
     "name": "stdout",
     "output_type": "stream",
     "text": [
      "Количество строк и столбцов (50089, 11)\n",
      "\n",
      "Количество строк 50089\n",
      "\n",
      "Типы данных всех столбцов\n",
      "gender                object\n",
      "starttime             object\n",
      "stoptime              object\n",
      "tripduration           int64\n",
      "from_station_name     object\n",
      "start_capacity       float64\n",
      "to_station_name       object\n",
      "end_capacity         float64\n",
      "temperature          float64\n",
      "wind_speed           float64\n",
      "events                object\n",
      "dtype: object\n",
      "\n",
      "Вся информация о DataFrame\n",
      "<class 'pandas.core.frame.DataFrame'>\n",
      "RangeIndex: 50089 entries, 0 to 50088\n",
      "Data columns (total 11 columns):\n",
      " #   Column             Non-Null Count  Dtype  \n",
      "---  ------             --------------  -----  \n",
      " 0   gender             50089 non-null  object \n",
      " 1   starttime          50089 non-null  object \n",
      " 2   stoptime           50089 non-null  object \n",
      " 3   tripduration       50089 non-null  int64  \n",
      " 4   from_station_name  50089 non-null  object \n",
      " 5   start_capacity     50083 non-null  float64\n",
      " 6   to_station_name    50089 non-null  object \n",
      " 7   end_capacity       50077 non-null  float64\n",
      " 8   temperature        50089 non-null  float64\n",
      " 9   wind_speed         50089 non-null  float64\n",
      " 10  events             50089 non-null  object \n",
      "dtypes: float64(4), int64(1), object(6)\n",
      "memory usage: 4.2+ MB\n",
      "None\n",
      "\n",
      "Список всех столбцов ['gender', 'starttime', 'stoptime', 'tripduration', 'from_station_name', 'start_capacity', 'to_station_name', 'end_capacity', 'temperature', 'wind_speed', 'events']\n"
     ]
    }
   ],
   "source": [
    "# Количество строк и столбцов\n",
    "print(f'Количество строк и столбцов {bikes.shape}')\n",
    "print()\n",
    "\n",
    "# Альтернативно: только количество строк\n",
    "print(f'Количество строк {len(bikes)}')\n",
    "print()\n",
    "\n",
    "# Типы данных всех столбцов\n",
    "print('Типы данных всех столбцов')\n",
    "print(bikes.dtypes)\n",
    "print()\n",
    "\n",
    "# Вся информация о DataFrame\n",
    "print('Вся информация о DataFrame')\n",
    "print(bikes.info())\n",
    "print()\n",
    "\n",
    "# Список всех столбцов\n",
    "print(f'Список всех столбцов {bikes.columns.tolist()}')"
   ]
  },
  {
   "cell_type": "markdown",
   "id": "ce317870-72a7-4a8f-b854-c44d899b42f0",
   "metadata": {},
   "source": [
    "Исправление типов данных при чтении. pandas не всегда правильно определяет типы данных (особенно даты)"
   ]
  },
  {
   "cell_type": "code",
   "execution_count": 42,
   "id": "3d9d0c2c-52fd-4cf6-8bdf-314928a80f57",
   "metadata": {},
   "outputs": [
    {
     "name": "stdout",
     "output_type": "stream",
     "text": [
      "gender                       object\n",
      "starttime            datetime64[ns]\n",
      "stoptime             datetime64[ns]\n",
      "tripduration                  int64\n",
      "from_station_name            object\n",
      "dtype: object\n"
     ]
    }
   ],
   "source": [
    "# Правильное чтение с преобразованием дат\n",
    "bikes = pd.read_csv('Data/bikes.csv', \n",
    "                   parse_dates=['starttime', 'stoptime'])\n",
    "\n",
    "# Теперь типы правильные\n",
    "print(bikes.dtypes.head())"
   ]
  },
  {
   "cell_type": "markdown",
   "id": "b70726b5-eb52-40a9-b727-cfe2dfe623ba",
   "metadata": {},
   "source": [
    "Быстрая проверка данных после загрузки\n",
    "```python\n",
    "# 1. Загрузка данных\n",
    "df = pd.read_csv('data.csv', parse_dates=['date_columns'])\n",
    "\n",
    "# 2. Быстрая проверка\n",
    "print(\"Размер данных:\", df.shape)\n",
    "print(\"\\nТипы данных:\")\n",
    "print(df.dtypes)\n",
    "print(\"\\nПропуски в данных:\")\n",
    "print(df.isnull().sum())\n",
    "print(\"\\nПервые 3 строки:\")\n",
    "print(df.head(3))\n",
    "```\n",
    "\n",
    "Получение информации о DataFrame — критически важный первый шаг:\n",
    "\n",
    "🔍 Всегда проверяйте .shape и .dtypes  \n",
    "📅 Исправляйте даты при загрузке  \n",
    "✅ Используйте .info() для быстрой диагностики  \n",
    "❗ Обращайте внимание на пропуски"
   ]
  },
  {
   "cell_type": "markdown",
   "id": "1c5c4f12-007d-43e1-b73c-93054764bd38",
   "metadata": {},
   "source": [
    "## 6.12. Изменение настроек вывода с помощью функции get_options()"
   ]
  },
  {
   "cell_type": "markdown",
   "id": "da8d5b21-3e7b-42d6-a9ff-c339057660d1",
   "metadata": {},
   "source": [
    "Pandas позволяет настроить как данные выводятся на экран. Это особенно полезно при работе с большими DataFrame.\n",
    "\n",
    "Текущие значения настроек"
   ]
  },
  {
   "cell_type": "code",
   "execution_count": 43,
   "id": "cb6c340d-a90d-4656-86a4-9bc0ac2c2cf1",
   "metadata": {},
   "outputs": [
    {
     "name": "stdout",
     "output_type": "stream",
     "text": [
      "Макс. столбцов: 20\n",
      "Макс. строк: 60\n",
      "Макс. ширина столбца: 50\n"
     ]
    }
   ],
   "source": [
    "# Максимальное количество столбцов\n",
    "print(\"Макс. столбцов:\", pd.get_option('display.max_columns'))  # По умолчанию: 20\n",
    "\n",
    "# Максимальное количество строк  \n",
    "print(\"Макс. строк:\", pd.get_option('display.max_rows'))       # По умолчанию: 60\n",
    "\n",
    "# Максимальная ширина столбца\n",
    "print(\"Макс. ширина столбца:\", pd.get_option('display.max_colwidth'))  # По умолчанию: 50"
   ]
  },
  {
   "cell_type": "markdown",
   "id": "05e3b1d5-65bb-495c-bb66-5870219bcaf7",
   "metadata": {},
   "source": [
    "Установка новых значений\n",
    "```python\n",
    "# Изменяем настройки отображения\n",
    "pd.set_option('display.max_columns', 30)   # Показывать до 30 столбцов\n",
    "pd.set_option('display.max_rows', 100)     # Показывать до 100 строк\n",
    "pd.set_option('display.max_colwidth', 70)  # Ширина столбца до 70 символов\n",
    "```\n",
    "Комбинированная настройка\n",
    "```python\n",
    "# Можно настроить все сразу\n",
    "pd.set_option('display.max_columns', 30, \n",
    "              'display.max_rows', 100,\n",
    "              'display.max_colwidth', 70)\n",
    "```"
   ]
  },
  {
   "cell_type": "markdown",
   "id": "20ec4cea-f389-4c04-b85d-5b02e2745e7a",
   "metadata": {},
   "source": [
    "Другие полезные настройки\n",
    "```python\n",
    "# Формат чисел с плавающей точкой\n",
    "pd.set_option('display.float_format', '{:.2f}'.format)  # 2 знака после запятой\n",
    "\n",
    "# Ширина вывода (в символах)\n",
    "pd.set_option('display.width', 120)  # Шире вывод\n",
    "\n",
    "# Показывать все строки (осторожно!)\n",
    "pd.set_option('display.max_rows', None)  # Показывать ВСЕ строки\n",
    "```\n",
    "\n",
    "Сброс настроек\n",
    "```python\n",
    "# Вернуть настройки по умолчанию\n",
    "pd.reset_option('display.max_columns')\n",
    "pd.reset_option('display.max_rows')\n",
    "pd.reset_option('display.max_colwidth')\n",
    "\n",
    "# Или сбросить все настройки\n",
    "pd.reset_option('all')\n",
    "```"
   ]
  },
  {
   "cell_type": "markdown",
   "id": "e7c36f20-24bd-463f-9288-d46b61f022c4",
   "metadata": {},
   "source": [
    "## 6.13. Знакомство с индексаторами [], loc и iloc"
   ]
  },
  {
   "cell_type": "markdown",
   "id": "15388265-48a9-4597-8416-70ed6f6f7ab2",
   "metadata": {},
   "source": [
    "Индексаторы — это способы выбрать нужные данные из DataFrame. В pandas есть три основных индексатора: [], .loc[] и .iloc[].\n",
    "Запомните: loc и iloc — это не методы, а индексаторы, поэтому всегда используйте []!"
   ]
  },
  {
   "cell_type": "code",
   "execution_count": 44,
   "id": "8aa8d4e7-57c2-4123-91a1-df0d96679381",
   "metadata": {},
   "outputs": [
    {
     "data": {
      "text/plain": [
       "0          Male\n",
       "1          Male\n",
       "2          Male\n",
       "3          Male\n",
       "4          Male\n",
       "          ...  \n",
       "50084      Male\n",
       "50085      Male\n",
       "50086      Male\n",
       "50087    Female\n",
       "50088      Male\n",
       "Name: gender, Length: 50089, dtype: object"
      ]
     },
     "execution_count": 44,
     "metadata": {},
     "output_type": "execute_result"
    }
   ],
   "source": [
    "# Один столбец - возвращает Series\n",
    "bikes['gender']"
   ]
  },
  {
   "cell_type": "code",
   "execution_count": 45,
   "id": "6f4e0ac5-d4d8-47c6-8cbc-dfe30e193fda",
   "metadata": {},
   "outputs": [
    {
     "data": {
      "text/html": [
       "<div>\n",
       "<style scoped>\n",
       "    .dataframe tbody tr th:only-of-type {\n",
       "        vertical-align: middle;\n",
       "    }\n",
       "\n",
       "    .dataframe tbody tr th {\n",
       "        vertical-align: top;\n",
       "    }\n",
       "\n",
       "    .dataframe thead th {\n",
       "        text-align: right;\n",
       "    }\n",
       "</style>\n",
       "<table border=\"1\" class=\"dataframe\">\n",
       "  <thead>\n",
       "    <tr style=\"text-align: right;\">\n",
       "      <th></th>\n",
       "      <th>gender</th>\n",
       "      <th>tripduration</th>\n",
       "    </tr>\n",
       "  </thead>\n",
       "  <tbody>\n",
       "    <tr>\n",
       "      <th>0</th>\n",
       "      <td>Male</td>\n",
       "      <td>993</td>\n",
       "    </tr>\n",
       "    <tr>\n",
       "      <th>1</th>\n",
       "      <td>Male</td>\n",
       "      <td>623</td>\n",
       "    </tr>\n",
       "    <tr>\n",
       "      <th>2</th>\n",
       "      <td>Male</td>\n",
       "      <td>1040</td>\n",
       "    </tr>\n",
       "    <tr>\n",
       "      <th>3</th>\n",
       "      <td>Male</td>\n",
       "      <td>667</td>\n",
       "    </tr>\n",
       "    <tr>\n",
       "      <th>4</th>\n",
       "      <td>Male</td>\n",
       "      <td>130</td>\n",
       "    </tr>\n",
       "    <tr>\n",
       "      <th>...</th>\n",
       "      <td>...</td>\n",
       "      <td>...</td>\n",
       "    </tr>\n",
       "    <tr>\n",
       "      <th>50084</th>\n",
       "      <td>Male</td>\n",
       "      <td>1625</td>\n",
       "    </tr>\n",
       "    <tr>\n",
       "      <th>50085</th>\n",
       "      <td>Male</td>\n",
       "      <td>585</td>\n",
       "    </tr>\n",
       "    <tr>\n",
       "      <th>50086</th>\n",
       "      <td>Male</td>\n",
       "      <td>824</td>\n",
       "    </tr>\n",
       "    <tr>\n",
       "      <th>50087</th>\n",
       "      <td>Female</td>\n",
       "      <td>178</td>\n",
       "    </tr>\n",
       "    <tr>\n",
       "      <th>50088</th>\n",
       "      <td>Male</td>\n",
       "      <td>214</td>\n",
       "    </tr>\n",
       "  </tbody>\n",
       "</table>\n",
       "<p>50089 rows × 2 columns</p>\n",
       "</div>"
      ],
      "text/plain": [
       "       gender  tripduration\n",
       "0        Male           993\n",
       "1        Male           623\n",
       "2        Male          1040\n",
       "3        Male           667\n",
       "4        Male           130\n",
       "...       ...           ...\n",
       "50084    Male          1625\n",
       "50085    Male           585\n",
       "50086    Male           824\n",
       "50087  Female           178\n",
       "50088    Male           214\n",
       "\n",
       "[50089 rows x 2 columns]"
      ]
     },
     "execution_count": 45,
     "metadata": {},
     "output_type": "execute_result"
    }
   ],
   "source": [
    "# Несколько столбцов - возвращает DataFrame\n",
    "bikes[['gender', 'tripduration']]"
   ]
  },
  {
   "cell_type": "markdown",
   "id": "a95d8f2e-79be-464d-bd78-028c01bd5c4f",
   "metadata": {},
   "source": [
    "Индексатор .loc[] — по меткам. Работает с метками (labels) строк и столбцов.\n",
    "\n",
    "Индексатор .iloc[] — по позициям. Работает с целочисленными позициями (индексами).\n",
    "\n",
    "- .loc[]: 0:3 включает все метки от 0 до 3 (включительно)\n",
    "- .iloc[]: 0:3 включает позиции от 0 до 2 (3 исключается)"
   ]
  },
  {
   "cell_type": "code",
   "execution_count": 46,
   "id": "0e3ffcf5-de4d-4865-bb23-577be6d7a857",
   "metadata": {},
   "outputs": [
    {
     "data": {
      "text/html": [
       "<div>\n",
       "<style scoped>\n",
       "    .dataframe tbody tr th:only-of-type {\n",
       "        vertical-align: middle;\n",
       "    }\n",
       "\n",
       "    .dataframe tbody tr th {\n",
       "        vertical-align: top;\n",
       "    }\n",
       "\n",
       "    .dataframe thead th {\n",
       "        text-align: right;\n",
       "    }\n",
       "</style>\n",
       "<table border=\"1\" class=\"dataframe\">\n",
       "  <thead>\n",
       "    <tr style=\"text-align: right;\">\n",
       "      <th></th>\n",
       "      <th>start_capacity</th>\n",
       "      <th>tripduration</th>\n",
       "    </tr>\n",
       "  </thead>\n",
       "  <tbody>\n",
       "    <tr>\n",
       "      <th>0</th>\n",
       "      <td>11.0</td>\n",
       "      <td>993</td>\n",
       "    </tr>\n",
       "    <tr>\n",
       "      <th>1</th>\n",
       "      <td>31.0</td>\n",
       "      <td>623</td>\n",
       "    </tr>\n",
       "  </tbody>\n",
       "</table>\n",
       "</div>"
      ],
      "text/plain": [
       "   start_capacity  tripduration\n",
       "0            11.0           993\n",
       "1            31.0           623"
      ]
     },
     "execution_count": 46,
     "metadata": {},
     "output_type": "execute_result"
    }
   ],
   "source": [
    "# Строки 0 и 1, столбцы 'start_capacity' и 'tripduration'\n",
    "bikes.loc[[0, 1], ['start_capacity', 'tripduration']]"
   ]
  },
  {
   "cell_type": "markdown",
   "id": "1e64b050-89f9-424e-a7f4-7759c1e59303",
   "metadata": {},
   "source": [
    "```python\n",
    "# Строки 0-3, столбцы от 'gender' до 'tripduration'\n",
    "bikes.loc[0:3, 'gender':'tripduration']\n",
    "\n",
    "# Каждая 2-я строка, каждый 2-й столбец\n",
    "bikes.loc[0::2, 'gender':'events':2]\n",
    "\n",
    "# С 5-й строки до конца, с столбца 'from_station_name' до конца\n",
    "bikes.loc[4:, 'from_station_name':]\n",
    "```"
   ]
  },
  {
   "cell_type": "markdown",
   "id": "c18df622-2aa8-491f-9c83-277217bed814",
   "metadata": {},
   "source": [
    "```python\n",
    "# Все строки, конкретные столбцы\n",
    "bikes.loc[:, ['start_capacity', 'tripduration']]\n",
    "\n",
    "# Конкретные строки, все столбцы\n",
    "bikes.loc[[1, 5, 6], :]\n",
    "\n",
    "# Диапазон строк, все столбцы\n",
    "bikes.loc[0::10, :]  # Каждая 10-я строка\n",
    "```"
   ]
  },
  {
   "cell_type": "markdown",
   "id": "ce2c6679-7f46-4a6d-a0ec-7d2d7a793313",
   "metadata": {},
   "source": [
    "```python\n",
    "# Строки 2-3 (позиции 2 и 3), столбцы 2-3 (позиции 2 и 3)\n",
    "bikes.iloc[2:4, 2:4]\n",
    "\n",
    "# Все строки, столбцы 3 и 5\n",
    "bikes.iloc[:, [3, 5]]\n",
    "\n",
    "# Строки 3 и 5, все столбцы\n",
    "bikes.iloc[[3, 5], :]\n",
    "\n",
    "```"
   ]
  },
  {
   "cell_type": "markdown",
   "id": "0608254d-5e65-4cbd-81e9-b3264a9cd92e",
   "metadata": {},
   "source": [
    "Быстрые индексаторы .at[] и .iat[]. Для выбора одной ячейки (быстрее чем .loc/.iloc)."
   ]
  },
  {
   "cell_type": "code",
   "execution_count": 47,
   "id": "d6f88606-f262-43fb-8ad6-744399ff8a97",
   "metadata": {},
   "outputs": [
    {
     "data": {
      "text/plain": [
       "np.int64(667)"
      ]
     },
     "execution_count": 47,
     "metadata": {},
     "output_type": "execute_result"
    }
   ],
   "source": [
    "# Ячейка: строка 3, столбец 'tripduration'\n",
    "bikes.at[3, 'tripduration']  # Возвращает: 667"
   ]
  },
  {
   "cell_type": "code",
   "execution_count": 48,
   "id": "d805ac00-30c4-4c55-b358-21269101981b",
   "metadata": {},
   "outputs": [
    {
     "data": {
      "text/plain": [
       "np.int64(667)"
      ]
     },
     "execution_count": 48,
     "metadata": {},
     "output_type": "execute_result"
    }
   ],
   "source": [
    "# Ячейка: строка 3, столбец 3\n",
    "bikes.iat[3, 3]  # Возвращает: 667"
   ]
  },
  {
   "cell_type": "markdown",
   "id": "63d6efa1-ba6f-4a34-b050-09f3db643186",
   "metadata": {},
   "source": [
    "- [] — для простого выбора столбцов\n",
    "- .loc[] — когда знаете метки строк/столбцов\n",
    "- .iloc[] — когда знаете позиции строк/столбцов\n",
    "- .at[]/.iat[] — для быстрого доступа к одной ячейке"
   ]
  },
  {
   "cell_type": "markdown",
   "id": "45dc3a51-5a46-47fb-a409-a38b6ae9572f",
   "metadata": {},
   "source": [
    "## 6.14. Фильтрация данных"
   ]
  },
  {
   "cell_type": "markdown",
   "id": "f1d1ec57-ac0f-42d4-9b48-198868bdc271",
   "metadata": {},
   "source": [
    "Библиотека pandas может отфильтровать строки датафрейма в зависимости от того, соответствуют ли значения в этой строке условию. Например, мы\n",
    "можем выбрать только те поездки, продолжительность которых превышает 5000 (секунд)."
   ]
  },
  {
   "cell_type": "markdown",
   "id": "fb2af70c-1ce4-4a43-8ba5-2d7f430a0442",
   "metadata": {},
   "source": [
    "### 6.14.1. Одно условие"
   ]
  },
  {
   "cell_type": "markdown",
   "id": "f252949b-0795-4104-b3bc-2ef6f6b3109d",
   "metadata": {},
   "source": [
    "Ниже мы приведем пример фильтрации на основе одного условия, которое проверяется для каждой строки. Возвращаются только те строки, которые удовлетворяют этому условию."
   ]
  },
  {
   "cell_type": "code",
   "execution_count": 49,
   "id": "5096b5e6-6f97-4228-865b-59903b2c22dc",
   "metadata": {},
   "outputs": [
    {
     "data": {
      "text/html": [
       "<div>\n",
       "<style scoped>\n",
       "    .dataframe tbody tr th:only-of-type {\n",
       "        vertical-align: middle;\n",
       "    }\n",
       "\n",
       "    .dataframe tbody tr th {\n",
       "        vertical-align: top;\n",
       "    }\n",
       "\n",
       "    .dataframe thead th {\n",
       "        text-align: right;\n",
       "    }\n",
       "</style>\n",
       "<table border=\"1\" class=\"dataframe\">\n",
       "  <thead>\n",
       "    <tr style=\"text-align: right;\">\n",
       "      <th></th>\n",
       "      <th>gender</th>\n",
       "      <th>starttime</th>\n",
       "      <th>stoptime</th>\n",
       "      <th>tripduration</th>\n",
       "      <th>from_station_name</th>\n",
       "      <th>start_capacity</th>\n",
       "      <th>to_station_name</th>\n",
       "      <th>end_capacity</th>\n",
       "      <th>temperature</th>\n",
       "      <th>wind_speed</th>\n",
       "      <th>events</th>\n",
       "    </tr>\n",
       "  </thead>\n",
       "  <tbody>\n",
       "    <tr>\n",
       "      <th>18</th>\n",
       "      <td>Male</td>\n",
       "      <td>2013-07-09 13:12:00</td>\n",
       "      <td>2013-07-09 14:42:00</td>\n",
       "      <td>5396</td>\n",
       "      <td>Canal St &amp; Jackson Blvd</td>\n",
       "      <td>35.0</td>\n",
       "      <td>Millennium Park</td>\n",
       "      <td>35.0</td>\n",
       "      <td>79.0</td>\n",
       "      <td>13.8</td>\n",
       "      <td>cloudy</td>\n",
       "    </tr>\n",
       "    <tr>\n",
       "      <th>40</th>\n",
       "      <td>Female</td>\n",
       "      <td>2013-07-14 14:08:00</td>\n",
       "      <td>2013-07-14 15:53:00</td>\n",
       "      <td>6274</td>\n",
       "      <td>Wabash Ave &amp; Roosevelt Rd</td>\n",
       "      <td>19.0</td>\n",
       "      <td>Lake Shore Dr &amp; Monroe St</td>\n",
       "      <td>11.0</td>\n",
       "      <td>87.1</td>\n",
       "      <td>8.1</td>\n",
       "      <td>partlycloudy</td>\n",
       "    </tr>\n",
       "    <tr>\n",
       "      <th>77</th>\n",
       "      <td>Female</td>\n",
       "      <td>2013-07-21 11:35:00</td>\n",
       "      <td>2013-07-21 13:54:00</td>\n",
       "      <td>8299</td>\n",
       "      <td>State St &amp; 19th St</td>\n",
       "      <td>15.0</td>\n",
       "      <td>Sheffield Ave &amp; Kingsbury St</td>\n",
       "      <td>15.0</td>\n",
       "      <td>82.9</td>\n",
       "      <td>5.8</td>\n",
       "      <td>mostlycloudy</td>\n",
       "    </tr>\n",
       "  </tbody>\n",
       "</table>\n",
       "</div>"
      ],
      "text/plain": [
       "    gender           starttime            stoptime  tripduration  \\\n",
       "18    Male 2013-07-09 13:12:00 2013-07-09 14:42:00          5396   \n",
       "40  Female 2013-07-14 14:08:00 2013-07-14 15:53:00          6274   \n",
       "77  Female 2013-07-21 11:35:00 2013-07-21 13:54:00          8299   \n",
       "\n",
       "            from_station_name  start_capacity               to_station_name  \\\n",
       "18    Canal St & Jackson Blvd            35.0               Millennium Park   \n",
       "40  Wabash Ave & Roosevelt Rd            19.0     Lake Shore Dr & Monroe St   \n",
       "77         State St & 19th St            15.0  Sheffield Ave & Kingsbury St   \n",
       "\n",
       "    end_capacity  temperature  wind_speed        events  \n",
       "18          35.0         79.0        13.8        cloudy  \n",
       "40          11.0         87.1         8.1  partlycloudy  \n",
       "77          15.0         82.9         5.8  mostlycloudy  "
      ]
     },
     "execution_count": 49,
     "metadata": {},
     "output_type": "execute_result"
    }
   ],
   "source": [
    "# отбор по одному условию\n",
    "filt = bikes['tripduration'] > 5000\n",
    "bikes[filt].head(3)"
   ]
  },
  {
   "cell_type": "markdown",
   "id": "ac51e783-e61d-4cc0-b790-37b96b5f3a5e",
   "metadata": {},
   "source": [
    "### 6.14.2. Несколько условий"
   ]
  },
  {
   "cell_type": "code",
   "execution_count": 50,
   "id": "f93ca1b9-c9e5-4e19-a039-79b744320fc6",
   "metadata": {},
   "outputs": [
    {
     "data": {
      "text/html": [
       "<div>\n",
       "<style scoped>\n",
       "    .dataframe tbody tr th:only-of-type {\n",
       "        vertical-align: middle;\n",
       "    }\n",
       "\n",
       "    .dataframe tbody tr th {\n",
       "        vertical-align: top;\n",
       "    }\n",
       "\n",
       "    .dataframe thead th {\n",
       "        text-align: right;\n",
       "    }\n",
       "</style>\n",
       "<table border=\"1\" class=\"dataframe\">\n",
       "  <thead>\n",
       "    <tr style=\"text-align: right;\">\n",
       "      <th></th>\n",
       "      <th>gender</th>\n",
       "      <th>starttime</th>\n",
       "      <th>stoptime</th>\n",
       "      <th>tripduration</th>\n",
       "      <th>from_station_name</th>\n",
       "      <th>start_capacity</th>\n",
       "      <th>to_station_name</th>\n",
       "      <th>end_capacity</th>\n",
       "      <th>temperature</th>\n",
       "      <th>wind_speed</th>\n",
       "      <th>events</th>\n",
       "    </tr>\n",
       "  </thead>\n",
       "  <tbody>\n",
       "    <tr>\n",
       "      <th>40</th>\n",
       "      <td>Female</td>\n",
       "      <td>2013-07-14 14:08:00</td>\n",
       "      <td>2013-07-14 15:53:00</td>\n",
       "      <td>6274</td>\n",
       "      <td>Wabash Ave &amp; Roosevelt Rd</td>\n",
       "      <td>19.0</td>\n",
       "      <td>Lake Shore Dr &amp; Monroe St</td>\n",
       "      <td>11.0</td>\n",
       "      <td>87.1</td>\n",
       "      <td>8.1</td>\n",
       "      <td>partlycloudy</td>\n",
       "    </tr>\n",
       "    <tr>\n",
       "      <th>77</th>\n",
       "      <td>Female</td>\n",
       "      <td>2013-07-21 11:35:00</td>\n",
       "      <td>2013-07-21 13:54:00</td>\n",
       "      <td>8299</td>\n",
       "      <td>State St &amp; 19th St</td>\n",
       "      <td>15.0</td>\n",
       "      <td>Sheffield Ave &amp; Kingsbury St</td>\n",
       "      <td>15.0</td>\n",
       "      <td>82.9</td>\n",
       "      <td>5.8</td>\n",
       "      <td>mostlycloudy</td>\n",
       "    </tr>\n",
       "    <tr>\n",
       "      <th>1954</th>\n",
       "      <td>Female</td>\n",
       "      <td>2013-12-28 11:37:00</td>\n",
       "      <td>2013-12-28 13:34:00</td>\n",
       "      <td>7050</td>\n",
       "      <td>LaSalle St &amp; Washington St</td>\n",
       "      <td>15.0</td>\n",
       "      <td>Theater on the Lake</td>\n",
       "      <td>15.0</td>\n",
       "      <td>44.1</td>\n",
       "      <td>12.7</td>\n",
       "      <td>clear</td>\n",
       "    </tr>\n",
       "  </tbody>\n",
       "</table>\n",
       "</div>"
      ],
      "text/plain": [
       "      gender           starttime            stoptime  tripduration  \\\n",
       "40    Female 2013-07-14 14:08:00 2013-07-14 15:53:00          6274   \n",
       "77    Female 2013-07-21 11:35:00 2013-07-21 13:54:00          8299   \n",
       "1954  Female 2013-12-28 11:37:00 2013-12-28 13:34:00          7050   \n",
       "\n",
       "               from_station_name  start_capacity  \\\n",
       "40     Wabash Ave & Roosevelt Rd            19.0   \n",
       "77            State St & 19th St            15.0   \n",
       "1954  LaSalle St & Washington St            15.0   \n",
       "\n",
       "                   to_station_name  end_capacity  temperature  wind_speed  \\\n",
       "40       Lake Shore Dr & Monroe St          11.0         87.1         8.1   \n",
       "77    Sheffield Ave & Kingsbury St          15.0         82.9         5.8   \n",
       "1954           Theater on the Lake          15.0         44.1        12.7   \n",
       "\n",
       "            events  \n",
       "40    partlycloudy  \n",
       "77    mostlycloudy  \n",
       "1954         clear  "
      ]
     },
     "execution_count": 50,
     "metadata": {},
     "output_type": "execute_result"
    }
   ],
   "source": [
    "# отбор по нескольким условиям\n",
    "filt1 = bikes['tripduration'] > 5000\n",
    "filt2 = bikes['gender'] == 'Female'\n",
    "filt = filt1 & filt2\n",
    "bikes[filt].head(3)"
   ]
  },
  {
   "cell_type": "code",
   "execution_count": 51,
   "id": "4913f89a-dc04-4760-83c3-a86d73f1b622",
   "metadata": {},
   "outputs": [
    {
     "data": {
      "text/html": [
       "<div>\n",
       "<style scoped>\n",
       "    .dataframe tbody tr th:only-of-type {\n",
       "        vertical-align: middle;\n",
       "    }\n",
       "\n",
       "    .dataframe tbody tr th {\n",
       "        vertical-align: top;\n",
       "    }\n",
       "\n",
       "    .dataframe thead th {\n",
       "        text-align: right;\n",
       "    }\n",
       "</style>\n",
       "<table border=\"1\" class=\"dataframe\">\n",
       "  <thead>\n",
       "    <tr style=\"text-align: right;\">\n",
       "      <th></th>\n",
       "      <th>gender</th>\n",
       "      <th>starttime</th>\n",
       "      <th>stoptime</th>\n",
       "      <th>tripduration</th>\n",
       "      <th>from_station_name</th>\n",
       "      <th>start_capacity</th>\n",
       "      <th>to_station_name</th>\n",
       "      <th>end_capacity</th>\n",
       "      <th>temperature</th>\n",
       "      <th>wind_speed</th>\n",
       "      <th>events</th>\n",
       "    </tr>\n",
       "  </thead>\n",
       "  <tbody>\n",
       "    <tr>\n",
       "      <th>9</th>\n",
       "      <td>Female</td>\n",
       "      <td>2013-07-04 15:00:00</td>\n",
       "      <td>2013-07-04 15:16:00</td>\n",
       "      <td>922</td>\n",
       "      <td>Lakeview Ave &amp; Fullerton Pkwy</td>\n",
       "      <td>19.0</td>\n",
       "      <td>Racine Ave &amp; Congress Pkwy</td>\n",
       "      <td>19.0</td>\n",
       "      <td>81.0</td>\n",
       "      <td>12.7</td>\n",
       "      <td>mostlycloudy</td>\n",
       "    </tr>\n",
       "    <tr>\n",
       "      <th>14</th>\n",
       "      <td>Female</td>\n",
       "      <td>2013-07-06 12:39:00</td>\n",
       "      <td>2013-07-06 12:49:00</td>\n",
       "      <td>610</td>\n",
       "      <td>Morgan St &amp; Lake St</td>\n",
       "      <td>15.0</td>\n",
       "      <td>Aberdeen St &amp; Jackson Blvd</td>\n",
       "      <td>15.0</td>\n",
       "      <td>82.0</td>\n",
       "      <td>5.8</td>\n",
       "      <td>mostlycloudy</td>\n",
       "    </tr>\n",
       "    <tr>\n",
       "      <th>18</th>\n",
       "      <td>Male</td>\n",
       "      <td>2013-07-09 13:12:00</td>\n",
       "      <td>2013-07-09 14:42:00</td>\n",
       "      <td>5396</td>\n",
       "      <td>Canal St &amp; Jackson Blvd</td>\n",
       "      <td>35.0</td>\n",
       "      <td>Millennium Park</td>\n",
       "      <td>35.0</td>\n",
       "      <td>79.0</td>\n",
       "      <td>13.8</td>\n",
       "      <td>cloudy</td>\n",
       "    </tr>\n",
       "  </tbody>\n",
       "</table>\n",
       "</div>"
      ],
      "text/plain": [
       "    gender           starttime            stoptime  tripduration  \\\n",
       "9   Female 2013-07-04 15:00:00 2013-07-04 15:16:00           922   \n",
       "14  Female 2013-07-06 12:39:00 2013-07-06 12:49:00           610   \n",
       "18    Male 2013-07-09 13:12:00 2013-07-09 14:42:00          5396   \n",
       "\n",
       "                from_station_name  start_capacity             to_station_name  \\\n",
       "9   Lakeview Ave & Fullerton Pkwy            19.0  Racine Ave & Congress Pkwy   \n",
       "14            Morgan St & Lake St            15.0  Aberdeen St & Jackson Blvd   \n",
       "18        Canal St & Jackson Blvd            35.0             Millennium Park   \n",
       "\n",
       "    end_capacity  temperature  wind_speed        events  \n",
       "9           19.0         81.0        12.7  mostlycloudy  \n",
       "14          15.0         82.0         5.8  mostlycloudy  \n",
       "18          35.0         79.0        13.8        cloudy  "
      ]
     },
     "execution_count": 51,
     "metadata": {},
     "output_type": "execute_result"
    }
   ],
   "source": [
    "# только одно из условий является истинным\n",
    "filt = filt1 | filt2\n",
    "bikes[filt].head(3)"
   ]
  },
  {
   "cell_type": "markdown",
   "id": "e586b406-4e88-4caf-bedc-314def6a20c3",
   "metadata": {},
   "source": [
    "### 6.14.3. Несколько условий в одном столбце"
   ]
  },
  {
   "cell_type": "code",
   "execution_count": 52,
   "id": "f1a8f62d-9d08-44b6-9609-79ea4e2ce907",
   "metadata": {},
   "outputs": [
    {
     "data": {
      "text/html": [
       "<div>\n",
       "<style scoped>\n",
       "    .dataframe tbody tr th:only-of-type {\n",
       "        vertical-align: middle;\n",
       "    }\n",
       "\n",
       "    .dataframe tbody tr th {\n",
       "        vertical-align: top;\n",
       "    }\n",
       "\n",
       "    .dataframe thead th {\n",
       "        text-align: right;\n",
       "    }\n",
       "</style>\n",
       "<table border=\"1\" class=\"dataframe\">\n",
       "  <thead>\n",
       "    <tr style=\"text-align: right;\">\n",
       "      <th></th>\n",
       "      <th>gender</th>\n",
       "      <th>starttime</th>\n",
       "      <th>stoptime</th>\n",
       "      <th>tripduration</th>\n",
       "      <th>from_station_name</th>\n",
       "      <th>start_capacity</th>\n",
       "      <th>to_station_name</th>\n",
       "      <th>end_capacity</th>\n",
       "      <th>temperature</th>\n",
       "      <th>wind_speed</th>\n",
       "      <th>events</th>\n",
       "    </tr>\n",
       "  </thead>\n",
       "  <tbody>\n",
       "    <tr>\n",
       "      <th>45</th>\n",
       "      <td>Male</td>\n",
       "      <td>2013-07-15 16:43:00</td>\n",
       "      <td>2013-07-15 16:55:00</td>\n",
       "      <td>727</td>\n",
       "      <td>Greenwood Ave &amp; 47th St</td>\n",
       "      <td>15.0</td>\n",
       "      <td>State St &amp; Harrison St</td>\n",
       "      <td>19.0</td>\n",
       "      <td>82.9</td>\n",
       "      <td>5.8</td>\n",
       "      <td>rain</td>\n",
       "    </tr>\n",
       "    <tr>\n",
       "      <th>78</th>\n",
       "      <td>Male</td>\n",
       "      <td>2013-07-21 16:35:00</td>\n",
       "      <td>2013-07-21 17:06:00</td>\n",
       "      <td>1809</td>\n",
       "      <td>Michigan Ave &amp; Pearson St</td>\n",
       "      <td>23.0</td>\n",
       "      <td>Millennium Park</td>\n",
       "      <td>35.0</td>\n",
       "      <td>82.4</td>\n",
       "      <td>11.5</td>\n",
       "      <td>tstorms</td>\n",
       "    </tr>\n",
       "    <tr>\n",
       "      <th>79</th>\n",
       "      <td>Male</td>\n",
       "      <td>2013-07-21 16:47:00</td>\n",
       "      <td>2013-07-21 17:03:00</td>\n",
       "      <td>999</td>\n",
       "      <td>Carpenter St &amp; Huron St</td>\n",
       "      <td>19.0</td>\n",
       "      <td>Carpenter St &amp; Huron St</td>\n",
       "      <td>19.0</td>\n",
       "      <td>82.4</td>\n",
       "      <td>11.5</td>\n",
       "      <td>tstorms</td>\n",
       "    </tr>\n",
       "  </tbody>\n",
       "</table>\n",
       "</div>"
      ],
      "text/plain": [
       "   gender           starttime            stoptime  tripduration  \\\n",
       "45   Male 2013-07-15 16:43:00 2013-07-15 16:55:00           727   \n",
       "78   Male 2013-07-21 16:35:00 2013-07-21 17:06:00          1809   \n",
       "79   Male 2013-07-21 16:47:00 2013-07-21 17:03:00           999   \n",
       "\n",
       "            from_station_name  start_capacity          to_station_name  \\\n",
       "45    Greenwood Ave & 47th St            15.0   State St & Harrison St   \n",
       "78  Michigan Ave & Pearson St            23.0          Millennium Park   \n",
       "79    Carpenter St & Huron St            19.0  Carpenter St & Huron St   \n",
       "\n",
       "    end_capacity  temperature  wind_speed   events  \n",
       "45          19.0         82.9         5.8     rain  \n",
       "78          35.0         82.4        11.5  tstorms  \n",
       "79          19.0         82.4        11.5  tstorms  "
      ]
     },
     "execution_count": 52,
     "metadata": {},
     "output_type": "execute_result"
    }
   ],
   "source": [
    "# несколько условий в одном столбце events\n",
    "filt = ((bikes['events'] == 'rain') | (bikes['events'] == 'snow') | \n",
    "        (bikes['events'] == 'tstorms') | \n",
    "        (bikes['events'] == 'sleet'))\n",
    "bikes[filt].head(3)"
   ]
  },
  {
   "cell_type": "code",
   "execution_count": 53,
   "id": "9395b61d-f48e-4693-8c69-2e26cb72dd1f",
   "metadata": {},
   "outputs": [
    {
     "data": {
      "text/html": [
       "<div>\n",
       "<style scoped>\n",
       "    .dataframe tbody tr th:only-of-type {\n",
       "        vertical-align: middle;\n",
       "    }\n",
       "\n",
       "    .dataframe tbody tr th {\n",
       "        vertical-align: top;\n",
       "    }\n",
       "\n",
       "    .dataframe thead th {\n",
       "        text-align: right;\n",
       "    }\n",
       "</style>\n",
       "<table border=\"1\" class=\"dataframe\">\n",
       "  <thead>\n",
       "    <tr style=\"text-align: right;\">\n",
       "      <th></th>\n",
       "      <th>gender</th>\n",
       "      <th>starttime</th>\n",
       "      <th>stoptime</th>\n",
       "      <th>tripduration</th>\n",
       "      <th>from_station_name</th>\n",
       "      <th>start_capacity</th>\n",
       "      <th>to_station_name</th>\n",
       "      <th>end_capacity</th>\n",
       "      <th>temperature</th>\n",
       "      <th>wind_speed</th>\n",
       "      <th>events</th>\n",
       "    </tr>\n",
       "  </thead>\n",
       "  <tbody>\n",
       "    <tr>\n",
       "      <th>45</th>\n",
       "      <td>Male</td>\n",
       "      <td>2013-07-15 16:43:00</td>\n",
       "      <td>2013-07-15 16:55:00</td>\n",
       "      <td>727</td>\n",
       "      <td>Greenwood Ave &amp; 47th St</td>\n",
       "      <td>15.0</td>\n",
       "      <td>State St &amp; Harrison St</td>\n",
       "      <td>19.0</td>\n",
       "      <td>82.9</td>\n",
       "      <td>5.8</td>\n",
       "      <td>rain</td>\n",
       "    </tr>\n",
       "    <tr>\n",
       "      <th>78</th>\n",
       "      <td>Male</td>\n",
       "      <td>2013-07-21 16:35:00</td>\n",
       "      <td>2013-07-21 17:06:00</td>\n",
       "      <td>1809</td>\n",
       "      <td>Michigan Ave &amp; Pearson St</td>\n",
       "      <td>23.0</td>\n",
       "      <td>Millennium Park</td>\n",
       "      <td>35.0</td>\n",
       "      <td>82.4</td>\n",
       "      <td>11.5</td>\n",
       "      <td>tstorms</td>\n",
       "    </tr>\n",
       "    <tr>\n",
       "      <th>79</th>\n",
       "      <td>Male</td>\n",
       "      <td>2013-07-21 16:47:00</td>\n",
       "      <td>2013-07-21 17:03:00</td>\n",
       "      <td>999</td>\n",
       "      <td>Carpenter St &amp; Huron St</td>\n",
       "      <td>19.0</td>\n",
       "      <td>Carpenter St &amp; Huron St</td>\n",
       "      <td>19.0</td>\n",
       "      <td>82.4</td>\n",
       "      <td>11.5</td>\n",
       "      <td>tstorms</td>\n",
       "    </tr>\n",
       "  </tbody>\n",
       "</table>\n",
       "</div>"
      ],
      "text/plain": [
       "   gender           starttime            stoptime  tripduration  \\\n",
       "45   Male 2013-07-15 16:43:00 2013-07-15 16:55:00           727   \n",
       "78   Male 2013-07-21 16:35:00 2013-07-21 17:06:00          1809   \n",
       "79   Male 2013-07-21 16:47:00 2013-07-21 17:03:00           999   \n",
       "\n",
       "            from_station_name  start_capacity          to_station_name  \\\n",
       "45    Greenwood Ave & 47th St            15.0   State St & Harrison St   \n",
       "78  Michigan Ave & Pearson St            23.0          Millennium Park   \n",
       "79    Carpenter St & Huron St            19.0  Carpenter St & Huron St   \n",
       "\n",
       "    end_capacity  temperature  wind_speed   events  \n",
       "45          19.0         82.9         5.8     rain  \n",
       "78          35.0         82.4        11.5  tstorms  \n",
       "79          19.0         82.4        11.5  tstorms  "
      ]
     },
     "execution_count": 53,
     "metadata": {},
     "output_type": "execute_result"
    }
   ],
   "source": [
    "# несколько условий в одном столбце events,\n",
    "# используем isin\n",
    "filt = bikes['events'].isin(['rain', 'snow', 'tstorms', 'sleet'])\n",
    "bikes[filt].head(3)"
   ]
  },
  {
   "cell_type": "code",
   "execution_count": 54,
   "id": "f3e9f498-8db9-4832-942d-bcad0aec9b31",
   "metadata": {},
   "outputs": [
    {
     "data": {
      "text/html": [
       "<div>\n",
       "<style scoped>\n",
       "    .dataframe tbody tr th:only-of-type {\n",
       "        vertical-align: middle;\n",
       "    }\n",
       "\n",
       "    .dataframe tbody tr th {\n",
       "        vertical-align: top;\n",
       "    }\n",
       "\n",
       "    .dataframe thead th {\n",
       "        text-align: right;\n",
       "    }\n",
       "</style>\n",
       "<table border=\"1\" class=\"dataframe\">\n",
       "  <thead>\n",
       "    <tr style=\"text-align: right;\">\n",
       "      <th></th>\n",
       "      <th>gender</th>\n",
       "      <th>starttime</th>\n",
       "      <th>stoptime</th>\n",
       "      <th>tripduration</th>\n",
       "      <th>from_station_name</th>\n",
       "      <th>start_capacity</th>\n",
       "      <th>to_station_name</th>\n",
       "      <th>end_capacity</th>\n",
       "      <th>temperature</th>\n",
       "      <th>wind_speed</th>\n",
       "      <th>events</th>\n",
       "    </tr>\n",
       "  </thead>\n",
       "  <tbody>\n",
       "    <tr>\n",
       "      <th>2344</th>\n",
       "      <td>Female</td>\n",
       "      <td>2014-03-19 07:23:00</td>\n",
       "      <td>2014-03-19 08:00:00</td>\n",
       "      <td>2181</td>\n",
       "      <td>Seeley Ave &amp; Roscoe St</td>\n",
       "      <td>11.0</td>\n",
       "      <td>Franklin St &amp; Lake St</td>\n",
       "      <td>23.0</td>\n",
       "      <td>43.0</td>\n",
       "      <td>6.9</td>\n",
       "      <td>rain</td>\n",
       "    </tr>\n",
       "    <tr>\n",
       "      <th>7697</th>\n",
       "      <td>Male</td>\n",
       "      <td>2014-09-12 14:20:00</td>\n",
       "      <td>2014-09-12 14:57:00</td>\n",
       "      <td>2213</td>\n",
       "      <td>Damen Ave &amp; Pierce Ave</td>\n",
       "      <td>19.0</td>\n",
       "      <td>California Ave &amp; Division St</td>\n",
       "      <td>15.0</td>\n",
       "      <td>52.0</td>\n",
       "      <td>12.7</td>\n",
       "      <td>rain</td>\n",
       "    </tr>\n",
       "    <tr>\n",
       "      <th>8357</th>\n",
       "      <td>Male</td>\n",
       "      <td>2014-09-30 08:21:00</td>\n",
       "      <td>2014-09-30 08:58:00</td>\n",
       "      <td>2246</td>\n",
       "      <td>Damen Ave &amp; Melrose Ave</td>\n",
       "      <td>11.0</td>\n",
       "      <td>Wood St &amp; Taylor St</td>\n",
       "      <td>15.0</td>\n",
       "      <td>46.9</td>\n",
       "      <td>11.5</td>\n",
       "      <td>rain</td>\n",
       "    </tr>\n",
       "  </tbody>\n",
       "</table>\n",
       "</div>"
      ],
      "text/plain": [
       "      gender           starttime            stoptime  tripduration  \\\n",
       "2344  Female 2014-03-19 07:23:00 2014-03-19 08:00:00          2181   \n",
       "7697    Male 2014-09-12 14:20:00 2014-09-12 14:57:00          2213   \n",
       "8357    Male 2014-09-30 08:21:00 2014-09-30 08:58:00          2246   \n",
       "\n",
       "            from_station_name  start_capacity               to_station_name  \\\n",
       "2344   Seeley Ave & Roscoe St            11.0         Franklin St & Lake St   \n",
       "7697   Damen Ave & Pierce Ave            19.0  California Ave & Division St   \n",
       "8357  Damen Ave & Melrose Ave            11.0           Wood St & Taylor St   \n",
       "\n",
       "      end_capacity  temperature  wind_speed events  \n",
       "2344          23.0         43.0         6.9   rain  \n",
       "7697          15.0         52.0        12.7   rain  \n",
       "8357          15.0         46.9        11.5   rain  "
      ]
     },
     "execution_count": 54,
     "metadata": {},
     "output_type": "execute_result"
    }
   ],
   "source": [
    "# сочетание isin и дополнительного фильтра\n",
    "filt1 = bikes['events'].isin(['rain', 'snow', 'tstorms', 'sleet'])\n",
    "filt2 = bikes['tripduration'] > 2000\n",
    "filt = filt1 & filt2\n",
    "bikes[filt].head(3)"
   ]
  },
  {
   "cell_type": "markdown",
   "id": "9b38d3a0-3876-48d9-b4e9-918eb31208b3",
   "metadata": {},
   "source": [
    "### 6.14.4. Использование метода .query()"
   ]
  },
  {
   "cell_type": "markdown",
   "id": "764406ce-5cd8-4d1f-994a-9373e1d8729b",
   "metadata": {},
   "source": [
    "Метод `.query()` — это удобный способ фильтрации данных с помощью строковых выражений. Он часто более читаем, чем традиционные методы фильтрации."
   ]
  },
  {
   "cell_type": "code",
   "execution_count": 55,
   "id": "4c8c968e-d9b3-4e8d-916a-93a17eb33b64",
   "metadata": {},
   "outputs": [
    {
     "data": {
      "text/html": [
       "<div>\n",
       "<style scoped>\n",
       "    .dataframe tbody tr th:only-of-type {\n",
       "        vertical-align: middle;\n",
       "    }\n",
       "\n",
       "    .dataframe tbody tr th {\n",
       "        vertical-align: top;\n",
       "    }\n",
       "\n",
       "    .dataframe thead th {\n",
       "        text-align: right;\n",
       "    }\n",
       "</style>\n",
       "<table border=\"1\" class=\"dataframe\">\n",
       "  <thead>\n",
       "    <tr style=\"text-align: right;\">\n",
       "      <th></th>\n",
       "      <th>gender</th>\n",
       "      <th>starttime</th>\n",
       "      <th>stoptime</th>\n",
       "      <th>tripduration</th>\n",
       "      <th>from_station_name</th>\n",
       "      <th>start_capacity</th>\n",
       "      <th>to_station_name</th>\n",
       "      <th>end_capacity</th>\n",
       "      <th>temperature</th>\n",
       "      <th>wind_speed</th>\n",
       "      <th>events</th>\n",
       "    </tr>\n",
       "  </thead>\n",
       "  <tbody>\n",
       "    <tr>\n",
       "      <th>18</th>\n",
       "      <td>Male</td>\n",
       "      <td>2013-07-09 13:12:00</td>\n",
       "      <td>2013-07-09 14:42:00</td>\n",
       "      <td>5396</td>\n",
       "      <td>Canal St &amp; Jackson Blvd</td>\n",
       "      <td>35.0</td>\n",
       "      <td>Millennium Park</td>\n",
       "      <td>35.0</td>\n",
       "      <td>79.0</td>\n",
       "      <td>13.8</td>\n",
       "      <td>cloudy</td>\n",
       "    </tr>\n",
       "    <tr>\n",
       "      <th>40</th>\n",
       "      <td>Female</td>\n",
       "      <td>2013-07-14 14:08:00</td>\n",
       "      <td>2013-07-14 15:53:00</td>\n",
       "      <td>6274</td>\n",
       "      <td>Wabash Ave &amp; Roosevelt Rd</td>\n",
       "      <td>19.0</td>\n",
       "      <td>Lake Shore Dr &amp; Monroe St</td>\n",
       "      <td>11.0</td>\n",
       "      <td>87.1</td>\n",
       "      <td>8.1</td>\n",
       "      <td>partlycloudy</td>\n",
       "    </tr>\n",
       "    <tr>\n",
       "      <th>77</th>\n",
       "      <td>Female</td>\n",
       "      <td>2013-07-21 11:35:00</td>\n",
       "      <td>2013-07-21 13:54:00</td>\n",
       "      <td>8299</td>\n",
       "      <td>State St &amp; 19th St</td>\n",
       "      <td>15.0</td>\n",
       "      <td>Sheffield Ave &amp; Kingsbury St</td>\n",
       "      <td>15.0</td>\n",
       "      <td>82.9</td>\n",
       "      <td>5.8</td>\n",
       "      <td>mostlycloudy</td>\n",
       "    </tr>\n",
       "  </tbody>\n",
       "</table>\n",
       "</div>"
      ],
      "text/plain": [
       "    gender           starttime            stoptime  tripduration  \\\n",
       "18    Male 2013-07-09 13:12:00 2013-07-09 14:42:00          5396   \n",
       "40  Female 2013-07-14 14:08:00 2013-07-14 15:53:00          6274   \n",
       "77  Female 2013-07-21 11:35:00 2013-07-21 13:54:00          8299   \n",
       "\n",
       "            from_station_name  start_capacity               to_station_name  \\\n",
       "18    Canal St & Jackson Blvd            35.0               Millennium Park   \n",
       "40  Wabash Ave & Roosevelt Rd            19.0     Lake Shore Dr & Monroe St   \n",
       "77         State St & 19th St            15.0  Sheffield Ave & Kingsbury St   \n",
       "\n",
       "    end_capacity  temperature  wind_speed        events  \n",
       "18          35.0         79.0        13.8        cloudy  \n",
       "40          11.0         87.1         8.1  partlycloudy  \n",
       "77          15.0         82.9         5.8  mostlycloudy  "
      ]
     },
     "execution_count": 55,
     "metadata": {},
     "output_type": "execute_result"
    }
   ],
   "source": [
    "# Поездки длительностью больше 5000 секунд\n",
    "bikes.query('tripduration > 5000').head(3)"
   ]
  },
  {
   "cell_type": "code",
   "execution_count": 56,
   "id": "796fd802-beea-4919-975f-cf5b16321cb9",
   "metadata": {},
   "outputs": [
    {
     "data": {
      "text/html": [
       "<div>\n",
       "<style scoped>\n",
       "    .dataframe tbody tr th:only-of-type {\n",
       "        vertical-align: middle;\n",
       "    }\n",
       "\n",
       "    .dataframe tbody tr th {\n",
       "        vertical-align: top;\n",
       "    }\n",
       "\n",
       "    .dataframe thead th {\n",
       "        text-align: right;\n",
       "    }\n",
       "</style>\n",
       "<table border=\"1\" class=\"dataframe\">\n",
       "  <thead>\n",
       "    <tr style=\"text-align: right;\">\n",
       "      <th></th>\n",
       "      <th>gender</th>\n",
       "      <th>starttime</th>\n",
       "      <th>stoptime</th>\n",
       "      <th>tripduration</th>\n",
       "      <th>from_station_name</th>\n",
       "      <th>start_capacity</th>\n",
       "      <th>to_station_name</th>\n",
       "      <th>end_capacity</th>\n",
       "      <th>temperature</th>\n",
       "      <th>wind_speed</th>\n",
       "      <th>events</th>\n",
       "    </tr>\n",
       "  </thead>\n",
       "  <tbody>\n",
       "    <tr>\n",
       "      <th>40</th>\n",
       "      <td>Female</td>\n",
       "      <td>2013-07-14 14:08:00</td>\n",
       "      <td>2013-07-14 15:53:00</td>\n",
       "      <td>6274</td>\n",
       "      <td>Wabash Ave &amp; Roosevelt Rd</td>\n",
       "      <td>19.0</td>\n",
       "      <td>Lake Shore Dr &amp; Monroe St</td>\n",
       "      <td>11.0</td>\n",
       "      <td>87.1</td>\n",
       "      <td>8.1</td>\n",
       "      <td>partlycloudy</td>\n",
       "    </tr>\n",
       "    <tr>\n",
       "      <th>77</th>\n",
       "      <td>Female</td>\n",
       "      <td>2013-07-21 11:35:00</td>\n",
       "      <td>2013-07-21 13:54:00</td>\n",
       "      <td>8299</td>\n",
       "      <td>State St &amp; 19th St</td>\n",
       "      <td>15.0</td>\n",
       "      <td>Sheffield Ave &amp; Kingsbury St</td>\n",
       "      <td>15.0</td>\n",
       "      <td>82.9</td>\n",
       "      <td>5.8</td>\n",
       "      <td>mostlycloudy</td>\n",
       "    </tr>\n",
       "    <tr>\n",
       "      <th>1954</th>\n",
       "      <td>Female</td>\n",
       "      <td>2013-12-28 11:37:00</td>\n",
       "      <td>2013-12-28 13:34:00</td>\n",
       "      <td>7050</td>\n",
       "      <td>LaSalle St &amp; Washington St</td>\n",
       "      <td>15.0</td>\n",
       "      <td>Theater on the Lake</td>\n",
       "      <td>15.0</td>\n",
       "      <td>44.1</td>\n",
       "      <td>12.7</td>\n",
       "      <td>clear</td>\n",
       "    </tr>\n",
       "  </tbody>\n",
       "</table>\n",
       "</div>"
      ],
      "text/plain": [
       "      gender           starttime            stoptime  tripduration  \\\n",
       "40    Female 2013-07-14 14:08:00 2013-07-14 15:53:00          6274   \n",
       "77    Female 2013-07-21 11:35:00 2013-07-21 13:54:00          8299   \n",
       "1954  Female 2013-12-28 11:37:00 2013-12-28 13:34:00          7050   \n",
       "\n",
       "               from_station_name  start_capacity  \\\n",
       "40     Wabash Ave & Roosevelt Rd            19.0   \n",
       "77            State St & 19th St            15.0   \n",
       "1954  LaSalle St & Washington St            15.0   \n",
       "\n",
       "                   to_station_name  end_capacity  temperature  wind_speed  \\\n",
       "40       Lake Shore Dr & Monroe St          11.0         87.1         8.1   \n",
       "77    Sheffield Ave & Kingsbury St          15.0         82.9         5.8   \n",
       "1954           Theater on the Lake          15.0         44.1        12.7   \n",
       "\n",
       "            events  \n",
       "40    partlycloudy  \n",
       "77    mostlycloudy  \n",
       "1954         clear  "
      ]
     },
     "execution_count": 56,
     "metadata": {},
     "output_type": "execute_result"
    }
   ],
   "source": [
    "# Поездки >5000 секунд И женский пол\n",
    "bikes.query('tripduration > 5000 and gender == \"Female\"').head(3)"
   ]
  },
  {
   "cell_type": "code",
   "execution_count": 57,
   "id": "c80c58a4-6957-4033-b5d5-5c6907f56dcd",
   "metadata": {},
   "outputs": [
    {
     "data": {
      "text/html": [
       "<div>\n",
       "<style scoped>\n",
       "    .dataframe tbody tr th:only-of-type {\n",
       "        vertical-align: middle;\n",
       "    }\n",
       "\n",
       "    .dataframe tbody tr th {\n",
       "        vertical-align: top;\n",
       "    }\n",
       "\n",
       "    .dataframe thead th {\n",
       "        text-align: right;\n",
       "    }\n",
       "</style>\n",
       "<table border=\"1\" class=\"dataframe\">\n",
       "  <thead>\n",
       "    <tr style=\"text-align: right;\">\n",
       "      <th></th>\n",
       "      <th>gender</th>\n",
       "      <th>starttime</th>\n",
       "      <th>stoptime</th>\n",
       "      <th>tripduration</th>\n",
       "      <th>from_station_name</th>\n",
       "      <th>start_capacity</th>\n",
       "      <th>to_station_name</th>\n",
       "      <th>end_capacity</th>\n",
       "      <th>temperature</th>\n",
       "      <th>wind_speed</th>\n",
       "      <th>events</th>\n",
       "    </tr>\n",
       "  </thead>\n",
       "  <tbody>\n",
       "    <tr>\n",
       "      <th>9</th>\n",
       "      <td>Female</td>\n",
       "      <td>2013-07-04 15:00:00</td>\n",
       "      <td>2013-07-04 15:16:00</td>\n",
       "      <td>922</td>\n",
       "      <td>Lakeview Ave &amp; Fullerton Pkwy</td>\n",
       "      <td>19.0</td>\n",
       "      <td>Racine Ave &amp; Congress Pkwy</td>\n",
       "      <td>19.0</td>\n",
       "      <td>81.0</td>\n",
       "      <td>12.7</td>\n",
       "      <td>mostlycloudy</td>\n",
       "    </tr>\n",
       "    <tr>\n",
       "      <th>14</th>\n",
       "      <td>Female</td>\n",
       "      <td>2013-07-06 12:39:00</td>\n",
       "      <td>2013-07-06 12:49:00</td>\n",
       "      <td>610</td>\n",
       "      <td>Morgan St &amp; Lake St</td>\n",
       "      <td>15.0</td>\n",
       "      <td>Aberdeen St &amp; Jackson Blvd</td>\n",
       "      <td>15.0</td>\n",
       "      <td>82.0</td>\n",
       "      <td>5.8</td>\n",
       "      <td>mostlycloudy</td>\n",
       "    </tr>\n",
       "    <tr>\n",
       "      <th>18</th>\n",
       "      <td>Male</td>\n",
       "      <td>2013-07-09 13:12:00</td>\n",
       "      <td>2013-07-09 14:42:00</td>\n",
       "      <td>5396</td>\n",
       "      <td>Canal St &amp; Jackson Blvd</td>\n",
       "      <td>35.0</td>\n",
       "      <td>Millennium Park</td>\n",
       "      <td>35.0</td>\n",
       "      <td>79.0</td>\n",
       "      <td>13.8</td>\n",
       "      <td>cloudy</td>\n",
       "    </tr>\n",
       "  </tbody>\n",
       "</table>\n",
       "</div>"
      ],
      "text/plain": [
       "    gender           starttime            stoptime  tripduration  \\\n",
       "9   Female 2013-07-04 15:00:00 2013-07-04 15:16:00           922   \n",
       "14  Female 2013-07-06 12:39:00 2013-07-06 12:49:00           610   \n",
       "18    Male 2013-07-09 13:12:00 2013-07-09 14:42:00          5396   \n",
       "\n",
       "                from_station_name  start_capacity             to_station_name  \\\n",
       "9   Lakeview Ave & Fullerton Pkwy            19.0  Racine Ave & Congress Pkwy   \n",
       "14            Morgan St & Lake St            15.0  Aberdeen St & Jackson Blvd   \n",
       "18        Canal St & Jackson Blvd            35.0             Millennium Park   \n",
       "\n",
       "    end_capacity  temperature  wind_speed        events  \n",
       "9           19.0         81.0        12.7  mostlycloudy  \n",
       "14          15.0         82.0         5.8  mostlycloudy  \n",
       "18          35.0         79.0        13.8        cloudy  "
      ]
     },
     "execution_count": 57,
     "metadata": {},
     "output_type": "execute_result"
    }
   ],
   "source": [
    "# Поездки >5000 секунд ИЛИ женский пол\n",
    "bikes.query('tripduration > 5000 or gender == \"Female\"').head(3)"
   ]
  },
  {
   "cell_type": "code",
   "execution_count": 58,
   "id": "1849e0db-c391-4a0c-8c48-cfd95329a111",
   "metadata": {},
   "outputs": [
    {
     "data": {
      "text/html": [
       "<div>\n",
       "<style scoped>\n",
       "    .dataframe tbody tr th:only-of-type {\n",
       "        vertical-align: middle;\n",
       "    }\n",
       "\n",
       "    .dataframe tbody tr th {\n",
       "        vertical-align: top;\n",
       "    }\n",
       "\n",
       "    .dataframe thead th {\n",
       "        text-align: right;\n",
       "    }\n",
       "</style>\n",
       "<table border=\"1\" class=\"dataframe\">\n",
       "  <thead>\n",
       "    <tr style=\"text-align: right;\">\n",
       "      <th></th>\n",
       "      <th>gender</th>\n",
       "      <th>starttime</th>\n",
       "      <th>stoptime</th>\n",
       "      <th>tripduration</th>\n",
       "      <th>from_station_name</th>\n",
       "      <th>start_capacity</th>\n",
       "      <th>to_station_name</th>\n",
       "      <th>end_capacity</th>\n",
       "      <th>temperature</th>\n",
       "      <th>wind_speed</th>\n",
       "      <th>events</th>\n",
       "    </tr>\n",
       "  </thead>\n",
       "  <tbody>\n",
       "    <tr>\n",
       "      <th>45</th>\n",
       "      <td>Male</td>\n",
       "      <td>2013-07-15 16:43:00</td>\n",
       "      <td>2013-07-15 16:55:00</td>\n",
       "      <td>727</td>\n",
       "      <td>Greenwood Ave &amp; 47th St</td>\n",
       "      <td>15.0</td>\n",
       "      <td>State St &amp; Harrison St</td>\n",
       "      <td>19.0</td>\n",
       "      <td>82.9</td>\n",
       "      <td>5.8</td>\n",
       "      <td>rain</td>\n",
       "    </tr>\n",
       "    <tr>\n",
       "      <th>112</th>\n",
       "      <td>Male</td>\n",
       "      <td>2013-07-26 19:10:00</td>\n",
       "      <td>2013-07-26 19:33:00</td>\n",
       "      <td>1395</td>\n",
       "      <td>Larrabee St &amp; Kingsbury St</td>\n",
       "      <td>27.0</td>\n",
       "      <td>Damen Ave &amp; Pierce Ave</td>\n",
       "      <td>19.0</td>\n",
       "      <td>66.9</td>\n",
       "      <td>12.7</td>\n",
       "      <td>rain</td>\n",
       "    </tr>\n",
       "    <tr>\n",
       "      <th>124</th>\n",
       "      <td>Male</td>\n",
       "      <td>2013-07-30 18:53:00</td>\n",
       "      <td>2013-07-30 19:00:00</td>\n",
       "      <td>442</td>\n",
       "      <td>Canal St &amp; Jackson Blvd</td>\n",
       "      <td>35.0</td>\n",
       "      <td>Racine Ave &amp; Congress Pkwy</td>\n",
       "      <td>19.0</td>\n",
       "      <td>69.1</td>\n",
       "      <td>3.5</td>\n",
       "      <td>rain</td>\n",
       "    </tr>\n",
       "  </tbody>\n",
       "</table>\n",
       "</div>"
      ],
      "text/plain": [
       "    gender           starttime            stoptime  tripduration  \\\n",
       "45    Male 2013-07-15 16:43:00 2013-07-15 16:55:00           727   \n",
       "112   Male 2013-07-26 19:10:00 2013-07-26 19:33:00          1395   \n",
       "124   Male 2013-07-30 18:53:00 2013-07-30 19:00:00           442   \n",
       "\n",
       "              from_station_name  start_capacity             to_station_name  \\\n",
       "45      Greenwood Ave & 47th St            15.0      State St & Harrison St   \n",
       "112  Larrabee St & Kingsbury St            27.0      Damen Ave & Pierce Ave   \n",
       "124     Canal St & Jackson Blvd            35.0  Racine Ave & Congress Pkwy   \n",
       "\n",
       "     end_capacity  temperature  wind_speed events  \n",
       "45           19.0         82.9         5.8   rain  \n",
       "112          19.0         66.9        12.7   rain  \n",
       "124          19.0         69.1         3.5   rain  "
      ]
     },
     "execution_count": 58,
     "metadata": {},
     "output_type": "execute_result"
    }
   ],
   "source": [
    "# Поездки в снег или дождь\n",
    "bikes.query('events in [\"snow\", \"rain\"]').head(3)"
   ]
  },
  {
   "cell_type": "markdown",
   "id": "8b0cda1b-af3c-4b9c-85ef-180091e12dfa",
   "metadata": {},
   "source": [
    "Важно: .query() не позволяет выбирать столбцы, только фильтровать строки."
   ]
  },
  {
   "cell_type": "code",
   "execution_count": 59,
   "id": "284cdf67-7d3c-4f55-bfea-068993d3bc99",
   "metadata": {},
   "outputs": [
    {
     "data": {
      "text/html": [
       "<div>\n",
       "<style scoped>\n",
       "    .dataframe tbody tr th:only-of-type {\n",
       "        vertical-align: middle;\n",
       "    }\n",
       "\n",
       "    .dataframe tbody tr th {\n",
       "        vertical-align: top;\n",
       "    }\n",
       "\n",
       "    .dataframe thead th {\n",
       "        text-align: right;\n",
       "    }\n",
       "</style>\n",
       "<table border=\"1\" class=\"dataframe\">\n",
       "  <thead>\n",
       "    <tr style=\"text-align: right;\">\n",
       "      <th></th>\n",
       "      <th>starttime</th>\n",
       "      <th>temperature</th>\n",
       "      <th>events</th>\n",
       "    </tr>\n",
       "  </thead>\n",
       "  <tbody>\n",
       "    <tr>\n",
       "      <th>45</th>\n",
       "      <td>2013-07-15 16:43:00</td>\n",
       "      <td>82.9</td>\n",
       "      <td>rain</td>\n",
       "    </tr>\n",
       "    <tr>\n",
       "      <th>112</th>\n",
       "      <td>2013-07-26 19:10:00</td>\n",
       "      <td>66.9</td>\n",
       "      <td>rain</td>\n",
       "    </tr>\n",
       "    <tr>\n",
       "      <th>124</th>\n",
       "      <td>2013-07-30 18:53:00</td>\n",
       "      <td>69.1</td>\n",
       "      <td>rain</td>\n",
       "    </tr>\n",
       "  </tbody>\n",
       "</table>\n",
       "</div>"
      ],
      "text/plain": [
       "              starttime  temperature events\n",
       "45  2013-07-15 16:43:00         82.9   rain\n",
       "112 2013-07-26 19:10:00         66.9   rain\n",
       "124 2013-07-30 18:53:00         69.1   rain"
      ]
     },
     "execution_count": 59,
     "metadata": {},
     "output_type": "execute_result"
    }
   ],
   "source": [
    "# Сначала фильтруем, потом выбираем столбцы\n",
    "cols = ['starttime', 'temperature', 'events']\n",
    "bikes.query('events in [\"snow\", \"rain\"]')[cols].head(3)"
   ]
  },
  {
   "cell_type": "code",
   "execution_count": 60,
   "id": "a09492c5-b5e3-4096-880b-8a8cf25db963",
   "metadata": {},
   "outputs": [
    {
     "data": {
      "text/html": [
       "<div>\n",
       "<style scoped>\n",
       "    .dataframe tbody tr th:only-of-type {\n",
       "        vertical-align: middle;\n",
       "    }\n",
       "\n",
       "    .dataframe tbody tr th {\n",
       "        vertical-align: top;\n",
       "    }\n",
       "\n",
       "    .dataframe thead th {\n",
       "        text-align: right;\n",
       "    }\n",
       "</style>\n",
       "<table border=\"1\" class=\"dataframe\">\n",
       "  <thead>\n",
       "    <tr style=\"text-align: right;\">\n",
       "      <th></th>\n",
       "      <th>starttime</th>\n",
       "      <th>tripduration</th>\n",
       "    </tr>\n",
       "  </thead>\n",
       "  <tbody>\n",
       "    <tr>\n",
       "      <th>40</th>\n",
       "      <td>2013-07-14 14:08:00</td>\n",
       "      <td>6274</td>\n",
       "    </tr>\n",
       "    <tr>\n",
       "      <th>77</th>\n",
       "      <td>2013-07-21 11:35:00</td>\n",
       "      <td>8299</td>\n",
       "    </tr>\n",
       "    <tr>\n",
       "      <th>1954</th>\n",
       "      <td>2013-12-28 11:37:00</td>\n",
       "      <td>7050</td>\n",
       "    </tr>\n",
       "  </tbody>\n",
       "</table>\n",
       "</div>"
      ],
      "text/plain": [
       "               starttime  tripduration\n",
       "40   2013-07-14 14:08:00          6274\n",
       "77   2013-07-21 11:35:00          8299\n",
       "1954 2013-12-28 11:37:00          7050"
      ]
     },
     "execution_count": 60,
     "metadata": {},
     "output_type": "execute_result"
    }
   ],
   "source": [
    "# Можно объединять в цепочку\n",
    "bikes.query('tripduration > 5000') \\\n",
    "     .query('gender == \"Female\"') \\\n",
    "     [['starttime', 'tripduration']] \\\n",
    "     .head(3)"
   ]
  },
  {
   "cell_type": "markdown",
   "id": "14dc758e-14b6-400d-9443-49297a11837f",
   "metadata": {},
   "source": [
    "Метод .query() — отличный выбор когда:  \n",
    "✅ Нужны сложные условия фильтрации  \n",
    "✅ Важна читаемость кода  \n",
    "✅ Условия динамические (можно использовать переменные)\n",
    "\n",
    "Лучше использовать традиционные методы когда:  \n",
    "❌ Нужно одновременно фильтровать и выбирать столбцы  \n",
    "❌ Критична производительность для больших данных  \n",
    "❌ Нужны специфические операции с данными  "
   ]
  },
  {
   "cell_type": "markdown",
   "id": "807adb57-b2d8-4f4c-9c27-360bacdaae0a",
   "metadata": {},
   "source": [
    "## 6.15. Агрегирование данных"
   ]
  },
  {
   "cell_type": "markdown",
   "id": "0984b879-2cb9-456f-a699-b6a416c5f586",
   "metadata": {},
   "source": [
    "### 6.15.1. Группировка и агрегирование с помощью одного столбца"
   ]
  },
  {
   "cell_type": "markdown",
   "id": "d5ecf983-186c-446a-a37f-db909ddd6da5",
   "metadata": {},
   "source": [
    "Группировка и агрегирование — одна из самых мощных функций pandas для анализа данных. Она позволяет разбить данные на группы и посчитать статистики для каждой группы.\n",
    "\n",
    "Представьте, что у вас есть данные о сотрудниках разных отделов:\n",
    "|Отдел|Зарплата|Опыт|\n",
    "|-|-|-|\n",
    "|IT|5000|3|\n",
    "|HR|4000|2|\n",
    "|IT|6000|5|\n",
    "|HR|4500|4|\n",
    "\n",
    "Вопрос: Какая средняя зарплата в каждом отделе?\n",
    "\n",
    "Ответ через группировку:  \n",
    "Группа IT: (5000 + 6000) / 2 = 5500  \n",
    "Группа HR: (4000 + 4500) / 2 = 4250\n",
    "\n",
    "Синтаксис группировки\n",
    "```python\n",
    "df.groupby('группирующий_столбец').agg(\n",
    "    новое_название=('столбец_для_анализа', 'функция')\n",
    ")\n",
    "```"
   ]
  },
  {
   "cell_type": "code",
   "execution_count": 61,
   "id": "000064a9-556a-4fa1-87c5-2de6fc3db463",
   "metadata": {},
   "outputs": [
    {
     "name": "stdout",
     "output_type": "stream",
     "text": [
      "              avg_tripduration\n",
      "events                        \n",
      "clear               767.718240\n",
      "cloudy              690.291346\n",
      "fog                 570.557377\n",
      "hazy                691.301724\n",
      "mostlycloudy        736.609963\n",
      "partlycloudy        725.389928\n",
      "rain                633.748906\n",
      "sleet               541.250000\n",
      "snow                592.860515\n",
      "tstorms             636.160377\n",
      "unknown             635.750000\n"
     ]
    }
   ],
   "source": [
    "# Средняя продолжительность поездки по погодным условиям\n",
    "result = bikes.groupby('events').agg(\n",
    "    avg_tripduration=('tripduration', 'mean')\n",
    ")\n",
    "\n",
    "print(result)"
   ]
  },
  {
   "cell_type": "markdown",
   "id": "48e65e28-00ff-4e67-9472-8f9f9d058b09",
   "metadata": {},
   "source": [
    "**Компоненты группировки**\n",
    "- Группирующий столбец (events)\n",
    "  - Каждое уникальное значение образует отдельную группу\n",
    "  - Пример: \"Clear\", \"Rain\", \"Snow\"  \n",
    "\n",
    "- Агрегируемый столбец (tripduration)\n",
    "  - Столбец, к которому применяется функция\n",
    "  - Обычно числовой столбец  \n",
    "\n",
    "- Агрегирующая функция (mean)\n",
    "  - Функция, которая вычисляет статистику"
   ]
  },
  {
   "cell_type": "markdown",
   "id": "ff05b6d5-94fe-4330-ba38-974917baea06",
   "metadata": {},
   "source": [
    "|Функция|Описание|Пример|\n",
    "|-|-|-|\n",
    "|`sum`|Сумма|('salary', 'sum')|\n",
    "|`mean`|Среднее|('tripduration', 'mean')|\n",
    "|`min`|Минимум|('temperature', 'min')|\n",
    "|`max`|Максимум|('salary', 'max')|\n",
    "|`count`|Количество непустых значений|('name', 'count')|\n",
    "|`std`|Стандартное отклонение|('sales', 'std')|\n",
    "|`size`|Размер группы(включая пропуски)|-|"
   ]
  },
  {
   "cell_type": "code",
   "execution_count": 62,
   "id": "45c22606-dd84-4a60-a4bd-2db39f33ab4a",
   "metadata": {},
   "outputs": [
    {
     "data": {
      "text/html": [
       "<div>\n",
       "<style scoped>\n",
       "    .dataframe tbody tr th:only-of-type {\n",
       "        vertical-align: middle;\n",
       "    }\n",
       "\n",
       "    .dataframe tbody tr th {\n",
       "        vertical-align: top;\n",
       "    }\n",
       "\n",
       "    .dataframe thead th {\n",
       "        text-align: right;\n",
       "    }\n",
       "</style>\n",
       "<table border=\"1\" class=\"dataframe\">\n",
       "  <thead>\n",
       "    <tr style=\"text-align: right;\">\n",
       "      <th></th>\n",
       "      <th>avg_duration</th>\n",
       "      <th>max_duration</th>\n",
       "      <th>min_temperature</th>\n",
       "      <th>ride_count</th>\n",
       "    </tr>\n",
       "    <tr>\n",
       "      <th>events</th>\n",
       "      <th></th>\n",
       "      <th></th>\n",
       "      <th></th>\n",
       "      <th></th>\n",
       "    </tr>\n",
       "  </thead>\n",
       "  <tbody>\n",
       "    <tr>\n",
       "      <th>clear</th>\n",
       "      <td>767.718240</td>\n",
       "      <td>73591</td>\n",
       "      <td>-8.0</td>\n",
       "      <td>2818</td>\n",
       "    </tr>\n",
       "    <tr>\n",
       "      <th>cloudy</th>\n",
       "      <td>690.291346</td>\n",
       "      <td>86188</td>\n",
       "      <td>-6.0</td>\n",
       "      <td>12075</td>\n",
       "    </tr>\n",
       "    <tr>\n",
       "      <th>fog</th>\n",
       "      <td>570.557377</td>\n",
       "      <td>1776</td>\n",
       "      <td>28.0</td>\n",
       "      <td>122</td>\n",
       "    </tr>\n",
       "    <tr>\n",
       "      <th>hazy</th>\n",
       "      <td>691.301724</td>\n",
       "      <td>7739</td>\n",
       "      <td>17.1</td>\n",
       "      <td>348</td>\n",
       "    </tr>\n",
       "    <tr>\n",
       "      <th>mostlycloudy</th>\n",
       "      <td>736.609963</td>\n",
       "      <td>63155</td>\n",
       "      <td>-2.0</td>\n",
       "      <td>15096</td>\n",
       "    </tr>\n",
       "    <tr>\n",
       "      <th>partlycloudy</th>\n",
       "      <td>725.389928</td>\n",
       "      <td>85442</td>\n",
       "      <td>-6.0</td>\n",
       "      <td>16998</td>\n",
       "    </tr>\n",
       "    <tr>\n",
       "      <th>rain</th>\n",
       "      <td>633.748906</td>\n",
       "      <td>28994</td>\n",
       "      <td>19.9</td>\n",
       "      <td>1828</td>\n",
       "    </tr>\n",
       "    <tr>\n",
       "      <th>sleet</th>\n",
       "      <td>541.250000</td>\n",
       "      <td>1257</td>\n",
       "      <td>21.9</td>\n",
       "      <td>16</td>\n",
       "    </tr>\n",
       "    <tr>\n",
       "      <th>snow</th>\n",
       "      <td>592.860515</td>\n",
       "      <td>8309</td>\n",
       "      <td>3.0</td>\n",
       "      <td>466</td>\n",
       "    </tr>\n",
       "    <tr>\n",
       "      <th>tstorms</th>\n",
       "      <td>636.160377</td>\n",
       "      <td>2868</td>\n",
       "      <td>35.1</td>\n",
       "      <td>318</td>\n",
       "    </tr>\n",
       "    <tr>\n",
       "      <th>unknown</th>\n",
       "      <td>635.750000</td>\n",
       "      <td>1325</td>\n",
       "      <td>-9999.0</td>\n",
       "      <td>4</td>\n",
       "    </tr>\n",
       "  </tbody>\n",
       "</table>\n",
       "</div>"
      ],
      "text/plain": [
       "              avg_duration  max_duration  min_temperature  ride_count\n",
       "events                                                               \n",
       "clear           767.718240         73591             -8.0        2818\n",
       "cloudy          690.291346         86188             -6.0       12075\n",
       "fog             570.557377          1776             28.0         122\n",
       "hazy            691.301724          7739             17.1         348\n",
       "mostlycloudy    736.609963         63155             -2.0       15096\n",
       "partlycloudy    725.389928         85442             -6.0       16998\n",
       "rain            633.748906         28994             19.9        1828\n",
       "sleet           541.250000          1257             21.9          16\n",
       "snow            592.860515          8309              3.0         466\n",
       "tstorms         636.160377          2868             35.1         318\n",
       "unknown         635.750000          1325          -9999.0           4"
      ]
     },
     "execution_count": 62,
     "metadata": {},
     "output_type": "execute_result"
    }
   ],
   "source": [
    "# Несколько статистик для разных столбцов\n",
    "bikes.groupby('events').agg(\n",
    "    avg_duration=('tripduration', 'mean'),\n",
    "    max_duration=('tripduration', 'max'),\n",
    "    min_temperature=('temperature', 'min'),\n",
    "    ride_count=('tripduration', 'count')\n",
    ")"
   ]
  },
  {
   "cell_type": "markdown",
   "id": "1b9bec89-55bd-4a9f-ab0a-1be3a4ec3fdf",
   "metadata": {},
   "source": [
    "### 6.15.2. Группировка и агрегирование с помощью нескольких столбцов"
   ]
  },
  {
   "cell_type": "markdown",
   "id": "a479f4d5-066a-42c2-8c7a-eaf31894caf6",
   "metadata": {},
   "source": [
    "Группировка по нескольким столбцам позволяет анализировать данные на более детальном уровне, создавая комбинации категорий."
   ]
  },
  {
   "cell_type": "code",
   "execution_count": 63,
   "id": "436d461b-4b14-4193-a3ae-638da2a2c0cb",
   "metadata": {},
   "outputs": [
    {
     "name": "stdout",
     "output_type": "stream",
     "text": [
      "                     avg_tripduration\n",
      "gender events                        \n",
      "Female clear               889.229955\n",
      "       cloudy              764.428671\n",
      "       fog                 698.933333\n",
      "       hazy                797.823529\n",
      "       mostlycloudy        819.058638\n",
      "       partlycloudy        839.990322\n",
      "       rain                646.034568\n",
      "       sleet               781.333333\n",
      "       snow                613.750000\n",
      "       tstorms             709.925000\n",
      "       unknown             240.000000\n",
      "Male   clear               730.481688\n",
      "       cloudy              667.281823\n",
      "       fog                 528.695652\n",
      "       hazy                656.874525\n",
      "       mostlycloudy        708.844771\n",
      "       partlycloudy        684.834807\n",
      "       rain                630.252284\n",
      "       sleet               485.846154\n",
      "       snow                589.534826\n",
      "       tstorms             611.365546\n",
      "       unknown             767.666667\n"
     ]
    }
   ],
   "source": [
    "# Группировка по двум столбцам\n",
    "# Средняя длительность поездки по полу и погоде\n",
    "result = bikes.groupby(['gender', 'events']).agg(\n",
    "    avg_tripduration=('tripduration', 'mean')\n",
    ")\n",
    "\n",
    "print(result)"
   ]
  },
  {
   "cell_type": "markdown",
   "id": "143c242c-5716-4908-a457-8eb453c72f52",
   "metadata": {},
   "source": [
    "Проблема: многоуровневый индекс (MultiIndex). После группировки по нескольким столбцам pandas создает иерархический индекс, что не всегда удобно для дальнейшей работы.\n",
    "\n",
    "Решение: Используем `.reset_index()`"
   ]
  },
  {
   "cell_type": "code",
   "execution_count": 64,
   "id": "8dde17e8-8557-4d78-9b6c-f98f47dc253e",
   "metadata": {},
   "outputs": [
    {
     "name": "stdout",
     "output_type": "stream",
     "text": [
      "    gender        events  avg_tripduration\n",
      "0   Female         clear        889.229955\n",
      "1   Female        cloudy        764.428671\n",
      "2   Female           fog        698.933333\n",
      "3   Female          hazy        797.823529\n",
      "4   Female  mostlycloudy        819.058638\n",
      "5   Female  partlycloudy        839.990322\n",
      "6   Female          rain        646.034568\n",
      "7   Female         sleet        781.333333\n",
      "8   Female          snow        613.750000\n",
      "9   Female       tstorms        709.925000\n",
      "10  Female       unknown        240.000000\n",
      "11    Male         clear        730.481688\n",
      "12    Male        cloudy        667.281823\n",
      "13    Male           fog        528.695652\n",
      "14    Male          hazy        656.874525\n",
      "15    Male  mostlycloudy        708.844771\n",
      "16    Male  partlycloudy        684.834807\n",
      "17    Male          rain        630.252284\n",
      "18    Male         sleet        485.846154\n",
      "19    Male          snow        589.534826\n",
      "20    Male       tstorms        611.365546\n",
      "21    Male       unknown        767.666667\n"
     ]
    }
   ],
   "source": [
    "# То же самое, но с нормальными столбцами\n",
    "result = bikes.groupby(['gender', 'events']).agg(\n",
    "    avg_tripduration=('tripduration', 'mean')\n",
    ").reset_index()\n",
    "\n",
    "print(result)"
   ]
  },
  {
   "cell_type": "code",
   "execution_count": 65,
   "id": "b5d16620-574e-4399-bdf7-014389879c96",
   "metadata": {},
   "outputs": [
    {
     "name": "stdout",
     "output_type": "stream",
     "text": [
      "          events  avg_tripduration  max_tripduration     avg_temp  min_temp\n",
      "0          clear        767.718240             73591    59.531476      -8.0\n",
      "1         cloudy        690.291346             86188    56.621143      -6.0\n",
      "2            fog        570.557377              1776    50.235246      28.0\n",
      "3           hazy        691.301724              7739    55.594253      17.1\n",
      "4   mostlycloudy        736.609963             63155    67.278551      -2.0\n",
      "5   partlycloudy        725.389928             85442    65.444558      -6.0\n",
      "6           rain        633.748906             28994    57.066247      19.9\n",
      "7          sleet        541.250000              1257    31.243750      21.9\n",
      "8           snow        592.860515              8309    26.654506       3.0\n",
      "9        tstorms        636.160377              2868    74.200943      35.1\n",
      "10       unknown        635.750000              1325 -2462.250000   -9999.0\n"
     ]
    }
   ],
   "source": [
    "# Группировка по двум столбцам + несколько агрегаций\n",
    "result = bikes.groupby('events').agg(\n",
    "    avg_tripduration=('tripduration', 'mean'),\n",
    "    max_tripduration=('tripduration', 'max'),\n",
    "    avg_temp=('temperature', 'mean'),\n",
    "    min_temp=('temperature', 'min')\n",
    ").reset_index()\n",
    "\n",
    "print(result)"
   ]
  },
  {
   "cell_type": "code",
   "execution_count": 66,
   "id": "778e3783-421b-4c10-81da-9b3879106632",
   "metadata": {},
   "outputs": [
    {
     "name": "stdout",
     "output_type": "stream",
     "text": [
      "    gender        events  avg_duration  max_duration  min_duration  \\\n",
      "0   Female         clear    889.229955         46838            78   \n",
      "1   Female        cloudy    764.428671         79988            70   \n",
      "2   Female           fog    698.933333          1776           142   \n",
      "3   Female          hazy    797.823529          2219           139   \n",
      "4   Female  mostlycloudy    819.058638         63155            60   \n",
      "5   Female  partlycloudy    839.990322         85442            61   \n",
      "6   Female          rain    646.034568          2181            63   \n",
      "7   Female         sleet    781.333333          1257           387   \n",
      "8   Female          snow    613.750000          1766           126   \n",
      "9   Female       tstorms    709.925000          2868            63   \n",
      "10  Female       unknown    240.000000           240           240   \n",
      "11    Male         clear    730.481688         73591            69   \n",
      "12    Male        cloudy    667.281823         86188            60   \n",
      "13    Male           fog    528.695652          1398           105   \n",
      "14    Male          hazy    656.874525          7739            82   \n",
      "15    Male  mostlycloudy    708.844771         57997            60   \n",
      "16    Male  partlycloudy    684.834807         27674            60   \n",
      "17    Male          rain    630.252284         28994            65   \n",
      "18    Male         sleet    485.846154           982           166   \n",
      "19    Male          snow    589.534826          8309            80   \n",
      "20    Male       tstorms    611.365546          1951            74   \n",
      "21    Male       unknown    767.666667          1325           435   \n",
      "\n",
      "    ride_count  avg_temperature  avg_wind_speed  \n",
      "0          661        61.528744        7.814523  \n",
      "1         2860        58.803007       10.586993  \n",
      "2           30        51.296667        5.376667  \n",
      "3           85        56.274118        7.444706  \n",
      "4         3803        68.481909       10.459427  \n",
      "5         4443        67.243484        7.494103  \n",
      "6          405        57.939506       11.074321  \n",
      "7            3        29.600000       12.666667  \n",
      "8           64        26.782812       12.462500  \n",
      "9           80        75.375000     -112.675000  \n",
      "10           1     -9999.000000    -9999.000000  \n",
      "11        2157        58.919425        8.088827  \n",
      "12        9215        55.943972        6.559392  \n",
      "13          92        49.889130        4.671739  \n",
      "14         263        55.374525        7.823574  \n",
      "15       11293        66.873311        6.986266  \n",
      "16       12555        64.807949        5.957467  \n",
      "17        1423        56.817709       11.234996  \n",
      "18          13        31.623077       11.969231  \n",
      "19         402        26.634080       13.262438  \n",
      "20         238        73.806303       12.359244  \n",
      "21           3        50.000000        9.200000  \n"
     ]
    }
   ],
   "source": [
    "# Детальный анализ поездок\n",
    "detailed_analysis = bikes.groupby(['gender', 'events']).agg(\n",
    "    avg_duration=('tripduration', 'mean'),\n",
    "    max_duration=('tripduration', 'max'),\n",
    "    min_duration=('tripduration', 'min'),\n",
    "    ride_count=('tripduration', 'count'),\n",
    "    avg_temperature=('temperature', 'mean'),\n",
    "    avg_wind_speed=('wind_speed', 'mean')\n",
    ").reset_index()\n",
    "\n",
    "print(detailed_analysis)"
   ]
  },
  {
   "cell_type": "markdown",
   "id": "4a4d4289-1178-429f-b43a-9b4e69e85df5",
   "metadata": {},
   "source": [
    "### 6.15.3. Группировка с помощью сводных таблиц"
   ]
  },
  {
   "cell_type": "markdown",
   "id": "cf06fb58-4b79-4a4e-89ec-bab149f196be",
   "metadata": {},
   "source": [
    "Сводные таблицы — это мощный инструмент для анализа и визуализации данных в перекрестном формате. Они похожи на сводные таблицы в Excel."
   ]
  },
  {
   "cell_type": "markdown",
   "id": "80247579-90e2-4625-9b5c-5492ac4c3e4c",
   "metadata": {},
   "source": [
    "**Базовый синтаксис pivot_table**\n",
    "```python\n",
    "df.pivot_table(\n",
    "    index='вертикальная_группировка',\n",
    "    columns='горизонтальная_группировка', \n",
    "    values='анализируемый_столбец',\n",
    "    aggfunc='функция'\n",
    ")\n",
    "```"
   ]
  },
  {
   "cell_type": "code",
   "execution_count": 67,
   "id": "380de883-70fa-46b2-9920-d16d73b76785",
   "metadata": {},
   "outputs": [
    {
     "name": "stdout",
     "output_type": "stream",
     "text": [
      "Gender                           F             M\n",
      "Education                                       \n",
      "Bachelor              37972.366023  37040.250000\n",
      "College               37740.598055  36781.846543\n",
      "Doctor                45731.160256  39342.279503\n",
      "High School or Below  36211.804149  35891.237416\n",
      "Master                44329.254190  45259.220000\n"
     ]
    }
   ],
   "source": [
    "import pandas as pd\n",
    "\n",
    "# Загрузка данных\n",
    "ins = pd.read_csv('data/StateFarm_missing.csv', sep=';')\n",
    "\n",
    "# Сводная таблица: средний доход по образованию и полу\n",
    "result = ins.pivot_table(\n",
    "    index='Education',\n",
    "    columns='Gender',\n",
    "    values='Income',\n",
    "    aggfunc='mean'\n",
    ")\n",
    "\n",
    "print(result)"
   ]
  },
  {
   "cell_type": "code",
   "execution_count": 68,
   "id": "2afb7537-2fc1-4fef-a919-8c743fefc453",
   "metadata": {},
   "outputs": [
    {
     "name": "stdout",
     "output_type": "stream",
     "text": [
      "Gender                    F      M\n",
      "Education                         \n",
      "Bachelor              38000  37000\n",
      "College               38000  37000\n",
      "Doctor                46000  39000\n",
      "High School or Below  36000  36000\n",
      "Master                44000  45000\n"
     ]
    }
   ],
   "source": [
    "# Округление и преобразование в целые числа\n",
    "clean_result = ins.pivot_table(\n",
    "    index='Education',\n",
    "    columns='Gender',\n",
    "    values='Income',\n",
    "    aggfunc='mean'\n",
    ").round(-3).astype('int')\n",
    "\n",
    "print(clean_result)"
   ]
  },
  {
   "cell_type": "markdown",
   "id": "7d1f3ba0-1fc7-4ee7-b712-ff9482d297cd",
   "metadata": {},
   "source": [
    "**Сравнение с groupby**"
   ]
  },
  {
   "cell_type": "code",
   "execution_count": 69,
   "id": "b1750bc0-4667-48fa-aa5a-7e0ee1f4fa3e",
   "metadata": {},
   "outputs": [
    {
     "data": {
      "text/html": [
       "<div>\n",
       "<style scoped>\n",
       "    .dataframe tbody tr th:only-of-type {\n",
       "        vertical-align: middle;\n",
       "    }\n",
       "\n",
       "    .dataframe tbody tr th {\n",
       "        vertical-align: top;\n",
       "    }\n",
       "\n",
       "    .dataframe thead th {\n",
       "        text-align: right;\n",
       "    }\n",
       "</style>\n",
       "<table border=\"1\" class=\"dataframe\">\n",
       "  <thead>\n",
       "    <tr style=\"text-align: right;\">\n",
       "      <th>Gender</th>\n",
       "      <th>F</th>\n",
       "      <th>M</th>\n",
       "    </tr>\n",
       "    <tr>\n",
       "      <th>Education</th>\n",
       "      <th></th>\n",
       "      <th></th>\n",
       "    </tr>\n",
       "  </thead>\n",
       "  <tbody>\n",
       "    <tr>\n",
       "      <th>Bachelor</th>\n",
       "      <td>37972.366023</td>\n",
       "      <td>37040.250000</td>\n",
       "    </tr>\n",
       "    <tr>\n",
       "      <th>College</th>\n",
       "      <td>37740.598055</td>\n",
       "      <td>36781.846543</td>\n",
       "    </tr>\n",
       "    <tr>\n",
       "      <th>Doctor</th>\n",
       "      <td>45731.160256</td>\n",
       "      <td>39342.279503</td>\n",
       "    </tr>\n",
       "    <tr>\n",
       "      <th>High School or Below</th>\n",
       "      <td>36211.804149</td>\n",
       "      <td>35891.237416</td>\n",
       "    </tr>\n",
       "    <tr>\n",
       "      <th>Master</th>\n",
       "      <td>44329.254190</td>\n",
       "      <td>45259.220000</td>\n",
       "    </tr>\n",
       "  </tbody>\n",
       "</table>\n",
       "</div>"
      ],
      "text/plain": [
       "Gender                           F             M\n",
       "Education                                       \n",
       "Bachelor              37972.366023  37040.250000\n",
       "College               37740.598055  36781.846543\n",
       "Doctor                45731.160256  39342.279503\n",
       "High School or Below  36211.804149  35891.237416\n",
       "Master                44329.254190  45259.220000"
      ]
     },
     "execution_count": 69,
     "metadata": {},
     "output_type": "execute_result"
    }
   ],
   "source": [
    "# Легко сравнивать по горизонтали\n",
    "ins.pivot_table(index='Education', columns='Gender', values='Income', aggfunc='mean')"
   ]
  },
  {
   "cell_type": "code",
   "execution_count": 70,
   "id": "ec886f6c-5417-485f-8b87-b4a1fc93c04a",
   "metadata": {},
   "outputs": [
    {
     "data": {
      "text/html": [
       "<div>\n",
       "<style scoped>\n",
       "    .dataframe tbody tr th:only-of-type {\n",
       "        vertical-align: middle;\n",
       "    }\n",
       "\n",
       "    .dataframe tbody tr th {\n",
       "        vertical-align: top;\n",
       "    }\n",
       "\n",
       "    .dataframe thead th {\n",
       "        text-align: right;\n",
       "    }\n",
       "</style>\n",
       "<table border=\"1\" class=\"dataframe\">\n",
       "  <thead>\n",
       "    <tr style=\"text-align: right;\">\n",
       "      <th></th>\n",
       "      <th></th>\n",
       "      <th>mean_salary</th>\n",
       "    </tr>\n",
       "    <tr>\n",
       "      <th>Gender</th>\n",
       "      <th>Education</th>\n",
       "      <th></th>\n",
       "    </tr>\n",
       "  </thead>\n",
       "  <tbody>\n",
       "    <tr>\n",
       "      <th rowspan=\"5\" valign=\"top\">F</th>\n",
       "      <th>Bachelor</th>\n",
       "      <td>37972.366023</td>\n",
       "    </tr>\n",
       "    <tr>\n",
       "      <th>College</th>\n",
       "      <td>37740.598055</td>\n",
       "    </tr>\n",
       "    <tr>\n",
       "      <th>Doctor</th>\n",
       "      <td>45731.160256</td>\n",
       "    </tr>\n",
       "    <tr>\n",
       "      <th>High School or Below</th>\n",
       "      <td>36211.804149</td>\n",
       "    </tr>\n",
       "    <tr>\n",
       "      <th>Master</th>\n",
       "      <td>44329.254190</td>\n",
       "    </tr>\n",
       "    <tr>\n",
       "      <th rowspan=\"5\" valign=\"top\">M</th>\n",
       "      <th>Bachelor</th>\n",
       "      <td>37040.250000</td>\n",
       "    </tr>\n",
       "    <tr>\n",
       "      <th>College</th>\n",
       "      <td>36781.846543</td>\n",
       "    </tr>\n",
       "    <tr>\n",
       "      <th>Doctor</th>\n",
       "      <td>39342.279503</td>\n",
       "    </tr>\n",
       "    <tr>\n",
       "      <th>High School or Below</th>\n",
       "      <td>35891.237416</td>\n",
       "    </tr>\n",
       "    <tr>\n",
       "      <th>Master</th>\n",
       "      <td>45259.220000</td>\n",
       "    </tr>\n",
       "  </tbody>\n",
       "</table>\n",
       "</div>"
      ],
      "text/plain": [
       "                              mean_salary\n",
       "Gender Education                         \n",
       "F      Bachelor              37972.366023\n",
       "       College               37740.598055\n",
       "       Doctor                45731.160256\n",
       "       High School or Below  36211.804149\n",
       "       Master                44329.254190\n",
       "M      Bachelor              37040.250000\n",
       "       College               36781.846543\n",
       "       Doctor                39342.279503\n",
       "       High School or Below  35891.237416\n",
       "       Master                45259.220000"
      ]
     },
     "execution_count": 70,
     "metadata": {},
     "output_type": "execute_result"
    }
   ],
   "source": [
    "# Сложнее сравнивать\n",
    "ins.groupby(['Gender', 'Education']).agg(mean_salary=('Income', 'mean'))"
   ]
  },
  {
   "cell_type": "markdown",
   "id": "1931e945-3ccd-4457-b3a8-65ac66839750",
   "metadata": {},
   "source": [
    "**Визуальное форматирование**"
   ]
  },
  {
   "cell_type": "code",
   "execution_count": 71,
   "id": "7e56836c-591a-4945-b617-ad1bcde4be1c",
   "metadata": {},
   "outputs": [
    {
     "data": {
      "text/html": [
       "<style type=\"text/css\">\n",
       "#T_8b665_row0_col3, #T_8b665_row1_col0, #T_8b665_row1_col1, #T_8b665_row2_col2, #T_8b665_row3_col4 {\n",
       "  background-color: yellow;\n",
       "}\n",
       "</style>\n",
       "<table id=\"T_8b665\">\n",
       "  <thead>\n",
       "    <tr>\n",
       "      <th class=\"index_name level0\" >Education</th>\n",
       "      <th id=\"T_8b665_level0_col0\" class=\"col_heading level0 col0\" >Bachelor</th>\n",
       "      <th id=\"T_8b665_level0_col1\" class=\"col_heading level0 col1\" >College</th>\n",
       "      <th id=\"T_8b665_level0_col2\" class=\"col_heading level0 col2\" >Doctor</th>\n",
       "      <th id=\"T_8b665_level0_col3\" class=\"col_heading level0 col3\" >High School or Below</th>\n",
       "      <th id=\"T_8b665_level0_col4\" class=\"col_heading level0 col4\" >Master</th>\n",
       "    </tr>\n",
       "    <tr>\n",
       "      <th class=\"index_name level0\" >EmploymentStatus</th>\n",
       "      <th class=\"blank col0\" >&nbsp;</th>\n",
       "      <th class=\"blank col1\" >&nbsp;</th>\n",
       "      <th class=\"blank col2\" >&nbsp;</th>\n",
       "      <th class=\"blank col3\" >&nbsp;</th>\n",
       "      <th class=\"blank col4\" >&nbsp;</th>\n",
       "    </tr>\n",
       "  </thead>\n",
       "  <tbody>\n",
       "    <tr>\n",
       "      <th id=\"T_8b665_level0_row0\" class=\"row_heading level0 row0\" >Disabled</th>\n",
       "      <td id=\"T_8b665_row0_col0\" class=\"data row0 col0\" >6729</td>\n",
       "      <td id=\"T_8b665_row0_col1\" class=\"data row0 col1\" >6756</td>\n",
       "      <td id=\"T_8b665_row0_col2\" class=\"data row0 col2\" >7272</td>\n",
       "      <td id=\"T_8b665_row0_col3\" class=\"data row0 col3\" >9983</td>\n",
       "      <td id=\"T_8b665_row0_col4\" class=\"data row0 col4\" >7964</td>\n",
       "    </tr>\n",
       "    <tr>\n",
       "      <th id=\"T_8b665_level0_row1\" class=\"row_heading level0 row1\" >Employed</th>\n",
       "      <td id=\"T_8b665_row1_col0\" class=\"data row1 col0\" >8224</td>\n",
       "      <td id=\"T_8b665_row1_col1\" class=\"data row1 col1\" >8047</td>\n",
       "      <td id=\"T_8b665_row1_col2\" class=\"data row1 col2\" >7538</td>\n",
       "      <td id=\"T_8b665_row1_col3\" class=\"data row1 col3\" >8566</td>\n",
       "      <td id=\"T_8b665_row1_col4\" class=\"data row1 col4\" >8042</td>\n",
       "    </tr>\n",
       "    <tr>\n",
       "      <th id=\"T_8b665_level0_row2\" class=\"row_heading level0 row2\" >Medical Leave</th>\n",
       "      <td id=\"T_8b665_row2_col0\" class=\"data row2 col0\" >7708</td>\n",
       "      <td id=\"T_8b665_row2_col1\" class=\"data row2 col1\" >6952</td>\n",
       "      <td id=\"T_8b665_row2_col2\" class=\"data row2 col2\" >11690</td>\n",
       "      <td id=\"T_8b665_row2_col3\" class=\"data row2 col3\" >8235</td>\n",
       "      <td id=\"T_8b665_row2_col4\" class=\"data row2 col4\" >7834</td>\n",
       "    </tr>\n",
       "    <tr>\n",
       "      <th id=\"T_8b665_level0_row3\" class=\"row_heading level0 row3\" >Retired</th>\n",
       "      <td id=\"T_8b665_row3_col0\" class=\"data row3 col0\" >7846</td>\n",
       "      <td id=\"T_8b665_row3_col1\" class=\"data row3 col1\" >7051</td>\n",
       "      <td id=\"T_8b665_row3_col2\" class=\"data row3 col2\" >4518</td>\n",
       "      <td id=\"T_8b665_row3_col3\" class=\"data row3 col3\" >5860</td>\n",
       "      <td id=\"T_8b665_row3_col4\" class=\"data row3 col4\" >12442</td>\n",
       "    </tr>\n",
       "    <tr>\n",
       "      <th id=\"T_8b665_level0_row4\" class=\"row_heading level0 row4\" >Unemployed</th>\n",
       "      <td id=\"T_8b665_row4_col0\" class=\"data row4 col0\" >7103</td>\n",
       "      <td id=\"T_8b665_row4_col1\" class=\"data row4 col1\" >7681</td>\n",
       "      <td id=\"T_8b665_row4_col2\" class=\"data row4 col2\" >6966</td>\n",
       "      <td id=\"T_8b665_row4_col3\" class=\"data row4 col3\" >7739</td>\n",
       "      <td id=\"T_8b665_row4_col4\" class=\"data row4 col4\" >8807</td>\n",
       "    </tr>\n",
       "  </tbody>\n",
       "</table>\n"
      ],
      "text/plain": [
       "<pandas.io.formats.style.Styler at 0x22945f95510>"
      ]
     },
     "execution_count": 71,
     "metadata": {},
     "output_type": "execute_result"
    }
   ],
   "source": [
    "emp_edu_mean_clv = ins.pivot_table(\n",
    "    index='EmploymentStatus',\n",
    "    columns='Education', \n",
    "    values='Customer Lifetime Value',\n",
    "    aggfunc='mean'\n",
    ").astype('int64')\n",
    "\n",
    "# Подсветка максимумов по столбцам\n",
    "emp_edu_mean_clv.style.highlight_max()"
   ]
  },
  {
   "cell_type": "code",
   "execution_count": 72,
   "id": "41059a26-a6c6-4063-b366-7ebde70f14c2",
   "metadata": {},
   "outputs": [
    {
     "data": {
      "text/html": [
       "<style type=\"text/css\">\n",
       "#T_484f1_row0_col3, #T_484f1_row1_col3, #T_484f1_row2_col2, #T_484f1_row3_col4, #T_484f1_row4_col4 {\n",
       "  background-color: yellow;\n",
       "}\n",
       "</style>\n",
       "<table id=\"T_484f1\">\n",
       "  <thead>\n",
       "    <tr>\n",
       "      <th class=\"index_name level0\" >Education</th>\n",
       "      <th id=\"T_484f1_level0_col0\" class=\"col_heading level0 col0\" >Bachelor</th>\n",
       "      <th id=\"T_484f1_level0_col1\" class=\"col_heading level0 col1\" >College</th>\n",
       "      <th id=\"T_484f1_level0_col2\" class=\"col_heading level0 col2\" >Doctor</th>\n",
       "      <th id=\"T_484f1_level0_col3\" class=\"col_heading level0 col3\" >High School or Below</th>\n",
       "      <th id=\"T_484f1_level0_col4\" class=\"col_heading level0 col4\" >Master</th>\n",
       "    </tr>\n",
       "    <tr>\n",
       "      <th class=\"index_name level0\" >EmploymentStatus</th>\n",
       "      <th class=\"blank col0\" >&nbsp;</th>\n",
       "      <th class=\"blank col1\" >&nbsp;</th>\n",
       "      <th class=\"blank col2\" >&nbsp;</th>\n",
       "      <th class=\"blank col3\" >&nbsp;</th>\n",
       "      <th class=\"blank col4\" >&nbsp;</th>\n",
       "    </tr>\n",
       "  </thead>\n",
       "  <tbody>\n",
       "    <tr>\n",
       "      <th id=\"T_484f1_level0_row0\" class=\"row_heading level0 row0\" >Disabled</th>\n",
       "      <td id=\"T_484f1_row0_col0\" class=\"data row0 col0\" >6729</td>\n",
       "      <td id=\"T_484f1_row0_col1\" class=\"data row0 col1\" >6756</td>\n",
       "      <td id=\"T_484f1_row0_col2\" class=\"data row0 col2\" >7272</td>\n",
       "      <td id=\"T_484f1_row0_col3\" class=\"data row0 col3\" >9983</td>\n",
       "      <td id=\"T_484f1_row0_col4\" class=\"data row0 col4\" >7964</td>\n",
       "    </tr>\n",
       "    <tr>\n",
       "      <th id=\"T_484f1_level0_row1\" class=\"row_heading level0 row1\" >Employed</th>\n",
       "      <td id=\"T_484f1_row1_col0\" class=\"data row1 col0\" >8224</td>\n",
       "      <td id=\"T_484f1_row1_col1\" class=\"data row1 col1\" >8047</td>\n",
       "      <td id=\"T_484f1_row1_col2\" class=\"data row1 col2\" >7538</td>\n",
       "      <td id=\"T_484f1_row1_col3\" class=\"data row1 col3\" >8566</td>\n",
       "      <td id=\"T_484f1_row1_col4\" class=\"data row1 col4\" >8042</td>\n",
       "    </tr>\n",
       "    <tr>\n",
       "      <th id=\"T_484f1_level0_row2\" class=\"row_heading level0 row2\" >Medical Leave</th>\n",
       "      <td id=\"T_484f1_row2_col0\" class=\"data row2 col0\" >7708</td>\n",
       "      <td id=\"T_484f1_row2_col1\" class=\"data row2 col1\" >6952</td>\n",
       "      <td id=\"T_484f1_row2_col2\" class=\"data row2 col2\" >11690</td>\n",
       "      <td id=\"T_484f1_row2_col3\" class=\"data row2 col3\" >8235</td>\n",
       "      <td id=\"T_484f1_row2_col4\" class=\"data row2 col4\" >7834</td>\n",
       "    </tr>\n",
       "    <tr>\n",
       "      <th id=\"T_484f1_level0_row3\" class=\"row_heading level0 row3\" >Retired</th>\n",
       "      <td id=\"T_484f1_row3_col0\" class=\"data row3 col0\" >7846</td>\n",
       "      <td id=\"T_484f1_row3_col1\" class=\"data row3 col1\" >7051</td>\n",
       "      <td id=\"T_484f1_row3_col2\" class=\"data row3 col2\" >4518</td>\n",
       "      <td id=\"T_484f1_row3_col3\" class=\"data row3 col3\" >5860</td>\n",
       "      <td id=\"T_484f1_row3_col4\" class=\"data row3 col4\" >12442</td>\n",
       "    </tr>\n",
       "    <tr>\n",
       "      <th id=\"T_484f1_level0_row4\" class=\"row_heading level0 row4\" >Unemployed</th>\n",
       "      <td id=\"T_484f1_row4_col0\" class=\"data row4 col0\" >7103</td>\n",
       "      <td id=\"T_484f1_row4_col1\" class=\"data row4 col1\" >7681</td>\n",
       "      <td id=\"T_484f1_row4_col2\" class=\"data row4 col2\" >6966</td>\n",
       "      <td id=\"T_484f1_row4_col3\" class=\"data row4 col3\" >7739</td>\n",
       "      <td id=\"T_484f1_row4_col4\" class=\"data row4 col4\" >8807</td>\n",
       "    </tr>\n",
       "  </tbody>\n",
       "</table>\n"
      ],
      "text/plain": [
       "<pandas.io.formats.style.Styler at 0x22945f17b10>"
      ]
     },
     "execution_count": 72,
     "metadata": {},
     "output_type": "execute_result"
    }
   ],
   "source": [
    "# Подсветка максимумов по строкам  \n",
    "emp_edu_mean_clv.style.highlight_max(axis='columns')"
   ]
  },
  {
   "cell_type": "code",
   "execution_count": 73,
   "id": "3c103f2c-930a-4c3a-9951-3f8ab973ace6",
   "metadata": {},
   "outputs": [
    {
     "data": {
      "text/html": [
       "<style type=\"text/css\">\n",
       "#T_ed9a2_row0_col0, #T_ed9a2_row0_col1, #T_ed9a2_row2_col4, #T_ed9a2_row3_col2, #T_ed9a2_row3_col3 {\n",
       "  background-color: #fff5eb;\n",
       "  color: #000000;\n",
       "}\n",
       "#T_ed9a2_row0_col2 {\n",
       "  background-color: #fdac67;\n",
       "  color: #000000;\n",
       "}\n",
       "#T_ed9a2_row0_col3, #T_ed9a2_row1_col0, #T_ed9a2_row1_col1, #T_ed9a2_row2_col2, #T_ed9a2_row3_col4 {\n",
       "  background-color: #7f2704;\n",
       "  color: #f1f1f1;\n",
       "}\n",
       "#T_ed9a2_row0_col4 {\n",
       "  background-color: #fff2e5;\n",
       "  color: #000000;\n",
       "}\n",
       "#T_ed9a2_row1_col2 {\n",
       "  background-color: #fda25a;\n",
       "  color: #000000;\n",
       "}\n",
       "#T_ed9a2_row1_col3 {\n",
       "  background-color: #eb600e;\n",
       "  color: #f1f1f1;\n",
       "}\n",
       "#T_ed9a2_row1_col4 {\n",
       "  background-color: #fff0e1;\n",
       "  color: #000000;\n",
       "}\n",
       "#T_ed9a2_row2_col0 {\n",
       "  background-color: #eb610f;\n",
       "  color: #f1f1f1;\n",
       "}\n",
       "#T_ed9a2_row2_col1 {\n",
       "  background-color: #fee2c6;\n",
       "  color: #000000;\n",
       "}\n",
       "#T_ed9a2_row2_col3 {\n",
       "  background-color: #f67723;\n",
       "  color: #f1f1f1;\n",
       "}\n",
       "#T_ed9a2_row3_col0 {\n",
       "  background-color: #d94801;\n",
       "  color: #f1f1f1;\n",
       "}\n",
       "#T_ed9a2_row3_col1 {\n",
       "  background-color: #fdd4aa;\n",
       "  color: #000000;\n",
       "}\n",
       "#T_ed9a2_row4_col0 {\n",
       "  background-color: #fdd0a2;\n",
       "  color: #000000;\n",
       "}\n",
       "#T_ed9a2_row4_col1 {\n",
       "  background-color: #df5106;\n",
       "  color: #f1f1f1;\n",
       "}\n",
       "#T_ed9a2_row4_col2 {\n",
       "  background-color: #fdb77a;\n",
       "  color: #000000;\n",
       "}\n",
       "#T_ed9a2_row4_col3 {\n",
       "  background-color: #fd994d;\n",
       "  color: #000000;\n",
       "}\n",
       "#T_ed9a2_row4_col4 {\n",
       "  background-color: #fdd7af;\n",
       "  color: #000000;\n",
       "}\n",
       "</style>\n",
       "<table id=\"T_ed9a2\">\n",
       "  <thead>\n",
       "    <tr>\n",
       "      <th class=\"index_name level0\" >Education</th>\n",
       "      <th id=\"T_ed9a2_level0_col0\" class=\"col_heading level0 col0\" >Bachelor</th>\n",
       "      <th id=\"T_ed9a2_level0_col1\" class=\"col_heading level0 col1\" >College</th>\n",
       "      <th id=\"T_ed9a2_level0_col2\" class=\"col_heading level0 col2\" >Doctor</th>\n",
       "      <th id=\"T_ed9a2_level0_col3\" class=\"col_heading level0 col3\" >High School or Below</th>\n",
       "      <th id=\"T_ed9a2_level0_col4\" class=\"col_heading level0 col4\" >Master</th>\n",
       "    </tr>\n",
       "    <tr>\n",
       "      <th class=\"index_name level0\" >EmploymentStatus</th>\n",
       "      <th class=\"blank col0\" >&nbsp;</th>\n",
       "      <th class=\"blank col1\" >&nbsp;</th>\n",
       "      <th class=\"blank col2\" >&nbsp;</th>\n",
       "      <th class=\"blank col3\" >&nbsp;</th>\n",
       "      <th class=\"blank col4\" >&nbsp;</th>\n",
       "    </tr>\n",
       "  </thead>\n",
       "  <tbody>\n",
       "    <tr>\n",
       "      <th id=\"T_ed9a2_level0_row0\" class=\"row_heading level0 row0\" >Disabled</th>\n",
       "      <td id=\"T_ed9a2_row0_col0\" class=\"data row0 col0\" >6729</td>\n",
       "      <td id=\"T_ed9a2_row0_col1\" class=\"data row0 col1\" >6756</td>\n",
       "      <td id=\"T_ed9a2_row0_col2\" class=\"data row0 col2\" >7272</td>\n",
       "      <td id=\"T_ed9a2_row0_col3\" class=\"data row0 col3\" >9983</td>\n",
       "      <td id=\"T_ed9a2_row0_col4\" class=\"data row0 col4\" >7964</td>\n",
       "    </tr>\n",
       "    <tr>\n",
       "      <th id=\"T_ed9a2_level0_row1\" class=\"row_heading level0 row1\" >Employed</th>\n",
       "      <td id=\"T_ed9a2_row1_col0\" class=\"data row1 col0\" >8224</td>\n",
       "      <td id=\"T_ed9a2_row1_col1\" class=\"data row1 col1\" >8047</td>\n",
       "      <td id=\"T_ed9a2_row1_col2\" class=\"data row1 col2\" >7538</td>\n",
       "      <td id=\"T_ed9a2_row1_col3\" class=\"data row1 col3\" >8566</td>\n",
       "      <td id=\"T_ed9a2_row1_col4\" class=\"data row1 col4\" >8042</td>\n",
       "    </tr>\n",
       "    <tr>\n",
       "      <th id=\"T_ed9a2_level0_row2\" class=\"row_heading level0 row2\" >Medical Leave</th>\n",
       "      <td id=\"T_ed9a2_row2_col0\" class=\"data row2 col0\" >7708</td>\n",
       "      <td id=\"T_ed9a2_row2_col1\" class=\"data row2 col1\" >6952</td>\n",
       "      <td id=\"T_ed9a2_row2_col2\" class=\"data row2 col2\" >11690</td>\n",
       "      <td id=\"T_ed9a2_row2_col3\" class=\"data row2 col3\" >8235</td>\n",
       "      <td id=\"T_ed9a2_row2_col4\" class=\"data row2 col4\" >7834</td>\n",
       "    </tr>\n",
       "    <tr>\n",
       "      <th id=\"T_ed9a2_level0_row3\" class=\"row_heading level0 row3\" >Retired</th>\n",
       "      <td id=\"T_ed9a2_row3_col0\" class=\"data row3 col0\" >7846</td>\n",
       "      <td id=\"T_ed9a2_row3_col1\" class=\"data row3 col1\" >7051</td>\n",
       "      <td id=\"T_ed9a2_row3_col2\" class=\"data row3 col2\" >4518</td>\n",
       "      <td id=\"T_ed9a2_row3_col3\" class=\"data row3 col3\" >5860</td>\n",
       "      <td id=\"T_ed9a2_row3_col4\" class=\"data row3 col4\" >12442</td>\n",
       "    </tr>\n",
       "    <tr>\n",
       "      <th id=\"T_ed9a2_level0_row4\" class=\"row_heading level0 row4\" >Unemployed</th>\n",
       "      <td id=\"T_ed9a2_row4_col0\" class=\"data row4 col0\" >7103</td>\n",
       "      <td id=\"T_ed9a2_row4_col1\" class=\"data row4 col1\" >7681</td>\n",
       "      <td id=\"T_ed9a2_row4_col2\" class=\"data row4 col2\" >6966</td>\n",
       "      <td id=\"T_ed9a2_row4_col3\" class=\"data row4 col3\" >7739</td>\n",
       "      <td id=\"T_ed9a2_row4_col4\" class=\"data row4 col4\" >8807</td>\n",
       "    </tr>\n",
       "  </tbody>\n",
       "</table>\n"
      ],
      "text/plain": [
       "<pandas.io.formats.style.Styler at 0x22945f97b10>"
      ]
     },
     "execution_count": 73,
     "metadata": {},
     "output_type": "execute_result"
    }
   ],
   "source": [
    "# Градиентная заливка\n",
    "emp_edu_mean_clv.style.background_gradient(cmap='Oranges')"
   ]
  },
  {
   "cell_type": "code",
   "execution_count": 74,
   "id": "66b7028f-a7a0-421d-aa8e-52e6014b1587",
   "metadata": {},
   "outputs": [
    {
     "data": {
      "text/html": [
       "<style type=\"text/css\">\n",
       "#T_4f04a_row0_col0, #T_4f04a_row0_col1, #T_4f04a_row2_col4, #T_4f04a_row3_col2, #T_4f04a_row3_col3 {\n",
       "  background-color: lightblue;\n",
       "}\n",
       "#T_4f04a_row0_col3, #T_4f04a_row1_col0, #T_4f04a_row1_col1, #T_4f04a_row2_col2, #T_4f04a_row3_col4 {\n",
       "  background-color: yellow;\n",
       "}\n",
       "</style>\n",
       "<table id=\"T_4f04a\">\n",
       "  <thead>\n",
       "    <tr>\n",
       "      <th class=\"index_name level0\" >Education</th>\n",
       "      <th id=\"T_4f04a_level0_col0\" class=\"col_heading level0 col0\" >Bachelor</th>\n",
       "      <th id=\"T_4f04a_level0_col1\" class=\"col_heading level0 col1\" >College</th>\n",
       "      <th id=\"T_4f04a_level0_col2\" class=\"col_heading level0 col2\" >Doctor</th>\n",
       "      <th id=\"T_4f04a_level0_col3\" class=\"col_heading level0 col3\" >High School or Below</th>\n",
       "      <th id=\"T_4f04a_level0_col4\" class=\"col_heading level0 col4\" >Master</th>\n",
       "    </tr>\n",
       "    <tr>\n",
       "      <th class=\"index_name level0\" >EmploymentStatus</th>\n",
       "      <th class=\"blank col0\" >&nbsp;</th>\n",
       "      <th class=\"blank col1\" >&nbsp;</th>\n",
       "      <th class=\"blank col2\" >&nbsp;</th>\n",
       "      <th class=\"blank col3\" >&nbsp;</th>\n",
       "      <th class=\"blank col4\" >&nbsp;</th>\n",
       "    </tr>\n",
       "  </thead>\n",
       "  <tbody>\n",
       "    <tr>\n",
       "      <th id=\"T_4f04a_level0_row0\" class=\"row_heading level0 row0\" >Disabled</th>\n",
       "      <td id=\"T_4f04a_row0_col0\" class=\"data row0 col0\" >6729</td>\n",
       "      <td id=\"T_4f04a_row0_col1\" class=\"data row0 col1\" >6756</td>\n",
       "      <td id=\"T_4f04a_row0_col2\" class=\"data row0 col2\" >7272</td>\n",
       "      <td id=\"T_4f04a_row0_col3\" class=\"data row0 col3\" >9983</td>\n",
       "      <td id=\"T_4f04a_row0_col4\" class=\"data row0 col4\" >7964</td>\n",
       "    </tr>\n",
       "    <tr>\n",
       "      <th id=\"T_4f04a_level0_row1\" class=\"row_heading level0 row1\" >Employed</th>\n",
       "      <td id=\"T_4f04a_row1_col0\" class=\"data row1 col0\" >8224</td>\n",
       "      <td id=\"T_4f04a_row1_col1\" class=\"data row1 col1\" >8047</td>\n",
       "      <td id=\"T_4f04a_row1_col2\" class=\"data row1 col2\" >7538</td>\n",
       "      <td id=\"T_4f04a_row1_col3\" class=\"data row1 col3\" >8566</td>\n",
       "      <td id=\"T_4f04a_row1_col4\" class=\"data row1 col4\" >8042</td>\n",
       "    </tr>\n",
       "    <tr>\n",
       "      <th id=\"T_4f04a_level0_row2\" class=\"row_heading level0 row2\" >Medical Leave</th>\n",
       "      <td id=\"T_4f04a_row2_col0\" class=\"data row2 col0\" >7708</td>\n",
       "      <td id=\"T_4f04a_row2_col1\" class=\"data row2 col1\" >6952</td>\n",
       "      <td id=\"T_4f04a_row2_col2\" class=\"data row2 col2\" >11690</td>\n",
       "      <td id=\"T_4f04a_row2_col3\" class=\"data row2 col3\" >8235</td>\n",
       "      <td id=\"T_4f04a_row2_col4\" class=\"data row2 col4\" >7834</td>\n",
       "    </tr>\n",
       "    <tr>\n",
       "      <th id=\"T_4f04a_level0_row3\" class=\"row_heading level0 row3\" >Retired</th>\n",
       "      <td id=\"T_4f04a_row3_col0\" class=\"data row3 col0\" >7846</td>\n",
       "      <td id=\"T_4f04a_row3_col1\" class=\"data row3 col1\" >7051</td>\n",
       "      <td id=\"T_4f04a_row3_col2\" class=\"data row3 col2\" >4518</td>\n",
       "      <td id=\"T_4f04a_row3_col3\" class=\"data row3 col3\" >5860</td>\n",
       "      <td id=\"T_4f04a_row3_col4\" class=\"data row3 col4\" >12442</td>\n",
       "    </tr>\n",
       "    <tr>\n",
       "      <th id=\"T_4f04a_level0_row4\" class=\"row_heading level0 row4\" >Unemployed</th>\n",
       "      <td id=\"T_4f04a_row4_col0\" class=\"data row4 col0\" >7103</td>\n",
       "      <td id=\"T_4f04a_row4_col1\" class=\"data row4 col1\" >7681</td>\n",
       "      <td id=\"T_4f04a_row4_col2\" class=\"data row4 col2\" >6966</td>\n",
       "      <td id=\"T_4f04a_row4_col3\" class=\"data row4 col3\" >7739</td>\n",
       "      <td id=\"T_4f04a_row4_col4\" class=\"data row4 col4\" >8807</td>\n",
       "    </tr>\n",
       "  </tbody>\n",
       "</table>\n"
      ],
      "text/plain": [
       "<pandas.io.formats.style.Styler at 0x229456eb150>"
      ]
     },
     "execution_count": 74,
     "metadata": {},
     "output_type": "execute_result"
    }
   ],
   "source": [
    "# Подсветка минимумов и максимумов\n",
    "emp_edu_mean_clv.style.highlight_max(color='yellow') \\\n",
    "                  .highlight_min(color='lightblue')"
   ]
  },
  {
   "cell_type": "code",
   "execution_count": 75,
   "id": "400d5953-1d40-41db-b8c3-1686648a028d",
   "metadata": {},
   "outputs": [
    {
     "data": {
      "text/html": [
       "<div>\n",
       "<style scoped>\n",
       "    .dataframe tbody tr th:only-of-type {\n",
       "        vertical-align: middle;\n",
       "    }\n",
       "\n",
       "    .dataframe tbody tr th {\n",
       "        vertical-align: top;\n",
       "    }\n",
       "\n",
       "    .dataframe thead th {\n",
       "        text-align: right;\n",
       "    }\n",
       "</style>\n",
       "<table border=\"1\" class=\"dataframe\">\n",
       "  <thead>\n",
       "    <tr style=\"text-align: right;\">\n",
       "      <th>Education</th>\n",
       "      <th>Bachelor</th>\n",
       "      <th>College</th>\n",
       "      <th>Doctor</th>\n",
       "      <th>High School or Below</th>\n",
       "      <th>Master</th>\n",
       "      <th>All</th>\n",
       "    </tr>\n",
       "    <tr>\n",
       "      <th>EmploymentStatus</th>\n",
       "      <th></th>\n",
       "      <th></th>\n",
       "      <th></th>\n",
       "      <th></th>\n",
       "      <th></th>\n",
       "      <th></th>\n",
       "    </tr>\n",
       "  </thead>\n",
       "  <tbody>\n",
       "    <tr>\n",
       "      <th>Disabled</th>\n",
       "      <td>19981.508772</td>\n",
       "      <td>20604.397590</td>\n",
       "      <td>20397.904762</td>\n",
       "      <td>19145.635514</td>\n",
       "      <td>21065.675676</td>\n",
       "      <td>20012.226519</td>\n",
       "    </tr>\n",
       "    <tr>\n",
       "      <th>Employed</th>\n",
       "      <td>56272.710238</td>\n",
       "      <td>55899.775851</td>\n",
       "      <td>55413.704348</td>\n",
       "      <td>57315.307365</td>\n",
       "      <td>56674.939024</td>\n",
       "      <td>56448.846703</td>\n",
       "    </tr>\n",
       "    <tr>\n",
       "      <th>Medical Leave</th>\n",
       "      <td>19720.584071</td>\n",
       "      <td>20586.947368</td>\n",
       "      <td>18364.933333</td>\n",
       "      <td>21003.962264</td>\n",
       "      <td>19227.400000</td>\n",
       "      <td>20278.237245</td>\n",
       "    </tr>\n",
       "    <tr>\n",
       "      <th>Retired</th>\n",
       "      <td>21276.468354</td>\n",
       "      <td>20543.802198</td>\n",
       "      <td>19186.000000</td>\n",
       "      <td>19570.354839</td>\n",
       "      <td>20025.263158</td>\n",
       "      <td>20489.503968</td>\n",
       "    </tr>\n",
       "    <tr>\n",
       "      <th>Unemployed</th>\n",
       "      <td>0.000000</td>\n",
       "      <td>0.000000</td>\n",
       "      <td>0.000000</td>\n",
       "      <td>0.000000</td>\n",
       "      <td>0.000000</td>\n",
       "      <td>0.000000</td>\n",
       "    </tr>\n",
       "    <tr>\n",
       "      <th>All</th>\n",
       "      <td>37521.522855</td>\n",
       "      <td>37236.148347</td>\n",
       "      <td>42486.334385</td>\n",
       "      <td>36052.390071</td>\n",
       "      <td>44802.223065</td>\n",
       "      <td>37782.136962</td>\n",
       "    </tr>\n",
       "  </tbody>\n",
       "</table>\n",
       "</div>"
      ],
      "text/plain": [
       "Education             Bachelor       College        Doctor  \\\n",
       "EmploymentStatus                                             \n",
       "Disabled          19981.508772  20604.397590  20397.904762   \n",
       "Employed          56272.710238  55899.775851  55413.704348   \n",
       "Medical Leave     19720.584071  20586.947368  18364.933333   \n",
       "Retired           21276.468354  20543.802198  19186.000000   \n",
       "Unemployed            0.000000      0.000000      0.000000   \n",
       "All               37521.522855  37236.148347  42486.334385   \n",
       "\n",
       "Education         High School or Below        Master           All  \n",
       "EmploymentStatus                                                    \n",
       "Disabled                  19145.635514  21065.675676  20012.226519  \n",
       "Employed                  57315.307365  56674.939024  56448.846703  \n",
       "Medical Leave             21003.962264  19227.400000  20278.237245  \n",
       "Retired                   19570.354839  20025.263158  20489.503968  \n",
       "Unemployed                    0.000000      0.000000      0.000000  \n",
       "All                       36052.390071  44802.223065  37782.136962  "
      ]
     },
     "execution_count": 75,
     "metadata": {},
     "output_type": "execute_result"
    }
   ],
   "source": [
    "# Добавляем итоги по строкам и столбцам\n",
    "ins.pivot_table(\n",
    "    index='EmploymentStatus',\n",
    "    columns='Education',\n",
    "    values='Income', \n",
    "    aggfunc='mean',\n",
    "    margins=True  # Добавляет строку и столбец \"All\"\n",
    ")"
   ]
  },
  {
   "cell_type": "code",
   "execution_count": 76,
   "id": "32a5ffce-d4b2-4f86-8ebc-addda2e8ce81",
   "metadata": {},
   "outputs": [
    {
     "data": {
      "text/html": [
       "<div>\n",
       "<style scoped>\n",
       "    .dataframe tbody tr th:only-of-type {\n",
       "        vertical-align: middle;\n",
       "    }\n",
       "\n",
       "    .dataframe tbody tr th {\n",
       "        vertical-align: top;\n",
       "    }\n",
       "\n",
       "    .dataframe thead th {\n",
       "        text-align: right;\n",
       "    }\n",
       "</style>\n",
       "<table border=\"1\" class=\"dataframe\">\n",
       "  <thead>\n",
       "    <tr style=\"text-align: right;\">\n",
       "      <th>Education</th>\n",
       "      <th>Bachelor</th>\n",
       "      <th>College</th>\n",
       "      <th>Doctor</th>\n",
       "      <th>High School or Below</th>\n",
       "      <th>Master</th>\n",
       "    </tr>\n",
       "    <tr>\n",
       "      <th>EmploymentStatus</th>\n",
       "      <th></th>\n",
       "      <th></th>\n",
       "      <th></th>\n",
       "      <th></th>\n",
       "      <th></th>\n",
       "    </tr>\n",
       "  </thead>\n",
       "  <tbody>\n",
       "    <tr>\n",
       "      <th>Disabled</th>\n",
       "      <td>114</td>\n",
       "      <td>83</td>\n",
       "      <td>21</td>\n",
       "      <td>107</td>\n",
       "      <td>37</td>\n",
       "    </tr>\n",
       "    <tr>\n",
       "      <th>Employed</th>\n",
       "      <td>1553</td>\n",
       "      <td>1499</td>\n",
       "      <td>230</td>\n",
       "      <td>1412</td>\n",
       "      <td>492</td>\n",
       "    </tr>\n",
       "    <tr>\n",
       "      <th>Medical Leave</th>\n",
       "      <td>113</td>\n",
       "      <td>133</td>\n",
       "      <td>15</td>\n",
       "      <td>106</td>\n",
       "      <td>25</td>\n",
       "    </tr>\n",
       "    <tr>\n",
       "      <th>Retired</th>\n",
       "      <td>79</td>\n",
       "      <td>91</td>\n",
       "      <td>1</td>\n",
       "      <td>62</td>\n",
       "      <td>19</td>\n",
       "    </tr>\n",
       "    <tr>\n",
       "      <th>Unemployed</th>\n",
       "      <td>635</td>\n",
       "      <td>614</td>\n",
       "      <td>50</td>\n",
       "      <td>710</td>\n",
       "      <td>86</td>\n",
       "    </tr>\n",
       "  </tbody>\n",
       "</table>\n",
       "</div>"
      ],
      "text/plain": [
       "Education         Bachelor  College  Doctor  High School or Below  Master\n",
       "EmploymentStatus                                                         \n",
       "Disabled               114       83      21                   107      37\n",
       "Employed              1553     1499     230                  1412     492\n",
       "Medical Leave          113      133      15                   106      25\n",
       "Retired                 79       91       1                    62      19\n",
       "Unemployed             635      614      50                   710      86"
      ]
     },
     "execution_count": 76,
     "metadata": {},
     "output_type": "execute_result"
    }
   ],
   "source": [
    "# Количество наблюдений в каждой комбинации\n",
    "ins.pivot_table(\n",
    "    index='EmploymentStatus',\n",
    "    columns='Education', \n",
    "    aggfunc='size'  # Не требует values!\n",
    ")"
   ]
  },
  {
   "cell_type": "code",
   "execution_count": 77,
   "id": "edde42ef-4319-4b18-af0e-c3b281cff2c3",
   "metadata": {},
   "outputs": [
    {
     "data": {
      "text/html": [
       "<div>\n",
       "<style scoped>\n",
       "    .dataframe tbody tr th:only-of-type {\n",
       "        vertical-align: middle;\n",
       "    }\n",
       "\n",
       "    .dataframe tbody tr th {\n",
       "        vertical-align: top;\n",
       "    }\n",
       "\n",
       "    .dataframe thead tr th {\n",
       "        text-align: left;\n",
       "    }\n",
       "\n",
       "    .dataframe thead tr:last-of-type th {\n",
       "        text-align: right;\n",
       "    }\n",
       "</style>\n",
       "<table border=\"1\" class=\"dataframe\">\n",
       "  <thead>\n",
       "    <tr>\n",
       "      <th>Gender</th>\n",
       "      <th colspan=\"5\" halign=\"left\">F</th>\n",
       "      <th colspan=\"5\" halign=\"left\">M</th>\n",
       "    </tr>\n",
       "    <tr>\n",
       "      <th>Education</th>\n",
       "      <th>Bachelor</th>\n",
       "      <th>College</th>\n",
       "      <th>Doctor</th>\n",
       "      <th>High School or Below</th>\n",
       "      <th>Master</th>\n",
       "      <th>Bachelor</th>\n",
       "      <th>College</th>\n",
       "      <th>Doctor</th>\n",
       "      <th>High School or Below</th>\n",
       "      <th>Master</th>\n",
       "    </tr>\n",
       "    <tr>\n",
       "      <th>EmploymentStatus</th>\n",
       "      <th></th>\n",
       "      <th></th>\n",
       "      <th></th>\n",
       "      <th></th>\n",
       "      <th></th>\n",
       "      <th></th>\n",
       "      <th></th>\n",
       "      <th></th>\n",
       "      <th></th>\n",
       "      <th></th>\n",
       "    </tr>\n",
       "  </thead>\n",
       "  <tbody>\n",
       "    <tr>\n",
       "      <th>Disabled</th>\n",
       "      <td>29633.0</td>\n",
       "      <td>29958.0</td>\n",
       "      <td>29950.0</td>\n",
       "      <td>28672.0</td>\n",
       "      <td>29981.0</td>\n",
       "      <td>28898.0</td>\n",
       "      <td>28617.0</td>\n",
       "      <td>29808.0</td>\n",
       "      <td>29295.0</td>\n",
       "      <td>28245.0</td>\n",
       "    </tr>\n",
       "    <tr>\n",
       "      <th>Employed</th>\n",
       "      <td>99803.0</td>\n",
       "      <td>99961.0</td>\n",
       "      <td>98912.0</td>\n",
       "      <td>99841.0</td>\n",
       "      <td>99875.0</td>\n",
       "      <td>99981.0</td>\n",
       "      <td>99816.0</td>\n",
       "      <td>99443.0</td>\n",
       "      <td>99874.0</td>\n",
       "      <td>99960.0</td>\n",
       "    </tr>\n",
       "    <tr>\n",
       "      <th>Medical Leave</th>\n",
       "      <td>29957.0</td>\n",
       "      <td>29539.0</td>\n",
       "      <td>26463.0</td>\n",
       "      <td>29658.0</td>\n",
       "      <td>27229.0</td>\n",
       "      <td>29926.0</td>\n",
       "      <td>29723.0</td>\n",
       "      <td>23053.0</td>\n",
       "      <td>29664.0</td>\n",
       "      <td>26840.0</td>\n",
       "    </tr>\n",
       "    <tr>\n",
       "      <th>Retired</th>\n",
       "      <td>25859.0</td>\n",
       "      <td>28321.0</td>\n",
       "      <td>NaN</td>\n",
       "      <td>28120.0</td>\n",
       "      <td>26161.0</td>\n",
       "      <td>29465.0</td>\n",
       "      <td>29692.0</td>\n",
       "      <td>19186.0</td>\n",
       "      <td>28140.0</td>\n",
       "      <td>24182.0</td>\n",
       "    </tr>\n",
       "    <tr>\n",
       "      <th>Unemployed</th>\n",
       "      <td>0.0</td>\n",
       "      <td>0.0</td>\n",
       "      <td>0.0</td>\n",
       "      <td>0.0</td>\n",
       "      <td>0.0</td>\n",
       "      <td>0.0</td>\n",
       "      <td>0.0</td>\n",
       "      <td>0.0</td>\n",
       "      <td>0.0</td>\n",
       "      <td>0.0</td>\n",
       "    </tr>\n",
       "  </tbody>\n",
       "</table>\n",
       "</div>"
      ],
      "text/plain": [
       "Gender                  F                                                  \\\n",
       "Education        Bachelor  College   Doctor High School or Below   Master   \n",
       "EmploymentStatus                                                            \n",
       "Disabled          29633.0  29958.0  29950.0              28672.0  29981.0   \n",
       "Employed          99803.0  99961.0  98912.0              99841.0  99875.0   \n",
       "Medical Leave     29957.0  29539.0  26463.0              29658.0  27229.0   \n",
       "Retired           25859.0  28321.0      NaN              28120.0  26161.0   \n",
       "Unemployed            0.0      0.0      0.0                  0.0      0.0   \n",
       "\n",
       "Gender                  M                                                  \n",
       "Education        Bachelor  College   Doctor High School or Below   Master  \n",
       "EmploymentStatus                                                           \n",
       "Disabled          28898.0  28617.0  29808.0              29295.0  28245.0  \n",
       "Employed          99981.0  99816.0  99443.0              99874.0  99960.0  \n",
       "Medical Leave     29926.0  29723.0  23053.0              29664.0  26840.0  \n",
       "Retired           29465.0  29692.0  19186.0              28140.0  24182.0  \n",
       "Unemployed            0.0      0.0      0.0                  0.0      0.0  "
      ]
     },
     "execution_count": 77,
     "metadata": {},
     "output_type": "execute_result"
    }
   ],
   "source": [
    "# Группировка по полу и образованию в заголовках\n",
    "ins.pivot_table(\n",
    "    index='EmploymentStatus', \n",
    "    columns=['Gender', 'Education'],\n",
    "    values='Income',\n",
    "    aggfunc='max'\n",
    ")"
   ]
  },
  {
   "cell_type": "code",
   "execution_count": 78,
   "id": "f70a9dd3-2487-42fa-b788-99ed9ce65d3f",
   "metadata": {},
   "outputs": [
    {
     "data": {
      "text/html": [
       "<div>\n",
       "<style scoped>\n",
       "    .dataframe tbody tr th:only-of-type {\n",
       "        vertical-align: middle;\n",
       "    }\n",
       "\n",
       "    .dataframe tbody tr th {\n",
       "        vertical-align: top;\n",
       "    }\n",
       "\n",
       "    .dataframe thead tr th {\n",
       "        text-align: left;\n",
       "    }\n",
       "\n",
       "    .dataframe thead tr:last-of-type th {\n",
       "        text-align: right;\n",
       "    }\n",
       "</style>\n",
       "<table border=\"1\" class=\"dataframe\">\n",
       "  <thead>\n",
       "    <tr>\n",
       "      <th></th>\n",
       "      <th colspan=\"3\" halign=\"left\">Customer Lifetime Value</th>\n",
       "      <th colspan=\"3\" halign=\"left\">Income</th>\n",
       "    </tr>\n",
       "    <tr>\n",
       "      <th>Gender</th>\n",
       "      <th>F</th>\n",
       "      <th>M</th>\n",
       "      <th>All</th>\n",
       "      <th>F</th>\n",
       "      <th>M</th>\n",
       "      <th>All</th>\n",
       "    </tr>\n",
       "    <tr>\n",
       "      <th>Education</th>\n",
       "      <th></th>\n",
       "      <th></th>\n",
       "      <th></th>\n",
       "      <th></th>\n",
       "      <th></th>\n",
       "      <th></th>\n",
       "    </tr>\n",
       "  </thead>\n",
       "  <tbody>\n",
       "    <tr>\n",
       "      <th>Bachelor</th>\n",
       "      <td>7980.275871</td>\n",
       "      <td>7675.774393</td>\n",
       "      <td>7833.763532</td>\n",
       "      <td>37972.366023</td>\n",
       "      <td>37040.250000</td>\n",
       "      <td>37539.099439</td>\n",
       "    </tr>\n",
       "    <tr>\n",
       "      <th>College</th>\n",
       "      <td>7757.306941</td>\n",
       "      <td>7868.564624</td>\n",
       "      <td>7811.832401</td>\n",
       "      <td>37740.598055</td>\n",
       "      <td>36781.846543</td>\n",
       "      <td>37270.730579</td>\n",
       "    </tr>\n",
       "    <tr>\n",
       "      <th>Doctor</th>\n",
       "      <td>7530.432422</td>\n",
       "      <td>7702.351623</td>\n",
       "      <td>7617.747852</td>\n",
       "      <td>45731.160256</td>\n",
       "      <td>39342.279503</td>\n",
       "      <td>42486.334385</td>\n",
       "    </tr>\n",
       "    <tr>\n",
       "      <th>High School or Below</th>\n",
       "      <td>8504.800424</td>\n",
       "      <td>8093.913831</td>\n",
       "      <td>8300.471338</td>\n",
       "      <td>36211.804149</td>\n",
       "      <td>35891.237416</td>\n",
       "      <td>36052.390071</td>\n",
       "    </tr>\n",
       "    <tr>\n",
       "      <th>Master</th>\n",
       "      <td>8457.905556</td>\n",
       "      <td>8015.928886</td>\n",
       "      <td>8256.396436</td>\n",
       "      <td>44329.254190</td>\n",
       "      <td>45259.220000</td>\n",
       "      <td>44753.250760</td>\n",
       "    </tr>\n",
       "    <tr>\n",
       "      <th>All</th>\n",
       "      <td>8088.051778</td>\n",
       "      <td>7882.111780</td>\n",
       "      <td>7987.666592</td>\n",
       "      <td>38235.288439</td>\n",
       "      <td>37327.506313</td>\n",
       "      <td>37792.791214</td>\n",
       "    </tr>\n",
       "  </tbody>\n",
       "</table>\n",
       "</div>"
      ],
      "text/plain": [
       "                     Customer Lifetime Value                            \\\n",
       "Gender                                     F            M          All   \n",
       "Education                                                                \n",
       "Bachelor                         7980.275871  7675.774393  7833.763532   \n",
       "College                          7757.306941  7868.564624  7811.832401   \n",
       "Doctor                           7530.432422  7702.351623  7617.747852   \n",
       "High School or Below             8504.800424  8093.913831  8300.471338   \n",
       "Master                           8457.905556  8015.928886  8256.396436   \n",
       "All                              8088.051778  7882.111780  7987.666592   \n",
       "\n",
       "                            Income                              \n",
       "Gender                           F             M           All  \n",
       "Education                                                       \n",
       "Bachelor              37972.366023  37040.250000  37539.099439  \n",
       "College               37740.598055  36781.846543  37270.730579  \n",
       "Doctor                45731.160256  39342.279503  42486.334385  \n",
       "High School or Below  36211.804149  35891.237416  36052.390071  \n",
       "Master                44329.254190  45259.220000  44753.250760  \n",
       "All                   38235.288439  37327.506313  37792.791214  "
      ]
     },
     "execution_count": 78,
     "metadata": {},
     "output_type": "execute_result"
    }
   ],
   "source": [
    "# Доход и пожизненная ценность клиента\n",
    "ins.pivot_table(\n",
    "    index='Education',\n",
    "    columns='Gender',\n",
    "    values=['Income', 'Customer Lifetime Value'],\n",
    "    aggfunc='mean',\n",
    "    margins=True\n",
    ")"
   ]
  },
  {
   "cell_type": "markdown",
   "id": "323413aa-3a9b-4657-a7ac-d0cca9db57cd",
   "metadata": {},
   "source": [
    "## 6.16. Анализ частот с помощью таблиц сопряженности"
   ]
  },
  {
   "cell_type": "markdown",
   "id": "f40e0405-5818-4d21-9154-59c09eea8947",
   "metadata": {},
   "source": [
    "Анализ частот помогает понять распределение категориальных данных, а таблицы сопряженности показывают совместное распределение двух и более категориальных переменных.\n",
    "\n",
    "Анализ частот с помощью `value_counts()`"
   ]
  },
  {
   "cell_type": "code",
   "execution_count": 79,
   "id": "e990db61-b1b6-4ad3-b2cc-f63ec0a05f71",
   "metadata": {},
   "outputs": [
    {
     "data": {
      "text/plain": [
       "Coverage\n",
       "Basic       5038\n",
       "Extended    2501\n",
       "Premium      749\n",
       "NaN            5\n",
       "Name: count, dtype: int64"
      ]
     },
     "execution_count": 79,
     "metadata": {},
     "output_type": "execute_result"
    }
   ],
   "source": [
    "# Абсолютные частоты видов страхового покрытия\n",
    "ins['Coverage'].value_counts(dropna=False)"
   ]
  },
  {
   "cell_type": "code",
   "execution_count": 80,
   "id": "57d5fc74-801d-48f2-a756-f275743de945",
   "metadata": {},
   "outputs": [
    {
     "data": {
      "text/plain": [
       "Coverage\n",
       "Basic       0.607500\n",
       "Extended    0.301580\n",
       "Premium     0.090317\n",
       "NaN         0.000603\n",
       "Name: proportion, dtype: float64"
      ]
     },
     "execution_count": 80,
     "metadata": {},
     "output_type": "execute_result"
    }
   ],
   "source": [
    "# Относительные частоты (доли)\n",
    "ins['Coverage'].value_counts(dropna=False, normalize=True)"
   ]
  },
  {
   "cell_type": "markdown",
   "id": "e611ebfa-8c79-43f4-ba7d-1c6a0f2a928f",
   "metadata": {},
   "source": [
    "**Альтернативные способы подсчета частот**"
   ]
  },
  {
   "cell_type": "code",
   "execution_count": 81,
   "id": "b9fd6742-44c6-44fe-bcd0-8021d72fecbd",
   "metadata": {},
   "outputs": [
    {
     "data": {
      "text/html": [
       "<div>\n",
       "<style scoped>\n",
       "    .dataframe tbody tr th:only-of-type {\n",
       "        vertical-align: middle;\n",
       "    }\n",
       "\n",
       "    .dataframe tbody tr th {\n",
       "        vertical-align: top;\n",
       "    }\n",
       "\n",
       "    .dataframe thead th {\n",
       "        text-align: right;\n",
       "    }\n",
       "</style>\n",
       "<table border=\"1\" class=\"dataframe\">\n",
       "  <thead>\n",
       "    <tr style=\"text-align: right;\">\n",
       "      <th></th>\n",
       "      <th>Coverage</th>\n",
       "      <th>Gender</th>\n",
       "      <th>count</th>\n",
       "    </tr>\n",
       "  </thead>\n",
       "  <tbody>\n",
       "    <tr>\n",
       "      <th>0</th>\n",
       "      <td>Basic</td>\n",
       "      <td>F</td>\n",
       "      <td>2547</td>\n",
       "    </tr>\n",
       "    <tr>\n",
       "      <th>1</th>\n",
       "      <td>Basic</td>\n",
       "      <td>M</td>\n",
       "      <td>2489</td>\n",
       "    </tr>\n",
       "    <tr>\n",
       "      <th>2</th>\n",
       "      <td>Extended</td>\n",
       "      <td>F</td>\n",
       "      <td>1308</td>\n",
       "    </tr>\n",
       "    <tr>\n",
       "      <th>3</th>\n",
       "      <td>Extended</td>\n",
       "      <td>M</td>\n",
       "      <td>1192</td>\n",
       "    </tr>\n",
       "    <tr>\n",
       "      <th>4</th>\n",
       "      <td>Premium</td>\n",
       "      <td>F</td>\n",
       "      <td>392</td>\n",
       "    </tr>\n",
       "    <tr>\n",
       "      <th>5</th>\n",
       "      <td>Premium</td>\n",
       "      <td>M</td>\n",
       "      <td>356</td>\n",
       "    </tr>\n",
       "  </tbody>\n",
       "</table>\n",
       "</div>"
      ],
      "text/plain": [
       "   Coverage Gender  count\n",
       "0     Basic      F   2547\n",
       "1     Basic      M   2489\n",
       "2  Extended      F   1308\n",
       "3  Extended      M   1192\n",
       "4   Premium      F    392\n",
       "5   Premium      M    356"
      ]
     },
     "execution_count": 81,
     "metadata": {},
     "output_type": "execute_result"
    }
   ],
   "source": [
    "# Абсолютные частоты комбинаций покрытия и пола. Через groupby() + size()\n",
    "ins.groupby(['Coverage', 'Gender']).size().reset_index(name='count')"
   ]
  },
  {
   "cell_type": "code",
   "execution_count": 82,
   "id": "c124dd05-0ffa-48ce-b577-8f49ba7b0b5f",
   "metadata": {},
   "outputs": [
    {
     "data": {
      "text/html": [
       "<div>\n",
       "<style scoped>\n",
       "    .dataframe tbody tr th:only-of-type {\n",
       "        vertical-align: middle;\n",
       "    }\n",
       "\n",
       "    .dataframe tbody tr th {\n",
       "        vertical-align: top;\n",
       "    }\n",
       "\n",
       "    .dataframe thead th {\n",
       "        text-align: right;\n",
       "    }\n",
       "</style>\n",
       "<table border=\"1\" class=\"dataframe\">\n",
       "  <thead>\n",
       "    <tr style=\"text-align: right;\">\n",
       "      <th>Gender</th>\n",
       "      <th>F</th>\n",
       "      <th>M</th>\n",
       "    </tr>\n",
       "    <tr>\n",
       "      <th>Coverage</th>\n",
       "      <th></th>\n",
       "      <th></th>\n",
       "    </tr>\n",
       "  </thead>\n",
       "  <tbody>\n",
       "    <tr>\n",
       "      <th>Basic</th>\n",
       "      <td>2547</td>\n",
       "      <td>2489</td>\n",
       "    </tr>\n",
       "    <tr>\n",
       "      <th>Extended</th>\n",
       "      <td>1308</td>\n",
       "      <td>1192</td>\n",
       "    </tr>\n",
       "    <tr>\n",
       "      <th>Premium</th>\n",
       "      <td>392</td>\n",
       "      <td>356</td>\n",
       "    </tr>\n",
       "  </tbody>\n",
       "</table>\n",
       "</div>"
      ],
      "text/plain": [
       "Gender       F     M\n",
       "Coverage            \n",
       "Basic     2547  2489\n",
       "Extended  1308  1192\n",
       "Premium    392   356"
      ]
     },
     "execution_count": 82,
     "metadata": {},
     "output_type": "execute_result"
    }
   ],
   "source": [
    "# Таблица сопряженности покрытия и пола. Через pivot_table()\n",
    "ins.pivot_table(index='Coverage', columns='Gender', aggfunc='size')"
   ]
  },
  {
   "cell_type": "markdown",
   "id": "9391458c-d3ee-491c-af7c-ffdbcd56b57a",
   "metadata": {},
   "source": [
    "Таблицы сопряженности с `pd.crosstab()`  \n",
    "`pd.crosstab()` — специализированная функция для создания таблиц сопряженности.\n",
    "\n",
    " Ключевые параметры crosstab()\n",
    "- `normalize='index'` — проценты по строкам\n",
    "- `normalize='columns` — проценты по столбцам\n",
    "- `normalize='all'` — проценты от общего числа\n",
    "- `margins=True` — добавить итоги\n",
    "- `margins_name='Total'` — название для итогов\n",
    "\n",
    "\n",
    "Базовая таблица сопряженности"
   ]
  },
  {
   "cell_type": "code",
   "execution_count": 83,
   "id": "a2145931-8f9b-4dd4-80de-6ea845098155",
   "metadata": {},
   "outputs": [
    {
     "data": {
      "text/html": [
       "<div>\n",
       "<style scoped>\n",
       "    .dataframe tbody tr th:only-of-type {\n",
       "        vertical-align: middle;\n",
       "    }\n",
       "\n",
       "    .dataframe tbody tr th {\n",
       "        vertical-align: top;\n",
       "    }\n",
       "\n",
       "    .dataframe thead th {\n",
       "        text-align: right;\n",
       "    }\n",
       "</style>\n",
       "<table border=\"1\" class=\"dataframe\">\n",
       "  <thead>\n",
       "    <tr style=\"text-align: right;\">\n",
       "      <th>Gender</th>\n",
       "      <th>F</th>\n",
       "      <th>M</th>\n",
       "    </tr>\n",
       "    <tr>\n",
       "      <th>Coverage</th>\n",
       "      <th></th>\n",
       "      <th></th>\n",
       "    </tr>\n",
       "  </thead>\n",
       "  <tbody>\n",
       "    <tr>\n",
       "      <th>Basic</th>\n",
       "      <td>2547</td>\n",
       "      <td>2489</td>\n",
       "    </tr>\n",
       "    <tr>\n",
       "      <th>Extended</th>\n",
       "      <td>1308</td>\n",
       "      <td>1192</td>\n",
       "    </tr>\n",
       "    <tr>\n",
       "      <th>Premium</th>\n",
       "      <td>392</td>\n",
       "      <td>356</td>\n",
       "    </tr>\n",
       "  </tbody>\n",
       "</table>\n",
       "</div>"
      ],
      "text/plain": [
       "Gender       F     M\n",
       "Coverage            \n",
       "Basic     2547  2489\n",
       "Extended  1308  1192\n",
       "Premium    392   356"
      ]
     },
     "execution_count": 83,
     "metadata": {},
     "output_type": "execute_result"
    }
   ],
   "source": [
    "# Абсолютные частоты: покрытие × пол\n",
    "pd.crosstab(index=ins['Coverage'], columns=ins['Gender'])"
   ]
  },
  {
   "cell_type": "markdown",
   "id": "0b7d66b2-c304-4acd-98d5-70e92ab47489",
   "metadata": {},
   "source": [
    "**Относительные частоты в таблицах сопряженности**"
   ]
  },
  {
   "cell_type": "code",
   "execution_count": 84,
   "id": "90bee7ab-64fc-47b8-9644-75e2be740515",
   "metadata": {},
   "outputs": [
    {
     "data": {
      "text/html": [
       "<div>\n",
       "<style scoped>\n",
       "    .dataframe tbody tr th:only-of-type {\n",
       "        vertical-align: middle;\n",
       "    }\n",
       "\n",
       "    .dataframe tbody tr th {\n",
       "        vertical-align: top;\n",
       "    }\n",
       "\n",
       "    .dataframe thead th {\n",
       "        text-align: right;\n",
       "    }\n",
       "</style>\n",
       "<table border=\"1\" class=\"dataframe\">\n",
       "  <thead>\n",
       "    <tr style=\"text-align: right;\">\n",
       "      <th>Gender</th>\n",
       "      <th>F</th>\n",
       "      <th>M</th>\n",
       "    </tr>\n",
       "    <tr>\n",
       "      <th>Coverage</th>\n",
       "      <th></th>\n",
       "      <th></th>\n",
       "    </tr>\n",
       "  </thead>\n",
       "  <tbody>\n",
       "    <tr>\n",
       "      <th>Basic</th>\n",
       "      <td>50.6</td>\n",
       "      <td>49.4</td>\n",
       "    </tr>\n",
       "    <tr>\n",
       "      <th>Extended</th>\n",
       "      <td>52.3</td>\n",
       "      <td>47.7</td>\n",
       "    </tr>\n",
       "    <tr>\n",
       "      <th>Premium</th>\n",
       "      <td>52.4</td>\n",
       "      <td>47.6</td>\n",
       "    </tr>\n",
       "  </tbody>\n",
       "</table>\n",
       "</div>"
      ],
      "text/plain": [
       "Gender       F     M\n",
       "Coverage            \n",
       "Basic     50.6  49.4\n",
       "Extended  52.3  47.7\n",
       "Premium   52.4  47.6"
      ]
     },
     "execution_count": 84,
     "metadata": {},
     "output_type": "execute_result"
    }
   ],
   "source": [
    "# Нормализация по строкам\n",
    "# Какой % мужчин/женщин в каждом виде покрытия?\n",
    "pd.crosstab(index=ins['Coverage'], \n",
    "           columns=ins['Gender'], \n",
    "           normalize='index').round(3) * 100"
   ]
  },
  {
   "cell_type": "code",
   "execution_count": 85,
   "id": "fba77674-317f-4cc3-849b-4574ccfc2ee2",
   "metadata": {},
   "outputs": [
    {
     "data": {
      "text/html": [
       "<div>\n",
       "<style scoped>\n",
       "    .dataframe tbody tr th:only-of-type {\n",
       "        vertical-align: middle;\n",
       "    }\n",
       "\n",
       "    .dataframe tbody tr th {\n",
       "        vertical-align: top;\n",
       "    }\n",
       "\n",
       "    .dataframe thead th {\n",
       "        text-align: right;\n",
       "    }\n",
       "</style>\n",
       "<table border=\"1\" class=\"dataframe\">\n",
       "  <thead>\n",
       "    <tr style=\"text-align: right;\">\n",
       "      <th>Gender</th>\n",
       "      <th>F</th>\n",
       "      <th>M</th>\n",
       "    </tr>\n",
       "    <tr>\n",
       "      <th>Coverage</th>\n",
       "      <th></th>\n",
       "      <th></th>\n",
       "    </tr>\n",
       "  </thead>\n",
       "  <tbody>\n",
       "    <tr>\n",
       "      <th>Basic</th>\n",
       "      <td>60.0</td>\n",
       "      <td>61.7</td>\n",
       "    </tr>\n",
       "    <tr>\n",
       "      <th>Extended</th>\n",
       "      <td>30.8</td>\n",
       "      <td>29.5</td>\n",
       "    </tr>\n",
       "    <tr>\n",
       "      <th>Premium</th>\n",
       "      <td>9.2</td>\n",
       "      <td>8.8</td>\n",
       "    </tr>\n",
       "  </tbody>\n",
       "</table>\n",
       "</div>"
      ],
      "text/plain": [
       "Gender       F     M\n",
       "Coverage            \n",
       "Basic     60.0  61.7\n",
       "Extended  30.8  29.5\n",
       "Premium    9.2   8.8"
      ]
     },
     "execution_count": 85,
     "metadata": {},
     "output_type": "execute_result"
    }
   ],
   "source": [
    "# Нормализация по столбцам\n",
    "# Какое покрытие выбирают мужчины/женщины?\n",
    "pd.crosstab(index=ins['Coverage'], \n",
    "           columns=ins['Gender'], \n",
    "           normalize='columns').round(3) * 100"
   ]
  },
  {
   "cell_type": "code",
   "execution_count": 86,
   "id": "a4e1399d-74d4-4472-902c-194447a76bad",
   "metadata": {},
   "outputs": [
    {
     "data": {
      "text/html": [
       "<div>\n",
       "<style scoped>\n",
       "    .dataframe tbody tr th:only-of-type {\n",
       "        vertical-align: middle;\n",
       "    }\n",
       "\n",
       "    .dataframe tbody tr th {\n",
       "        vertical-align: top;\n",
       "    }\n",
       "\n",
       "    .dataframe thead th {\n",
       "        text-align: right;\n",
       "    }\n",
       "</style>\n",
       "<table border=\"1\" class=\"dataframe\">\n",
       "  <thead>\n",
       "    <tr style=\"text-align: right;\">\n",
       "      <th>Gender</th>\n",
       "      <th>F</th>\n",
       "      <th>M</th>\n",
       "    </tr>\n",
       "    <tr>\n",
       "      <th>Coverage</th>\n",
       "      <th></th>\n",
       "      <th></th>\n",
       "    </tr>\n",
       "  </thead>\n",
       "  <tbody>\n",
       "    <tr>\n",
       "      <th>Basic</th>\n",
       "      <td>30.7</td>\n",
       "      <td>30.0</td>\n",
       "    </tr>\n",
       "    <tr>\n",
       "      <th>Extended</th>\n",
       "      <td>15.8</td>\n",
       "      <td>14.4</td>\n",
       "    </tr>\n",
       "    <tr>\n",
       "      <th>Premium</th>\n",
       "      <td>4.7</td>\n",
       "      <td>4.3</td>\n",
       "    </tr>\n",
       "  </tbody>\n",
       "</table>\n",
       "</div>"
      ],
      "text/plain": [
       "Gender       F     M\n",
       "Coverage            \n",
       "Basic     30.7  30.0\n",
       "Extended  15.8  14.4\n",
       "Premium    4.7   4.3"
      ]
     },
     "execution_count": 86,
     "metadata": {},
     "output_type": "execute_result"
    }
   ],
   "source": [
    "# Нормализация по всей таблице\n",
    "# Доли от общего числа наблюдений\n",
    "pd.crosstab(index=ins['Coverage'], \n",
    "           columns=ins['Gender'], \n",
    "           normalize='all').round(3) * 100"
   ]
  },
  {
   "cell_type": "code",
   "execution_count": 87,
   "id": "c1163e74-8bbe-47d0-8914-66b8adba76fa",
   "metadata": {},
   "outputs": [
    {
     "data": {
      "text/html": [
       "<div>\n",
       "<style scoped>\n",
       "    .dataframe tbody tr th:only-of-type {\n",
       "        vertical-align: middle;\n",
       "    }\n",
       "\n",
       "    .dataframe tbody tr th {\n",
       "        vertical-align: top;\n",
       "    }\n",
       "\n",
       "    .dataframe thead th {\n",
       "        text-align: right;\n",
       "    }\n",
       "</style>\n",
       "<table border=\"1\" class=\"dataframe\">\n",
       "  <thead>\n",
       "    <tr style=\"text-align: right;\">\n",
       "      <th>Gender</th>\n",
       "      <th>F</th>\n",
       "      <th>M</th>\n",
       "      <th>All</th>\n",
       "    </tr>\n",
       "    <tr>\n",
       "      <th>Coverage</th>\n",
       "      <th></th>\n",
       "      <th></th>\n",
       "      <th></th>\n",
       "    </tr>\n",
       "  </thead>\n",
       "  <tbody>\n",
       "    <tr>\n",
       "      <th>Basic</th>\n",
       "      <td>2547</td>\n",
       "      <td>2489</td>\n",
       "      <td>5036</td>\n",
       "    </tr>\n",
       "    <tr>\n",
       "      <th>Extended</th>\n",
       "      <td>1308</td>\n",
       "      <td>1192</td>\n",
       "      <td>2500</td>\n",
       "    </tr>\n",
       "    <tr>\n",
       "      <th>Premium</th>\n",
       "      <td>392</td>\n",
       "      <td>356</td>\n",
       "      <td>748</td>\n",
       "    </tr>\n",
       "    <tr>\n",
       "      <th>All</th>\n",
       "      <td>4247</td>\n",
       "      <td>4037</td>\n",
       "      <td>8284</td>\n",
       "    </tr>\n",
       "  </tbody>\n",
       "</table>\n",
       "</div>"
      ],
      "text/plain": [
       "Gender       F     M   All\n",
       "Coverage                  \n",
       "Basic     2547  2489  5036\n",
       "Extended  1308  1192  2500\n",
       "Premium    392   356   748\n",
       "All       4247  4037  8284"
      ]
     },
     "execution_count": 87,
     "metadata": {},
     "output_type": "execute_result"
    }
   ],
   "source": [
    "# Добавляем итоги\n",
    "pd.crosstab(index=ins['Coverage'], \n",
    "           columns=ins['Gender'], \n",
    "           margins=True)"
   ]
  },
  {
   "cell_type": "markdown",
   "id": "31240664-708d-4096-92de-c52df75cddd6",
   "metadata": {},
   "source": [
    "**Сравнение методов**\n",
    "|Метод|Преимущества|Недостатки|\n",
    "|-|-|-|\n",
    "|`value_counts()`|Простой, быстрый|Только одна переменная|\n",
    "|`groupby().size()`|Гибкий, можно добавлять столбцы|Сложнее для таблиц сопряженности|\n",
    "|`pivot_table()`|Универсальный|Сложный синтаксис для частот|\n",
    "|`crosstab()`|Специализированный, нормализация|Только для частот|"
   ]
  },
  {
   "cell_type": "markdown",
   "id": "7b049127-b000-4961-9438-198946e0cfc2",
   "metadata": {},
   "source": [
    "## 6.17. Выполнение SQL-запросов в pandas"
   ]
  },
  {
   "cell_type": "markdown",
   "id": "e521a1d5-7490-42a8-b742-6255b41daa54",
   "metadata": {},
   "source": [
    "Pandas позволяет работать с данными как в реляционной базе данных, используя либо SQL-синтаксис через подключение к БД, либо нативные методы pandas."
   ]
  },
  {
   "cell_type": "code",
   "execution_count": 3,
   "id": "e9d8394b-2183-4e30-90a4-4e3a6fa8f140",
   "metadata": {},
   "outputs": [],
   "source": [
    "# импортируем библиотеки\n",
    "import pandas as pd\n",
    "import sqlite3\n",
    "\n",
    "# Загрузка данных в pandas\n",
    "airports = pd.read_csv('data/airports.csv')\n",
    "\n",
    "# Создание подключения к SQLite базе\n",
    "connection = sqlite3.connect('data/flights.sqlite')\n",
    "\n",
    "# Сохранение данных в SQL таблицу\n",
    "airports.to_sql('AIRPORTS', connection, if_exists='replace')\n",
    "connection.commit()"
   ]
  },
  {
   "cell_type": "code",
   "execution_count": null,
   "id": "8db0b78a-b8a8-4d05-bfe5-fc828453a3c4",
   "metadata": {},
   "outputs": [],
   "source": []
  },
  {
   "cell_type": "code",
   "execution_count": null,
   "id": "dec2b6f5-6b25-4c05-908e-25909e2acfe9",
   "metadata": {},
   "outputs": [],
   "source": []
  },
  {
   "cell_type": "code",
   "execution_count": null,
   "id": "e8384acc-7ea2-499c-a565-d57026b52a8b",
   "metadata": {},
   "outputs": [],
   "source": []
  },
  {
   "cell_type": "code",
   "execution_count": null,
   "id": "b8298948-d892-4419-ab4a-bfcfb9219c7a",
   "metadata": {},
   "outputs": [],
   "source": []
  },
  {
   "cell_type": "code",
   "execution_count": null,
   "id": "4aba0350-7197-4d49-a733-2c6f1febd258",
   "metadata": {},
   "outputs": [],
   "source": []
  },
  {
   "cell_type": "code",
   "execution_count": null,
   "id": "8b493fd1-7970-4091-b337-818661d76888",
   "metadata": {},
   "outputs": [],
   "source": []
  },
  {
   "cell_type": "code",
   "execution_count": null,
   "id": "08b67ba3-a761-4b53-95d6-a4101bb351f0",
   "metadata": {},
   "outputs": [],
   "source": []
  },
  {
   "cell_type": "code",
   "execution_count": null,
   "id": "df2c52ae-f2c1-4dff-b367-a465a74811ad",
   "metadata": {},
   "outputs": [],
   "source": []
  },
  {
   "cell_type": "code",
   "execution_count": null,
   "id": "d184b563-3df2-43b2-b480-b9703f4a78f1",
   "metadata": {},
   "outputs": [],
   "source": []
  },
  {
   "cell_type": "code",
   "execution_count": null,
   "id": "b26e7c5e-83b8-4bcb-9d91-e0eaf7ed4ef1",
   "metadata": {},
   "outputs": [],
   "source": []
  },
  {
   "cell_type": "code",
   "execution_count": null,
   "id": "9d3a9943-bcff-4a0b-882d-b5590232ae9a",
   "metadata": {},
   "outputs": [],
   "source": []
  },
  {
   "cell_type": "code",
   "execution_count": null,
   "id": "fda3196d-e218-4a8c-8580-14adac76fe82",
   "metadata": {},
   "outputs": [],
   "source": []
  },
  {
   "cell_type": "code",
   "execution_count": null,
   "id": "294603d9-9a70-4744-8071-9fbacdfee410",
   "metadata": {},
   "outputs": [],
   "source": []
  },
  {
   "cell_type": "code",
   "execution_count": null,
   "id": "9583b23a-07ec-4503-a064-4bcf3600ed1e",
   "metadata": {},
   "outputs": [],
   "source": []
  },
  {
   "cell_type": "code",
   "execution_count": null,
   "id": "6884d911-04a2-43f0-910a-be5949141a66",
   "metadata": {},
   "outputs": [],
   "source": []
  },
  {
   "cell_type": "code",
   "execution_count": null,
   "id": "a23ce2da-ad1f-4837-9e9a-72e752d5488c",
   "metadata": {},
   "outputs": [],
   "source": []
  },
  {
   "cell_type": "code",
   "execution_count": null,
   "id": "49f5fa0d-d03b-453e-af35-897c24c9df11",
   "metadata": {},
   "outputs": [],
   "source": []
  },
  {
   "cell_type": "code",
   "execution_count": null,
   "id": "ae4d984e-c6fd-4917-9e70-b0316cf683c1",
   "metadata": {},
   "outputs": [],
   "source": []
  },
  {
   "cell_type": "code",
   "execution_count": null,
   "id": "465d9b3a-1f22-4025-8e13-aa827e639480",
   "metadata": {},
   "outputs": [],
   "source": []
  },
  {
   "cell_type": "code",
   "execution_count": null,
   "id": "192c04e0-6251-469a-9827-c5b078c8b973",
   "metadata": {},
   "outputs": [],
   "source": []
  },
  {
   "cell_type": "code",
   "execution_count": null,
   "id": "abc93985-9c9a-4a54-b09f-9297c9fa08f2",
   "metadata": {},
   "outputs": [],
   "source": []
  },
  {
   "cell_type": "code",
   "execution_count": null,
   "id": "2915d61f-d363-4255-89fb-5a52e196cef8",
   "metadata": {},
   "outputs": [],
   "source": []
  }
 ],
 "metadata": {
  "kernelspec": {
   "display_name": "Python 3 (ipykernel)",
   "language": "python",
   "name": "python3"
  },
  "language_info": {
   "codemirror_mode": {
    "name": "ipython",
    "version": 3
   },
   "file_extension": ".py",
   "mimetype": "text/x-python",
   "name": "python",
   "nbconvert_exporter": "python",
   "pygments_lexer": "ipython3",
   "version": "3.11.9"
  }
 },
 "nbformat": 4,
 "nbformat_minor": 5
}
