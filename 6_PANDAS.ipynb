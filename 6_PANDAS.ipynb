{
 "cells": [
  {
   "cell_type": "markdown",
   "id": "55b7d567-b363-4e9e-b731-1c55767e8c3d",
   "metadata": {},
   "source": [
    "# 6. Pandas"
   ]
  },
  {
   "cell_type": "markdown",
   "id": "db4e11ab-c019-4736-acd7-c78e7517b112",
   "metadata": {},
   "source": [
    "## 6.1. Почему pandas?"
   ]
  },
  {
   "cell_type": "markdown",
   "id": "f7a4ef6d-b32c-411e-a37a-1968178e6f95",
   "metadata": {},
   "source": [
    "pandas – одна из самых популярных библиотек для исследования данных с открытым исходным кодом, доступных в настоящее время. Она дает своим пользователям возможность исследовать, манипулировать, запрашивать, агрегировать и визуализировать табличные данные. Табличные данные относятся к двумерным данным, состоящим из строк и столбцов. Обычно мы называем такую организованную структуру данных таблицей. pandas – это инструмент, который мы будем использовать для анализа данных почти в каждом разделе этой книги."
   ]
  },
  {
   "cell_type": "markdown",
   "id": "549a30da-f51c-4e82-8814-b802f6cd79b6",
   "metadata": {},
   "source": [
    "## 6.2. Библиотека pandas построена на NumPy"
   ]
  },
  {
   "cell_type": "markdown",
   "id": "fbcff38c-db32-4a07-8cb9-d5418c7fe3db",
   "metadata": {},
   "source": [
    "Pandas построена на основе NumPy — это значит, что \"под капотом\" все данные в pandas хранятся в виде массивов NumPy. Можно думать об этом так:\n",
    "- NumPy — это низкоуровневый инструмент для работы с числами и массивами. Он быстрый, но требует больше кода для сложных операций.\n",
    "- Pandas — это высокоуровневая надстройка над NumPy, которая добавляет удобные структуры данных (как DataFrame и Series) и множество функций для анализа."
   ]
  },
  {
   "cell_type": "markdown",
   "id": "9d653ee2-4ea9-4642-bd22-f1e136137ac4",
   "metadata": {},
   "source": [
    "Пример: Разница в скорости  \n",
    "Допустим, нужно вычислить сумму квадратов чисел."
   ]
  },
  {
   "cell_type": "code",
   "execution_count": 2,
   "id": "70164c69-5a02-41da-82fe-8a15ab51142e",
   "metadata": {},
   "outputs": [
    {
     "name": "stdout",
     "output_type": "stream",
     "text": [
      "CPU times: total: 125 ms\n",
      "Wall time: 3.51 s\n"
     ]
    }
   ],
   "source": [
    "%%time\n",
    "import pandas as pd\n",
    "data = pd.Series([1, 2, 3, 4, 5])\n",
    "result = (data ** 2).sum()  # Медленнее из-за накладных расходов"
   ]
  },
  {
   "cell_type": "code",
   "execution_count": 3,
   "id": "a09b2ad3-07ee-4874-8c5b-cf64071074ef",
   "metadata": {},
   "outputs": [
    {
     "name": "stdout",
     "output_type": "stream",
     "text": [
      "CPU times: total: 0 ns\n",
      "Wall time: 0 ns\n"
     ]
    }
   ],
   "source": [
    "%%time\n",
    "import numpy as np\n",
    "data = np.array([1, 2, 3, 4, 5])\n",
    "result = np.sum(data ** 2)  # Быстрее, так как работаем напрямую с массивами"
   ]
  },
  {
   "cell_type": "markdown",
   "id": "b25bda58-5749-49c5-8ee1-89827d36b7d5",
   "metadata": {},
   "source": [
    "## 6.3. pandas работает с табличными данными"
   ]
  },
  {
   "cell_type": "markdown",
   "id": "37d2263b-b740-4943-b2c0-5c574ac31a5d",
   "metadata": {},
   "source": [
    "Pandas — это библиотека, специально созданная для работы с табличными данными (двумерными структурами, похожими на таблицы в Excel).  \n",
    "Pandas умеет читать данные из множества форматов и преобразовывать их в таблицу (DataFrame):\n",
    "- CSV → `pd.read_csv()`\n",
    "- JSON → `pd.read_json()`\n",
    "- Excel → `pd.read_excel()`\n",
    "- Parquet → `pd.read_parquet()`\n",
    "- XML, текстовые файлы и другие.\n",
    "```python\n",
    "import pandas as pd\n",
    "# Чтение CSV-файла\n",
    "data = pd.read_csv('data.csv')\n",
    "# Чтение JSON-файла\n",
    "data = pd.read_json('data.json')\n",
    "```"
   ]
  },
  {
   "cell_type": "markdown",
   "id": "01d0f5f8-e911-44dc-b371-b9c45ff5d655",
   "metadata": {},
   "source": [
    "## 6.4. Объекты DataFrame и Series"
   ]
  },
  {
   "cell_type": "markdown",
   "id": "32eed091-b666-40b4-960f-58413290af76",
   "metadata": {},
   "source": [
    "**Series (Серия)** Одномерный массив данных — как один столбец в таблице. Аналогия: Столбец в Excel.\n",
    "\n",
    "Особенности:\n",
    "- Имеет индекс (номера строк, начиная с 0).\n",
    "- Может содержать данные любого типа (числа, строки, даты).\n",
    "\n",
    "**DataFrame (Датафрейм)** Двумерная таблица с строками и столбцами — как весь лист Excel.  Аналогия: Целая таблица в Excel.\n",
    "\n",
    "Особенности:\n",
    "- Каждый столбец — это объект Series.\n",
    "- Столбцы могут быть разных типов (числа, строки, даты).\n",
    "- Есть индекс (номера строк) и названия столбцов.\n",
    "\n",
    "Аналогия: Целая таблица в Excel."
   ]
  },
  {
   "cell_type": "code",
   "execution_count": null,
   "id": "a71d558e-ba1c-47ff-8100-6a12a42998bf",
   "metadata": {},
   "outputs": [],
   "source": []
  },
  {
   "cell_type": "code",
   "execution_count": null,
   "id": "cbf17f2b-7b78-4e79-8636-11418b980dea",
   "metadata": {},
   "outputs": [],
   "source": []
  },
  {
   "cell_type": "code",
   "execution_count": null,
   "id": "28ae3656-ecd7-4702-b076-d45dc2233aef",
   "metadata": {},
   "outputs": [],
   "source": []
  },
  {
   "cell_type": "code",
   "execution_count": null,
   "id": "e0fedc4d-e18a-4ab4-8db9-aeb4274632ac",
   "metadata": {},
   "outputs": [],
   "source": []
  }
 ],
 "metadata": {
  "kernelspec": {
   "display_name": "Python 3 (ipykernel)",
   "language": "python",
   "name": "python3"
  },
  "language_info": {
   "codemirror_mode": {
    "name": "ipython",
    "version": 3
   },
   "file_extension": ".py",
   "mimetype": "text/x-python",
   "name": "python",
   "nbconvert_exporter": "python",
   "pygments_lexer": "ipython3",
   "version": "3.11.9"
  }
 },
 "nbformat": 4,
 "nbformat_minor": 5
}
