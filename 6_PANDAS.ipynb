{
 "cells": [
  {
   "cell_type": "markdown",
   "id": "55b7d567-b363-4e9e-b731-1c55767e8c3d",
   "metadata": {},
   "source": [
    "# 6. Pandas"
   ]
  },
  {
   "cell_type": "markdown",
   "id": "db4e11ab-c019-4736-acd7-c78e7517b112",
   "metadata": {},
   "source": [
    "## 6.1. Почему pandas?"
   ]
  },
  {
   "cell_type": "markdown",
   "id": "f7a4ef6d-b32c-411e-a37a-1968178e6f95",
   "metadata": {},
   "source": [
    "pandas – одна из самых популярных библиотек для исследования данных с открытым исходным кодом, доступных в настоящее время. Она дает своим пользователям возможность исследовать, манипулировать, запрашивать, агрегировать и визуализировать табличные данные. Табличные данные относятся к двумерным данным, состоящим из строк и столбцов. Обычно мы называем такую организованную структуру данных таблицей. pandas – это инструмент, который мы будем использовать для анализа данных почти в каждом разделе этой книги."
   ]
  },
  {
   "cell_type": "markdown",
   "id": "549a30da-f51c-4e82-8814-b802f6cd79b6",
   "metadata": {},
   "source": [
    "## 6.2. Библиотека pandas построена на NumPy"
   ]
  },
  {
   "cell_type": "markdown",
   "id": "fbcff38c-db32-4a07-8cb9-d5418c7fe3db",
   "metadata": {},
   "source": [
    "Pandas построена на основе NumPy — это значит, что \"под капотом\" все данные в pandas хранятся в виде массивов NumPy. Можно думать об этом так:\n",
    "- NumPy — это низкоуровневый инструмент для работы с числами и массивами. Он быстрый, но требует больше кода для сложных операций.\n",
    "- Pandas — это высокоуровневая надстройка над NumPy, которая добавляет удобные структуры данных (как DataFrame и Series) и множество функций для анализа."
   ]
  },
  {
   "cell_type": "markdown",
   "id": "9d653ee2-4ea9-4642-bd22-f1e136137ac4",
   "metadata": {},
   "source": [
    "Пример: Разница в скорости  \n",
    "Допустим, нужно вычислить сумму квадратов чисел."
   ]
  },
  {
   "cell_type": "code",
   "execution_count": 1,
   "id": "70164c69-5a02-41da-82fe-8a15ab51142e",
   "metadata": {},
   "outputs": [
    {
     "name": "stdout",
     "output_type": "stream",
     "text": [
      "CPU times: total: 172 ms\n",
      "Wall time: 316 ms\n"
     ]
    }
   ],
   "source": [
    "%%time\n",
    "import pandas as pd\n",
    "data = pd.Series([1, 2, 3, 4, 5])\n",
    "result = (data ** 2).sum()  # Медленнее из-за накладных расходов"
   ]
  },
  {
   "cell_type": "code",
   "execution_count": 2,
   "id": "a09b2ad3-07ee-4874-8c5b-cf64071074ef",
   "metadata": {},
   "outputs": [
    {
     "name": "stdout",
     "output_type": "stream",
     "text": [
      "CPU times: total: 0 ns\n",
      "Wall time: 0 ns\n"
     ]
    }
   ],
   "source": [
    "%%time\n",
    "import numpy as np\n",
    "data = np.array([1, 2, 3, 4, 5])\n",
    "result = np.sum(data ** 2)  # Быстрее, так как работаем напрямую с массивами"
   ]
  },
  {
   "cell_type": "markdown",
   "id": "b25bda58-5749-49c5-8ee1-89827d36b7d5",
   "metadata": {},
   "source": [
    "## 6.3. pandas работает с табличными данными"
   ]
  },
  {
   "cell_type": "markdown",
   "id": "37d2263b-b740-4943-b2c0-5c574ac31a5d",
   "metadata": {},
   "source": [
    "Pandas — это библиотека, специально созданная для работы с табличными данными (двумерными структурами, похожими на таблицы в Excel).  \n",
    "Pandas умеет читать данные из множества форматов и преобразовывать их в таблицу (DataFrame):\n",
    "- CSV → `pd.read_csv()`\n",
    "- JSON → `pd.read_json()`\n",
    "- Excel → `pd.read_excel()`\n",
    "- Parquet → `pd.read_parquet()`\n",
    "- XML, текстовые файлы и другие.\n",
    "```python\n",
    "import pandas as pd\n",
    "# Чтение CSV-файла\n",
    "data = pd.read_csv('data.csv')\n",
    "# Чтение JSON-файла\n",
    "data = pd.read_json('data.json')\n",
    "```"
   ]
  },
  {
   "cell_type": "markdown",
   "id": "01d0f5f8-e911-44dc-b371-b9c45ff5d655",
   "metadata": {},
   "source": [
    "## 6.4. Объекты DataFrame и Series"
   ]
  },
  {
   "cell_type": "markdown",
   "id": "32eed091-b666-40b4-960f-58413290af76",
   "metadata": {},
   "source": [
    "**Series (Серия)** Одномерный массив данных — как один столбец в таблице. Аналогия: Столбец в Excel.\n",
    "\n",
    "Особенности:\n",
    "- Имеет индекс (номера строк, начиная с 0).\n",
    "- Может содержать данные любого типа (числа, строки, даты).\n",
    "\n",
    "**DataFrame (Датафрейм)** Двумерная таблица с строками и столбцами — как весь лист Excel.  Аналогия: Целая таблица в Excel.\n",
    "\n",
    "Особенности:\n",
    "- Каждый столбец — это объект Series.\n",
    "- Столбцы могут быть разных типов (числа, строки, даты).\n",
    "- Есть индекс (номера строк) и названия столбцов.\n",
    "\n",
    "axis=0 — операции по строкам (вертикально). Например: df.mean(axis=0) вычислит среднее для каждого столбца.  \n",
    "axis=1 — операции по столбцам (горизонтально). Например: df.mean(axis=1) вычислит среднее для каждой строки."
   ]
  },
  {
   "cell_type": "code",
   "execution_count": 3,
   "id": "a71d558e-ba1c-47ff-8100-6a12a42998bf",
   "metadata": {},
   "outputs": [
    {
     "name": "stdout",
     "output_type": "stream",
     "text": [
      "Empl    15.0\n",
      "Age     35.0\n",
      "dtype: float64\n",
      "\n",
      "0    20.0\n",
      "1    30.0\n",
      "dtype: float64\n",
      "\n"
     ]
    },
    {
     "data": {
      "text/html": [
       "<div>\n",
       "<style scoped>\n",
       "    .dataframe tbody tr th:only-of-type {\n",
       "        vertical-align: middle;\n",
       "    }\n",
       "\n",
       "    .dataframe tbody tr th {\n",
       "        vertical-align: top;\n",
       "    }\n",
       "\n",
       "    .dataframe thead th {\n",
       "        text-align: right;\n",
       "    }\n",
       "</style>\n",
       "<table border=\"1\" class=\"dataframe\">\n",
       "  <thead>\n",
       "    <tr style=\"text-align: right;\">\n",
       "      <th></th>\n",
       "      <th>Empl</th>\n",
       "      <th>Age</th>\n",
       "    </tr>\n",
       "  </thead>\n",
       "  <tbody>\n",
       "    <tr>\n",
       "      <th>0</th>\n",
       "      <td>10</td>\n",
       "      <td>30</td>\n",
       "    </tr>\n",
       "    <tr>\n",
       "      <th>1</th>\n",
       "      <td>20</td>\n",
       "      <td>40</td>\n",
       "    </tr>\n",
       "  </tbody>\n",
       "</table>\n",
       "</div>"
      ],
      "text/plain": [
       "   Empl  Age\n",
       "0    10   30\n",
       "1    20   40"
      ]
     },
     "metadata": {},
     "output_type": "display_data"
    }
   ],
   "source": [
    "import pandas as pd\n",
    "\n",
    "df = pd.DataFrame({\n",
    "    'Empl': [10, 20],  # Столбец \"Empl\"\n",
    "    'Age': [30, 40]     # Столбец \"Age\"\n",
    "})\n",
    "\n",
    "# Среднее по столбцам (axis=0)\n",
    "print(df.mean(axis=0))\n",
    "print()\n",
    "\n",
    "# Среднее по строкам (axis=1)\n",
    "print(df.mean(axis=1))\n",
    "print()\n",
    "\n",
    "display(df)"
   ]
  },
  {
   "cell_type": "markdown",
   "id": "1a947eb3-0635-4fbc-9f01-8d7b9dc9f2c0",
   "metadata": {},
   "source": [
    "🚀"
   ]
  },
  {
   "cell_type": "markdown",
   "id": "d243d0fa-325e-43de-a739-5f6ce3577701",
   "metadata": {},
   "source": [
    "## 6.5. Задачи, выполняемые pandas"
   ]
  },
  {
   "cell_type": "markdown",
   "id": "7d5db755-a258-49b1-8b27-b6b07802ff83",
   "metadata": {},
   "source": [
    "1. Чтение данных 📂  \n",
    "Pandas умеет загружать данные из разных форматов:\n",
    "- CSV: `pd.read_csv('file.csv')`\n",
    "- Excel: `pd.read_excel('file.xlsx')`\n",
    "- JSON: `pd.read_json('file.json')`\n",
    "- Базы данных: `pd.read_sql('SELECT * FROM table', connection)`\n",
    "\n",
    "Пример:\n",
    "```python\n",
    "import pandas as pd\n",
    "data = pd.read_csv('data.csv')  # Загружаем данные из CSV\n",
    "```\n",
    "2. Доступ к строкам и столбцам 🔍  \n",
    "Можно легко выбирать нужные части данных:\n",
    "- Столбцы: `data['column_name']` или `data.column_name`\n",
    "- Строки: `data.loc[0]` (по индексу) или `data.iloc[0]` (по номеру)\n",
    "- Ячейки: `data.at[0, 'column_name']`\n",
    "\n",
    "Пример:\n",
    "```python\n",
    "# Выберем столбец \"Age\"\n",
    "ages = data['Age']\n",
    "\n",
    "# Первая строка\n",
    "first_row = data.loc[0]\n",
    "```\n",
    "3. Фильтрация данных 🔎  \n",
    "Отбор данных по условиям:\n",
    "- Простой фильтр: `data[data['Age'] > 30]`\n",
    "- Несколько условий: `data[(data['Age'] > 30) & (data['City'] == 'Moscow')]`\n",
    "\n",
    "Пример:\n",
    "```python\n",
    "# Все клиенты старше 30 лет\n",
    "adults = data[data['Age'] > 30]\n",
    "```\n",
    "4. Агрегация данных 📊  \n",
    "Сводные вычисления:\n",
    "- Группировка: `data.groupby('City')['Age'].mean()` — средний возраст по городам\n",
    "- Сводные таблицы: `pd.pivot_table(data, values='Sales', index='Region')`\n",
    "\n",
    "Пример:\n",
    "```python\n",
    "# Средний доход по профессиям\n",
    "income_by_job = data.groupby('Job')['Income'].mean()\n",
    "```\n",
    "5. Чистка данных 🧹  \n",
    "Приведение данных в порядок:\n",
    "- Пропуски: `data.dropna()` (удалить пустые) или `data.fillna(0)` (заполнить нулями)\n",
    "- Дубликаты: `data.drop_duplicates()`\n",
    "- Изменение типов: `data['Column'] = data['Column'].astype(int)`\n",
    "\n",
    "Пример:\n",
    "```python\n",
    "# Заполним пропуски в возрасте медианным значением\n",
    "median_age = data['Age'].median()\n",
    "data['Age'] = data['Age'].fillna(median_age)\n",
    "```\n",
    "6. Изменение формы данных 🔄  \n",
    "Реструктуризация данных:\n",
    "- Добавление столбцов: `data['New_Column'] = data['A'] + data['B']`\n",
    "- Переименование: `data.rename(columns={'Old_Name': 'New_Name'})`\n",
    "- Слияние таблиц: `pd.merge(data1, data2, on='key')`\n",
    "\n",
    "Пример:\n",
    "```python\n",
    "# Создадим новый столбец\n",
    "data['Full_Name'] = data['First_Name'] + ' ' + data['Last_Name']\n",
    "```\n",
    "7. Анализ временных рядов 📅  \n",
    "Работа с датами и временем:\n",
    "- Преобразование дат: `data['Date'] = pd.to_datetime(data['Date'])`\n",
    "- Временные группировки: `data.resample('M')['Sales'].sum()` — продажи по месяцам\n",
    "\n",
    "Пример:\n",
    "```python\n",
    "# Преобразуем строку в дату\n",
    "data['Date'] = pd.to_datetime(data['Date'])\n",
    "\n",
    "# Продажи по месяцам\n",
    "monthly_sales = data.resample('M', on='Date')['Sales'].sum()\n",
    "```\n",
    "8. Визуализация данных 📈  \n",
    "Pandas интегрирован с библиотеками визуализации:\n",
    "- Графики: `data.plot()`, `data.hist()`\n",
    "- Интеграция с Matplotlib/Seaborn\n",
    "\n",
    "Пример:\n",
    "```python\n",
    "import matplotlib.pyplot as plt\n",
    "data['Sales'].plot(kind='bar')\n",
    "plt.show()\n",
    "```"
   ]
  },
  {
   "cell_type": "markdown",
   "id": "c4d691c3-ac01-4682-a080-436fcd17b4f1",
   "metadata": {},
   "source": [
    "## 6.6. Кратко о типах данных"
   ]
  },
  {
   "cell_type": "markdown",
   "id": "72b1983f-49ac-46bc-9a20-d03239b0cce2",
   "metadata": {},
   "source": [
    "**Основные типы данных**\n",
    "|Тип данных|Описание|Пример|\n",
    "|-|-|-|\n",
    "|boolean|Логические значения|True, False|\n",
    "|integer|Целые числа|10, -5, 0|\n",
    "|float|Числа с плавающей точкой (дробные)|3.14, -0.5|\n",
    "|object|Чаще всего строки, но может быть любой объект Python|\"Текст\", `[1, 2, 3]`|\n",
    "|datetime|Дата и время|2023-01-15 14:30:00|"
   ]
  },
  {
   "cell_type": "markdown",
   "id": "847af0e4-2ac1-42cb-86c5-556c39a01b01",
   "metadata": {},
   "source": [
    "Проверить типы"
   ]
  },
  {
   "cell_type": "code",
   "execution_count": 4,
   "id": "2153d68d-6ee4-4bc1-bbbd-f2f84f6973da",
   "metadata": {},
   "outputs": [
    {
     "name": "stdout",
     "output_type": "stream",
     "text": [
      "Age         int64\n",
      "Salary    float64\n",
      "Name       object\n",
      "dtype: object\n"
     ]
    }
   ],
   "source": [
    "import pandas as pd\n",
    "\n",
    "# Создаем датафрейм\n",
    "df = pd.DataFrame({\n",
    "    'Age': [25, 30],          # int\n",
    "    'Salary': [50000.0, 60000.0],  # float\n",
    "    'Name': ['Anna', 'Ivan']  # object (строка)\n",
    "})\n",
    "\n",
    "# Смотрим типы данных\n",
    "print(df.dtypes)"
   ]
  },
  {
   "cell_type": "markdown",
   "id": "e286c764-637b-4d98-8498-e3c6586391bb",
   "metadata": {},
   "source": [
    "Изменить тип"
   ]
  },
  {
   "cell_type": "code",
   "execution_count": 5,
   "id": "8e5e5689-9053-4faf-a34e-8037fc329ebc",
   "metadata": {},
   "outputs": [],
   "source": [
    "# Преобразуем столбец в другой тип\n",
    "df['Age'] = df['Age'].astype(float)  # Теперь float\n",
    "df['Name'] = df['Name'].astype('string')  # Экспериментальный строковый тип"
   ]
  },
  {
   "cell_type": "code",
   "execution_count": 6,
   "id": "e3a9bdf7-8ec0-42f0-aba0-b6ba6201ae84",
   "metadata": {},
   "outputs": [
    {
     "name": "stdout",
     "output_type": "stream",
     "text": [
      "<class 'pandas.core.frame.DataFrame'>\n",
      "RangeIndex: 2 entries, 0 to 1\n",
      "Data columns (total 3 columns):\n",
      " #   Column  Non-Null Count  Dtype  \n",
      "---  ------  --------------  -----  \n",
      " 0   Age     2 non-null      float64\n",
      " 1   Salary  2 non-null      float64\n",
      " 2   Name    2 non-null      string \n",
      "dtypes: float64(2), string(1)\n",
      "memory usage: 180.0 bytes\n"
     ]
    }
   ],
   "source": [
    "df.info()"
   ]
  },
  {
   "cell_type": "markdown",
   "id": "a4a0e8f0-645e-4d25-b516-0863adee122a",
   "metadata": {},
   "source": [
    "## 6.7. Представление пропусков"
   ]
  },
  {
   "cell_type": "markdown",
   "id": "b638cc40-abd1-471a-abe9-b0a61a52e110",
   "metadata": {},
   "source": [
    "Пропуски (missing values) — это отсутствующие данные в таблицах. Pandas использует специальные значения для их обозначения.\n",
    "\n",
    "**Основные представления пропусков**\n",
    "|Тип данных|Обозначение пропуска|Пример|\n",
    "|-|-|-|\n",
    "|Числа (float)|NaN (Not a Number)|3.14, NaN|\n",
    "|Даты (datetime)|NaT (Not a Time)|2023-01-01, NaT|\n",
    "|Строки (object)|NaN|\"Текст\", NaN|\n",
    "|Целые числа (int)|❌ Не поддерживается|—|\n",
    "|Логические (bool)|❌ Не поддерживается|—|\n",
    "\n",
    "Если попытаться добавить пропуск в столбец с целыми числами (int) или логическими значениями (bool), pandas автоматически преобразует весь столбец в тип float (чтобы можно было использовать NaN)."
   ]
  },
  {
   "cell_type": "code",
   "execution_count": 7,
   "id": "20b38c8f-ec59-4d9d-b22f-6e8be0aa2895",
   "metadata": {},
   "outputs": [
    {
     "name": "stdout",
     "output_type": "stream",
     "text": [
      "Age    float64\n",
      "dtype: object\n"
     ]
    }
   ],
   "source": [
    "import pandas as pd\n",
    "import numpy as np\n",
    "\n",
    "df = pd.DataFrame({'Age': [25, 30]})  # Тип: int64\n",
    "df.loc[2] = np.nan  # Добавляем пропуск\n",
    "print(df.dtypes)  # Теперь тип: float64!"
   ]
  },
  {
   "cell_type": "markdown",
   "id": "6668d520-e463-4937-a201-374aaeac9360",
   "metadata": {},
   "source": [
    "**Новые типы данных в pandas 1.0+**\n",
    "|Новый тип|Описание|Пример|\n",
    "|-|-|-|\n",
    "|Int64|Целые числа с пропусками|25, NaN|\n",
    "|boolean|Логические значения с пропусками|True, NaN|\n",
    "|string|Строки с пропусками|\"Текст\", NaN|"
   ]
  },
  {
   "cell_type": "markdown",
   "id": "aad878ab-628d-4cbe-8bb6-bacc5fa762b5",
   "metadata": {},
   "source": [
    "Проверить пропуски"
   ]
  },
  {
   "cell_type": "code",
   "execution_count": 8,
   "id": "15c8e6ff-d8f7-432a-9970-2810dd730607",
   "metadata": {},
   "outputs": [
    {
     "name": "stdout",
     "output_type": "stream",
     "text": [
      "     Age   Name\n",
      "0  False  False\n",
      "1   True   True\n",
      "2  False  False\n"
     ]
    }
   ],
   "source": [
    "# Создаем датафрейм с пропусками\n",
    "df = pd.DataFrame({\n",
    "    'Age': [25, np.nan, 30],\n",
    "    'Name': ['Anna', np.nan, 'Ivan']\n",
    "})\n",
    "\n",
    "# Проверяем пропуски\n",
    "print(df.isna())"
   ]
  },
  {
   "cell_type": "markdown",
   "id": "0a8442d6-a887-4e20-8f24-78faee5a9952",
   "metadata": {},
   "source": [
    "Обработка пропусков  \n",
    "Удаление: `df.dropna()`  \n",
    "Заполнение: `df.fillna(0)` (заполнить нулями) или `df.fillna(df.mean())` (заполнить средним)"
   ]
  },
  {
   "cell_type": "markdown",
   "id": "b852838d-9e63-4111-acc9-919504e28713",
   "metadata": {},
   "source": [
    "## 6.8. Какую версию pandas использовать?"
   ]
  },
  {
   "cell_type": "code",
   "execution_count": 9,
   "id": "9a718a69-c82b-4ddb-9567-b8c5d1351217",
   "metadata": {},
   "outputs": [
    {
     "data": {
      "text/plain": [
       "'2.3.0'"
      ]
     },
     "execution_count": 9,
     "metadata": {},
     "output_type": "execute_result"
    }
   ],
   "source": [
    "# смотрим версию\n",
    "pd.__version__"
   ]
  },
  {
   "cell_type": "markdown",
   "id": "deb7941b-e28c-4546-8ea6-90865fb1fca4",
   "metadata": {},
   "source": [
    "## 6.9. Подробно знакомимся с типами данных"
   ]
  },
  {
   "cell_type": "markdown",
   "id": "a273417e-fa0b-4f0c-9d6e-72e3f34567e7",
   "metadata": {},
   "source": [
    "метод .astype() для изменения типов данных"
   ]
  },
  {
   "cell_type": "markdown",
   "id": "75ce8821-b93d-47a5-827d-622d1eb95d38",
   "metadata": {},
   "source": [
    "### 6.9.1. Типы данных для работы с числами и логическими значениями"
   ]
  },
  {
   "cell_type": "markdown",
   "id": "7f23a837-1136-4de7-aac6-a725a73df7d1",
   "metadata": {},
   "source": [
    "#### 6.9.1.1. Тип данных integer (тип для целых чисел, целочисленный тип), 'int64' или 'int32'"
   ]
  },
  {
   "cell_type": "markdown",
   "id": "c88a4562-5d50-4c02-8c1a-2b189b4c67e7",
   "metadata": {},
   "source": [
    "Целочисленные типы (int) в pandas и NumPy позволяют хранить целые числа с разным диапазоном значений и разным потреблением памяти.\n",
    "|Тип|Размер (биты)|Диапазон значений|Память|\n",
    "|-|-|-|-|\n",
    "|`int8`|8|от -128 до 127|⚡️ Очень мало|\n",
    "|`int16`|16|от -32768 до 32767|💾 Мало|\n",
    "|`int32`|32|от -2.1e9 до 2.1e9|✅ Стандарт|\n",
    "|`int64`|64|от -9.2e18 до 9.2e18|🐌 Много|"
   ]
  },
  {
   "cell_type": "markdown",
   "id": "a1512cdc-91d1-4326-9a39-5786395c541d",
   "metadata": {},
   "source": [
    "Tип по умолчанию, pandas выбирает  \n",
    "- Linux/macOS (64-bit): int64\n",
    "- Windows (64-bit): int32\n",
    "- 32-битные системы: int32"
   ]
  },
  {
   "cell_type": "code",
   "execution_count": 10,
   "id": "ad0a04e5-7ffc-401e-968c-69e480d9b917",
   "metadata": {},
   "outputs": [
    {
     "name": "stdout",
     "output_type": "stream",
     "text": [
      "int64\n"
     ]
    }
   ],
   "source": [
    "import pandas as pd\n",
    "\n",
    "# Создаем серию из целых чисел\n",
    "s = pd.Series([10, 35, 130])\n",
    "print(s.dtypes)"
   ]
  },
  {
   "cell_type": "code",
   "execution_count": 11,
   "id": "e4578c2d-6611-49fe-ab85-56e638e0716b",
   "metadata": {},
   "outputs": [
    {
     "name": "stdout",
     "output_type": "stream",
     "text": [
      "Machine parameters for int8\n",
      "---------------------------------------------------------------\n",
      "min = -128\n",
      "max = 127\n",
      "---------------------------------------------------------------\n",
      "\n",
      "Machine parameters for int64\n",
      "---------------------------------------------------------------\n",
      "min = -9223372036854775808\n",
      "max = 9223372036854775807\n",
      "---------------------------------------------------------------\n",
      "\n"
     ]
    }
   ],
   "source": [
    "# проверить диапазон типа\n",
    "\n",
    "import numpy as np\n",
    "\n",
    "# Диапазон для int8\n",
    "print(np.iinfo('int8'))\n",
    "# Вывод: min=-128, max=127\n",
    "\n",
    "# Диапазон для int64\n",
    "print(np.iinfo('int64'))\n",
    "# Вывод: min=-9223372036854775808, max=9223372036854775807"
   ]
  },
  {
   "cell_type": "markdown",
   "id": "0f4dcfcd-03b8-43ae-ab7b-850b986ad85a",
   "metadata": {},
   "source": [
    "Зачем нужно явно указывать типы?\n",
    "- Экономия памяти: Если числа маленькие, используйте int8 или int16.\n",
    "- Совместимость: Некоторые библиотеки требуют конкретных типов.\n",
    "- Безопасность: Избегайте переполнений."
   ]
  },
  {
   "cell_type": "markdown",
   "id": "a8329149-491b-4a5b-a7db-613041f1da6d",
   "metadata": {},
   "source": [
    "#### 6.9.1.2. Тип данных unsigned integer (тип для целых чисел без знака), 'uint64' или 'uint32'"
   ]
  },
  {
   "cell_type": "markdown",
   "id": "f1b89f48-61bc-4a05-9205-73970bd7947f",
   "metadata": {},
   "source": [
    "Целые числа без знака (unsigned integer) — это специальные типы данных, которые могут хранить только неотрицательные целые числа (т.е. от 0 и выше). Они полезны для экономии памяти, когда вам точно не нужны отрицательные значения.\n",
    "|Тип|Размер (биты)|Диапазон значений|Память|\n",
    "|-|-|-|-|\n",
    "|`uint8`|8|от 0 до 255|⚡️ Очень мало|\n",
    "|`uint16`|16|от 0 до 65535|💾 Мало|\n",
    "|`uint32`|32|от 0 до 4.3e9|✅ Стандарт|\n",
    "|`uint64`|64|от 0 до 1.8e19|🐌 Много|"
   ]
  },
  {
   "cell_type": "code",
   "execution_count": 4,
   "id": "6132bd16-5d8a-4fbb-afe7-ea4721569086",
   "metadata": {},
   "outputs": [
    {
     "name": "stdout",
     "output_type": "stream",
     "text": [
      "0     10\n",
      "1     35\n",
      "2    130\n",
      "dtype: uint8\n"
     ]
    }
   ],
   "source": [
    "import pandas as pd\n",
    "import numpy as np\n",
    "\n",
    "# Создаем серию с целыми числами\n",
    "s_int = pd.Series([10, 35, 130])\n",
    "\n",
    "# Преобразуем в uint8\n",
    "s_uint8 = s_int.astype('uint8')\n",
    "print(s_uint8)"
   ]
  },
  {
   "cell_type": "code",
   "execution_count": 13,
   "id": "1352c9aa-6a9c-416f-b913-9e3f39f8ca91",
   "metadata": {},
   "outputs": [
    {
     "name": "stdout",
     "output_type": "stream",
     "text": [
      "Machine parameters for uint8\n",
      "---------------------------------------------------------------\n",
      "min = 0\n",
      "max = 255\n",
      "---------------------------------------------------------------\n",
      "\n",
      "Machine parameters for uint64\n",
      "---------------------------------------------------------------\n",
      "min = 0\n",
      "max = 18446744073709551615\n",
      "---------------------------------------------------------------\n",
      "\n"
     ]
    }
   ],
   "source": [
    "# проверить диапазон типа\n",
    "\n",
    "# Диапазон для uint8\n",
    "print(np.iinfo('uint8'))\n",
    "# Вывод: min=0, max=255\n",
    "\n",
    "# Диапазон для uint64\n",
    "print(np.iinfo('uint64'))\n",
    "# Вывод: min=0, max=18446744073709551615"
   ]
  },
  {
   "cell_type": "markdown",
   "id": "35b69f03-7912-49d7-aee2-7ca37237416c",
   "metadata": {},
   "source": [
    "Зачем использовать uint?\n",
    "- Экономия памяти: uint8 занимает в 8 раз меньше памяти, чем int64.\n",
    "- Удобство для определенных данных: Например, возраст, количество items, пиксели изображений (всегда ≥ 0)."
   ]
  },
  {
   "cell_type": "markdown",
   "id": "fcec9e39-463a-475f-8b30-9b42f4dbd02b",
   "metadata": {},
   "source": [
    "#### 6.9.1.3. Тип данных nullable integer (тип для целых чисел, допускающий значения NULL), 'Int64'"
   ]
  },
  {
   "cell_type": "markdown",
   "id": "bef64e77-d80e-4d5e-919c-6eae1af2c4dc",
   "metadata": {},
   "source": [
    "Nullable integer — это специальный тип данных в pandas, который позволяет хранить целые числа вместе с пропусками (NULL значениями). Он был введен, чтобы решить проблему, когда обычные целочисленные типы (int64, int32 и др.) не поддерживают пропуски.\n",
    "\n",
    "Обычные целочисленные типы в pandas/NumPy не поддерживают пропуски. Если попытаться добавить NaN в такой столбец, pandas автоматически преобразует его во float:"
   ]
  },
  {
   "cell_type": "code",
   "execution_count": 14,
   "id": "38430e7b-fb04-4cad-a155-4544bb3e322b",
   "metadata": {},
   "outputs": [
    {
     "name": "stdout",
     "output_type": "stream",
     "text": [
      "0      10\n",
      "1      35\n",
      "2     130\n",
      "3    <NA>\n",
      "dtype: Int64\n"
     ]
    }
   ],
   "source": [
    "# Создаем серию с типом Int64\n",
    "s_nullable = pd.Series([10, 35, 130, np.nan], dtype='Int64')\n",
    "print(s_nullable)"
   ]
  },
  {
   "cell_type": "markdown",
   "id": "8438b762-e8d4-4e82-bf7b-c87f7a409cd0",
   "metadata": {},
   "source": [
    "Особенности Int64\n",
    "- Обозначение пропуска: `<NA>` (вместо `NaN`)\n",
    "- Синтаксис: `'Int8'`, `'Int16'`, `'Int32'`, `'Int64'` (с заглавной буквы!)\n",
    "- Безопасность: Проверяет диапазон значений и выдает ошибку при переполнении\n",
    "- Только в pandas: В NumPy такого типа нет"
   ]
  },
  {
   "cell_type": "code",
   "execution_count": 15,
   "id": "ce4ff09f-3d52-45d7-b18b-5083173d2252",
   "metadata": {},
   "outputs": [
    {
     "name": "stdout",
     "output_type": "stream",
     "text": [
      "Ошибка: cannot safely cast non-equivalent int64 to int8\n"
     ]
    }
   ],
   "source": [
    "# Пример с ошибкой переполнения\n",
    "\n",
    "# Попытка сохранить 130 в Int8 (диапазон: -128 до 127)\n",
    "try:\n",
    "    s_error = pd.Series([10, 35, 130], dtype='Int8')\n",
    "except Exception as e:\n",
    "    print(f\"Ошибка: {e}\")"
   ]
  },
  {
   "cell_type": "markdown",
   "id": "cdff3b87-c2f9-4ece-8efc-4d1e00fd43b8",
   "metadata": {},
   "source": [
    "#### 6.9.1.4. Тип данных nullable unsigned integer (тип для целых чисел без знака, допускающий значения NULL), 'UInt64'"
   ]
  },
  {
   "cell_type": "code",
   "execution_count": 2,
   "id": "86e36565-7b72-4449-a595-59b008fd34f3",
   "metadata": {},
   "outputs": [
    {
     "data": {
      "text/plain": [
       "0      10\n",
       "1      35\n",
       "2     130\n",
       "3    <NA>\n",
       "dtype: UInt8"
      ]
     },
     "execution_count": 2,
     "metadata": {},
     "output_type": "execute_result"
    }
   ],
   "source": [
    "# Создаем серию с типом UInt64\n",
    "pd.Series([10, 35, 130, pd.NA], dtype='UInt8')"
   ]
  },
  {
   "cell_type": "markdown",
   "id": "3b2381dd-7020-4de4-a11a-fd24ddae73f8",
   "metadata": {},
   "source": [
    "#### 6.9.1.5. Тип данных float (тип для чисел с плавающей точкой), 'float64' или 'float32'"
   ]
  },
  {
   "cell_type": "markdown",
   "id": "4b08cd21-4213-4f92-aaa6-f36af052d25f",
   "metadata": {},
   "source": [
    "Типы float используются для хранения дробных чисел (чисел с плавающей точкой). Они поддерживают пропуски значений и имеют разную точность в зависимости от размера.\n",
    "|Тип|Размер (биты)|Точность|Диапазон|Память|\n",
    "|-|-|-|-|-|\n",
    "|`float16`|16|~3 знака|±6.55×10⁴|⚡️ Мало|\n",
    "|`float32`|32|~6 знаков|±3.40×10³⁸|💾 Средне|\n",
    "|`float64`|\t64|~15 знаков|±1.80×10³⁰⁸|✅ Стандарт|"
   ]
  },
  {
   "cell_type": "code",
   "execution_count": 5,
   "id": "60b05a2f-0ec8-4429-854c-636b8f82be58",
   "metadata": {},
   "outputs": [
    {
     "name": "stdout",
     "output_type": "stream",
     "text": [
      "0       5.26000\n",
      "1    1234.56789\n",
      "2           NaN\n",
      "dtype: float64\n"
     ]
    }
   ],
   "source": [
    "# Создаем серию с дробными числами и пропуском\n",
    "s_float = pd.Series([5.26, 1234.56789, np.nan])\n",
    "print(s_float)"
   ]
  },
  {
   "cell_type": "code",
   "execution_count": 7,
   "id": "1553a8c8-1420-4c92-87ff-4a07519d20a3",
   "metadata": {},
   "outputs": [
    {
     "name": "stdout",
     "output_type": "stream",
     "text": [
      "Machine parameters for float32\n",
      "---------------------------------------------------------------\n",
      "precision =   6   resolution = 1.0000000e-06\n",
      "machep =    -23   eps =        1.1920929e-07\n",
      "negep =     -24   epsneg =     5.9604645e-08\n",
      "minexp =   -126   tiny =       1.1754944e-38\n",
      "maxexp =    128   max =        3.4028235e+38\n",
      "nexp =        8   min =        -max\n",
      "smallest_normal = 1.1754944e-38   smallest_subnormal = 1.4012985e-45\n",
      "---------------------------------------------------------------\n",
      "\n",
      "Machine parameters for float16\n",
      "---------------------------------------------------------------\n",
      "precision =   3   resolution = 1.00040e-03\n",
      "machep =    -10   eps =        9.76562e-04\n",
      "negep =     -11   epsneg =     4.88281e-04\n",
      "minexp =    -14   tiny =       6.10352e-05\n",
      "maxexp =     16   max =        6.55040e+04\n",
      "nexp =        5   min =        -max\n",
      "smallest_normal = 6.10352e-05   smallest_subnormal = 5.96046e-08\n",
      "---------------------------------------------------------------\n",
      "\n"
     ]
    }
   ],
   "source": [
    "# Проверка характеристик типов\n",
    "# Для float32\n",
    "print(np.finfo('float32'))\n",
    "\n",
    "# Для float16\n",
    "print(np.finfo('float16'))"
   ]
  },
  {
   "cell_type": "markdown",
   "id": "75ad5b12-b05f-4998-afc0-331690077865",
   "metadata": {},
   "source": [
    "#### 6.9.1.6. Тип данных nullable float (тип для чисел с плавающей точкой, допускающий значения NULL), 'Float64'"
   ]
  },
  {
   "cell_type": "code",
   "execution_count": 8,
   "id": "1a07fd08-fe8c-41e2-821c-03121c8ef64c",
   "metadata": {},
   "outputs": [
    {
     "data": {
      "text/plain": [
       "0          5.26\n",
       "1    1234.56789\n",
       "2          <NA>\n",
       "dtype: Float64"
      ]
     },
     "execution_count": 8,
     "metadata": {},
     "output_type": "execute_result"
    }
   ],
   "source": [
    "# преобразовываем из типа float\n",
    "# в тип nullable float (Float64)\n",
    "nullable_float = s_float.astype('Float64')\n",
    "nullable_float"
   ]
  },
  {
   "cell_type": "markdown",
   "id": "aa42aab4-83c3-489d-a222-87f9da3df8c8",
   "metadata": {},
   "source": [
    "#### 6.9.1.7. Тип данных boolean (логический тип, булев тип), 'bool'"
   ]
  },
  {
   "cell_type": "code",
   "execution_count": null,
   "id": "87afc87c-fa0f-47d8-84bd-274ad80e1e56",
   "metadata": {},
   "outputs": [],
   "source": []
  }
 ],
 "metadata": {
  "kernelspec": {
   "display_name": "Python 3 (ipykernel)",
   "language": "python",
   "name": "python3"
  },
  "language_info": {
   "codemirror_mode": {
    "name": "ipython",
    "version": 3
   },
   "file_extension": ".py",
   "mimetype": "text/x-python",
   "name": "python",
   "nbconvert_exporter": "python",
   "pygments_lexer": "ipython3",
   "version": "3.11.9"
  }
 },
 "nbformat": 4,
 "nbformat_minor": 5
}
