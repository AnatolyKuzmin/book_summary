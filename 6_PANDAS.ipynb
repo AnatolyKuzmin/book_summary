{
 "cells": [
  {
   "cell_type": "markdown",
   "id": "55b7d567-b363-4e9e-b731-1c55767e8c3d",
   "metadata": {},
   "source": [
    "# 6. Pandas"
   ]
  },
  {
   "cell_type": "markdown",
   "id": "db4e11ab-c019-4736-acd7-c78e7517b112",
   "metadata": {},
   "source": [
    "## 6.1. Почему pandas?"
   ]
  },
  {
   "cell_type": "markdown",
   "id": "f7a4ef6d-b32c-411e-a37a-1968178e6f95",
   "metadata": {},
   "source": [
    "pandas – одна из самых популярных библиотек для исследования данных с открытым исходным кодом, доступных в настоящее время. Она дает своим пользователям возможность исследовать, манипулировать, запрашивать, агрегировать и визуализировать табличные данные. Табличные данные относятся к двумерным данным, состоящим из строк и столбцов. Обычно мы называем такую организованную структуру данных таблицей. pandas – это инструмент, который мы будем использовать для анализа данных почти в каждом разделе этой книги."
   ]
  },
  {
   "cell_type": "markdown",
   "id": "549a30da-f51c-4e82-8814-b802f6cd79b6",
   "metadata": {},
   "source": [
    "## 6.2. Библиотека pandas построена на NumPy"
   ]
  },
  {
   "cell_type": "markdown",
   "id": "fbcff38c-db32-4a07-8cb9-d5418c7fe3db",
   "metadata": {},
   "source": [
    "Pandas построена на основе NumPy — это значит, что \"под капотом\" все данные в pandas хранятся в виде массивов NumPy. Можно думать об этом так:\n",
    "- NumPy — это низкоуровневый инструмент для работы с числами и массивами. Он быстрый, но требует больше кода для сложных операций.\n",
    "- Pandas — это высокоуровневая надстройка над NumPy, которая добавляет удобные структуры данных (как DataFrame и Series) и множество функций для анализа."
   ]
  },
  {
   "cell_type": "markdown",
   "id": "9d653ee2-4ea9-4642-bd22-f1e136137ac4",
   "metadata": {},
   "source": [
    "Пример: Разница в скорости  \n",
    "Допустим, нужно вычислить сумму квадратов чисел."
   ]
  },
  {
   "cell_type": "code",
   "execution_count": 1,
   "id": "70164c69-5a02-41da-82fe-8a15ab51142e",
   "metadata": {},
   "outputs": [
    {
     "name": "stdout",
     "output_type": "stream",
     "text": [
      "CPU times: total: 78.1 ms\n",
      "Wall time: 507 ms\n"
     ]
    }
   ],
   "source": [
    "%%time\n",
    "import pandas as pd\n",
    "data = pd.Series([1, 2, 3, 4, 5])\n",
    "result = (data ** 2).sum()  # Медленнее из-за накладных расходов"
   ]
  },
  {
   "cell_type": "code",
   "execution_count": 2,
   "id": "a09b2ad3-07ee-4874-8c5b-cf64071074ef",
   "metadata": {},
   "outputs": [
    {
     "name": "stdout",
     "output_type": "stream",
     "text": [
      "CPU times: total: 0 ns\n",
      "Wall time: 0 ns\n"
     ]
    }
   ],
   "source": [
    "%%time\n",
    "import numpy as np\n",
    "data = np.array([1, 2, 3, 4, 5])\n",
    "result = np.sum(data ** 2)  # Быстрее, так как работаем напрямую с массивами"
   ]
  },
  {
   "cell_type": "markdown",
   "id": "b25bda58-5749-49c5-8ee1-89827d36b7d5",
   "metadata": {},
   "source": [
    "## 6.3. pandas работает с табличными данными"
   ]
  },
  {
   "cell_type": "markdown",
   "id": "37d2263b-b740-4943-b2c0-5c574ac31a5d",
   "metadata": {},
   "source": [
    "Pandas — это библиотека, специально созданная для работы с табличными данными (двумерными структурами, похожими на таблицы в Excel).  \n",
    "Pandas умеет читать данные из множества форматов и преобразовывать их в таблицу (DataFrame):\n",
    "- CSV → `pd.read_csv()`\n",
    "- JSON → `pd.read_json()`\n",
    "- Excel → `pd.read_excel()`\n",
    "- Parquet → `pd.read_parquet()`\n",
    "- XML, текстовые файлы и другие.\n",
    "```python\n",
    "import pandas as pd\n",
    "# Чтение CSV-файла\n",
    "data = pd.read_csv('data.csv')\n",
    "# Чтение JSON-файла\n",
    "data = pd.read_json('data.json')\n",
    "```"
   ]
  },
  {
   "cell_type": "markdown",
   "id": "01d0f5f8-e911-44dc-b371-b9c45ff5d655",
   "metadata": {},
   "source": [
    "## 6.4. Объекты DataFrame и Series"
   ]
  },
  {
   "cell_type": "markdown",
   "id": "32eed091-b666-40b4-960f-58413290af76",
   "metadata": {},
   "source": [
    "**Series (Серия)** Одномерный массив данных — как один столбец в таблице. Аналогия: Столбец в Excel.\n",
    "\n",
    "Особенности:\n",
    "- Имеет индекс (номера строк, начиная с 0).\n",
    "- Может содержать данные любого типа (числа, строки, даты).\n",
    "\n",
    "**DataFrame (Датафрейм)** Двумерная таблица с строками и столбцами — как весь лист Excel.  Аналогия: Целая таблица в Excel.\n",
    "\n",
    "Особенности:\n",
    "- Каждый столбец — это объект Series.\n",
    "- Столбцы могут быть разных типов (числа, строки, даты).\n",
    "- Есть индекс (номера строк) и названия столбцов.\n",
    "\n",
    "axis=0 — операции по строкам (вертикально). Например: df.mean(axis=0) вычислит среднее для каждого столбца.  \n",
    "axis=1 — операции по столбцам (горизонтально). Например: df.mean(axis=1) вычислит среднее для каждой строки."
   ]
  },
  {
   "cell_type": "code",
   "execution_count": 3,
   "id": "a71d558e-ba1c-47ff-8100-6a12a42998bf",
   "metadata": {},
   "outputs": [
    {
     "name": "stdout",
     "output_type": "stream",
     "text": [
      "Empl    15.0\n",
      "Age     35.0\n",
      "dtype: float64\n",
      "\n",
      "0    20.0\n",
      "1    30.0\n",
      "dtype: float64\n",
      "\n"
     ]
    },
    {
     "data": {
      "text/html": [
       "<div>\n",
       "<style scoped>\n",
       "    .dataframe tbody tr th:only-of-type {\n",
       "        vertical-align: middle;\n",
       "    }\n",
       "\n",
       "    .dataframe tbody tr th {\n",
       "        vertical-align: top;\n",
       "    }\n",
       "\n",
       "    .dataframe thead th {\n",
       "        text-align: right;\n",
       "    }\n",
       "</style>\n",
       "<table border=\"1\" class=\"dataframe\">\n",
       "  <thead>\n",
       "    <tr style=\"text-align: right;\">\n",
       "      <th></th>\n",
       "      <th>Empl</th>\n",
       "      <th>Age</th>\n",
       "    </tr>\n",
       "  </thead>\n",
       "  <tbody>\n",
       "    <tr>\n",
       "      <th>0</th>\n",
       "      <td>10</td>\n",
       "      <td>30</td>\n",
       "    </tr>\n",
       "    <tr>\n",
       "      <th>1</th>\n",
       "      <td>20</td>\n",
       "      <td>40</td>\n",
       "    </tr>\n",
       "  </tbody>\n",
       "</table>\n",
       "</div>"
      ],
      "text/plain": [
       "   Empl  Age\n",
       "0    10   30\n",
       "1    20   40"
      ]
     },
     "metadata": {},
     "output_type": "display_data"
    }
   ],
   "source": [
    "import pandas as pd\n",
    "\n",
    "df = pd.DataFrame({\n",
    "    'Empl': [10, 20],  # Столбец \"Empl\"\n",
    "    'Age': [30, 40]     # Столбец \"Age\"\n",
    "})\n",
    "\n",
    "# Среднее по столбцам (axis=0)\n",
    "print(df.mean(axis=0))\n",
    "print()\n",
    "\n",
    "# Среднее по строкам (axis=1)\n",
    "print(df.mean(axis=1))\n",
    "print()\n",
    "\n",
    "display(df)"
   ]
  },
  {
   "cell_type": "markdown",
   "id": "1a947eb3-0635-4fbc-9f01-8d7b9dc9f2c0",
   "metadata": {},
   "source": [
    "🚀"
   ]
  },
  {
   "cell_type": "markdown",
   "id": "d243d0fa-325e-43de-a739-5f6ce3577701",
   "metadata": {},
   "source": [
    "## 6.5. Задачи, выполняемые pandas"
   ]
  },
  {
   "cell_type": "markdown",
   "id": "7d5db755-a258-49b1-8b27-b6b07802ff83",
   "metadata": {},
   "source": [
    "1. Чтение данных 📂  \n",
    "Pandas умеет загружать данные из разных форматов:\n",
    "- CSV: `pd.read_csv('file.csv')`\n",
    "- Excel: `pd.read_excel('file.xlsx')`\n",
    "- JSON: `pd.read_json('file.json')`\n",
    "- Базы данных: `pd.read_sql('SELECT * FROM table', connection)`\n",
    "\n",
    "Пример:\n",
    "```python\n",
    "import pandas as pd\n",
    "data = pd.read_csv('data.csv')  # Загружаем данные из CSV\n",
    "```\n",
    "2. Доступ к строкам и столбцам 🔍  \n",
    "Можно легко выбирать нужные части данных:\n",
    "- Столбцы: `data['column_name']` или `data.column_name`\n",
    "- Строки: `data.loc[0]` (по индексу) или `data.iloc[0]` (по номеру)\n",
    "- Ячейки: `data.at[0, 'column_name']`\n",
    "\n",
    "Пример:\n",
    "```python\n",
    "# Выберем столбец \"Age\"\n",
    "ages = data['Age']\n",
    "\n",
    "# Первая строка\n",
    "first_row = data.loc[0]\n",
    "```\n",
    "3. Фильтрация данных 🔎  \n",
    "Отбор данных по условиям:\n",
    "- Простой фильтр: `data[data['Age'] > 30]`\n",
    "- Несколько условий: `data[(data['Age'] > 30) & (data['City'] == 'Moscow')]`\n",
    "\n",
    "Пример:\n",
    "```python\n",
    "# Все клиенты старше 30 лет\n",
    "adults = data[data['Age'] > 30]\n",
    "```\n",
    "4. Агрегация данных 📊  \n",
    "Сводные вычисления:\n",
    "- Группировка: `data.groupby('City')['Age'].mean()` — средний возраст по городам\n",
    "- Сводные таблицы: `pd.pivot_table(data, values='Sales', index='Region')`\n",
    "\n",
    "Пример:\n",
    "```python\n",
    "# Средний доход по профессиям\n",
    "income_by_job = data.groupby('Job')['Income'].mean()\n",
    "```\n",
    "5. Чистка данных 🧹  \n",
    "Приведение данных в порядок:\n",
    "- Пропуски: `data.dropna()` (удалить пустые) или `data.fillna(0)` (заполнить нулями)\n",
    "- Дубликаты: `data.drop_duplicates()`\n",
    "- Изменение типов: `data['Column'] = data['Column'].astype(int)`\n",
    "\n",
    "Пример:\n",
    "```python\n",
    "# Заполним пропуски в возрасте медианным значением\n",
    "median_age = data['Age'].median()\n",
    "data['Age'] = data['Age'].fillna(median_age)\n",
    "```\n",
    "6. Изменение формы данных 🔄  \n",
    "Реструктуризация данных:\n",
    "- Добавление столбцов: `data['New_Column'] = data['A'] + data['B']`\n",
    "- Переименование: `data.rename(columns={'Old_Name': 'New_Name'})`\n",
    "- Слияние таблиц: `pd.merge(data1, data2, on='key')`\n",
    "\n",
    "Пример:\n",
    "```python\n",
    "# Создадим новый столбец\n",
    "data['Full_Name'] = data['First_Name'] + ' ' + data['Last_Name']\n",
    "```\n",
    "7. Анализ временных рядов 📅  \n",
    "Работа с датами и временем:\n",
    "- Преобразование дат: `data['Date'] = pd.to_datetime(data['Date'])`\n",
    "- Временные группировки: `data.resample('M')['Sales'].sum()` — продажи по месяцам\n",
    "\n",
    "Пример:\n",
    "```python\n",
    "# Преобразуем строку в дату\n",
    "data['Date'] = pd.to_datetime(data['Date'])\n",
    "\n",
    "# Продажи по месяцам\n",
    "monthly_sales = data.resample('M', on='Date')['Sales'].sum()\n",
    "```\n",
    "8. Визуализация данных 📈  \n",
    "Pandas интегрирован с библиотеками визуализации:\n",
    "- Графики: `data.plot()`, `data.hist()`\n",
    "- Интеграция с Matplotlib/Seaborn\n",
    "\n",
    "Пример:\n",
    "```python\n",
    "import matplotlib.pyplot as plt\n",
    "data['Sales'].plot(kind='bar')\n",
    "plt.show()\n",
    "```"
   ]
  },
  {
   "cell_type": "markdown",
   "id": "c4d691c3-ac01-4682-a080-436fcd17b4f1",
   "metadata": {},
   "source": [
    "## 6.6. Кратко о типах данных"
   ]
  },
  {
   "cell_type": "markdown",
   "id": "72b1983f-49ac-46bc-9a20-d03239b0cce2",
   "metadata": {},
   "source": [
    "**Основные типы данных**\n",
    "|Тип данных|Описание|Пример|\n",
    "|-|-|-|\n",
    "|boolean|Логические значения|True, False|\n",
    "|integer|Целые числа|10, -5, 0|\n",
    "|float|Числа с плавающей точкой (дробные)|3.14, -0.5|\n",
    "|object|Чаще всего строки, но может быть любой объект Python|\"Текст\", `[1, 2, 3]`|\n",
    "|datetime|Дата и время|2023-01-15 14:30:00|"
   ]
  },
  {
   "cell_type": "markdown",
   "id": "847af0e4-2ac1-42cb-86c5-556c39a01b01",
   "metadata": {},
   "source": [
    "Проверить типы"
   ]
  },
  {
   "cell_type": "code",
   "execution_count": 4,
   "id": "2153d68d-6ee4-4bc1-bbbd-f2f84f6973da",
   "metadata": {},
   "outputs": [
    {
     "name": "stdout",
     "output_type": "stream",
     "text": [
      "Age         int64\n",
      "Salary    float64\n",
      "Name       object\n",
      "dtype: object\n"
     ]
    }
   ],
   "source": [
    "import pandas as pd\n",
    "\n",
    "# Создаем датафрейм\n",
    "df = pd.DataFrame({\n",
    "    'Age': [25, 30],          # int\n",
    "    'Salary': [50000.0, 60000.0],  # float\n",
    "    'Name': ['Anna', 'Ivan']  # object (строка)\n",
    "})\n",
    "\n",
    "# Смотрим типы данных\n",
    "print(df.dtypes)"
   ]
  },
  {
   "cell_type": "markdown",
   "id": "e286c764-637b-4d98-8498-e3c6586391bb",
   "metadata": {},
   "source": [
    "Изменить тип"
   ]
  },
  {
   "cell_type": "code",
   "execution_count": 5,
   "id": "8e5e5689-9053-4faf-a34e-8037fc329ebc",
   "metadata": {},
   "outputs": [],
   "source": [
    "# Преобразуем столбец в другой тип\n",
    "df['Age'] = df['Age'].astype(float)  # Теперь float\n",
    "df['Name'] = df['Name'].astype('string')  # Экспериментальный строковый тип"
   ]
  },
  {
   "cell_type": "code",
   "execution_count": 6,
   "id": "e3a9bdf7-8ec0-42f0-aba0-b6ba6201ae84",
   "metadata": {},
   "outputs": [
    {
     "name": "stdout",
     "output_type": "stream",
     "text": [
      "<class 'pandas.core.frame.DataFrame'>\n",
      "RangeIndex: 2 entries, 0 to 1\n",
      "Data columns (total 3 columns):\n",
      " #   Column  Non-Null Count  Dtype  \n",
      "---  ------  --------------  -----  \n",
      " 0   Age     2 non-null      float64\n",
      " 1   Salary  2 non-null      float64\n",
      " 2   Name    2 non-null      string \n",
      "dtypes: float64(2), string(1)\n",
      "memory usage: 180.0 bytes\n"
     ]
    }
   ],
   "source": [
    "df.info()"
   ]
  },
  {
   "cell_type": "markdown",
   "id": "a4a0e8f0-645e-4d25-b516-0863adee122a",
   "metadata": {},
   "source": [
    "## 6.7. Представление пропусков"
   ]
  },
  {
   "cell_type": "markdown",
   "id": "b638cc40-abd1-471a-abe9-b0a61a52e110",
   "metadata": {},
   "source": [
    "Пропуски (missing values) — это отсутствующие данные в таблицах. Pandas использует специальные значения для их обозначения.\n",
    "\n",
    "**Основные представления пропусков**\n",
    "|Тип данных|Обозначение пропуска|Пример|\n",
    "|-|-|-|\n",
    "|Числа (float)|NaN (Not a Number)|3.14, NaN|\n",
    "|Даты (datetime)|NaT (Not a Time)|2023-01-01, NaT|\n",
    "|Строки (object)|NaN|\"Текст\", NaN|\n",
    "|Целые числа (int)|❌ Не поддерживается|—|\n",
    "|Логические (bool)|❌ Не поддерживается|—|\n",
    "\n",
    "Если попытаться добавить пропуск в столбец с целыми числами (int) или логическими значениями (bool), pandas автоматически преобразует весь столбец в тип float (чтобы можно было использовать NaN)."
   ]
  },
  {
   "cell_type": "code",
   "execution_count": 7,
   "id": "20b38c8f-ec59-4d9d-b22f-6e8be0aa2895",
   "metadata": {},
   "outputs": [
    {
     "name": "stdout",
     "output_type": "stream",
     "text": [
      "Age    float64\n",
      "dtype: object\n"
     ]
    }
   ],
   "source": [
    "import pandas as pd\n",
    "import numpy as np\n",
    "\n",
    "df = pd.DataFrame({'Age': [25, 30]})  # Тип: int64\n",
    "df.loc[2] = np.nan  # Добавляем пропуск\n",
    "print(df.dtypes)  # Теперь тип: float64!"
   ]
  },
  {
   "cell_type": "markdown",
   "id": "6668d520-e463-4937-a201-374aaeac9360",
   "metadata": {},
   "source": [
    "**Новые типы данных в pandas 1.0+**\n",
    "|Новый тип|Описание|Пример|\n",
    "|-|-|-|\n",
    "|Int64|Целые числа с пропусками|25, NaN|\n",
    "|boolean|Логические значения с пропусками|True, NaN|\n",
    "|string|Строки с пропусками|\"Текст\", NaN|"
   ]
  },
  {
   "cell_type": "markdown",
   "id": "aad878ab-628d-4cbe-8bb6-bacc5fa762b5",
   "metadata": {},
   "source": [
    "Проверить пропуски"
   ]
  },
  {
   "cell_type": "code",
   "execution_count": 8,
   "id": "15c8e6ff-d8f7-432a-9970-2810dd730607",
   "metadata": {},
   "outputs": [
    {
     "name": "stdout",
     "output_type": "stream",
     "text": [
      "     Age   Name\n",
      "0  False  False\n",
      "1   True   True\n",
      "2  False  False\n"
     ]
    }
   ],
   "source": [
    "# Создаем датафрейм с пропусками\n",
    "df = pd.DataFrame({\n",
    "    'Age': [25, np.nan, 30],\n",
    "    'Name': ['Anna', np.nan, 'Ivan']\n",
    "})\n",
    "\n",
    "# Проверяем пропуски\n",
    "print(df.isna())"
   ]
  },
  {
   "cell_type": "markdown",
   "id": "0a8442d6-a887-4e20-8f24-78faee5a9952",
   "metadata": {},
   "source": [
    "Обработка пропусков  \n",
    "Удаление: `df.dropna()`  \n",
    "Заполнение: `df.fillna(0)` (заполнить нулями) или `df.fillna(df.mean())` (заполнить средним)"
   ]
  },
  {
   "cell_type": "markdown",
   "id": "b852838d-9e63-4111-acc9-919504e28713",
   "metadata": {},
   "source": [
    "## 6.8. Какую версию pandas использовать?"
   ]
  },
  {
   "cell_type": "code",
   "execution_count": 9,
   "id": "9a718a69-c82b-4ddb-9567-b8c5d1351217",
   "metadata": {},
   "outputs": [
    {
     "data": {
      "text/plain": [
       "'2.3.0'"
      ]
     },
     "execution_count": 9,
     "metadata": {},
     "output_type": "execute_result"
    }
   ],
   "source": [
    "# смотрим версию\n",
    "pd.__version__"
   ]
  },
  {
   "cell_type": "markdown",
   "id": "deb7941b-e28c-4546-8ea6-90865fb1fca4",
   "metadata": {},
   "source": [
    "## 6.9. Подробно знакомимся с типами данных"
   ]
  },
  {
   "cell_type": "markdown",
   "id": "a273417e-fa0b-4f0c-9d6e-72e3f34567e7",
   "metadata": {},
   "source": [
    "метод .astype() для изменения типов данных"
   ]
  },
  {
   "cell_type": "markdown",
   "id": "75ce8821-b93d-47a5-827d-622d1eb95d38",
   "metadata": {},
   "source": [
    "### 6.9.1. Типы данных для работы с числами и логическими значениями"
   ]
  },
  {
   "cell_type": "markdown",
   "id": "7f23a837-1136-4de7-aac6-a725a73df7d1",
   "metadata": {},
   "source": [
    "#### 6.9.1.1. Тип данных integer (тип для целых чисел, целочисленный тип), 'int64' или 'int32'"
   ]
  },
  {
   "cell_type": "markdown",
   "id": "c88a4562-5d50-4c02-8c1a-2b189b4c67e7",
   "metadata": {},
   "source": [
    "Целочисленные типы (int) в pandas и NumPy позволяют хранить целые числа с разным диапазоном значений и разным потреблением памяти.\n",
    "|Тип|Размер (биты)|Диапазон значений|Память|\n",
    "|-|-|-|-|\n",
    "|`int8`|8|от -128 до 127|⚡️ Очень мало|\n",
    "|`int16`|16|от -32768 до 32767|💾 Мало|\n",
    "|`int32`|32|от -2.1e9 до 2.1e9|✅ Стандарт|\n",
    "|`int64`|64|от -9.2e18 до 9.2e18|🐌 Много|"
   ]
  },
  {
   "cell_type": "markdown",
   "id": "a1512cdc-91d1-4326-9a39-5786395c541d",
   "metadata": {},
   "source": [
    "Tип по умолчанию, pandas выбирает  \n",
    "- Linux/macOS (64-bit): int64\n",
    "- Windows (64-bit): int32\n",
    "- 32-битные системы: int32"
   ]
  },
  {
   "cell_type": "code",
   "execution_count": 10,
   "id": "ad0a04e5-7ffc-401e-968c-69e480d9b917",
   "metadata": {},
   "outputs": [
    {
     "name": "stdout",
     "output_type": "stream",
     "text": [
      "int64\n"
     ]
    }
   ],
   "source": [
    "import pandas as pd\n",
    "\n",
    "# Создаем серию из целых чисел\n",
    "s = pd.Series([10, 35, 130])\n",
    "print(s.dtypes)"
   ]
  },
  {
   "cell_type": "code",
   "execution_count": 11,
   "id": "e4578c2d-6611-49fe-ab85-56e638e0716b",
   "metadata": {},
   "outputs": [
    {
     "name": "stdout",
     "output_type": "stream",
     "text": [
      "Machine parameters for int8\n",
      "---------------------------------------------------------------\n",
      "min = -128\n",
      "max = 127\n",
      "---------------------------------------------------------------\n",
      "\n",
      "Machine parameters for int64\n",
      "---------------------------------------------------------------\n",
      "min = -9223372036854775808\n",
      "max = 9223372036854775807\n",
      "---------------------------------------------------------------\n",
      "\n"
     ]
    }
   ],
   "source": [
    "# проверить диапазон типа\n",
    "\n",
    "import numpy as np\n",
    "\n",
    "# Диапазон для int8\n",
    "print(np.iinfo('int8'))\n",
    "# Вывод: min=-128, max=127\n",
    "\n",
    "# Диапазон для int64\n",
    "print(np.iinfo('int64'))\n",
    "# Вывод: min=-9223372036854775808, max=9223372036854775807"
   ]
  },
  {
   "cell_type": "markdown",
   "id": "0f4dcfcd-03b8-43ae-ab7b-850b986ad85a",
   "metadata": {},
   "source": [
    "Зачем нужно явно указывать типы?\n",
    "- Экономия памяти: Если числа маленькие, используйте int8 или int16.\n",
    "- Совместимость: Некоторые библиотеки требуют конкретных типов.\n",
    "- Безопасность: Избегайте переполнений."
   ]
  },
  {
   "cell_type": "markdown",
   "id": "a8329149-491b-4a5b-a7db-613041f1da6d",
   "metadata": {},
   "source": [
    "#### 6.9.1.2. Тип данных unsigned integer (тип для целых чисел без знака), 'uint64' или 'uint32'"
   ]
  },
  {
   "cell_type": "markdown",
   "id": "f1b89f48-61bc-4a05-9205-73970bd7947f",
   "metadata": {},
   "source": [
    "Целые числа без знака (unsigned integer) — это специальные типы данных, которые могут хранить только неотрицательные целые числа (т.е. от 0 и выше). Они полезны для экономии памяти, когда вам точно не нужны отрицательные значения.\n",
    "|Тип|Размер (биты)|Диапазон значений|Память|\n",
    "|-|-|-|-|\n",
    "|`uint8`|8|от 0 до 255|⚡️ Очень мало|\n",
    "|`uint16`|16|от 0 до 65535|💾 Мало|\n",
    "|`uint32`|32|от 0 до 4.3e9|✅ Стандарт|\n",
    "|`uint64`|64|от 0 до 1.8e19|🐌 Много|"
   ]
  },
  {
   "cell_type": "code",
   "execution_count": 12,
   "id": "6132bd16-5d8a-4fbb-afe7-ea4721569086",
   "metadata": {},
   "outputs": [
    {
     "name": "stdout",
     "output_type": "stream",
     "text": [
      "0     10\n",
      "1     35\n",
      "2    130\n",
      "dtype: uint8\n"
     ]
    }
   ],
   "source": [
    "import pandas as pd\n",
    "import numpy as np\n",
    "\n",
    "# Создаем серию с целыми числами\n",
    "s_int = pd.Series([10, 35, 130])\n",
    "\n",
    "# Преобразуем в uint8\n",
    "s_uint8 = s_int.astype('uint8')\n",
    "print(s_uint8)"
   ]
  },
  {
   "cell_type": "code",
   "execution_count": 13,
   "id": "1352c9aa-6a9c-416f-b913-9e3f39f8ca91",
   "metadata": {},
   "outputs": [
    {
     "name": "stdout",
     "output_type": "stream",
     "text": [
      "Machine parameters for uint8\n",
      "---------------------------------------------------------------\n",
      "min = 0\n",
      "max = 255\n",
      "---------------------------------------------------------------\n",
      "\n",
      "Machine parameters for uint64\n",
      "---------------------------------------------------------------\n",
      "min = 0\n",
      "max = 18446744073709551615\n",
      "---------------------------------------------------------------\n",
      "\n"
     ]
    }
   ],
   "source": [
    "# проверить диапазон типа\n",
    "\n",
    "# Диапазон для uint8\n",
    "print(np.iinfo('uint8'))\n",
    "# Вывод: min=0, max=255\n",
    "\n",
    "# Диапазон для uint64\n",
    "print(np.iinfo('uint64'))\n",
    "# Вывод: min=0, max=18446744073709551615"
   ]
  },
  {
   "cell_type": "markdown",
   "id": "35b69f03-7912-49d7-aee2-7ca37237416c",
   "metadata": {},
   "source": [
    "Зачем использовать uint?\n",
    "- Экономия памяти: uint8 занимает в 8 раз меньше памяти, чем int64.\n",
    "- Удобство для определенных данных: Например, возраст, количество items, пиксели изображений (всегда ≥ 0)."
   ]
  },
  {
   "cell_type": "markdown",
   "id": "fcec9e39-463a-475f-8b30-9b42f4dbd02b",
   "metadata": {},
   "source": [
    "#### 6.9.1.3. Тип данных nullable integer (тип для целых чисел, допускающий значения NULL), 'Int64'"
   ]
  },
  {
   "cell_type": "markdown",
   "id": "bef64e77-d80e-4d5e-919c-6eae1af2c4dc",
   "metadata": {},
   "source": [
    "Nullable integer — это специальный тип данных в pandas, который позволяет хранить целые числа вместе с пропусками (NULL значениями). Он был введен, чтобы решить проблему, когда обычные целочисленные типы (int64, int32 и др.) не поддерживают пропуски.\n",
    "\n",
    "Обычные целочисленные типы в pandas/NumPy не поддерживают пропуски. Если попытаться добавить NaN в такой столбец, pandas автоматически преобразует его во float:"
   ]
  },
  {
   "cell_type": "code",
   "execution_count": 14,
   "id": "38430e7b-fb04-4cad-a155-4544bb3e322b",
   "metadata": {},
   "outputs": [
    {
     "name": "stdout",
     "output_type": "stream",
     "text": [
      "0      10\n",
      "1      35\n",
      "2     130\n",
      "3    <NA>\n",
      "dtype: Int64\n"
     ]
    }
   ],
   "source": [
    "# Создаем серию с типом Int64\n",
    "s_nullable = pd.Series([10, 35, 130, np.nan], dtype='Int64')\n",
    "print(s_nullable)"
   ]
  },
  {
   "cell_type": "markdown",
   "id": "8438b762-e8d4-4e82-bf7b-c87f7a409cd0",
   "metadata": {},
   "source": [
    "Особенности Int64\n",
    "- Обозначение пропуска: `<NA>` (вместо `NaN`)\n",
    "- Синтаксис: `'Int8'`, `'Int16'`, `'Int32'`, `'Int64'` (с заглавной буквы!)\n",
    "- Безопасность: Проверяет диапазон значений и выдает ошибку при переполнении\n",
    "- Только в pandas: В NumPy такого типа нет"
   ]
  },
  {
   "cell_type": "code",
   "execution_count": 15,
   "id": "ce4ff09f-3d52-45d7-b18b-5083173d2252",
   "metadata": {},
   "outputs": [
    {
     "name": "stdout",
     "output_type": "stream",
     "text": [
      "Ошибка: cannot safely cast non-equivalent int64 to int8\n"
     ]
    }
   ],
   "source": [
    "# Пример с ошибкой переполнения\n",
    "\n",
    "# Попытка сохранить 130 в Int8 (диапазон: -128 до 127)\n",
    "try:\n",
    "    s_error = pd.Series([10, 35, 130], dtype='Int8')\n",
    "except Exception as e:\n",
    "    print(f\"Ошибка: {e}\")"
   ]
  },
  {
   "cell_type": "markdown",
   "id": "cdff3b87-c2f9-4ece-8efc-4d1e00fd43b8",
   "metadata": {},
   "source": [
    "#### 6.9.1.4. Тип данных nullable unsigned integer (тип для целых чисел без знака, допускающий значения NULL), 'UInt64'"
   ]
  },
  {
   "cell_type": "code",
   "execution_count": 16,
   "id": "86e36565-7b72-4449-a595-59b008fd34f3",
   "metadata": {},
   "outputs": [
    {
     "data": {
      "text/plain": [
       "0      10\n",
       "1      35\n",
       "2     130\n",
       "3    <NA>\n",
       "dtype: UInt8"
      ]
     },
     "execution_count": 16,
     "metadata": {},
     "output_type": "execute_result"
    }
   ],
   "source": [
    "# Создаем серию с типом UInt64\n",
    "pd.Series([10, 35, 130, pd.NA], dtype='UInt8')"
   ]
  },
  {
   "cell_type": "markdown",
   "id": "3b2381dd-7020-4de4-a11a-fd24ddae73f8",
   "metadata": {},
   "source": [
    "#### 6.9.1.5. Тип данных float (тип для чисел с плавающей точкой), 'float64' или 'float32'"
   ]
  },
  {
   "cell_type": "markdown",
   "id": "4b08cd21-4213-4f92-aaa6-f36af052d25f",
   "metadata": {},
   "source": [
    "Типы float используются для хранения дробных чисел (чисел с плавающей точкой). Они поддерживают пропуски значений и имеют разную точность в зависимости от размера.\n",
    "|Тип|Размер (биты)|Точность|Диапазон|Память|\n",
    "|-|-|-|-|-|\n",
    "|`float16`|16|~3 знака|±6.55×10⁴|⚡️ Мало|\n",
    "|`float32`|32|~6 знаков|±3.40×10³⁸|💾 Средне|\n",
    "|`float64`|\t64|~15 знаков|±1.80×10³⁰⁸|✅ Стандарт|"
   ]
  },
  {
   "cell_type": "code",
   "execution_count": 17,
   "id": "60b05a2f-0ec8-4429-854c-636b8f82be58",
   "metadata": {},
   "outputs": [
    {
     "name": "stdout",
     "output_type": "stream",
     "text": [
      "0       5.26000\n",
      "1    1234.56789\n",
      "2           NaN\n",
      "dtype: float64\n"
     ]
    }
   ],
   "source": [
    "# Создаем серию с дробными числами и пропуском\n",
    "s_float = pd.Series([5.26, 1234.56789, np.nan])\n",
    "print(s_float)"
   ]
  },
  {
   "cell_type": "code",
   "execution_count": 18,
   "id": "1553a8c8-1420-4c92-87ff-4a07519d20a3",
   "metadata": {},
   "outputs": [
    {
     "name": "stdout",
     "output_type": "stream",
     "text": [
      "Machine parameters for float32\n",
      "---------------------------------------------------------------\n",
      "precision =   6   resolution = 1.0000000e-06\n",
      "machep =    -23   eps =        1.1920929e-07\n",
      "negep =     -24   epsneg =     5.9604645e-08\n",
      "minexp =   -126   tiny =       1.1754944e-38\n",
      "maxexp =    128   max =        3.4028235e+38\n",
      "nexp =        8   min =        -max\n",
      "smallest_normal = 1.1754944e-38   smallest_subnormal = 1.4012985e-45\n",
      "---------------------------------------------------------------\n",
      "\n",
      "Machine parameters for float16\n",
      "---------------------------------------------------------------\n",
      "precision =   3   resolution = 1.00040e-03\n",
      "machep =    -10   eps =        9.76562e-04\n",
      "negep =     -11   epsneg =     4.88281e-04\n",
      "minexp =    -14   tiny =       6.10352e-05\n",
      "maxexp =     16   max =        6.55040e+04\n",
      "nexp =        5   min =        -max\n",
      "smallest_normal = 6.10352e-05   smallest_subnormal = 5.96046e-08\n",
      "---------------------------------------------------------------\n",
      "\n"
     ]
    }
   ],
   "source": [
    "# Проверка характеристик типов\n",
    "# Для float32\n",
    "print(np.finfo('float32'))\n",
    "\n",
    "# Для float16\n",
    "print(np.finfo('float16'))"
   ]
  },
  {
   "cell_type": "markdown",
   "id": "75ad5b12-b05f-4998-afc0-331690077865",
   "metadata": {},
   "source": [
    "#### 6.9.1.6. Тип данных nullable float (тип для чисел с плавающей точкой, допускающий значения NULL), 'Float64'"
   ]
  },
  {
   "cell_type": "code",
   "execution_count": 19,
   "id": "1a07fd08-fe8c-41e2-821c-03121c8ef64c",
   "metadata": {},
   "outputs": [
    {
     "data": {
      "text/plain": [
       "0          5.26\n",
       "1    1234.56789\n",
       "2          <NA>\n",
       "dtype: Float64"
      ]
     },
     "execution_count": 19,
     "metadata": {},
     "output_type": "execute_result"
    }
   ],
   "source": [
    "# преобразовываем из типа float\n",
    "# в тип nullable float (Float64)\n",
    "nullable_float = s_float.astype('Float64')\n",
    "nullable_float"
   ]
  },
  {
   "cell_type": "markdown",
   "id": "aa42aab4-83c3-489d-a222-87f9da3df8c8",
   "metadata": {},
   "source": [
    "#### 6.9.1.7. Тип данных boolean (логический тип, булев тип), 'bool'"
   ]
  },
  {
   "cell_type": "markdown",
   "id": "dad6253d-3b5f-4af0-bde9-81ddcdc1c0dd",
   "metadata": {},
   "source": [
    "Логический тип (bool) используется для хранения значений True (истина) и False (ложь). Это самый простой тип данных, но с важными особенностями преобразования."
   ]
  },
  {
   "cell_type": "code",
   "execution_count": 20,
   "id": "7d3a8651-d4c3-484a-8b17-034ed59755cb",
   "metadata": {},
   "outputs": [
    {
     "name": "stdout",
     "output_type": "stream",
     "text": [
      "0     True\n",
      "1    False\n",
      "2     True\n",
      "dtype: bool\n"
     ]
    }
   ],
   "source": [
    "# Создаем серию с логическими значениями\n",
    "s_bool = pd.Series([True, False, True])\n",
    "print(s_bool)"
   ]
  },
  {
   "cell_type": "code",
   "execution_count": 21,
   "id": "42324359-2ff9-46fb-80f5-353519427238",
   "metadata": {},
   "outputs": [
    {
     "name": "stdout",
     "output_type": "stream",
     "text": [
      "0    False\n",
      "1     True\n",
      "2     True\n",
      "3     True\n",
      "dtype: bool\n",
      "0    False\n",
      "1     True\n",
      "2     True\n",
      "dtype: bool\n"
     ]
    }
   ],
   "source": [
    "# Преобразование других типов в bool\n",
    "s_int = pd.Series([0, 1, 59, -35])\n",
    "s_bool_from_int = s_int.astype('bool')\n",
    "print(s_bool_from_int)\n",
    "\n",
    "s_float = pd.Series([0.0, 0.0001, -3.99])\n",
    "s_bool_from_float = s_float.astype('bool')\n",
    "print(s_bool_from_float)"
   ]
  },
  {
   "cell_type": "code",
   "execution_count": 22,
   "id": "30ac34f6-6e9a-4b49-9426-484468b47222",
   "metadata": {},
   "outputs": [
    {
     "name": "stdout",
     "output_type": "stream",
     "text": [
      "0    1\n",
      "1    0\n",
      "dtype: int64\n",
      "0    1.0\n",
      "1    0.0\n",
      "dtype: float64\n"
     ]
    }
   ],
   "source": [
    "# Преобразование bool в другие типы\n",
    "s_bool = pd.Series([True, False])\n",
    "s_int_from_bool = s_bool.astype('int64')\n",
    "print(s_int_from_bool)\n",
    "\n",
    "s_float_from_bool = s_bool.astype('float64')\n",
    "print(s_float_from_bool)"
   ]
  },
  {
   "cell_type": "markdown",
   "id": "01e5a459-752b-4a67-b764-388358f99604",
   "metadata": {},
   "source": [
    "Практическое применение\n",
    "- Фильтрация данных: `df[df['Age'] > 30]`\n",
    "- Создание масок: `df['Is_Adult'] = df['Age'] >= 18`\n",
    "- Агрегация: `df['Flags'].sum()` — подсчет количества True"
   ]
  },
  {
   "cell_type": "markdown",
   "id": "07c9ea89-e1bf-4e5c-8ac6-622841242743",
   "metadata": {},
   "source": [
    "#### 6.9.1.8. Тип данных nullable boolean (логический тип, допускающий значения NULL), 'Boolean'"
   ]
  },
  {
   "cell_type": "markdown",
   "id": "9736cb31-7c7c-4cc0-8f89-71a20066ec22",
   "metadata": {},
   "source": [
    "Nullable boolean — это специальный логический тип в pandas, который поддерживает пропуски значений. Он был добавлен в версии 1.0 для решения проблем обычного типа bool."
   ]
  },
  {
   "cell_type": "markdown",
   "id": "4a737bd2-515e-4608-953e-6349e882748a",
   "metadata": {},
   "source": [
    "```python\n",
    "s = pd.Series([True, False, True])\n",
    "s.loc[0] = np.nan  # Меняем первый элемент на NaN\n",
    "print(s)\n",
    "```\n",
    "```text\n",
    "0    NaN    # Теперь тип object!\n",
    "1    False\n",
    "2     True\n",
    "dtype: object\n",
    "```"
   ]
  },
  {
   "cell_type": "code",
   "execution_count": 23,
   "id": "0faa7c66-ed4b-4964-b4e6-4ac3f9ba8faa",
   "metadata": {},
   "outputs": [
    {
     "name": "stdout",
     "output_type": "stream",
     "text": [
      "0     True\n",
      "1    False\n",
      "2     <NA>\n",
      "dtype: boolean\n"
     ]
    }
   ],
   "source": [
    "# Тип 'boolean' (с маленькой буквы!) правильно обрабатывает пропуски:\n",
    "\n",
    "# Создаем серию с nullable boolean\n",
    "s_nullable_bool = pd.Series([True, False, np.nan], dtype='boolean')\n",
    "print(s_nullable_bool)"
   ]
  },
  {
   "cell_type": "markdown",
   "id": "e00ee497-1b5c-4490-9a38-c04006d244e6",
   "metadata": {},
   "source": [
    "Сравнение с обычным bool\n",
    "|Характеристика|Обычный `bool`|Nullable `boolean`|\n",
    "|-|-|-|\n",
    "|Пропуски|❌ Не поддерживает|✅ Поддерживает (<NA>)|\n",
    "|Поведение с NaN|Превращает в `True`|Сохраняет как пропуск|\n",
    "|Память|1 байт/значение|1 байт/значение|\n",
    "|Стабильность|Стабильный|Экспериментальный|"
   ]
  },
  {
   "cell_type": "code",
   "execution_count": 24,
   "id": "d918407f-cbaf-44b9-958b-d9dba04eb8a5",
   "metadata": {},
   "outputs": [
    {
     "name": "stdout",
     "output_type": "stream",
     "text": [
      "0     True\n",
      "1    False\n",
      "2     <NA>\n",
      "3     True\n",
      "dtype: boolean\n",
      "0     True\n",
      "1    False\n",
      "2     <NA>\n",
      "3     True\n",
      "dtype: boolean\n"
     ]
    }
   ],
   "source": [
    "# Создаем серию с пропусками\n",
    "survey_data = pd.Series([True, False, None, True], dtype='boolean')\n",
    "print(survey_data)\n",
    "\n",
    "# Логические операции\n",
    "print(survey_data & True)  # AND с True"
   ]
  },
  {
   "cell_type": "markdown",
   "id": "127acc7e-5737-4038-8c95-6a971c43fb63",
   "metadata": {},
   "source": [
    "### 6.9.2. Типы данных для работы со строками"
   ]
  },
  {
   "cell_type": "markdown",
   "id": "1b9a2abd-6247-4dd8-91fa-fda48c3dd715",
   "metadata": {},
   "source": [
    "#### 6.9.2.1. Тип данных object (объектный тип), 'object'"
   ]
  },
  {
   "cell_type": "markdown",
   "id": "a0632d2f-1a6a-48e3-a3b6-8976cc9459c4",
   "metadata": {},
   "source": [
    "Тип object — это универсальный тип данных в pandas, который может хранить любые объекты Python. До версии pandas 1.0 он использовался в основном для хранения строк, но может содержать что угодно.\n",
    "\n",
    "Основные характеристики типа object\n",
    "- Универсальность: Может хранить любые объекты Python\n",
    "- Размер: Не имеет фиксированного размера (в отличие от int64, float64)\n",
    "- Наследие: Унаследован из NumPy (обозначается как dtype('O'))\n",
    "- Гибкость: Разные элементы в одной серии могут быть разных типов"
   ]
  },
  {
   "cell_type": "code",
   "execution_count": 25,
   "id": "e63657b8-4b66-4c3d-9ec7-3263944c0a15",
   "metadata": {},
   "outputs": [
    {
     "name": "stdout",
     "output_type": "stream",
     "text": [
      "0       some\n",
      "1    strings\n",
      "dtype: object\n",
      "Тип данных: object\n"
     ]
    }
   ],
   "source": [
    "import pandas as pd\n",
    "\n",
    "# Серия со строковыми значениями\n",
    "s_object = pd.Series(['some', 'strings'])\n",
    "print(s_object)\n",
    "print(f\"Тип данных: {s_object.dtype}\")"
   ]
  },
  {
   "cell_type": "code",
   "execution_count": 26,
   "id": "54168868-5799-4d16-942f-cd431c54a907",
   "metadata": {},
   "outputs": [
    {
     "name": "stdout",
     "output_type": "stream",
     "text": [
      "True\n"
     ]
    }
   ],
   "source": [
    "# Проверка типа через NumPy\n",
    "import numpy as np\n",
    "print(s_object.dtype == np.dtype('O'))"
   ]
  },
  {
   "cell_type": "markdown",
   "id": "6d8039c2-5749-4e97-b66c-39b5950f58d5",
   "metadata": {},
   "source": [
    "Тип object может содержать любые объекты Python в одной серии"
   ]
  },
  {
   "cell_type": "code",
   "execution_count": 27,
   "id": "3cbee72a-f64a-4080-a0a9-2a6577f70862",
   "metadata": {},
   "outputs": [
    {
     "name": "stdout",
     "output_type": "stream",
     "text": [
      "0              [1, 2]\n",
      "1                True\n",
      "2         some string\n",
      "3                 4.5\n",
      "4    {'key': 'value'}\n",
      "dtype: object\n",
      "\n",
      "Типы элементов:\n",
      "Элемент 0: <class 'list'>\n",
      "Элемент 1: <class 'bool'>\n",
      "Элемент 2: <class 'str'>\n",
      "Элемент 3: <class 'float'>\n",
      "Элемент 4: <class 'dict'>\n"
     ]
    }
   ],
   "source": [
    "# Серия с разными типами данных\n",
    "garbage_series = pd.Series([\n",
    "    [1, 2],           # список\n",
    "    True,             # булево значение\n",
    "    'some string',    # строка\n",
    "    4.5,              # число\n",
    "    {'key': 'value'}  # словарь\n",
    "])\n",
    "\n",
    "print(garbage_series)\n",
    "print(\"\\nТипы элементов:\")\n",
    "for i in range(len(garbage_series)):\n",
    "    print(f\"Элемент {i}: {type(garbage_series.loc[i])}\")"
   ]
  },
  {
   "cell_type": "markdown",
   "id": "60b91f4e-82a9-4ba3-b17e-58f3d63f5c66",
   "metadata": {},
   "source": [
    "Любую серию можно преобразовать в тип object"
   ]
  },
  {
   "cell_type": "code",
   "execution_count": 28,
   "id": "775f457b-5846-4998-8c91-d9ee406f57f6",
   "metadata": {},
   "outputs": [
    {
     "name": "stdout",
     "output_type": "stream",
     "text": [
      "Исходный тип: int64\n",
      "Новый тип: object\n",
      "Тип первого элемента: <class 'int'>\n"
     ]
    }
   ],
   "source": [
    "# Исходная серия с целыми числами\n",
    "s_int = pd.Series([5, 10])\n",
    "print(f\"Исходный тип: {s_int.dtype}\")  # int64\n",
    "\n",
    "# Преобразуем в object\n",
    "s_obj = s_int.astype('object')\n",
    "print(f\"Новый тип: {s_obj.dtype}\")  # object\n",
    "\n",
    "# Но значения остаются целыми числами!\n",
    "print(f\"Тип первого элемента: {type(s_obj.loc[0])}\")  # numpy.int64"
   ]
  },
  {
   "cell_type": "markdown",
   "id": "ca96f174-c569-4661-b216-f54fe14a6c7a",
   "metadata": {},
   "source": [
    " Когда использовать тип object?  \n",
    "✅ Для строк (до pandas 1.0)  \n",
    "✅ Временное хранение разнородных данных  \n",
    "❌ Не для числовых вычислений  \n",
    "❌ Не для больших datasets (из-за производительности)"
   ]
  },
  {
   "cell_type": "markdown",
   "id": "c9b090bf-09b5-4484-8aa2-ff2e298eb7b8",
   "metadata": {},
   "source": [
    "#### 6.9.2.2. Тип данных Categorical (категориальный тип), 'category'"
   ]
  },
  {
   "cell_type": "markdown",
   "id": "d38a5afa-a03c-45da-83bb-73081e215052",
   "metadata": {},
   "source": [
    "Категориальный тип — это специальный тип данных в pandas для хранения ограниченного набора значений (категорий). Он особенно полезен когда данные имеют повторяющиеся значения.\n",
    "\n",
    "Идеально подходит для данных которые:  \n",
    "✅ Имеют ограниченное число уникальных значений (например, пол: \"М\", \"Ж\")  \n",
    "✅ Часто повторяются (например, должности в компании)  \n",
    "✅ Дискретны и известны заранее  \n",
    "✅ Нужно экономить память и ускорить операции"
   ]
  },
  {
   "cell_type": "code",
   "execution_count": 29,
   "id": "13e6991b-e660-4579-929b-01f946b0a7d6",
   "metadata": {},
   "outputs": [
    {
     "name": "stdout",
     "output_type": "stream",
     "text": [
      "<class 'pandas.core.frame.DataFrame'>\n",
      "RangeIndex: 170746 entries, 0 to 170745\n",
      "Data columns (total 15 columns):\n",
      " #   Column                Non-Null Count   Dtype  \n",
      "---  ------                --------------   -----  \n",
      " 0   client_id             170746 non-null  int64  \n",
      " 1   gender                170746 non-null  object \n",
      " 2   age                   170743 non-null  float64\n",
      " 3   marital_status        170743 non-null  object \n",
      " 4   job_position          170746 non-null  object \n",
      " 5   credit_sum            170744 non-null  float64\n",
      " 6   credit_month          170746 non-null  int64  \n",
      " 7   tariff_id             170746 non-null  object \n",
      " 8   score_shk             170739 non-null  float64\n",
      " 9   education             170741 non-null  object \n",
      " 10  living_region         170554 non-null  object \n",
      " 11  monthly_income        170741 non-null  float64\n",
      " 12  credit_count          161516 non-null  float64\n",
      " 13  overdue_credit_count  161516 non-null  float64\n",
      " 14  open_account_flg      170746 non-null  int64  \n",
      "dtypes: float64(6), int64(3), object(6)\n",
      "memory usage: 19.5+ MB\n",
      "\n",
      "0    UMN\n",
      "1    UMN\n",
      "2    SPC\n",
      "3    SPC\n",
      "4    SPC\n",
      "Name: job_position, dtype: category\n",
      "Categories (18, object): ['ATP', 'BIS', 'BIU', 'DIR', ..., 'UMN', 'WOI', 'WRK', 'WRP']\n"
     ]
    }
   ],
   "source": [
    "import pandas as pd\n",
    "\n",
    "# Загрузка данных\n",
    "credit = pd.read_csv('Data/credit_train.csv', encoding='cp1251', decimal=',', sep=';')\n",
    "\n",
    "credit.info()\n",
    "print()\n",
    "\n",
    "# Преобразование в категориальный тип\n",
    "job_position = credit['job_position']\n",
    "job_position_cat = job_position.astype('category')\n",
    "\n",
    "print(job_position_cat.head())"
   ]
  },
  {
   "cell_type": "markdown",
   "id": "6e8ca29a-4db7-4c51-ad49-8e8a1a22861c",
   "metadata": {},
   "source": [
    "Pandas хранит данные в двух частях:\n",
    "- Список категорий (уникальные значения)\n",
    "- Целочисленные коды (ссылки на категории)"
   ]
  },
  {
   "cell_type": "code",
   "execution_count": 30,
   "id": "3f04cdfe-bc15-459b-be5c-b066deccc3b1",
   "metadata": {},
   "outputs": [
    {
     "data": {
      "text/plain": [
       "['Java', 'Java', 'Python', 'Scala', 'Python', 'Java']"
      ]
     },
     "execution_count": 30,
     "metadata": {},
     "output_type": "execute_result"
    }
   ],
   "source": [
    "# Аналогия с Python списками\n",
    "cats = ['Python', 'Java', 'Scala']  # Список категорий\n",
    "vals = [1, 1, 0, 2, 0, 1]          # Целочисленные коды\n",
    "\n",
    "# Преобразование обратно в значения\n",
    "[cats[val] for val in vals]  # ['Java', 'Java', 'Python', 'Scala', 'Python', 'Java']"
   ]
  },
  {
   "cell_type": "markdown",
   "id": "53288fd1-4d12-47eb-9fa6-c16bbed03379",
   "metadata": {},
   "source": [
    "Преимущества категориального типа. Экономия памяти и Ускорение операций"
   ]
  },
  {
   "cell_type": "code",
   "execution_count": 31,
   "id": "f5ca9e1e-a00a-4e1b-a0c9-394c1b97cc44",
   "metadata": {},
   "outputs": [
    {
     "name": "stdout",
     "output_type": "stream",
     "text": [
      "Экономия памяти: 59.4 раз!\n"
     ]
    }
   ],
   "source": [
    "# Память для обычного типа object\n",
    "orig_mem = job_position.memory_usage(deep=True)  # 10,244,888 байт\n",
    "\n",
    "# Память для категориального типа  \n",
    "cat_mem = job_position_cat.memory_usage(deep=True)  # 172,510 байт\n",
    "\n",
    "print(f\"Экономия памяти: {orig_mem / cat_mem:.1f} раз!\")"
   ]
  },
  {
   "cell_type": "code",
   "execution_count": 32,
   "id": "40ca5297-cd10-430a-8b7c-d405f48f5a51",
   "metadata": {},
   "outputs": [
    {
     "name": "stdout",
     "output_type": "stream",
     "text": [
      "6.92 ms ± 3.28 ms per loop (mean ± std. dev. of 7 runs, 100 loops each)\n",
      "67.5 μs ± 7.17 μs per loop (mean ± std. dev. of 7 runs, 10,000 loops each)\n"
     ]
    }
   ],
   "source": [
    "# Фильтрация в 40 раз быстрее!\n",
    "%timeit job_position == 'SPC'\n",
    "%timeit job_position_cat == 'SPC'"
   ]
  },
  {
   "cell_type": "code",
   "execution_count": 33,
   "id": "291e59b3-f2d4-4dc7-b2b8-497f1c3d5dee",
   "metadata": {},
   "outputs": [
    {
     "name": "stdout",
     "output_type": "stream",
     "text": [
      "Index(['ATP', 'BIS', 'BIU', 'DIR', 'HSK', 'INP', 'INV', 'NOR', 'ONB', 'PNA',\n",
      "       'PNI', 'PNS', 'PNV', 'SPC', 'UMN', 'WOI', 'WRK', 'WRP'],\n",
      "      dtype='object')\n",
      "0    14\n",
      "1    14\n",
      "2    13\n",
      "3    13\n",
      "4    13\n",
      "dtype: int8\n"
     ]
    }
   ],
   "source": [
    "# Просмотр категорий\n",
    "\n",
    "# Уникальные категории\n",
    "print(job_position_cat.cat.categories)\n",
    "# Index(['ATP', 'BIS', 'BIU', 'DIR', ...], dtype='object')\n",
    "\n",
    "# Целочисленные коды\n",
    "print(job_position_cat.cat.codes.head())\n",
    "# 0    14\n",
    "# 1    14  \n",
    "# 2    13\n",
    "# dtype: int8"
   ]
  },
  {
   "cell_type": "code",
   "execution_count": 34,
   "id": "5a0698ec-c03d-4579-84f9-affb580043b2",
   "metadata": {},
   "outputs": [
    {
     "name": "stdout",
     "output_type": "stream",
     "text": [
      "0    10\n",
      "1     6\n",
      "2    12\n",
      "3    12\n",
      "4    10\n",
      "Name: credit_month, dtype: category\n",
      "Categories (31, int64): [3, 4, 5, 6, ..., 30, 31, 32, 36]\n"
     ]
    }
   ],
   "source": [
    "# С числовыми категориями\n",
    "# Месяцы кредита как категории\n",
    "credit_month_cat = credit['credit_month'].astype('category')\n",
    "print(credit_month_cat.head())"
   ]
  },
  {
   "cell_type": "markdown",
   "id": "5cd1ef1d-2a13-4b0f-9723-d422a3b07c22",
   "metadata": {},
   "source": [
    "Когда не использовать категориальный тип?  \n",
    "❌ Когда много уникальных значений (больше 50% от общего числа)  \n",
    "❌ Когда данные постоянно меняются (добавляются новые категории)  \n",
    "❌ Для числовых вычислений (суммирование, усреднение)"
   ]
  },
  {
   "cell_type": "markdown",
   "id": "918a5e37-1ccf-416a-b135-3eea9a06cefd",
   "metadata": {},
   "source": [
    "#### 6.9.2.3. Тип данных string (строковый тип), 'string'"
   ]
  },
  {
   "cell_type": "markdown",
   "id": "b0a01781-4c20-417d-aeda-a753ed39b211",
   "metadata": {},
   "source": [
    "**Строковый тип** — это новый тип данных в pandas, специально предназначенный для работы со строками. Он был добавлен в версии 1.0 и пока помечен как экспериментальный."
   ]
  },
  {
   "cell_type": "markdown",
   "id": "11c7be95-4c03-48f5-b063-f932fd43d53c",
   "metadata": {},
   "source": [
    "Создание строкового типа"
   ]
  },
  {
   "cell_type": "code",
   "execution_count": 1,
   "id": "b5e9966d-9f7e-46c8-8206-4ae5d5208b3e",
   "metadata": {},
   "outputs": [
    {
     "name": "stdout",
     "output_type": "stream",
     "text": [
      "0    Python\n",
      "1      Java\n",
      "2     Scala\n",
      "3      <NA>\n",
      "dtype: string\n",
      "0    Python\n",
      "1      Java\n",
      "2     Scala\n",
      "3      <NA>\n",
      "dtype: string\n"
     ]
    }
   ],
   "source": [
    "import pandas as pd\n",
    "\n",
    "# Способ 1: Через строковое значение\n",
    "s_string = pd.Series(['Python', 'Java', 'Scala', pd.NA], dtype='string')\n",
    "print(s_string)\n",
    "\n",
    "# Способ 2: Через объект StringDtype\n",
    "s_string = pd.Series(['Python', 'Java', 'Scala', pd.NA], \n",
    "                    dtype=pd.StringDtype())\n",
    "print(s_string)"
   ]
  },
  {
   "cell_type": "markdown",
   "id": "fab70c4a-8d13-45b3-90b3-361ad17d766a",
   "metadata": {},
   "source": [
    "Ключевые особенности строкового типа  \n",
    "✅ Гарантированно содержит только строки (и пропуски)  \n",
    "✅ Единообразное поведение — все элементы становятся строками  \n",
    "✅ Безопасность — меньше ошибок по сравнению с object  \n",
    "❌ Экспериментальный статус — возможны изменения в будущем  "
   ]
  },
  {
   "cell_type": "markdown",
   "id": "6899c925-5a4a-4300-a2aa-8ecaa51c7f68",
   "metadata": {},
   "source": [
    "Преобразование в строковый тип"
   ]
  },
  {
   "cell_type": "code",
   "execution_count": 2,
   "id": "b7a666a4-0aeb-4011-9354-1e5c4d0976c9",
   "metadata": {},
   "outputs": [
    {
     "name": "stdout",
     "output_type": "stream",
     "text": [
      "0              [1, 2]\n",
      "1                True\n",
      "2         some string\n",
      "3                 4.5\n",
      "4    {'key': 'value'}\n",
      "dtype: string\n"
     ]
    }
   ],
   "source": [
    "# Создаем серию с разными типами данных\n",
    "garbage_series = pd.Series([[1,2], True, 'some string', 4.5, {'key': 'value'}])\n",
    "\n",
    "# Преобразуем в string - все становится строками!\n",
    "garbage_string = garbage_series.astype('string')\n",
    "print(garbage_string)"
   ]
  },
  {
   "cell_type": "code",
   "execution_count": 3,
   "id": "97563a6d-a5d4-4f98-9bbc-47ee7193bd02",
   "metadata": {},
   "outputs": [
    {
     "name": "stdout",
     "output_type": "stream",
     "text": [
      "<class 'str'>\n",
      "<class 'str'>\n",
      "<class 'str'>\n"
     ]
    }
   ],
   "source": [
    "print(type(garbage_string.loc[0]))  # <class 'str'>\n",
    "print(type(garbage_string.loc[1]))  # <class 'str'> \n",
    "print(type(garbage_string.loc[2]))  # <class 'str'>"
   ]
  },
  {
   "cell_type": "code",
   "execution_count": 4,
   "id": "61be8f77-218f-4b8c-8a0b-80e5fb0a548f",
   "metadata": {},
   "outputs": [
    {
     "name": "stdout",
     "output_type": "stream",
     "text": [
      "0    PYTHON\n",
      "1      JAVA\n",
      "2     SCALA\n",
      "dtype: string\n"
     ]
    }
   ],
   "source": [
    "# Работа со строковыми методами\n",
    "s_string = pd.Series(['Python', 'Java', 'Scala'], dtype='string')\n",
    "print(s_string.str.upper())"
   ]
  },
  {
   "cell_type": "markdown",
   "id": "721bf978-3001-4faa-806b-f3e54616bf83",
   "metadata": {},
   "source": [
    "|Тип|Описание|Преимущества|Недостатки|\n",
    "|-|-|-|-|\n",
    "|`object`|Универсальный|Гибкость|Медленный, ненадежный|\n",
    "|`string`|Строковый|Безопасность, скорость|Экспериментальный|\n",
    "|`category`|Категориальный|Экономия памяти|Для повторяющихся значений|"
   ]
  },
  {
   "cell_type": "markdown",
   "id": "1c9bcd8c-5bc8-4d3e-ac9f-10adc0f94c10",
   "metadata": {},
   "source": [
    "## 6.10. Чтение данных"
   ]
  },
  {
   "cell_type": "markdown",
   "id": "05c5d797-161d-4e77-bba9-b6d48a48fd63",
   "metadata": {},
   "source": [
    "Чтение данных — это первая и важнейшая операция при работе с pandas. Рассмотрим основные моменты на примере функции pd.read_csv()."
   ]
  },
  {
   "cell_type": "code",
   "execution_count": 1,
   "id": "3a04a4b6-f3b5-436a-8d4e-a06d5eb22e9f",
   "metadata": {},
   "outputs": [
    {
     "data": {
      "text/html": [
       "<div>\n",
       "<style scoped>\n",
       "    .dataframe tbody tr th:only-of-type {\n",
       "        vertical-align: middle;\n",
       "    }\n",
       "\n",
       "    .dataframe tbody tr th {\n",
       "        vertical-align: top;\n",
       "    }\n",
       "\n",
       "    .dataframe thead th {\n",
       "        text-align: right;\n",
       "    }\n",
       "</style>\n",
       "<table border=\"1\" class=\"dataframe\">\n",
       "  <thead>\n",
       "    <tr style=\"text-align: right;\">\n",
       "      <th></th>\n",
       "      <th>gender</th>\n",
       "      <th>starttime</th>\n",
       "      <th>stoptime</th>\n",
       "      <th>tripduration</th>\n",
       "      <th>from_station_name</th>\n",
       "      <th>start_capacity</th>\n",
       "      <th>to_station_name</th>\n",
       "      <th>end_capacity</th>\n",
       "      <th>temperature</th>\n",
       "      <th>wind_speed</th>\n",
       "      <th>events</th>\n",
       "    </tr>\n",
       "  </thead>\n",
       "  <tbody>\n",
       "    <tr>\n",
       "      <th>0</th>\n",
       "      <td>Male</td>\n",
       "      <td>2013-06-28 19:01:00</td>\n",
       "      <td>2013-06-28 19:17:00</td>\n",
       "      <td>993</td>\n",
       "      <td>Lake Shore Dr &amp; Monroe St</td>\n",
       "      <td>11.0</td>\n",
       "      <td>Michigan Ave &amp; Oak St</td>\n",
       "      <td>15.0</td>\n",
       "      <td>73.9</td>\n",
       "      <td>12.7</td>\n",
       "      <td>mostlycloudy</td>\n",
       "    </tr>\n",
       "    <tr>\n",
       "      <th>1</th>\n",
       "      <td>Male</td>\n",
       "      <td>2013-06-28 22:53:00</td>\n",
       "      <td>2013-06-28 23:03:00</td>\n",
       "      <td>623</td>\n",
       "      <td>Clinton St &amp; Washington Blvd</td>\n",
       "      <td>31.0</td>\n",
       "      <td>Wells St &amp; Walton St</td>\n",
       "      <td>19.0</td>\n",
       "      <td>69.1</td>\n",
       "      <td>6.9</td>\n",
       "      <td>partlycloudy</td>\n",
       "    </tr>\n",
       "    <tr>\n",
       "      <th>2</th>\n",
       "      <td>Male</td>\n",
       "      <td>2013-06-30 14:43:00</td>\n",
       "      <td>2013-06-30 15:01:00</td>\n",
       "      <td>1040</td>\n",
       "      <td>Sheffield Ave &amp; Kingsbury St</td>\n",
       "      <td>15.0</td>\n",
       "      <td>Dearborn St &amp; Monroe St</td>\n",
       "      <td>23.0</td>\n",
       "      <td>73.0</td>\n",
       "      <td>16.1</td>\n",
       "      <td>mostlycloudy</td>\n",
       "    </tr>\n",
       "  </tbody>\n",
       "</table>\n",
       "</div>"
      ],
      "text/plain": [
       "  gender            starttime             stoptime  tripduration  \\\n",
       "0   Male  2013-06-28 19:01:00  2013-06-28 19:17:00           993   \n",
       "1   Male  2013-06-28 22:53:00  2013-06-28 23:03:00           623   \n",
       "2   Male  2013-06-30 14:43:00  2013-06-30 15:01:00          1040   \n",
       "\n",
       "              from_station_name  start_capacity          to_station_name  \\\n",
       "0     Lake Shore Dr & Monroe St            11.0    Michigan Ave & Oak St   \n",
       "1  Clinton St & Washington Blvd            31.0     Wells St & Walton St   \n",
       "2  Sheffield Ave & Kingsbury St            15.0  Dearborn St & Monroe St   \n",
       "\n",
       "   end_capacity  temperature  wind_speed        events  \n",
       "0          15.0         73.9        12.7  mostlycloudy  \n",
       "1          19.0         69.1         6.9  partlycloudy  \n",
       "2          23.0         73.0        16.1  mostlycloudy  "
      ]
     },
     "execution_count": 1,
     "metadata": {},
     "output_type": "execute_result"
    }
   ],
   "source": [
    "import pandas as pd\n",
    "\n",
    "# Самый простой способ чтения CSV\n",
    "bikes = pd.read_csv('data/bikes.csv')\n",
    "bikes.head(3)  # Показываем первые 3 строки"
   ]
  },
  {
   "cell_type": "code",
   "execution_count": null,
   "id": "0e215089-5af6-4421-94a9-a1e2657f731b",
   "metadata": {},
   "outputs": [],
   "source": []
  }
 ],
 "metadata": {
  "kernelspec": {
   "display_name": "Python 3 (ipykernel)",
   "language": "python",
   "name": "python3"
  },
  "language_info": {
   "codemirror_mode": {
    "name": "ipython",
    "version": 3
   },
   "file_extension": ".py",
   "mimetype": "text/x-python",
   "name": "python",
   "nbconvert_exporter": "python",
   "pygments_lexer": "ipython3",
   "version": "3.11.9"
  }
 },
 "nbformat": 4,
 "nbformat_minor": 5
}
